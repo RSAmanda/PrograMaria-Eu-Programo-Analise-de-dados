{
 "cells": [
  {
   "cell_type": "markdown",
   "id": "9c95cbcd",
   "metadata": {},
   "source": [
    "# Tratamento Dados Faltantes - Licitações\n",
    "\n",
    "- Identifique qual coluna possui valores faltantes\n",
    "\n",
    "- Identifique o tipo de dados desta coluna\n",
    "\n",
    "- Substitua os valores faltantes pelo mesmo formato "
   ]
  },
  {
   "cell_type": "code",
   "execution_count": 43,
   "id": "86c7973b",
   "metadata": {},
   "outputs": [],
   "source": [
    "# importando bibliotecas\n",
    "import pandas as pd\n",
    "import numpy  as np"
   ]
  },
  {
   "cell_type": "code",
   "execution_count": 114,
   "id": "f8c64c6b",
   "metadata": {},
   "outputs": [],
   "source": [
    "licitacoes = pd.read_csv('../../Modulo_3/licitacoes.csv', encoding='ISO-8859-1', sep=';')"
   ]
  },
  {
   "cell_type": "markdown",
   "id": "14bd691b",
   "metadata": {},
   "source": [
    "## Verificações Gerais"
   ]
  },
  {
   "cell_type": "code",
   "execution_count": 115,
   "id": "ad35dea2",
   "metadata": {},
   "outputs": [
    {
     "name": "stdout",
     "output_type": "stream",
     "text": [
      "<class 'pandas.core.frame.DataFrame'>\n",
      "RangeIndex: 15336 entries, 0 to 15335\n",
      "Data columns (total 17 columns):\n",
      " #   Column                    Non-Null Count  Dtype \n",
      "---  ------                    --------------  ----- \n",
      " 0   Número Licitação          15336 non-null  int64 \n",
      " 1   Código UG                 15336 non-null  int64 \n",
      " 2   Nome UG                   15336 non-null  object\n",
      " 3   Código Modalidade Compra  15336 non-null  int64 \n",
      " 4   Modalidade Compra         15336 non-null  object\n",
      " 5   Número Processo           15336 non-null  object\n",
      " 6   Objeto                    15336 non-null  object\n",
      " 7   Situação Licitação        15336 non-null  object\n",
      " 8   Código Órgão Superior     15336 non-null  int64 \n",
      " 9   Nome Órgão Superior       15336 non-null  object\n",
      " 10  Código Órgão              15336 non-null  int64 \n",
      " 11  Nome Órgão                15336 non-null  object\n",
      " 12  UF                        15336 non-null  object\n",
      " 13  Município                 15336 non-null  object\n",
      " 14  Data Resultado Compra     15336 non-null  object\n",
      " 15  Data Abertura             4688 non-null   object\n",
      " 16  Valor Licitação           15336 non-null  object\n",
      "dtypes: int64(5), object(12)\n",
      "memory usage: 2.0+ MB\n"
     ]
    }
   ],
   "source": [
    "licitacoes.info()"
   ]
  },
  {
   "cell_type": "markdown",
   "id": "893d1050",
   "metadata": {},
   "source": [
    "Aqui podemos verificar que há dados faltantes na coluna Data Abertura"
   ]
  },
  {
   "cell_type": "code",
   "execution_count": 95,
   "id": "5e964c49",
   "metadata": {},
   "outputs": [
    {
     "data": {
      "text/html": [
       "<div>\n",
       "<style scoped>\n",
       "    .dataframe tbody tr th:only-of-type {\n",
       "        vertical-align: middle;\n",
       "    }\n",
       "\n",
       "    .dataframe tbody tr th {\n",
       "        vertical-align: top;\n",
       "    }\n",
       "\n",
       "    .dataframe thead th {\n",
       "        text-align: right;\n",
       "    }\n",
       "</style>\n",
       "<table border=\"1\" class=\"dataframe\">\n",
       "  <thead>\n",
       "    <tr style=\"text-align: right;\">\n",
       "      <th></th>\n",
       "      <th>Número Licitação</th>\n",
       "      <th>Código UG</th>\n",
       "      <th>Código Modalidade Compra</th>\n",
       "      <th>Código Órgão Superior</th>\n",
       "      <th>Código Órgão</th>\n",
       "    </tr>\n",
       "  </thead>\n",
       "  <tbody>\n",
       "    <tr>\n",
       "      <th>count</th>\n",
       "      <td>1.533600e+04</td>\n",
       "      <td>15336.000000</td>\n",
       "      <td>15336.000000</td>\n",
       "      <td>15336.000000</td>\n",
       "      <td>15336.000000</td>\n",
       "    </tr>\n",
       "    <tr>\n",
       "      <th>mean</th>\n",
       "      <td>1.187265e+07</td>\n",
       "      <td>211458.782016</td>\n",
       "      <td>-5.994327</td>\n",
       "      <td>36443.087898</td>\n",
       "      <td>35072.975548</td>\n",
       "    </tr>\n",
       "    <tr>\n",
       "      <th>std</th>\n",
       "      <td>7.223749e+07</td>\n",
       "      <td>148542.739765</td>\n",
       "      <td>33.291265</td>\n",
       "      <td>13783.932637</td>\n",
       "      <td>13538.294712</td>\n",
       "    </tr>\n",
       "    <tr>\n",
       "      <th>min</th>\n",
       "      <td>1.201600e+04</td>\n",
       "      <td>30100.000000</td>\n",
       "      <td>-99.000000</td>\n",
       "      <td>3000.000000</td>\n",
       "      <td>3000.000000</td>\n",
       "    </tr>\n",
       "    <tr>\n",
       "      <th>25%</th>\n",
       "      <td>2.420180e+05</td>\n",
       "      <td>153079.000000</td>\n",
       "      <td>6.000000</td>\n",
       "      <td>26000.000000</td>\n",
       "      <td>26233.000000</td>\n",
       "    </tr>\n",
       "    <tr>\n",
       "      <th>50%</th>\n",
       "      <td>6.720180e+05</td>\n",
       "      <td>160108.000000</td>\n",
       "      <td>6.000000</td>\n",
       "      <td>30000.000000</td>\n",
       "      <td>26439.000000</td>\n",
       "    </tr>\n",
       "    <tr>\n",
       "      <th>75%</th>\n",
       "      <td>1.652018e+06</td>\n",
       "      <td>200334.000000</td>\n",
       "      <td>6.000000</td>\n",
       "      <td>52000.000000</td>\n",
       "      <td>52111.000000</td>\n",
       "    </tr>\n",
       "    <tr>\n",
       "      <th>max</th>\n",
       "      <td>9.962520e+08</td>\n",
       "      <td>926524.000000</td>\n",
       "      <td>20.000000</td>\n",
       "      <td>84000.000000</td>\n",
       "      <td>91081.000000</td>\n",
       "    </tr>\n",
       "  </tbody>\n",
       "</table>\n",
       "</div>"
      ],
      "text/plain": [
       "       Número Licitação      Código UG  Código Modalidade Compra  \\\n",
       "count      1.533600e+04   15336.000000              15336.000000   \n",
       "mean       1.187265e+07  211458.782016                 -5.994327   \n",
       "std        7.223749e+07  148542.739765                 33.291265   \n",
       "min        1.201600e+04   30100.000000                -99.000000   \n",
       "25%        2.420180e+05  153079.000000                  6.000000   \n",
       "50%        6.720180e+05  160108.000000                  6.000000   \n",
       "75%        1.652018e+06  200334.000000                  6.000000   \n",
       "max        9.962520e+08  926524.000000                 20.000000   \n",
       "\n",
       "       Código Órgão Superior  Código Órgão  \n",
       "count           15336.000000  15336.000000  \n",
       "mean            36443.087898  35072.975548  \n",
       "std             13783.932637  13538.294712  \n",
       "min              3000.000000   3000.000000  \n",
       "25%             26000.000000  26233.000000  \n",
       "50%             30000.000000  26439.000000  \n",
       "75%             52000.000000  52111.000000  \n",
       "max             84000.000000  91081.000000  "
      ]
     },
     "execution_count": 95,
     "metadata": {},
     "output_type": "execute_result"
    }
   ],
   "source": [
    "licitacoes.describe()"
   ]
  },
  {
   "cell_type": "markdown",
   "id": "3b3ec502",
   "metadata": {},
   "source": [
    "## Código de Modalidade de Compra"
   ]
  },
  {
   "cell_type": "markdown",
   "id": "74cf8b56",
   "metadata": {},
   "source": [
    "Ao analisar a coluna Código Modalidade Compra, podemos observar que há dados marcados como valores negativos, o que pode significar falta de alguma informação"
   ]
  },
  {
   "cell_type": "code",
   "execution_count": 47,
   "id": "0002a745",
   "metadata": {},
   "outputs": [
    {
     "data": {
      "text/plain": [
       "array(['Pregão - Registro de Preço', 'Concorrência - Registro de Preço'],\n",
       "      dtype=object)"
      ]
     },
     "execution_count": 47,
     "metadata": {},
     "output_type": "execute_result"
    }
   ],
   "source": [
    "licitacoes[licitacoes['Código Modalidade Compra']<0]['Modalidade Compra'].unique()"
   ]
  },
  {
   "cell_type": "code",
   "execution_count": 48,
   "id": "486e8bf5",
   "metadata": {},
   "outputs": [
    {
     "data": {
      "text/plain": [
       "array([-99], dtype=int64)"
      ]
     },
     "execution_count": 48,
     "metadata": {},
     "output_type": "execute_result"
    }
   ],
   "source": [
    "licitacoes[licitacoes['Modalidade Compra']== 'Pregão - Registro de Preço']['Código Modalidade Compra'].unique()"
   ]
  },
  {
   "cell_type": "code",
   "execution_count": 49,
   "id": "7aa6ce51",
   "metadata": {},
   "outputs": [
    {
     "data": {
      "text/plain": [
       "array([-97], dtype=int64)"
      ]
     },
     "execution_count": 49,
     "metadata": {},
     "output_type": "execute_result"
    }
   ],
   "source": [
    "licitacoes[licitacoes['Modalidade Compra']== 'Concorrência - Registro de Preço']['Código Modalidade Compra'].unique()"
   ]
  },
  {
   "cell_type": "code",
   "execution_count": 50,
   "id": "090e559b",
   "metadata": {},
   "outputs": [
    {
     "data": {
      "text/plain": [
       "array([-99,   3,   2,   6,   7,   5,   1,  20, -97,   4], dtype=int64)"
      ]
     },
     "execution_count": 50,
     "metadata": {},
     "output_type": "execute_result"
    }
   ],
   "source": [
    "licitacoes['Código Modalidade Compra'].unique()"
   ]
  },
  {
   "cell_type": "markdown",
   "id": "70c67f66",
   "metadata": {},
   "source": [
    "como todos os valores -99 são da modalidade de Pregão - Registro de Preço e todos os valores -97 são Código Modalidade Compra, podemos deixar como está, pois não dificulta a análise e pode significar algo importante para o proprietário do arquivo"
   ]
  },
  {
   "cell_type": "markdown",
   "id": "bd53fc0f",
   "metadata": {},
   "source": [
    "## Avaliando as datas\n"
   ]
  },
  {
   "cell_type": "code",
   "execution_count": 88,
   "id": "14442925",
   "metadata": {},
   "outputs": [],
   "source": [
    "import datetime as dt\n",
    "from dateutil.relativedelta import relativedelta # para calculo com data"
   ]
  },
  {
   "cell_type": "code",
   "execution_count": 96,
   "id": "8f81ec00",
   "metadata": {},
   "outputs": [
    {
     "data": {
      "text/html": [
       "<div>\n",
       "<style scoped>\n",
       "    .dataframe tbody tr th:only-of-type {\n",
       "        vertical-align: middle;\n",
       "    }\n",
       "\n",
       "    .dataframe tbody tr th {\n",
       "        vertical-align: top;\n",
       "    }\n",
       "\n",
       "    .dataframe thead th {\n",
       "        text-align: right;\n",
       "    }\n",
       "</style>\n",
       "<table border=\"1\" class=\"dataframe\">\n",
       "  <thead>\n",
       "    <tr style=\"text-align: right;\">\n",
       "      <th></th>\n",
       "      <th>Número Licitação</th>\n",
       "      <th>Código UG</th>\n",
       "      <th>Nome UG</th>\n",
       "      <th>Código Modalidade Compra</th>\n",
       "      <th>Modalidade Compra</th>\n",
       "      <th>Número Processo</th>\n",
       "      <th>Objeto</th>\n",
       "      <th>Situação Licitação</th>\n",
       "      <th>Código Órgão Superior</th>\n",
       "      <th>Nome Órgão Superior</th>\n",
       "      <th>Código Órgão</th>\n",
       "      <th>Nome Órgão</th>\n",
       "      <th>UF</th>\n",
       "      <th>Município</th>\n",
       "      <th>Data Resultado Compra</th>\n",
       "      <th>Data Abertura</th>\n",
       "      <th>Valor Licitação</th>\n",
       "    </tr>\n",
       "  </thead>\n",
       "  <tbody>\n",
       "    <tr>\n",
       "      <th>0</th>\n",
       "      <td>12016</td>\n",
       "      <td>160438</td>\n",
       "      <td>COMANDO 2 BRIGADA DE CAVALARIA MECANIZADA</td>\n",
       "      <td>-99</td>\n",
       "      <td>Pregão - Registro de Preço</td>\n",
       "      <td>80871182401201629</td>\n",
       "      <td>Objeto: Pregão Eletrônico - Aquisição de mater...</td>\n",
       "      <td>Evento de Resultado de Julgame</td>\n",
       "      <td>52000</td>\n",
       "      <td>Ministério da Defesa</td>\n",
       "      <td>52121</td>\n",
       "      <td>Comando do Exército</td>\n",
       "      <td>RS</td>\n",
       "      <td>URUGUAIANA</td>\n",
       "      <td>04/12/2018</td>\n",
       "      <td>17/08/2016</td>\n",
       "      <td>18854,0000</td>\n",
       "    </tr>\n",
       "    <tr>\n",
       "      <th>1</th>\n",
       "      <td>12017</td>\n",
       "      <td>160203</td>\n",
       "      <td>2º BATALHAO DE ENGENHARIA DE CONSTRUCAO</td>\n",
       "      <td>3</td>\n",
       "      <td>Concorrência</td>\n",
       "      <td>64040053530201713</td>\n",
       "      <td>Objeto: Contratação de empresa para construção...</td>\n",
       "      <td>Evento de Resultado de Julgame</td>\n",
       "      <td>52000</td>\n",
       "      <td>Ministério da Defesa</td>\n",
       "      <td>52121</td>\n",
       "      <td>Comando do Exército</td>\n",
       "      <td>PI</td>\n",
       "      <td>TERESINA</td>\n",
       "      <td>07/12/2018</td>\n",
       "      <td>NaN</td>\n",
       "      <td>889571,4300</td>\n",
       "    </tr>\n",
       "    <tr>\n",
       "      <th>2</th>\n",
       "      <td>12017</td>\n",
       "      <td>193002</td>\n",
       "      <td>DEPARTAMENTO NACIONAL DE OBRAS CONT.AS SECAS</td>\n",
       "      <td>2</td>\n",
       "      <td>Tomada de Preços</td>\n",
       "      <td>59400003079201636</td>\n",
       "      <td>Objeto: Contratação de empresa especializada n...</td>\n",
       "      <td>Evento de Resultado de Julgame</td>\n",
       "      <td>53000</td>\n",
       "      <td>Ministério da Integração e do Desenvolvime</td>\n",
       "      <td>22204</td>\n",
       "      <td>Departamento Nacional de Obras Contra as Seca</td>\n",
       "      <td>CE</td>\n",
       "      <td>FORTALEZA</td>\n",
       "      <td>07/12/2018</td>\n",
       "      <td>NaN</td>\n",
       "      <td>865536,6500</td>\n",
       "    </tr>\n",
       "    <tr>\n",
       "      <th>3</th>\n",
       "      <td>12018</td>\n",
       "      <td>925135</td>\n",
       "      <td>BANCO CENTRAL DO BRASIL - RECIFE</td>\n",
       "      <td>6</td>\n",
       "      <td>Dispensa de Licitação</td>\n",
       "      <td>148097</td>\n",
       "      <td>Objeto: TV LED de 65 polegadas, UHD 4k, com co...</td>\n",
       "      <td>Encerrado</td>\n",
       "      <td>20101</td>\n",
       "      <td>Sem informação</td>\n",
       "      <td>25201</td>\n",
       "      <td>BANCO CENTRAL DO BRASIL-ORC.FISCAL/SEG.SOCIAL</td>\n",
       "      <td>-3</td>\n",
       "      <td>Inválido</td>\n",
       "      <td>04/12/2018</td>\n",
       "      <td>30/11/2018</td>\n",
       "      <td>11075,9900</td>\n",
       "    </tr>\n",
       "    <tr>\n",
       "      <th>4</th>\n",
       "      <td>12018</td>\n",
       "      <td>110101</td>\n",
       "      <td>GABINETE DA VICE-PRESIDENCIA DA REPUBLICA</td>\n",
       "      <td>7</td>\n",
       "      <td>Inexigibilidade de Licitação</td>\n",
       "      <td>00300000433201818</td>\n",
       "      <td>Objeto: Pretação de serviços de publicação de ...</td>\n",
       "      <td>Publicado</td>\n",
       "      <td>20000</td>\n",
       "      <td>Presidência da República</td>\n",
       "      <td>60000</td>\n",
       "      <td>Gabinete da Vice-Presidência da República</td>\n",
       "      <td>DF</td>\n",
       "      <td>BRASILIA</td>\n",
       "      <td>21/12/2018</td>\n",
       "      <td>NaN</td>\n",
       "      <td>12000,0000</td>\n",
       "    </tr>\n",
       "  </tbody>\n",
       "</table>\n",
       "</div>"
      ],
      "text/plain": [
       "   Número Licitação  Código UG                                       Nome UG  \\\n",
       "0             12016     160438     COMANDO 2 BRIGADA DE CAVALARIA MECANIZADA   \n",
       "1             12017     160203       2º BATALHAO DE ENGENHARIA DE CONSTRUCAO   \n",
       "2             12017     193002  DEPARTAMENTO NACIONAL DE OBRAS CONT.AS SECAS   \n",
       "3             12018     925135              BANCO CENTRAL DO BRASIL - RECIFE   \n",
       "4             12018     110101     GABINETE DA VICE-PRESIDENCIA DA REPUBLICA   \n",
       "\n",
       "   Código Modalidade Compra             Modalidade Compra    Número Processo  \\\n",
       "0                       -99    Pregão - Registro de Preço  80871182401201629   \n",
       "1                         3                  Concorrência  64040053530201713   \n",
       "2                         2              Tomada de Preços  59400003079201636   \n",
       "3                         6         Dispensa de Licitação             148097   \n",
       "4                         7  Inexigibilidade de Licitação  00300000433201818   \n",
       "\n",
       "                                              Objeto  \\\n",
       "0  Objeto: Pregão Eletrônico - Aquisição de mater...   \n",
       "1  Objeto: Contratação de empresa para construção...   \n",
       "2  Objeto: Contratação de empresa especializada n...   \n",
       "3  Objeto: TV LED de 65 polegadas, UHD 4k, com co...   \n",
       "4  Objeto: Pretação de serviços de publicação de ...   \n",
       "\n",
       "               Situação Licitação  Código Órgão Superior  \\\n",
       "0  Evento de Resultado de Julgame                  52000   \n",
       "1  Evento de Resultado de Julgame                  52000   \n",
       "2  Evento de Resultado de Julgame                  53000   \n",
       "3                       Encerrado                  20101   \n",
       "4                       Publicado                  20000   \n",
       "\n",
       "                          Nome Órgão Superior  Código Órgão  \\\n",
       "0                        Ministério da Defesa         52121   \n",
       "1                        Ministério da Defesa         52121   \n",
       "2  Ministério da Integração e do Desenvolvime         22204   \n",
       "3                              Sem informação         25201   \n",
       "4                    Presidência da República         60000   \n",
       "\n",
       "                                      Nome Órgão  UF   Município  \\\n",
       "0                            Comando do Exército  RS  URUGUAIANA   \n",
       "1                            Comando do Exército  PI    TERESINA   \n",
       "2  Departamento Nacional de Obras Contra as Seca  CE   FORTALEZA   \n",
       "3  BANCO CENTRAL DO BRASIL-ORC.FISCAL/SEG.SOCIAL  -3    Inválido   \n",
       "4      Gabinete da Vice-Presidência da República  DF    BRASILIA   \n",
       "\n",
       "  Data Resultado Compra Data Abertura Valor Licitação  \n",
       "0            04/12/2018    17/08/2016      18854,0000  \n",
       "1            07/12/2018           NaN     889571,4300  \n",
       "2            07/12/2018           NaN     865536,6500  \n",
       "3            04/12/2018    30/11/2018      11075,9900  \n",
       "4            21/12/2018           NaN      12000,0000  "
      ]
     },
     "execution_count": 96,
     "metadata": {},
     "output_type": "execute_result"
    }
   ],
   "source": [
    "licitacoes.head(5)"
   ]
  },
  {
   "cell_type": "code",
   "execution_count": 116,
   "id": "46444f06",
   "metadata": {},
   "outputs": [
    {
     "data": {
      "text/plain": [
       "array(['04/12/2018', '07/12/2018', '21/12/2018', '05/12/2018',\n",
       "       '26/12/2018', '06/12/2018', '17/12/2018', '19/12/2018',\n",
       "       '27/12/2018', '28/12/2018', '11/12/2018', '31/12/2018',\n",
       "       '20/12/2018', '03/12/2018', '12/12/2018', '10/12/2018',\n",
       "       '18/12/2018', '24/12/2018', '13/12/2018', '14/12/2018',\n",
       "       '01/12/2018', '15/12/2018', '29/12/2018', '22/12/2018',\n",
       "       '30/12/2018', '08/12/2018', '09/12/2018', '25/12/2018'],\n",
       "      dtype=object)"
      ]
     },
     "execution_count": 116,
     "metadata": {},
     "output_type": "execute_result"
    }
   ],
   "source": [
    "licitacoes['Data Resultado Compra'].unique()"
   ]
  },
  {
   "cell_type": "code",
   "execution_count": 117,
   "id": "86208072",
   "metadata": {},
   "outputs": [],
   "source": [
    "# convertendo para datas\n",
    "licitacoes['Data Resultado Compra'] = pd.to_datetime(licitacoes['Data Resultado Compra'],dayfirst=True, errors='coerce')\n",
    "licitacoes['Data Abertura'] = pd.to_datetime(licitacoes['Data Abertura'], dayfirst=True, errors='coerce')\n"
   ]
  },
  {
   "cell_type": "code",
   "execution_count": 118,
   "id": "da9084f7",
   "metadata": {},
   "outputs": [
    {
     "data": {
      "text/plain": [
       "<DatetimeArray>\n",
       "['2018-12-04 00:00:00', '2018-12-07 00:00:00', '2018-12-21 00:00:00',\n",
       " '2018-12-05 00:00:00', '2018-12-26 00:00:00', '2018-12-06 00:00:00',\n",
       " '2018-12-17 00:00:00', '2018-12-19 00:00:00', '2018-12-27 00:00:00',\n",
       " '2018-12-28 00:00:00', '2018-12-11 00:00:00', '2018-12-31 00:00:00',\n",
       " '2018-12-20 00:00:00', '2018-12-03 00:00:00', '2018-12-12 00:00:00',\n",
       " '2018-12-10 00:00:00', '2018-12-18 00:00:00', '2018-12-24 00:00:00',\n",
       " '2018-12-13 00:00:00', '2018-12-14 00:00:00', '2018-12-01 00:00:00',\n",
       " '2018-12-15 00:00:00', '2018-12-29 00:00:00', '2018-12-22 00:00:00',\n",
       " '2018-12-30 00:00:00', '2018-12-08 00:00:00', '2018-12-09 00:00:00',\n",
       " '2018-12-25 00:00:00']\n",
       "Length: 28, dtype: datetime64[ns]"
      ]
     },
     "execution_count": 118,
     "metadata": {},
     "output_type": "execute_result"
    }
   ],
   "source": [
    "licitacoes['Data Resultado Compra'].unique()"
   ]
  },
  {
   "cell_type": "code",
   "execution_count": 119,
   "id": "6460a880",
   "metadata": {},
   "outputs": [
    {
     "data": {
      "text/html": [
       "<div>\n",
       "<style scoped>\n",
       "    .dataframe tbody tr th:only-of-type {\n",
       "        vertical-align: middle;\n",
       "    }\n",
       "\n",
       "    .dataframe tbody tr th {\n",
       "        vertical-align: top;\n",
       "    }\n",
       "\n",
       "    .dataframe thead th {\n",
       "        text-align: right;\n",
       "    }\n",
       "</style>\n",
       "<table border=\"1\" class=\"dataframe\">\n",
       "  <thead>\n",
       "    <tr style=\"text-align: right;\">\n",
       "      <th></th>\n",
       "      <th>Data Resultado Compra</th>\n",
       "      <th>Data Abertura</th>\n",
       "    </tr>\n",
       "  </thead>\n",
       "  <tbody>\n",
       "    <tr>\n",
       "      <th>0</th>\n",
       "      <td>2018-12-04</td>\n",
       "      <td>2016-08-17</td>\n",
       "    </tr>\n",
       "    <tr>\n",
       "      <th>1</th>\n",
       "      <td>2018-12-07</td>\n",
       "      <td>NaT</td>\n",
       "    </tr>\n",
       "    <tr>\n",
       "      <th>2</th>\n",
       "      <td>2018-12-07</td>\n",
       "      <td>NaT</td>\n",
       "    </tr>\n",
       "    <tr>\n",
       "      <th>3</th>\n",
       "      <td>2018-12-04</td>\n",
       "      <td>2018-11-30</td>\n",
       "    </tr>\n",
       "    <tr>\n",
       "      <th>4</th>\n",
       "      <td>2018-12-21</td>\n",
       "      <td>NaT</td>\n",
       "    </tr>\n",
       "    <tr>\n",
       "      <th>...</th>\n",
       "      <td>...</td>\n",
       "      <td>...</td>\n",
       "    </tr>\n",
       "    <tr>\n",
       "      <th>15331</th>\n",
       "      <td>2018-12-04</td>\n",
       "      <td>2018-11-26</td>\n",
       "    </tr>\n",
       "    <tr>\n",
       "      <th>15332</th>\n",
       "      <td>2018-12-26</td>\n",
       "      <td>NaT</td>\n",
       "    </tr>\n",
       "    <tr>\n",
       "      <th>15333</th>\n",
       "      <td>2018-12-03</td>\n",
       "      <td>NaT</td>\n",
       "    </tr>\n",
       "    <tr>\n",
       "      <th>15334</th>\n",
       "      <td>2018-12-04</td>\n",
       "      <td>NaT</td>\n",
       "    </tr>\n",
       "    <tr>\n",
       "      <th>15335</th>\n",
       "      <td>2018-12-05</td>\n",
       "      <td>NaT</td>\n",
       "    </tr>\n",
       "  </tbody>\n",
       "</table>\n",
       "<p>15336 rows × 2 columns</p>\n",
       "</div>"
      ],
      "text/plain": [
       "      Data Resultado Compra Data Abertura\n",
       "0                2018-12-04    2016-08-17\n",
       "1                2018-12-07           NaT\n",
       "2                2018-12-07           NaT\n",
       "3                2018-12-04    2018-11-30\n",
       "4                2018-12-21           NaT\n",
       "...                     ...           ...\n",
       "15331            2018-12-04    2018-11-26\n",
       "15332            2018-12-26           NaT\n",
       "15333            2018-12-03           NaT\n",
       "15334            2018-12-04           NaT\n",
       "15335            2018-12-05           NaT\n",
       "\n",
       "[15336 rows x 2 columns]"
      ]
     },
     "execution_count": 119,
     "metadata": {},
     "output_type": "execute_result"
    }
   ],
   "source": [
    "licitacoes[['Data Resultado Compra', 'Data Abertura']]"
   ]
  },
  {
   "cell_type": "code",
   "execution_count": 120,
   "id": "15292df9",
   "metadata": {},
   "outputs": [],
   "source": [
    "licitacoes['Diferenca em Meses'] = (\n",
    "    (licitacoes['Data Resultado Compra'].dt.year - licitacoes['Data Abertura'].dt.year) * 12 +\n",
    "    (licitacoes['Data Resultado Compra'].dt.month - licitacoes['Data Abertura'].dt.month)\n",
    ")"
   ]
  },
  {
   "cell_type": "code",
   "execution_count": 121,
   "id": "c6e2cfef",
   "metadata": {},
   "outputs": [
    {
     "data": {
      "text/plain": [
       "array([28., nan,  1.,  6.,  3.,  0.,  8.,  2.,  4., 14., 29., 18.,  5.,\n",
       "       11.,  7., 10., 13.,  9., 50., 21., 20., 12.])"
      ]
     },
     "execution_count": 121,
     "metadata": {},
     "output_type": "execute_result"
    }
   ],
   "source": [
    "licitacoes['Diferenca em Meses'].unique()"
   ]
  },
  {
   "cell_type": "markdown",
   "id": "e02848d0",
   "metadata": {},
   "source": [
    "Agora podemos usar essa diferença de meses para substituir os valores"
   ]
  },
  {
   "cell_type": "code",
   "execution_count": 122,
   "id": "797743cf",
   "metadata": {},
   "outputs": [
    {
     "name": "stdout",
     "output_type": "stream",
     "text": [
      "1\n"
     ]
    }
   ],
   "source": [
    "mediana = licitacoes['Diferenca em Meses'].median()\n",
    "mediana = int(mediana.round())\n",
    "print(mediana)"
   ]
  },
  {
   "cell_type": "markdown",
   "id": "7c0422a5",
   "metadata": {},
   "source": [
    "a mediana de diferença de tempo entre a abertura e resultado da compra é de um mês"
   ]
  },
  {
   "cell_type": "code",
   "execution_count": 123,
   "id": "a5198384",
   "metadata": {},
   "outputs": [
    {
     "data": {
      "text/html": [
       "<div>\n",
       "<style scoped>\n",
       "    .dataframe tbody tr th:only-of-type {\n",
       "        vertical-align: middle;\n",
       "    }\n",
       "\n",
       "    .dataframe tbody tr th {\n",
       "        vertical-align: top;\n",
       "    }\n",
       "\n",
       "    .dataframe thead th {\n",
       "        text-align: right;\n",
       "    }\n",
       "</style>\n",
       "<table border=\"1\" class=\"dataframe\">\n",
       "  <thead>\n",
       "    <tr style=\"text-align: right;\">\n",
       "      <th></th>\n",
       "      <th>Data Abertura</th>\n",
       "      <th>Data Resultado Compra</th>\n",
       "      <th>Diferenca em Meses</th>\n",
       "    </tr>\n",
       "  </thead>\n",
       "  <tbody>\n",
       "    <tr>\n",
       "      <th>0</th>\n",
       "      <td>2016-08-17</td>\n",
       "      <td>2018-12-04</td>\n",
       "      <td>28.0</td>\n",
       "    </tr>\n",
       "    <tr>\n",
       "      <th>1</th>\n",
       "      <td>NaT</td>\n",
       "      <td>2018-12-07</td>\n",
       "      <td>NaN</td>\n",
       "    </tr>\n",
       "    <tr>\n",
       "      <th>2</th>\n",
       "      <td>NaT</td>\n",
       "      <td>2018-12-07</td>\n",
       "      <td>NaN</td>\n",
       "    </tr>\n",
       "    <tr>\n",
       "      <th>3</th>\n",
       "      <td>2018-11-30</td>\n",
       "      <td>2018-12-04</td>\n",
       "      <td>1.0</td>\n",
       "    </tr>\n",
       "    <tr>\n",
       "      <th>4</th>\n",
       "      <td>NaT</td>\n",
       "      <td>2018-12-21</td>\n",
       "      <td>NaN</td>\n",
       "    </tr>\n",
       "    <tr>\n",
       "      <th>...</th>\n",
       "      <td>...</td>\n",
       "      <td>...</td>\n",
       "      <td>...</td>\n",
       "    </tr>\n",
       "    <tr>\n",
       "      <th>15331</th>\n",
       "      <td>2018-11-26</td>\n",
       "      <td>2018-12-04</td>\n",
       "      <td>1.0</td>\n",
       "    </tr>\n",
       "    <tr>\n",
       "      <th>15332</th>\n",
       "      <td>NaT</td>\n",
       "      <td>2018-12-26</td>\n",
       "      <td>NaN</td>\n",
       "    </tr>\n",
       "    <tr>\n",
       "      <th>15333</th>\n",
       "      <td>NaT</td>\n",
       "      <td>2018-12-03</td>\n",
       "      <td>NaN</td>\n",
       "    </tr>\n",
       "    <tr>\n",
       "      <th>15334</th>\n",
       "      <td>NaT</td>\n",
       "      <td>2018-12-04</td>\n",
       "      <td>NaN</td>\n",
       "    </tr>\n",
       "    <tr>\n",
       "      <th>15335</th>\n",
       "      <td>NaT</td>\n",
       "      <td>2018-12-05</td>\n",
       "      <td>NaN</td>\n",
       "    </tr>\n",
       "  </tbody>\n",
       "</table>\n",
       "<p>15336 rows × 3 columns</p>\n",
       "</div>"
      ],
      "text/plain": [
       "      Data Abertura Data Resultado Compra  Diferenca em Meses\n",
       "0        2016-08-17            2018-12-04                28.0\n",
       "1               NaT            2018-12-07                 NaN\n",
       "2               NaT            2018-12-07                 NaN\n",
       "3        2018-11-30            2018-12-04                 1.0\n",
       "4               NaT            2018-12-21                 NaN\n",
       "...             ...                   ...                 ...\n",
       "15331    2018-11-26            2018-12-04                 1.0\n",
       "15332           NaT            2018-12-26                 NaN\n",
       "15333           NaT            2018-12-03                 NaN\n",
       "15334           NaT            2018-12-04                 NaN\n",
       "15335           NaT            2018-12-05                 NaN\n",
       "\n",
       "[15336 rows x 3 columns]"
      ]
     },
     "execution_count": 123,
     "metadata": {},
     "output_type": "execute_result"
    }
   ],
   "source": [
    "licitacoes[['Data Abertura','Data Resultado Compra', 'Diferenca em Meses']]"
   ]
  },
  {
   "cell_type": "code",
   "execution_count": 124,
   "id": "05712b2b",
   "metadata": {},
   "outputs": [],
   "source": [
    "# Subtrair a mediana de meses da 'Data Resultado Compra' para preencher NaT\n",
    "licitacoes['Data Abertura'] = licitacoes.apply(\n",
    "    lambda row: row['Data Resultado Compra'] - pd.DateOffset(months=mediana)\n",
    "    if pd.isna(row['Data Abertura']) else row['Data Abertura'], axis=1\n",
    ")"
   ]
  },
  {
   "cell_type": "code",
   "execution_count": 126,
   "id": "ef679b4f",
   "metadata": {},
   "outputs": [],
   "source": [
    "# Excluindo a coluna 'Diferenca em Meses' usado para avaliar as datas\n",
    "licitacoes = licitacoes.drop('Diferenca em Meses', axis=1)"
   ]
  },
  {
   "cell_type": "code",
   "execution_count": 127,
   "id": "ba1ba470",
   "metadata": {},
   "outputs": [
    {
     "name": "stdout",
     "output_type": "stream",
     "text": [
      "<class 'pandas.core.frame.DataFrame'>\n",
      "RangeIndex: 15336 entries, 0 to 15335\n",
      "Data columns (total 17 columns):\n",
      " #   Column                    Non-Null Count  Dtype         \n",
      "---  ------                    --------------  -----         \n",
      " 0   Número Licitação          15336 non-null  int64         \n",
      " 1   Código UG                 15336 non-null  int64         \n",
      " 2   Nome UG                   15336 non-null  object        \n",
      " 3   Código Modalidade Compra  15336 non-null  int64         \n",
      " 4   Modalidade Compra         15336 non-null  object        \n",
      " 5   Número Processo           15336 non-null  object        \n",
      " 6   Objeto                    15336 non-null  object        \n",
      " 7   Situação Licitação        15336 non-null  object        \n",
      " 8   Código Órgão Superior     15336 non-null  int64         \n",
      " 9   Nome Órgão Superior       15336 non-null  object        \n",
      " 10  Código Órgão              15336 non-null  int64         \n",
      " 11  Nome Órgão                15336 non-null  object        \n",
      " 12  UF                        15336 non-null  object        \n",
      " 13  Município                 15336 non-null  object        \n",
      " 14  Data Resultado Compra     15336 non-null  datetime64[ns]\n",
      " 15  Data Abertura             15336 non-null  datetime64[ns]\n",
      " 16  Valor Licitação           15336 non-null  object        \n",
      "dtypes: datetime64[ns](2), int64(5), object(10)\n",
      "memory usage: 2.0+ MB\n"
     ]
    }
   ],
   "source": [
    "licitacoes.info()"
   ]
  },
  {
   "cell_type": "markdown",
   "id": "f611d073",
   "metadata": {},
   "source": [
    "## Localização"
   ]
  },
  {
   "cell_type": "code",
   "execution_count": 129,
   "id": "1177e3a5",
   "metadata": {},
   "outputs": [
    {
     "data": {
      "text/plain": [
       "array(['URUGUAIANA', 'TERESINA', 'FORTALEZA', 'Inválido', 'BRASILIA',\n",
       "       'RIO DE JANEIRO', 'ABADIA DE GOIAS', 'BELEM', 'GUARATINGUETA',\n",
       "       'PORTO VELHO', 'RECIFE', 'ALTA FLORESTA', 'MARABA',\n",
       "       'ARRAIAL DO CABO', 'NATAL', 'ARAPIRACA', 'SALVADOR',\n",
       "       'CORNELIO PROCOPIO', 'PATO BRANCO', 'CAMPO GRANDE', 'BOA VISTA',\n",
       "       'BAGE', 'IRATI', 'IVAIPORA', 'JABOATAO DOS GUARARAPES',\n",
       "       'POUSO ALEGRE', 'CAMPOS DOS GOYTACAZES', 'RIO BRANCO',\n",
       "       'SAPUCAIA DO SUL', 'LAGARTO', 'VITORIA DA CONQUISTA', 'SERRA',\n",
       "       'GOIANIA', 'MANAUS', 'JUINA', 'CONFRESA', 'GURUPI', 'PARINTINS',\n",
       "       'PRESIDENTE FIGUEIREDO', 'SAO GABRIEL DA CACHOEIRA', 'ALTAMIRA',\n",
       "       'PETROLINA', 'CURITIBA', 'NITEROI', 'LAGES', 'SAO PAULO',\n",
       "       'SAO LUIS', 'LIMEIRA', 'JOINVILLE', 'SANTA CRUZ DO SUL', 'MOSSORO',\n",
       "       'DUQUE DE CAXIAS', 'MACAPA', 'VILA VELHA', 'PORTO ALEGRE',\n",
       "       'SANTA TERESA', 'RIO LARGO', 'MACEIO', 'TABATINGA', 'CACOAL',\n",
       "       'VITORIA', 'CORUMBA', 'ARACAJU', 'FOZ DO IGUACU', 'FLORIANOPOLIS',\n",
       "       'BELO HORIZONTE', 'CASCAVEL', 'JUAZEIRO DO NORTE', 'IMPERATRIZ',\n",
       "       'ARARAQUARA', 'SAO JOSE DOS CAMPOS', 'RIBEIRAO PRETO',\n",
       "       'FEIRA DE SANTANA', 'BARBACENA', 'TEOFILO OTONI', 'PETROPOLIS',\n",
       "       'PARNAIBA', 'CAMPINAS', 'PONTA GROSSA', 'PIRANHAS', 'MURICI',\n",
       "       'SEROPEDICA', 'DOIS VIZINHOS', 'OURO PRETO', 'BETIM', 'UBERABA',\n",
       "       'BREVES', 'SAO RAIMUNDO DAS MANGABEIRAS', 'PASSO FUNDO',\n",
       "       'PARANAVAI', 'TELEMACO BORBA', 'PORTO SEGURO', 'PONTA PORA',\n",
       "       'TRES LAGOAS', 'TIMON', 'SANTAREM', 'COLINAS DO TOCANTINS', 'JARU',\n",
       "       'SANTA MARIA DA BOA VISTA', 'MORADA NOVA', 'TIANGUA', 'ITAPIPOCA',\n",
       "       'PAULO AFONSO', 'CRATEUS', 'CRISTALINA', 'JATAI', 'OLINDA',\n",
       "       'RESENDE', 'GUAJARA-MIRIM', 'CRUZEIRO DO SUL', 'JOAO PESSOA',\n",
       "       'MONTES CLAROS', 'BAURU', 'SOROCABA', 'CAXIAS DO SUL',\n",
       "       'NOVO HAMBURGO', 'CUIABA', 'ANANINDEUA', 'PALMAS', 'SOBRAL',\n",
       "       'ARACATUBA', 'SAO JOAO DA BOA VISTA', 'JUAZEIRO', 'PARANAGUA',\n",
       "       'CANOAS', 'LAGOA SANTA', 'VARZEA GRANDE', 'PARNAMIRIM',\n",
       "       'CAMPOS BELOS', 'ASSIS CHATEAUBRIAND', 'SANTANA DO LIVRAMENTO',\n",
       "       'SANTO ANGELO', 'ITAPORANGA', 'SAO CARLOS', 'PELOTAS',\n",
       "       'SANTA MARIA', 'POMBAL', 'PARACATU', 'UBERLANDIA', 'CRATO',\n",
       "       'CACHOEIRO DE ITAPEMIRIM', 'BARREIROS', 'MONTEIRO', 'SAO BORJA',\n",
       "       'CHAPECO', 'CAJAZEIRAS', 'BARREIRAS', 'SERRA TALHADA', 'ARACATI',\n",
       "       'UBAJARA', 'SETE LAGOAS', 'AQUIDAUANA', 'CACERES', 'MACAE',\n",
       "       'GENERAL CAMARA', 'SANTO ANDRE', 'JOACABA', 'CAPITAO POCO',\n",
       "       'MARILIA', 'VOLTA REDONDA', 'SAO GONCALO', 'ITABAIANA',\n",
       "       'RIO GRANDE', 'SAO JOAO DEL REI', 'EIRUNEPE',\n",
       "       'FREDERICO WESTPHALEN', 'RIBEIRAO DAS NEVES', 'SANTO AUGUSTO',\n",
       "       'ACAILANDIA', 'EUNAPOLIS', 'NOVA ANDRADINA', 'PICUI', 'PESQUEIRA',\n",
       "       'CAMOCIM', 'IJUI', 'PORTO UNIAO', 'JUIZ DE FORA', 'OSASCO',\n",
       "       'LONDRINA', 'TUCUMA', 'GARANHUNS', 'GUARULHOS',\n",
       "       'SAO JOSE DO RIO PRETO', 'ITABUNA', 'DOURADOS', 'SINOP',\n",
       "       'BLUMENAU', 'CAMPO LARGO', 'ANGICOS', 'SAO JOAO DO PIAUI',\n",
       "       'ABREU E LIMA', 'TEFE', 'QUISSAMA', 'ESPERANCA', 'DIAMANTINA',\n",
       "       'CANINDE', 'MURIAE', 'URUACU', 'PRINCESA ISABEL', 'PANAMBI',\n",
       "       'PATOS DE MINAS', 'BELA VISTA', 'BAYEUX', 'ITAQUI', 'TUBARAO',\n",
       "       'ATALAIA DO NORTE', 'TAUBATE', 'GOVERNADOR VALADARES',\n",
       "       'NOVA FRIBURGO', 'SAO CRISTOVAO', 'PARAGOMINAS', 'MARACANAU',\n",
       "       'ARIQUEMES', 'JOAO CAMARA', 'PAU DOS FERROS',\n",
       "       'PALMEIRA DOS INDIOS', 'SUME', 'VITORIA DE SANTO ANTAO',\n",
       "       'PINHEIRAL', 'MAUES', 'IRECE', 'SAO FRANCISCO DO CONDE', 'IPAMERI',\n",
       "       'TRES CORACOES', 'ALEGRETE', 'MAGE', 'SANTOS', 'POCOS DE CALDAS',\n",
       "       'PIRAPORA', 'GUARAPUAVA', 'PATOS', 'MARECHAL DEODORO',\n",
       "       'JACAREZINHO', 'UMUARAMA', 'SANTA ROSA', 'GUARAPARI', 'PIUMA',\n",
       "       'PATROCINIO', 'SAO BENTO DO UNA', 'JARDIM', 'NOVA SANTA RITA',\n",
       "       'BARUERI', 'CAICO', 'BARRA DO GARCAS', 'DIVINOPOLIS',\n",
       "       'SAO PAULO DO POTENGI', 'ARAGUAINA', 'SOUSA', 'CODO',\n",
       "       'LIMOEIRO DO NORTE', 'IPANGUACU', 'APODI', 'IPOJUCA', 'NILOPOLIS',\n",
       "       'HORIZONTE', 'PICOS', 'SANTIAGO', 'JI-PARANA', 'ITAJUBA',\n",
       "       'COLIDER', 'SANTANA', 'JAGUARIUNA', 'FRANCISCO BELTRAO', 'IBIRAMA',\n",
       "       'SAO MATEUS', 'VICOSA', 'VALENCA', 'PAULISTA', 'CAMPINA GRANDE',\n",
       "       'JULIO DE CASTILHOS', 'ITUIUTABA', 'CARACARAI', 'NOVA VENECIA',\n",
       "       'VENDA NOVA DO IMIGRANTE', 'BELO JARDIM', 'CAUCAIA',\n",
       "       'PIRASSUNUNGA', 'PEDRO LEOPOLDO', 'MEDIANEIRA', 'SANTA CRUZ',\n",
       "       'MACHADO', 'SAO RAIMUNDO NONATO', 'IBATIBA', 'SANTA ROSA DO SUL',\n",
       "       'PARACAMBI', 'CACHOEIRA DO SUL', 'SAO JOSE', 'TOME-ACU', 'MACAU',\n",
       "       'ALMENARA', 'COXIM', 'REDENCAO', 'PARACURU', 'AMAMBAI', 'FORMOSA',\n",
       "       'MUNDO NOVO', 'FLORIANO', 'SAO JOSE DOS PINHAIS', 'LABREA',\n",
       "       'LADARIO', 'LUZERNA', 'BANANEIRAS', 'CRUZ DAS ALMAS', 'ITAPERUNA',\n",
       "       'GUAIRA', 'SAO PEDRO DA ALDEIA', 'CHARQUEADAS', 'SALINAS',\n",
       "       'BARRA DE SAO FRANCISCO', 'ITAITUBA', 'ITU', 'CONTAGEM',\n",
       "       'CANARANA', 'TUCURUI', 'CABO DE SANTO AGOSTINHO', 'COCAL',\n",
       "       'MANACAPURU', 'ALAGOINHAS', 'SERTAO', 'INCONFIDENTES', 'CAMACARI',\n",
       "       'RIO DO SUL', 'UMIRIM', 'SAO FELIX DO ARAGUAIA',\n",
       "       'BOM JESUS DA LAPA', 'ITABERABA', 'SAO VICENTE DO SUL', 'QUIXADA',\n",
       "       'CATU', 'CABEDELO', 'ARAGUARI', 'LINS', 'PINDAMONHANGABA',\n",
       "       'BAMBUI', 'SANTA INES', 'CASTANHAL', 'ALEGRE', 'LAPA',\n",
       "       'NOVA IGUACU', 'COLOMBO', 'CARAUBAS', 'VIDEIRA', 'COLATINA',\n",
       "       'JEQUIE', 'CACAPAVA', 'PIRACICABA', 'SAO GERALDO DO ARAGUAIA',\n",
       "       'HUMAITA', 'ARINOS', 'URUCUCA', 'SANTA HELENA', 'ITAPECURU MIRIM',\n",
       "       'BOM JESUS DO ITABAPOANA', 'ILHEUS', 'JACOBINA', 'APUCARANA',\n",
       "       'SAO MIGUEL DO OESTE', 'SANTOS DUMONT', 'IGARASSU',\n",
       "       'CATOLE DO ROCHA', 'SAO JOAO DOS PATOS', 'URUCUI', 'ABAETETUBA',\n",
       "       'COLORADO DO OESTE', 'SIMOES FILHO', 'GUANAMBI', 'BRAGANCA',\n",
       "       'SAO FELIX DO XINGU', 'GOVERNADOR MANGABEIRA', 'GRAJAU',\n",
       "       'TABULEIRO DO NORTE', 'PORTO MURTINHO', 'CANOINHAS', 'JUNDIAI',\n",
       "       'RIO NEGRO', 'PEDRO II', 'COELHO NETO', 'TAUA', 'TOLEDO',\n",
       "       'SANTA MARIA DE JETIBA', 'ZE DOCA', 'BURITICUPU',\n",
       "       'SENHOR DO BONFIM', 'CAMBORIU', 'SAO GABRIEL', 'XIQUE-XIQUE',\n",
       "       'MUZAMBINHO', 'SEABRA', 'CONCEICAO DO ARAGUAIA', 'LAVRAS',\n",
       "       'RIO POMBA', 'PASSOS', 'RIBEIRAO CASCALHEIRA', 'BENTO GONCALVES',\n",
       "       'PONTES E LACERDA', 'BACABAL', 'JANUARIA', 'CAMPO NOVO DO PARECIS',\n",
       "       'OEIRAS', 'CATANDUVAS', 'LANDRI SALES', 'SORRISO', 'ARACRUZ',\n",
       "       'SAO JOAO EVANGELISTA', 'RIO VERDE', 'CAXIAS', 'ALCANTARA',\n",
       "       'ANAPOLIS', 'CAMPO MAIOR', 'PIQUETE', 'DOM PEDRITO', 'ITABIRA',\n",
       "       'PRESIDENTE PRUDENTE', 'FLORESTAL', 'MONTANHA', 'ALFENAS',\n",
       "       'MORRINHOS', 'ROLANTE', 'ORIXIMINA', 'PRIMAVERA DO LESTE',\n",
       "       'ITANHAEM', 'GUARUJA', 'LORENA', 'PAULISTANA', 'JAGUARAO',\n",
       "       'FARROUPILHA', 'IPORA', 'LINHARES', 'SAO LUIZ GONZAGA', 'FELIZ',\n",
       "       'BARCELOS', 'ITAARA', 'NIOAQUE', 'URUTAI',\n",
       "       'SANTO ANTONIO DE GOIAS', 'CARIACICA', 'MANGARATIBA', 'ARAGARCAS',\n",
       "       'QUARAI', 'CRUZ ALTA', 'SAO LEOPOLDO', 'CASTRO', 'CONCORDIA',\n",
       "       'RONDONOPOLIS', 'CRICIUMA', 'VIAMAO', 'ITAGUAI',\n",
       "       'CACHOEIRA PAULISTA', 'CAMPO MOURAO', 'BARRETOS', 'CABO FRIO',\n",
       "       'ANGRA DOS REIS', 'HORTOLANDIA', 'JACAREI', 'CAMPOS DO JORDAO',\n",
       "       'BIRIGUI', 'REGISTRO', 'SERTAOZINHO', 'ITAPETININGA',\n",
       "       'CARAGUATATUBA', 'CATANDUVA', 'VOTUPORANGA', 'SUZANO', 'BOITUVA',\n",
       "       'CAPIVARI', 'SAO ROQUE', 'MATAO', 'PRESIDENTE EPITACIO', 'AVARE'],\n",
       "      dtype=object)"
      ]
     },
     "execution_count": 129,
     "metadata": {},
     "output_type": "execute_result"
    }
   ],
   "source": [
    "licitacoes['Município'].unique()"
   ]
  },
  {
   "cell_type": "markdown",
   "id": "09047e80",
   "metadata": {},
   "source": [
    "podemos observar que há 'Inválido' entre municípios"
   ]
  },
  {
   "cell_type": "code",
   "execution_count": 136,
   "id": "4bb124c0",
   "metadata": {},
   "outputs": [
    {
     "data": {
      "text/html": [
       "<div>\n",
       "<style scoped>\n",
       "    .dataframe tbody tr th:only-of-type {\n",
       "        vertical-align: middle;\n",
       "    }\n",
       "\n",
       "    .dataframe tbody tr th {\n",
       "        vertical-align: top;\n",
       "    }\n",
       "\n",
       "    .dataframe thead th {\n",
       "        text-align: right;\n",
       "    }\n",
       "</style>\n",
       "<table border=\"1\" class=\"dataframe\">\n",
       "  <thead>\n",
       "    <tr style=\"text-align: right;\">\n",
       "      <th></th>\n",
       "      <th>UF</th>\n",
       "      <th>Município</th>\n",
       "    </tr>\n",
       "  </thead>\n",
       "  <tbody>\n",
       "    <tr>\n",
       "      <th>3</th>\n",
       "      <td>-3</td>\n",
       "      <td>Inválido</td>\n",
       "    </tr>\n",
       "    <tr>\n",
       "      <th>165</th>\n",
       "      <td>-3</td>\n",
       "      <td>Inválido</td>\n",
       "    </tr>\n",
       "    <tr>\n",
       "      <th>345</th>\n",
       "      <td>-3</td>\n",
       "      <td>Inválido</td>\n",
       "    </tr>\n",
       "    <tr>\n",
       "      <th>346</th>\n",
       "      <td>-3</td>\n",
       "      <td>Inválido</td>\n",
       "    </tr>\n",
       "    <tr>\n",
       "      <th>528</th>\n",
       "      <td>-3</td>\n",
       "      <td>Inválido</td>\n",
       "    </tr>\n",
       "    <tr>\n",
       "      <th>695</th>\n",
       "      <td>-3</td>\n",
       "      <td>Inválido</td>\n",
       "    </tr>\n",
       "    <tr>\n",
       "      <th>1617</th>\n",
       "      <td>-3</td>\n",
       "      <td>Inválido</td>\n",
       "    </tr>\n",
       "    <tr>\n",
       "      <th>1812</th>\n",
       "      <td>-3</td>\n",
       "      <td>Inválido</td>\n",
       "    </tr>\n",
       "    <tr>\n",
       "      <th>1993</th>\n",
       "      <td>-3</td>\n",
       "      <td>Inválido</td>\n",
       "    </tr>\n",
       "    <tr>\n",
       "      <th>1994</th>\n",
       "      <td>-3</td>\n",
       "      <td>Inválido</td>\n",
       "    </tr>\n",
       "  </tbody>\n",
       "</table>\n",
       "</div>"
      ],
      "text/plain": [
       "      UF Município\n",
       "3     -3  Inválido\n",
       "165   -3  Inválido\n",
       "345   -3  Inválido\n",
       "346   -3  Inválido\n",
       "528   -3  Inválido\n",
       "695   -3  Inválido\n",
       "1617  -3  Inválido\n",
       "1812  -3  Inválido\n",
       "1993  -3  Inválido\n",
       "1994  -3  Inválido"
      ]
     },
     "execution_count": 136,
     "metadata": {},
     "output_type": "execute_result"
    }
   ],
   "source": [
    "licitacoes[licitacoes['Município'] == 'Inválido'][['UF', 'Município']].head(10)"
   ]
  },
  {
   "cell_type": "markdown",
   "id": "6a993a91",
   "metadata": {},
   "source": [
    "Temos o que todos os municípios inválidos tem UF -3"
   ]
  },
  {
   "cell_type": "code",
   "execution_count": 138,
   "id": "7e53e914",
   "metadata": {},
   "outputs": [
    {
     "data": {
      "text/plain": [
       "168"
      ]
     },
     "execution_count": 138,
     "metadata": {},
     "output_type": "execute_result"
    }
   ],
   "source": [
    "len(licitacoes[licitacoes['Município'] == 'Inválido'])"
   ]
  },
  {
   "cell_type": "code",
   "execution_count": 134,
   "id": "94503400",
   "metadata": {},
   "outputs": [
    {
     "data": {
      "text/plain": [
       "array(['RS', 'PI', 'CE', '-3', 'DF', 'RJ', 'GO', 'PA', 'SP', 'RO', 'PE',\n",
       "       'MT', 'RN', 'AL', 'BA', 'PR', 'MS', 'RR', 'MG', 'AC', 'SE', 'ES',\n",
       "       'AM', 'TO', 'SC', 'MA', 'AP', 'PB'], dtype=object)"
      ]
     },
     "execution_count": 134,
     "metadata": {},
     "output_type": "execute_result"
    }
   ],
   "source": [
    "licitacoes['UF'].unique()"
   ]
  },
  {
   "cell_type": "code",
   "execution_count": 140,
   "id": "16e1249a",
   "metadata": {},
   "outputs": [
    {
     "data": {
      "text/plain": [
       "168"
      ]
     },
     "execution_count": 140,
     "metadata": {},
     "output_type": "execute_result"
    }
   ],
   "source": [
    "len(licitacoes[licitacoes['UF'] == '-3'])"
   ]
  },
  {
   "cell_type": "markdown",
   "id": "5f9a4f59",
   "metadata": {},
   "source": [
    "Deveriamos analisar linha a linha e buscar informações sobre as colunas UF e Municípios"
   ]
  },
  {
   "cell_type": "markdown",
   "id": "86d090c9",
   "metadata": {},
   "source": [
    "## Float como string"
   ]
  },
  {
   "cell_type": "code",
   "execution_count": 146,
   "id": "8899a9e0",
   "metadata": {},
   "outputs": [],
   "source": [
    "licitacoes['Valor Licitação'] = licitacoes['Valor Licitação'].str.replace(',','.').astype(float)"
   ]
  },
  {
   "cell_type": "code",
   "execution_count": 148,
   "id": "9763fd45",
   "metadata": {},
   "outputs": [
    {
     "data": {
      "text/html": [
       "<div>\n",
       "<style scoped>\n",
       "    .dataframe tbody tr th:only-of-type {\n",
       "        vertical-align: middle;\n",
       "    }\n",
       "\n",
       "    .dataframe tbody tr th {\n",
       "        vertical-align: top;\n",
       "    }\n",
       "\n",
       "    .dataframe thead th {\n",
       "        text-align: right;\n",
       "    }\n",
       "</style>\n",
       "<table border=\"1\" class=\"dataframe\">\n",
       "  <thead>\n",
       "    <tr style=\"text-align: right;\">\n",
       "      <th></th>\n",
       "      <th>Número Licitação</th>\n",
       "      <th>Código UG</th>\n",
       "      <th>Código Modalidade Compra</th>\n",
       "      <th>Código Órgão Superior</th>\n",
       "      <th>Código Órgão</th>\n",
       "      <th>Data Resultado Compra</th>\n",
       "      <th>Data Abertura</th>\n",
       "      <th>Valor Licitação</th>\n",
       "    </tr>\n",
       "  </thead>\n",
       "  <tbody>\n",
       "    <tr>\n",
       "      <th>count</th>\n",
       "      <td>1.533600e+04</td>\n",
       "      <td>15336.000000</td>\n",
       "      <td>15336.000000</td>\n",
       "      <td>15336.000000</td>\n",
       "      <td>15336.000000</td>\n",
       "      <td>15336</td>\n",
       "      <td>15336</td>\n",
       "      <td>1.533600e+04</td>\n",
       "    </tr>\n",
       "    <tr>\n",
       "      <th>mean</th>\n",
       "      <td>1.187265e+07</td>\n",
       "      <td>211458.782016</td>\n",
       "      <td>-5.994327</td>\n",
       "      <td>36443.087898</td>\n",
       "      <td>35072.975548</td>\n",
       "      <td>2018-12-12 23:33:20</td>\n",
       "      <td>2018-11-15 00:50:47.887323904</td>\n",
       "      <td>5.805981e+05</td>\n",
       "    </tr>\n",
       "    <tr>\n",
       "      <th>min</th>\n",
       "      <td>1.201600e+04</td>\n",
       "      <td>30100.000000</td>\n",
       "      <td>-99.000000</td>\n",
       "      <td>3000.000000</td>\n",
       "      <td>3000.000000</td>\n",
       "      <td>2018-12-01 00:00:00</td>\n",
       "      <td>2014-10-22 00:00:00</td>\n",
       "      <td>0.000000e+00</td>\n",
       "    </tr>\n",
       "    <tr>\n",
       "      <th>25%</th>\n",
       "      <td>2.420180e+05</td>\n",
       "      <td>153079.000000</td>\n",
       "      <td>6.000000</td>\n",
       "      <td>26000.000000</td>\n",
       "      <td>26233.000000</td>\n",
       "      <td>2018-12-06 00:00:00</td>\n",
       "      <td>2018-11-06 00:00:00</td>\n",
       "      <td>1.945912e+03</td>\n",
       "    </tr>\n",
       "    <tr>\n",
       "      <th>50%</th>\n",
       "      <td>6.720180e+05</td>\n",
       "      <td>160108.000000</td>\n",
       "      <td>6.000000</td>\n",
       "      <td>30000.000000</td>\n",
       "      <td>26439.000000</td>\n",
       "      <td>2018-12-10 00:00:00</td>\n",
       "      <td>2018-11-14 00:00:00</td>\n",
       "      <td>7.500000e+03</td>\n",
       "    </tr>\n",
       "    <tr>\n",
       "      <th>75%</th>\n",
       "      <td>1.652018e+06</td>\n",
       "      <td>200334.000000</td>\n",
       "      <td>6.000000</td>\n",
       "      <td>52000.000000</td>\n",
       "      <td>52111.000000</td>\n",
       "      <td>2018-12-20 00:00:00</td>\n",
       "      <td>2018-11-27 00:00:00</td>\n",
       "      <td>3.250000e+04</td>\n",
       "    </tr>\n",
       "    <tr>\n",
       "      <th>max</th>\n",
       "      <td>9.962520e+08</td>\n",
       "      <td>926524.000000</td>\n",
       "      <td>20.000000</td>\n",
       "      <td>84000.000000</td>\n",
       "      <td>91081.000000</td>\n",
       "      <td>2018-12-31 00:00:00</td>\n",
       "      <td>2018-12-31 00:00:00</td>\n",
       "      <td>9.689600e+08</td>\n",
       "    </tr>\n",
       "    <tr>\n",
       "      <th>std</th>\n",
       "      <td>7.223749e+07</td>\n",
       "      <td>148542.739765</td>\n",
       "      <td>33.291265</td>\n",
       "      <td>13783.932637</td>\n",
       "      <td>13538.294712</td>\n",
       "      <td>NaN</td>\n",
       "      <td>NaN</td>\n",
       "      <td>1.106470e+07</td>\n",
       "    </tr>\n",
       "  </tbody>\n",
       "</table>\n",
       "</div>"
      ],
      "text/plain": [
       "       Número Licitação      Código UG  Código Modalidade Compra  \\\n",
       "count      1.533600e+04   15336.000000              15336.000000   \n",
       "mean       1.187265e+07  211458.782016                 -5.994327   \n",
       "min        1.201600e+04   30100.000000                -99.000000   \n",
       "25%        2.420180e+05  153079.000000                  6.000000   \n",
       "50%        6.720180e+05  160108.000000                  6.000000   \n",
       "75%        1.652018e+06  200334.000000                  6.000000   \n",
       "max        9.962520e+08  926524.000000                 20.000000   \n",
       "std        7.223749e+07  148542.739765                 33.291265   \n",
       "\n",
       "       Código Órgão Superior  Código Órgão Data Resultado Compra  \\\n",
       "count           15336.000000  15336.000000                 15336   \n",
       "mean            36443.087898  35072.975548   2018-12-12 23:33:20   \n",
       "min              3000.000000   3000.000000   2018-12-01 00:00:00   \n",
       "25%             26000.000000  26233.000000   2018-12-06 00:00:00   \n",
       "50%             30000.000000  26439.000000   2018-12-10 00:00:00   \n",
       "75%             52000.000000  52111.000000   2018-12-20 00:00:00   \n",
       "max             84000.000000  91081.000000   2018-12-31 00:00:00   \n",
       "std             13783.932637  13538.294712                   NaN   \n",
       "\n",
       "                       Data Abertura  Valor Licitação  \n",
       "count                          15336     1.533600e+04  \n",
       "mean   2018-11-15 00:50:47.887323904     5.805981e+05  \n",
       "min              2014-10-22 00:00:00     0.000000e+00  \n",
       "25%              2018-11-06 00:00:00     1.945912e+03  \n",
       "50%              2018-11-14 00:00:00     7.500000e+03  \n",
       "75%              2018-11-27 00:00:00     3.250000e+04  \n",
       "max              2018-12-31 00:00:00     9.689600e+08  \n",
       "std                              NaN     1.106470e+07  "
      ]
     },
     "execution_count": 148,
     "metadata": {},
     "output_type": "execute_result"
    }
   ],
   "source": [
    "licitacoes.describe()\n",
    "# agora o valor de licitação aparece no describe"
   ]
  }
 ],
 "metadata": {
  "kernelspec": {
   "display_name": "Python 3",
   "language": "python",
   "name": "python3"
  },
  "language_info": {
   "codemirror_mode": {
    "name": "ipython",
    "version": 3
   },
   "file_extension": ".py",
   "mimetype": "text/x-python",
   "name": "python",
   "nbconvert_exporter": "python",
   "pygments_lexer": "ipython3",
   "version": "3.11.9"
  }
 },
 "nbformat": 4,
 "nbformat_minor": 5
}
