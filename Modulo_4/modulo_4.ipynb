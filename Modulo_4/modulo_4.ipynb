{
 "cells": [
  {
   "cell_type": "markdown",
   "id": "7591ac7d",
   "metadata": {},
   "source": [
    "# Módulo 4 - Estatística Básica"
   ]
  },
  {
   "cell_type": "code",
   "execution_count": 1,
   "id": "02c53add",
   "metadata": {},
   "outputs": [],
   "source": [
    "# importando bibliotecas\n",
    "import pandas as pd\n",
    "import numpy as np"
   ]
  },
  {
   "cell_type": "code",
   "execution_count": 2,
   "id": "0137fb30",
   "metadata": {},
   "outputs": [],
   "source": [
    "# Importando os dados\n",
    "dados = pd.read_excel('../Modulo_3/planilha_modulo3.xlsx', engine=\"openpyxl\")"
   ]
  },
  {
   "cell_type": "markdown",
   "id": "bdaf297e",
   "metadata": {},
   "source": [
    "## Média, Mediana, Moda, Desvio Padrão, Máximo e Mínimo"
   ]
  },
  {
   "cell_type": "code",
   "execution_count": 3,
   "id": "42277ab1",
   "metadata": {},
   "outputs": [],
   "source": [
    "media_idade = dados['IDADE'].mean()"
   ]
  },
  {
   "cell_type": "code",
   "execution_count": 4,
   "id": "e71b002c",
   "metadata": {},
   "outputs": [],
   "source": [
    "mediana_idade = dados['IDADE'].median()"
   ]
  },
  {
   "cell_type": "code",
   "execution_count": 5,
   "id": "125138f8",
   "metadata": {},
   "outputs": [],
   "source": [
    "moda_idade = dados[\"IDADE\"].mode()"
   ]
  },
  {
   "cell_type": "code",
   "execution_count": 6,
   "id": "abf53d2a",
   "metadata": {},
   "outputs": [],
   "source": [
    "desvio_padrao_idade = dados[\"IDADE\"].std()"
   ]
  },
  {
   "cell_type": "code",
   "execution_count": 7,
   "id": "68f4adf9",
   "metadata": {},
   "outputs": [],
   "source": [
    "min_idade = dados[\"IDADE\"].min()"
   ]
  },
  {
   "cell_type": "code",
   "execution_count": 8,
   "id": "d41f43b0",
   "metadata": {},
   "outputs": [],
   "source": [
    "max_idade = dados[\"IDADE\"].max()"
   ]
  },
  {
   "cell_type": "code",
   "execution_count": 9,
   "id": "45fc5f42",
   "metadata": {},
   "outputs": [
    {
     "name": "stdout",
     "output_type": "stream",
     "text": [
      "Análise das Idades\n",
      "MÉDIA         31.0\n",
      "MEDIANA       30.0\n",
      "MODA          0    27.0\n",
      "Name: IDADE, dtype: float64\n",
      "DESVIO PADRÃO 7.0\n",
      "MÁXIMO        54.0\n",
      "MÍNIMO        18.0\n"
     ]
    }
   ],
   "source": [
    "print('Análise das Idades')\n",
    "print('MÉDIA        ', media_idade.round())\n",
    "print('MEDIANA      ', mediana_idade.round())\n",
    "print('MODA         ', moda_idade)\n",
    "print('DESVIO PADRÃO', desvio_padrao_idade.round())\n",
    "print('MÁXIMO       ', max_idade.round())\n",
    "print('MÍNIMO       ', min_idade.round())"
   ]
  },
  {
   "cell_type": "code",
   "execution_count": 10,
   "id": "2128b185",
   "metadata": {},
   "outputs": [
    {
     "data": {
      "text/html": [
       "<div>\n",
       "<style scoped>\n",
       "    .dataframe tbody tr th:only-of-type {\n",
       "        vertical-align: middle;\n",
       "    }\n",
       "\n",
       "    .dataframe tbody tr th {\n",
       "        vertical-align: top;\n",
       "    }\n",
       "\n",
       "    .dataframe thead tr th {\n",
       "        text-align: left;\n",
       "    }\n",
       "\n",
       "    .dataframe thead tr:last-of-type th {\n",
       "        text-align: right;\n",
       "    }\n",
       "</style>\n",
       "<table border=\"1\" class=\"dataframe\">\n",
       "  <thead>\n",
       "    <tr>\n",
       "      <th></th>\n",
       "      <th colspan=\"3\" halign=\"left\">IDADE</th>\n",
       "    </tr>\n",
       "    <tr>\n",
       "      <th>NIVEL</th>\n",
       "      <th>Júnior</th>\n",
       "      <th>Pleno</th>\n",
       "      <th>Sênior</th>\n",
       "    </tr>\n",
       "    <tr>\n",
       "      <th>GENERO</th>\n",
       "      <th></th>\n",
       "      <th></th>\n",
       "      <th></th>\n",
       "    </tr>\n",
       "  </thead>\n",
       "  <tbody>\n",
       "    <tr>\n",
       "      <th>Feminino</th>\n",
       "      <td>29.32</td>\n",
       "      <td>30.42</td>\n",
       "      <td>33.22</td>\n",
       "    </tr>\n",
       "    <tr>\n",
       "      <th>Masculino</th>\n",
       "      <td>27.46</td>\n",
       "      <td>30.07</td>\n",
       "      <td>33.30</td>\n",
       "    </tr>\n",
       "    <tr>\n",
       "      <th>Prefiro não informar</th>\n",
       "      <td>24.50</td>\n",
       "      <td>27.25</td>\n",
       "      <td>30.00</td>\n",
       "    </tr>\n",
       "  </tbody>\n",
       "</table>\n",
       "</div>"
      ],
      "text/plain": [
       "                      IDADE              \n",
       "NIVEL                Júnior  Pleno Sênior\n",
       "GENERO                                   \n",
       "Feminino              29.32  30.42  33.22\n",
       "Masculino             27.46  30.07  33.30\n",
       "Prefiro não informar  24.50  27.25  30.00"
      ]
     },
     "execution_count": 10,
     "metadata": {},
     "output_type": "execute_result"
    }
   ],
   "source": [
    "pd.pivot_table(dados, values = ['IDADE'], index = ['GENERO'], columns = ['NIVEL'], aggfunc='mean').round(2)"
   ]
  },
  {
   "cell_type": "code",
   "execution_count": 11,
   "id": "fa8bcf94",
   "metadata": {},
   "outputs": [
    {
     "data": {
      "text/html": [
       "<div>\n",
       "<style scoped>\n",
       "    .dataframe tbody tr th:only-of-type {\n",
       "        vertical-align: middle;\n",
       "    }\n",
       "\n",
       "    .dataframe tbody tr th {\n",
       "        vertical-align: top;\n",
       "    }\n",
       "\n",
       "    .dataframe thead tr th {\n",
       "        text-align: left;\n",
       "    }\n",
       "\n",
       "    .dataframe thead tr:last-of-type th {\n",
       "        text-align: right;\n",
       "    }\n",
       "</style>\n",
       "<table border=\"1\" class=\"dataframe\">\n",
       "  <thead>\n",
       "    <tr>\n",
       "      <th></th>\n",
       "      <th colspan=\"3\" halign=\"left\">SALARIO</th>\n",
       "    </tr>\n",
       "    <tr>\n",
       "      <th>NIVEL</th>\n",
       "      <th>Júnior</th>\n",
       "      <th>Pleno</th>\n",
       "      <th>Sênior</th>\n",
       "    </tr>\n",
       "    <tr>\n",
       "      <th>GENERO</th>\n",
       "      <th></th>\n",
       "      <th></th>\n",
       "      <th></th>\n",
       "    </tr>\n",
       "  </thead>\n",
       "  <tbody>\n",
       "    <tr>\n",
       "      <th>Feminino</th>\n",
       "      <td>4000.81</td>\n",
       "      <td>8039.93</td>\n",
       "      <td>11746.87</td>\n",
       "    </tr>\n",
       "    <tr>\n",
       "      <th>Masculino</th>\n",
       "      <td>3915.25</td>\n",
       "      <td>8469.88</td>\n",
       "      <td>15936.83</td>\n",
       "    </tr>\n",
       "    <tr>\n",
       "      <th>Prefiro não informar</th>\n",
       "      <td>2701.00</td>\n",
       "      <td>8458.75</td>\n",
       "      <td>10174.00</td>\n",
       "    </tr>\n",
       "  </tbody>\n",
       "</table>\n",
       "</div>"
      ],
      "text/plain": [
       "                      SALARIO                   \n",
       "NIVEL                  Júnior    Pleno    Sênior\n",
       "GENERO                                          \n",
       "Feminino              4000.81  8039.93  11746.87\n",
       "Masculino             3915.25  8469.88  15936.83\n",
       "Prefiro não informar  2701.00  8458.75  10174.00"
      ]
     },
     "execution_count": 11,
     "metadata": {},
     "output_type": "execute_result"
    }
   ],
   "source": [
    "pd.pivot_table(dados, values = ['SALARIO'], index = ['GENERO'], columns = ['NIVEL'], aggfunc='mean').round(2)"
   ]
  },
  {
   "cell_type": "markdown",
   "id": "0ac0c48f",
   "metadata": {},
   "source": [
    "## Dados Faltantes"
   ]
  },
  {
   "cell_type": "markdown",
   "id": "1f4e1b20",
   "metadata": {},
   "source": [
    "### Gênero"
   ]
  },
  {
   "cell_type": "code",
   "execution_count": 12,
   "id": "33218a8a",
   "metadata": {},
   "outputs": [
    {
     "data": {
      "text/plain": [
       "GENERO\n",
       "Feminino                1055\n",
       "Masculino               3194\n",
       "Prefiro não informar      12\n",
       "NaN                        9\n",
       "Name: ID, dtype: int64"
      ]
     },
     "execution_count": 12,
     "metadata": {},
     "output_type": "execute_result"
    }
   ],
   "source": [
    "dados.groupby('GENERO', dropna= False)['ID'].nunique()"
   ]
  },
  {
   "cell_type": "markdown",
   "id": "5b49279b",
   "metadata": {},
   "source": [
    "podemos preencher os nulos por 'Prefiro não informar'"
   ]
  },
  {
   "cell_type": "code",
   "execution_count": 13,
   "id": "b5f4d00e",
   "metadata": {},
   "outputs": [],
   "source": [
    "dados['GENERO'] = dados['GENERO'].fillna('Prefiro não informar')"
   ]
  },
  {
   "cell_type": "code",
   "execution_count": 14,
   "id": "bbcdb523",
   "metadata": {},
   "outputs": [
    {
     "data": {
      "text/plain": [
       "GENERO\n",
       "Feminino                1055\n",
       "Masculino               3194\n",
       "Prefiro não informar      21\n",
       "Name: ID, dtype: int64"
      ]
     },
     "execution_count": 14,
     "metadata": {},
     "output_type": "execute_result"
    }
   ],
   "source": [
    "dados.groupby('GENERO', dropna= False)['ID'].nunique()"
   ]
  },
  {
   "cell_type": "markdown",
   "id": "da75341e",
   "metadata": {},
   "source": [
    "### Idade"
   ]
  },
  {
   "cell_type": "code",
   "execution_count": 15,
   "id": "938ebc0a",
   "metadata": {},
   "outputs": [
    {
     "data": {
      "text/plain": [
       "IDADE\n",
       "False    4197\n",
       "True       74\n",
       "Name: count, dtype: int64"
      ]
     },
     "execution_count": 15,
     "metadata": {},
     "output_type": "execute_result"
    }
   ],
   "source": [
    "dados['IDADE'].isnull().value_counts()"
   ]
  },
  {
   "cell_type": "code",
   "execution_count": 16,
   "id": "a19ca880",
   "metadata": {},
   "outputs": [
    {
     "data": {
      "text/plain": [
       "FAIXA IDADE\n",
       "55+      68\n",
       "17-21     6\n",
       "Name: count, dtype: int64"
      ]
     },
     "execution_count": 16,
     "metadata": {},
     "output_type": "execute_result"
    }
   ],
   "source": [
    "dados[dados['IDADE'].isnull()]['FAIXA IDADE'].value_counts()"
   ]
  },
  {
   "cell_type": "markdown",
   "id": "685f5bb3",
   "metadata": {},
   "source": [
    "temos que há pessoas que não registraram a idade, mas registraram a faixa etária.\n",
    "podemos fazer a média da idade preenchida para cada faixa e preencher os dados faltantes com ela"
   ]
  },
  {
   "cell_type": "code",
   "execution_count": 17,
   "id": "b28b9c88",
   "metadata": {},
   "outputs": [],
   "source": [
    "media_17_21= dados[dados['FAIXA IDADE']== '17-21']['IDADE'].mean()"
   ]
  },
  {
   "cell_type": "code",
   "execution_count": 18,
   "id": "1e8e8b2e",
   "metadata": {},
   "outputs": [],
   "source": [
    "dados.loc[(dados['FAIXA IDADE']== '17-21') & (dados['IDADE'].isnull()), 'IDADE'] = media_17_21"
   ]
  },
  {
   "cell_type": "code",
   "execution_count": 19,
   "id": "eb71e530",
   "metadata": {},
   "outputs": [
    {
     "data": {
      "text/plain": [
       "FAIXA IDADE\n",
       "55+    68\n",
       "Name: count, dtype: int64"
      ]
     },
     "execution_count": 19,
     "metadata": {},
     "output_type": "execute_result"
    }
   ],
   "source": [
    "dados[dados['IDADE'].isnull()]['FAIXA IDADE'].value_counts()"
   ]
  },
  {
   "cell_type": "code",
   "execution_count": 20,
   "id": "80b33d22",
   "metadata": {},
   "outputs": [
    {
     "data": {
      "text/plain": [
       "9      NaN\n",
       "66     NaN\n",
       "96     NaN\n",
       "121    NaN\n",
       "156    NaN\n",
       "        ..\n",
       "4001   NaN\n",
       "4043   NaN\n",
       "4048   NaN\n",
       "4061   NaN\n",
       "4215   NaN\n",
       "Name: IDADE, Length: 68, dtype: float64"
      ]
     },
     "execution_count": 20,
     "metadata": {},
     "output_type": "execute_result"
    }
   ],
   "source": [
    "dados[dados['FAIXA IDADE']== '55+']['IDADE']"
   ]
  },
  {
   "cell_type": "markdown",
   "id": "7094abf8",
   "metadata": {},
   "source": [
    "\n",
    "Ninguém com mais de 55 anos preencheu sua idade, podemos supor que há um erro no formulário.\n",
    "\n",
    "Um estratégia é preencher esses dados com a média geral"
   ]
  },
  {
   "cell_type": "code",
   "execution_count": 21,
   "id": "3961edc7",
   "metadata": {},
   "outputs": [],
   "source": [
    "media_geral = int(dados['IDADE'].mean().round())"
   ]
  },
  {
   "cell_type": "code",
   "execution_count": 22,
   "id": "5f2192af",
   "metadata": {},
   "outputs": [],
   "source": [
    "## substituindo valores\n",
    "dados.loc[(dados['FAIXA IDADE']== '55+') & (dados['IDADE'].isnull()), 'IDADE'] = media_geral"
   ]
  },
  {
   "cell_type": "code",
   "execution_count": 23,
   "id": "81c7b553",
   "metadata": {},
   "outputs": [
    {
     "data": {
      "text/plain": [
       "Series([], Name: count, dtype: int64)"
      ]
     },
     "execution_count": 23,
     "metadata": {},
     "output_type": "execute_result"
    }
   ],
   "source": [
    "# conferindo\n",
    "dados[dados['IDADE'].isnull()]['FAIXA IDADE'].value_counts()"
   ]
  },
  {
   "cell_type": "markdown",
   "id": "cf3e19ab",
   "metadata": {},
   "source": [
    "### Salário"
   ]
  },
  {
   "cell_type": "code",
   "execution_count": 24,
   "id": "c37b4b4b",
   "metadata": {},
   "outputs": [
    {
     "data": {
      "text/html": [
       "<div>\n",
       "<style scoped>\n",
       "    .dataframe tbody tr th:only-of-type {\n",
       "        vertical-align: middle;\n",
       "    }\n",
       "\n",
       "    .dataframe tbody tr th {\n",
       "        vertical-align: top;\n",
       "    }\n",
       "\n",
       "    .dataframe thead th {\n",
       "        text-align: right;\n",
       "    }\n",
       "</style>\n",
       "<table border=\"1\" class=\"dataframe\">\n",
       "  <thead>\n",
       "    <tr style=\"text-align: right;\">\n",
       "      <th></th>\n",
       "      <th>Unnamed: 0</th>\n",
       "      <th>ID</th>\n",
       "      <th>IDADE</th>\n",
       "      <th>FAIXA IDADE</th>\n",
       "      <th>GENERO</th>\n",
       "      <th>COR/RACA/ETNIA</th>\n",
       "      <th>PCD</th>\n",
       "      <th>EXPERIENCIA_PROFISSIONAL_PREJUDICADA</th>\n",
       "      <th>ASPECTOS_PREJUDICADOS</th>\n",
       "      <th>VIVE_NO_BRASIL</th>\n",
       "      <th>...</th>\n",
       "      <th>SETOR</th>\n",
       "      <th>NUMERO DE FUNCIONARIOS</th>\n",
       "      <th>GESTOR?</th>\n",
       "      <th>CARGO COMO GESTOR</th>\n",
       "      <th>CARGO ATUAL</th>\n",
       "      <th>NIVEL</th>\n",
       "      <th>FAIXA SALARIAL</th>\n",
       "      <th>QUANTO TEMPO DE EXPERIÊNCIA NA ÁREA DE DADOS VOCÊ TEM?</th>\n",
       "      <th>QUANTO TEMPO DE EXPERIÊNCIA NA ÁREA DE TI/ENGENHARIA DE SOFTWARE VOCÊ TEVE ANTES DE COMEÇAR A TRABALHAR NA ÁREA DE DADOS?</th>\n",
       "      <th>SALARIO</th>\n",
       "    </tr>\n",
       "  </thead>\n",
       "  <tbody>\n",
       "    <tr>\n",
       "      <th>12</th>\n",
       "      <td>12</td>\n",
       "      <td>zwr9hqcpg513kaopenzwr9hibaqmldto</td>\n",
       "      <td>31.0</td>\n",
       "      <td>30-34</td>\n",
       "      <td>Masculino</td>\n",
       "      <td>Branca</td>\n",
       "      <td>Não</td>\n",
       "      <td>NaN</td>\n",
       "      <td>NaN</td>\n",
       "      <td>True</td>\n",
       "      <td>...</td>\n",
       "      <td>NaN</td>\n",
       "      <td>NaN</td>\n",
       "      <td>NaN</td>\n",
       "      <td>NaN</td>\n",
       "      <td>NaN</td>\n",
       "      <td>NaN</td>\n",
       "      <td>NaN</td>\n",
       "      <td>NaN</td>\n",
       "      <td>NaN</td>\n",
       "      <td>NaN</td>\n",
       "    </tr>\n",
       "    <tr>\n",
       "      <th>28</th>\n",
       "      <td>28</td>\n",
       "      <td>ztgepgj82o9oix0nztgepq2trcay6gpv</td>\n",
       "      <td>24.0</td>\n",
       "      <td>22-24</td>\n",
       "      <td>Feminino</td>\n",
       "      <td>Parda</td>\n",
       "      <td>Não</td>\n",
       "      <td>Sim, acredito que a minha a experiência profis...</td>\n",
       "      <td>Aprovação em processos seletivos/entrevistas</td>\n",
       "      <td>True</td>\n",
       "      <td>...</td>\n",
       "      <td>NaN</td>\n",
       "      <td>NaN</td>\n",
       "      <td>NaN</td>\n",
       "      <td>NaN</td>\n",
       "      <td>NaN</td>\n",
       "      <td>NaN</td>\n",
       "      <td>NaN</td>\n",
       "      <td>NaN</td>\n",
       "      <td>NaN</td>\n",
       "      <td>NaN</td>\n",
       "    </tr>\n",
       "    <tr>\n",
       "      <th>34</th>\n",
       "      <td>34</td>\n",
       "      <td>zsa9i6njd3e594mw0tvlk4zsa9iw86i9</td>\n",
       "      <td>24.0</td>\n",
       "      <td>22-24</td>\n",
       "      <td>Feminino</td>\n",
       "      <td>Branca</td>\n",
       "      <td>Não</td>\n",
       "      <td>Sim, acredito que a minha a experiência profis...</td>\n",
       "      <td>Quantidade de oportunidades de emprego/vagas r...</td>\n",
       "      <td>True</td>\n",
       "      <td>...</td>\n",
       "      <td>NaN</td>\n",
       "      <td>NaN</td>\n",
       "      <td>NaN</td>\n",
       "      <td>NaN</td>\n",
       "      <td>NaN</td>\n",
       "      <td>NaN</td>\n",
       "      <td>NaN</td>\n",
       "      <td>NaN</td>\n",
       "      <td>NaN</td>\n",
       "      <td>NaN</td>\n",
       "    </tr>\n",
       "    <tr>\n",
       "      <th>39</th>\n",
       "      <td>39</td>\n",
       "      <td>zr4b2vm7dapp3linwqwn7zr4b2vmagqx</td>\n",
       "      <td>32.0</td>\n",
       "      <td>30-34</td>\n",
       "      <td>Masculino</td>\n",
       "      <td>Parda</td>\n",
       "      <td>Não</td>\n",
       "      <td>Não acredito que minha experiência profissiona...</td>\n",
       "      <td>NaN</td>\n",
       "      <td>True</td>\n",
       "      <td>...</td>\n",
       "      <td>NaN</td>\n",
       "      <td>NaN</td>\n",
       "      <td>NaN</td>\n",
       "      <td>NaN</td>\n",
       "      <td>NaN</td>\n",
       "      <td>NaN</td>\n",
       "      <td>NaN</td>\n",
       "      <td>NaN</td>\n",
       "      <td>NaN</td>\n",
       "      <td>NaN</td>\n",
       "    </tr>\n",
       "    <tr>\n",
       "      <th>63</th>\n",
       "      <td>63</td>\n",
       "      <td>zm7o5yquakof0j6zm7vh3o0letznhdvh</td>\n",
       "      <td>26.0</td>\n",
       "      <td>25-29</td>\n",
       "      <td>Masculino</td>\n",
       "      <td>Branca</td>\n",
       "      <td>Não</td>\n",
       "      <td>NaN</td>\n",
       "      <td>NaN</td>\n",
       "      <td>True</td>\n",
       "      <td>...</td>\n",
       "      <td>NaN</td>\n",
       "      <td>NaN</td>\n",
       "      <td>NaN</td>\n",
       "      <td>NaN</td>\n",
       "      <td>NaN</td>\n",
       "      <td>NaN</td>\n",
       "      <td>NaN</td>\n",
       "      <td>NaN</td>\n",
       "      <td>NaN</td>\n",
       "      <td>NaN</td>\n",
       "    </tr>\n",
       "    <tr>\n",
       "      <th>...</th>\n",
       "      <td>...</td>\n",
       "      <td>...</td>\n",
       "      <td>...</td>\n",
       "      <td>...</td>\n",
       "      <td>...</td>\n",
       "      <td>...</td>\n",
       "      <td>...</td>\n",
       "      <td>...</td>\n",
       "      <td>...</td>\n",
       "      <td>...</td>\n",
       "      <td>...</td>\n",
       "      <td>...</td>\n",
       "      <td>...</td>\n",
       "      <td>...</td>\n",
       "      <td>...</td>\n",
       "      <td>...</td>\n",
       "      <td>...</td>\n",
       "      <td>...</td>\n",
       "      <td>...</td>\n",
       "      <td>...</td>\n",
       "      <td>...</td>\n",
       "    </tr>\n",
       "    <tr>\n",
       "      <th>4242</th>\n",
       "      <td>4242</td>\n",
       "      <td>09oxwp6lsdwhw09ox1uobuxa8cq2pzma</td>\n",
       "      <td>26.0</td>\n",
       "      <td>25-29</td>\n",
       "      <td>Masculino</td>\n",
       "      <td>Branca</td>\n",
       "      <td>Não</td>\n",
       "      <td>NaN</td>\n",
       "      <td>NaN</td>\n",
       "      <td>True</td>\n",
       "      <td>...</td>\n",
       "      <td>NaN</td>\n",
       "      <td>NaN</td>\n",
       "      <td>NaN</td>\n",
       "      <td>NaN</td>\n",
       "      <td>NaN</td>\n",
       "      <td>NaN</td>\n",
       "      <td>NaN</td>\n",
       "      <td>NaN</td>\n",
       "      <td>NaN</td>\n",
       "      <td>NaN</td>\n",
       "    </tr>\n",
       "    <tr>\n",
       "      <th>4252</th>\n",
       "      <td>4252</td>\n",
       "      <td>064pe9b1htw7mflhif064pe95dotv6yf</td>\n",
       "      <td>39.0</td>\n",
       "      <td>35-39</td>\n",
       "      <td>Masculino</td>\n",
       "      <td>Parda</td>\n",
       "      <td>Não</td>\n",
       "      <td>Não acredito que minha experiência profissiona...</td>\n",
       "      <td>NaN</td>\n",
       "      <td>True</td>\n",
       "      <td>...</td>\n",
       "      <td>NaN</td>\n",
       "      <td>NaN</td>\n",
       "      <td>NaN</td>\n",
       "      <td>NaN</td>\n",
       "      <td>NaN</td>\n",
       "      <td>NaN</td>\n",
       "      <td>NaN</td>\n",
       "      <td>NaN</td>\n",
       "      <td>NaN</td>\n",
       "      <td>NaN</td>\n",
       "    </tr>\n",
       "    <tr>\n",
       "      <th>4258</th>\n",
       "      <td>4258</td>\n",
       "      <td>03zjgijmnwv9qrlzbr03zjgij1eae1hw</td>\n",
       "      <td>25.0</td>\n",
       "      <td>25-29</td>\n",
       "      <td>Feminino</td>\n",
       "      <td>Branca</td>\n",
       "      <td>Não</td>\n",
       "      <td>Sim, acredito que a minha a experiência profis...</td>\n",
       "      <td>Senioridade das vagas recebidas em relação à s...</td>\n",
       "      <td>True</td>\n",
       "      <td>...</td>\n",
       "      <td>NaN</td>\n",
       "      <td>NaN</td>\n",
       "      <td>NaN</td>\n",
       "      <td>NaN</td>\n",
       "      <td>NaN</td>\n",
       "      <td>NaN</td>\n",
       "      <td>NaN</td>\n",
       "      <td>NaN</td>\n",
       "      <td>NaN</td>\n",
       "      <td>NaN</td>\n",
       "    </tr>\n",
       "    <tr>\n",
       "      <th>4260</th>\n",
       "      <td>4260</td>\n",
       "      <td>03atvow8404tatt2iixjds03atvownkz</td>\n",
       "      <td>36.0</td>\n",
       "      <td>35-39</td>\n",
       "      <td>Masculino</td>\n",
       "      <td>Parda</td>\n",
       "      <td>Não</td>\n",
       "      <td>Não acredito que minha experiência profissiona...</td>\n",
       "      <td>NaN</td>\n",
       "      <td>True</td>\n",
       "      <td>...</td>\n",
       "      <td>NaN</td>\n",
       "      <td>NaN</td>\n",
       "      <td>NaN</td>\n",
       "      <td>NaN</td>\n",
       "      <td>NaN</td>\n",
       "      <td>NaN</td>\n",
       "      <td>NaN</td>\n",
       "      <td>NaN</td>\n",
       "      <td>NaN</td>\n",
       "      <td>NaN</td>\n",
       "    </tr>\n",
       "    <tr>\n",
       "      <th>4261</th>\n",
       "      <td>4261</td>\n",
       "      <td>02xomoejng6c9152kde02xomww412qpg</td>\n",
       "      <td>33.0</td>\n",
       "      <td>30-34</td>\n",
       "      <td>Masculino</td>\n",
       "      <td>Branca</td>\n",
       "      <td>Não</td>\n",
       "      <td>NaN</td>\n",
       "      <td>NaN</td>\n",
       "      <td>True</td>\n",
       "      <td>...</td>\n",
       "      <td>NaN</td>\n",
       "      <td>NaN</td>\n",
       "      <td>NaN</td>\n",
       "      <td>NaN</td>\n",
       "      <td>NaN</td>\n",
       "      <td>NaN</td>\n",
       "      <td>NaN</td>\n",
       "      <td>NaN</td>\n",
       "      <td>NaN</td>\n",
       "      <td>NaN</td>\n",
       "    </tr>\n",
       "  </tbody>\n",
       "</table>\n",
       "<p>577 rows × 28 columns</p>\n",
       "</div>"
      ],
      "text/plain": [
       "      Unnamed: 0                                ID  IDADE FAIXA IDADE  \\\n",
       "12            12  zwr9hqcpg513kaopenzwr9hibaqmldto   31.0       30-34   \n",
       "28            28  ztgepgj82o9oix0nztgepq2trcay6gpv   24.0       22-24   \n",
       "34            34  zsa9i6njd3e594mw0tvlk4zsa9iw86i9   24.0       22-24   \n",
       "39            39  zr4b2vm7dapp3linwqwn7zr4b2vmagqx   32.0       30-34   \n",
       "63            63  zm7o5yquakof0j6zm7vh3o0letznhdvh   26.0       25-29   \n",
       "...          ...                               ...    ...         ...   \n",
       "4242        4242  09oxwp6lsdwhw09ox1uobuxa8cq2pzma   26.0       25-29   \n",
       "4252        4252  064pe9b1htw7mflhif064pe95dotv6yf   39.0       35-39   \n",
       "4258        4258  03zjgijmnwv9qrlzbr03zjgij1eae1hw   25.0       25-29   \n",
       "4260        4260  03atvow8404tatt2iixjds03atvownkz   36.0       35-39   \n",
       "4261        4261  02xomoejng6c9152kde02xomww412qpg   33.0       30-34   \n",
       "\n",
       "         GENERO COR/RACA/ETNIA  PCD  \\\n",
       "12    Masculino         Branca  Não   \n",
       "28     Feminino          Parda  Não   \n",
       "34     Feminino         Branca  Não   \n",
       "39    Masculino          Parda  Não   \n",
       "63    Masculino         Branca  Não   \n",
       "...         ...            ...  ...   \n",
       "4242  Masculino         Branca  Não   \n",
       "4252  Masculino          Parda  Não   \n",
       "4258   Feminino         Branca  Não   \n",
       "4260  Masculino          Parda  Não   \n",
       "4261  Masculino         Branca  Não   \n",
       "\n",
       "                   EXPERIENCIA_PROFISSIONAL_PREJUDICADA  \\\n",
       "12                                                  NaN   \n",
       "28    Sim, acredito que a minha a experiência profis...   \n",
       "34    Sim, acredito que a minha a experiência profis...   \n",
       "39    Não acredito que minha experiência profissiona...   \n",
       "63                                                  NaN   \n",
       "...                                                 ...   \n",
       "4242                                                NaN   \n",
       "4252  Não acredito que minha experiência profissiona...   \n",
       "4258  Sim, acredito que a minha a experiência profis...   \n",
       "4260  Não acredito que minha experiência profissiona...   \n",
       "4261                                                NaN   \n",
       "\n",
       "                                  ASPECTOS_PREJUDICADOS  VIVE_NO_BRASIL  ...  \\\n",
       "12                                                  NaN            True  ...   \n",
       "28         Aprovação em processos seletivos/entrevistas            True  ...   \n",
       "34    Quantidade de oportunidades de emprego/vagas r...            True  ...   \n",
       "39                                                  NaN            True  ...   \n",
       "63                                                  NaN            True  ...   \n",
       "...                                                 ...             ...  ...   \n",
       "4242                                                NaN            True  ...   \n",
       "4252                                                NaN            True  ...   \n",
       "4258  Senioridade das vagas recebidas em relação à s...            True  ...   \n",
       "4260                                                NaN            True  ...   \n",
       "4261                                                NaN            True  ...   \n",
       "\n",
       "     SETOR NUMERO DE FUNCIONARIOS GESTOR?  CARGO COMO GESTOR CARGO ATUAL  \\\n",
       "12     NaN                    NaN     NaN                NaN         NaN   \n",
       "28     NaN                    NaN     NaN                NaN         NaN   \n",
       "34     NaN                    NaN     NaN                NaN         NaN   \n",
       "39     NaN                    NaN     NaN                NaN         NaN   \n",
       "63     NaN                    NaN     NaN                NaN         NaN   \n",
       "...    ...                    ...     ...                ...         ...   \n",
       "4242   NaN                    NaN     NaN                NaN         NaN   \n",
       "4252   NaN                    NaN     NaN                NaN         NaN   \n",
       "4258   NaN                    NaN     NaN                NaN         NaN   \n",
       "4260   NaN                    NaN     NaN                NaN         NaN   \n",
       "4261   NaN                    NaN     NaN                NaN         NaN   \n",
       "\n",
       "     NIVEL FAIXA SALARIAL  \\\n",
       "12     NaN            NaN   \n",
       "28     NaN            NaN   \n",
       "34     NaN            NaN   \n",
       "39     NaN            NaN   \n",
       "63     NaN            NaN   \n",
       "...    ...            ...   \n",
       "4242   NaN            NaN   \n",
       "4252   NaN            NaN   \n",
       "4258   NaN            NaN   \n",
       "4260   NaN            NaN   \n",
       "4261   NaN            NaN   \n",
       "\n",
       "     QUANTO TEMPO DE EXPERIÊNCIA NA ÁREA DE DADOS VOCÊ TEM?  \\\n",
       "12                                                  NaN       \n",
       "28                                                  NaN       \n",
       "34                                                  NaN       \n",
       "39                                                  NaN       \n",
       "63                                                  NaN       \n",
       "...                                                 ...       \n",
       "4242                                                NaN       \n",
       "4252                                                NaN       \n",
       "4258                                                NaN       \n",
       "4260                                                NaN       \n",
       "4261                                                NaN       \n",
       "\n",
       "     QUANTO TEMPO DE EXPERIÊNCIA NA ÁREA DE TI/ENGENHARIA DE SOFTWARE VOCÊ TEVE ANTES DE COMEÇAR A TRABALHAR NA ÁREA DE DADOS?  \\\n",
       "12                                                  NaN                                                                          \n",
       "28                                                  NaN                                                                          \n",
       "34                                                  NaN                                                                          \n",
       "39                                                  NaN                                                                          \n",
       "63                                                  NaN                                                                          \n",
       "...                                                 ...                                                                          \n",
       "4242                                                NaN                                                                          \n",
       "4252                                                NaN                                                                          \n",
       "4258                                                NaN                                                                          \n",
       "4260                                                NaN                                                                          \n",
       "4261                                                NaN                                                                          \n",
       "\n",
       "     SALARIO  \n",
       "12       NaN  \n",
       "28       NaN  \n",
       "34       NaN  \n",
       "39       NaN  \n",
       "63       NaN  \n",
       "...      ...  \n",
       "4242     NaN  \n",
       "4252     NaN  \n",
       "4258     NaN  \n",
       "4260     NaN  \n",
       "4261     NaN  \n",
       "\n",
       "[577 rows x 28 columns]"
      ]
     },
     "execution_count": 24,
     "metadata": {},
     "output_type": "execute_result"
    }
   ],
   "source": [
    "dados[dados['SALARIO'].isnull()]"
   ]
  },
  {
   "cell_type": "code",
   "execution_count": 25,
   "id": "fbcd21a3",
   "metadata": {},
   "outputs": [
    {
     "data": {
      "text/plain": [
       "Series([], Name: count, dtype: int64)"
      ]
     },
     "execution_count": 25,
     "metadata": {},
     "output_type": "execute_result"
    }
   ],
   "source": [
    "dados[dados['SALARIO'].isnull()]['FAIXA SALARIAL'].value_counts()\n",
    "# quem não preencheu salário, também não preencheu faixa salarial"
   ]
  },
  {
   "cell_type": "code",
   "execution_count": 26,
   "id": "31329150",
   "metadata": {},
   "outputs": [],
   "source": [
    "## completando pela mediana\n",
    "mediana_salario = dados[dados['SALARIO'].notnull()]['SALARIO'].median()"
   ]
  },
  {
   "cell_type": "code",
   "execution_count": 27,
   "id": "0c7e3f05",
   "metadata": {},
   "outputs": [],
   "source": [
    "dados.loc[dados['SALARIO'].isnull(), 'SALARIO'] = mediana_salario"
   ]
  },
  {
   "cell_type": "markdown",
   "id": "789835ab",
   "metadata": {},
   "source": [
    "## Valores Discrepantes (Outliers)"
   ]
  },
  {
   "cell_type": "code",
   "execution_count": 28,
   "id": "f9ff4d19",
   "metadata": {},
   "outputs": [],
   "source": [
    "import matplotlib.pyplot as plt"
   ]
  },
  {
   "cell_type": "code",
   "execution_count": 29,
   "id": "86667a3b",
   "metadata": {},
   "outputs": [
    {
     "data": {
      "text/plain": [
       "{'whiskers': [<matplotlib.lines.Line2D at 0x1a602484dd0>,\n",
       "  <matplotlib.lines.Line2D at 0x1a60263d210>],\n",
       " 'caps': [<matplotlib.lines.Line2D at 0x1a60263de90>,\n",
       "  <matplotlib.lines.Line2D at 0x1a60263ea50>],\n",
       " 'boxes': [<matplotlib.lines.Line2D at 0x1a602617410>],\n",
       " 'medians': [<matplotlib.lines.Line2D at 0x1a60263f590>],\n",
       " 'fliers': [<matplotlib.lines.Line2D at 0x1a602644190>],\n",
       " 'means': []}"
      ]
     },
     "execution_count": 29,
     "metadata": {},
     "output_type": "execute_result"
    },
    {
     "data": {
      "image/png": "[encoded data removed]",
      "text/plain": [
       "<Figure size 640x480 with 1 Axes>"
      ]
     },
     "metadata": {},
     "output_type": "display_data"
    }
   ],
   "source": [
    "plt.boxplot(dados['SALARIO'])"
   ]
  },
  {
   "cell_type": "code",
   "execution_count": 30,
   "id": "9f6df6fe",
   "metadata": {},
   "outputs": [
    {
     "data": {
      "text/plain": [
       "count      4271.000000\n",
       "mean      10517.533482\n",
       "std       18096.210989\n",
       "min          35.000000\n",
       "25%        4751.500000\n",
       "50%        7625.500000\n",
       "75%       11794.500000\n",
       "max      485191.000000\n",
       "Name: SALARIO, dtype: float64"
      ]
     },
     "execution_count": 30,
     "metadata": {},
     "output_type": "execute_result"
    }
   ],
   "source": [
    "dados['SALARIO'].describe()"
   ]
  },
  {
   "cell_type": "code",
   "execution_count": 31,
   "id": "040aa90f",
   "metadata": {},
   "outputs": [],
   "source": [
    "Q3 = dados['SALARIO'].quantile(.25)\n",
    "Q1 = dados['SALARIO'].quantile(.75)\n",
    "IQR = Q3 - Q1\n",
    "limSup = Q3 + (1.5*IQR)\n",
    "limInf = Q1 - (1.5*IQR)"
   ]
  },
  {
   "cell_type": "code",
   "execution_count": 32,
   "id": "8f94e9a8",
   "metadata": {},
   "outputs": [
    {
     "data": {
      "text/plain": [
       "FAIXA SALARIAL\n",
       "de R$ 8.001/mês a R$ 12.000/mês     752\n",
       "de R$ 4.001/mês a R$ 6.000/mês      584\n",
       "de R$ 6.001/mês a R$ 8.000/mês      527\n",
       "de R$ 12.001/mês a R$ 16.000/mês    437\n",
       "de R$ 3.001/mês a R$ 4.000/mês      303\n",
       "de R$ 2.001/mês a R$ 3.000/mês      285\n",
       "de R$ 16.001/mês a R$ 20.000/mês    229\n",
       "de R$ 1.001/mês a R$ 2.000/mês      216\n",
       "de R$ 20.001/mês a R$ 25.000/mês    134\n",
       "de R$ 25.001/mês a R$ 30.000/mês     77\n",
       "de R$ 30.001/mês a R$ 40.000/mês     70\n",
       "Acima de R$ 40.001/mês               45\n",
       "Menos de R$ 1.000/mês                35\n",
       "Name: count, dtype: int64"
      ]
     },
     "execution_count": 32,
     "metadata": {},
     "output_type": "execute_result"
    }
   ],
   "source": [
    "dados['FAIXA SALARIAL'].value_counts()"
   ]
  },
  {
   "cell_type": "code",
   "execution_count": 33,
   "id": "e5f03925",
   "metadata": {},
   "outputs": [],
   "source": [
    "media_salario = dados['SALARIO'].mean()"
   ]
  },
  {
   "cell_type": "code",
   "execution_count": 34,
   "id": "5f56b02e",
   "metadata": {},
   "outputs": [],
   "source": [
    "desvio_salario = dados['SALARIO'].std()"
   ]
  },
  {
   "cell_type": "code",
   "execution_count": 35,
   "id": "fa88195e",
   "metadata": {},
   "outputs": [],
   "source": [
    "limite_superior = media_salario +3*desvio_salario"
   ]
  },
  {
   "cell_type": "code",
   "execution_count": 36,
   "id": "bc9e3dbb",
   "metadata": {},
   "outputs": [
    {
     "data": {
      "text/plain": [
       "64806.166448975964"
      ]
     },
     "execution_count": 36,
     "metadata": {},
     "output_type": "execute_result"
    }
   ],
   "source": [
    "limite_superior"
   ]
  },
  {
   "cell_type": "code",
   "execution_count": 37,
   "id": "328fc403",
   "metadata": {},
   "outputs": [
    {
     "data": {
      "text/plain": [
       "FAIXA SALARIAL\n",
       "Acima de R$ 40.001/mês              19\n",
       "de R$ 30.001/mês a R$ 40.000/mês     3\n",
       "Name: count, dtype: int64"
      ]
     },
     "execution_count": 37,
     "metadata": {},
     "output_type": "execute_result"
    }
   ],
   "source": [
    "dados[dados['SALARIO']> limite_superior]['FAIXA SALARIAL'].value_counts()"
   ]
  },
  {
   "cell_type": "code",
   "execution_count": 38,
   "id": "b87b61ee",
   "metadata": {},
   "outputs": [],
   "source": [
    "media_30_40 = dados[(dados['FAIXA SALARIAL']== 'de R$ 30.001/mês a R$ 40.000/mês')&(dados['SALARIO']<limite_superior)]['SALARIO'].mean()"
   ]
  },
  {
   "cell_type": "code",
   "execution_count": 39,
   "id": "32dd05df",
   "metadata": {},
   "outputs": [],
   "source": [
    "# substituindo os dados discrepante entre 30 e 40k\n",
    "dados.loc[(dados['FAIXA SALARIAL']== 'de R$ 30.001/mês a R$ 40.000/mês')&(dados['SALARIO']>limite_superior), 'SALARIO'] = media_30_40"
   ]
  },
  {
   "cell_type": "code",
   "execution_count": 40,
   "id": "060e5308",
   "metadata": {},
   "outputs": [],
   "source": [
    "media_40 = dados[(dados['FAIXA SALARIAL']== 'Acima de R$ 40.001/mês')&(dados['SALARIO']<limite_superior)]['SALARIO'].mean()\n",
    "dados.loc[(dados['FAIXA SALARIAL']== 'Acima de R$ 40.001/mês')&(dados['SALARIO']>limite_superior), 'SALARIO'] = media_40"
   ]
  },
  {
   "cell_type": "code",
   "execution_count": 41,
   "id": "65cce7e6",
   "metadata": {},
   "outputs": [
    {
     "data": {
      "text/plain": [
       "Series([], Name: count, dtype: int64)"
      ]
     },
     "execution_count": 41,
     "metadata": {},
     "output_type": "execute_result"
    }
   ],
   "source": [
    "## conferindo se ainda tem dados discrepantes\n",
    "dados[dados['SALARIO']> limite_superior]['FAIXA SALARIAL'].value_counts()"
   ]
  },
  {
   "cell_type": "code",
   "execution_count": 42,
   "id": "d15c9f41",
   "metadata": {},
   "outputs": [
    {
     "data": {
      "text/plain": [
       "{'whiskers': [<matplotlib.lines.Line2D at 0x1a6026e79d0>,\n",
       "  <matplotlib.lines.Line2D at 0x1a6026f0690>],\n",
       " 'caps': [<matplotlib.lines.Line2D at 0x1a6026f12d0>,\n",
       "  <matplotlib.lines.Line2D at 0x1a6026f1e10>],\n",
       " 'boxes': [<matplotlib.lines.Line2D at 0x1a6026e6cd0>],\n",
       " 'medians': [<matplotlib.lines.Line2D at 0x1a6026f2850>],\n",
       " 'fliers': [<matplotlib.lines.Line2D at 0x1a6026f3390>],\n",
       " 'means': []}"
      ]
     },
     "execution_count": 42,
     "metadata": {},
     "output_type": "execute_result"
    },
    {
     "data": {
      "image/png": "[encoded data removed]",
      "text/plain": [
       "<Figure size 640x480 with 1 Axes>"
      ]
     },
     "metadata": {},
     "output_type": "display_data"
    }
   ],
   "source": [
    "plt.boxplot(dados['SALARIO'])"
   ]
  },
  {
   "cell_type": "markdown",
   "id": "cc65070c",
   "metadata": {},
   "source": [
    "## Distribuição Amostral e Intervalo de Confiança"
   ]
  },
  {
   "cell_type": "code",
   "execution_count": 45,
   "id": "9ca81c9b",
   "metadata": {},
   "outputs": [],
   "source": [
    "salarios = dados['SALARIO']"
   ]
  },
  {
   "cell_type": "code",
   "execution_count": 46,
   "id": "0899b899",
   "metadata": {},
   "outputs": [
    {
     "data": {
      "text/plain": [
       "9904.390109813306"
      ]
     },
     "execution_count": 46,
     "metadata": {},
     "output_type": "execute_result"
    }
   ],
   "source": [
    "media_amostral = np.mean(salarios)\n",
    "media_amostral"
   ]
  },
  {
   "cell_type": "code",
   "execution_count": 48,
   "id": "d74d97ea",
   "metadata": {},
   "outputs": [
    {
     "data": {
      "text/plain": [
       "8306.104872579352"
      ]
     },
     "execution_count": 48,
     "metadata": {},
     "output_type": "execute_result"
    }
   ],
   "source": [
    "desvio_amostral = np.std(salarios)\n",
    "desvio_amostral"
   ]
  },
  {
   "cell_type": "code",
   "execution_count": 49,
   "id": "dcf4fd1f",
   "metadata": {},
   "outputs": [],
   "source": [
    "# confiança de 95%\n",
    "nivel_confianca = 0.95"
   ]
  },
  {
   "cell_type": "code",
   "execution_count": 50,
   "id": "c254e14f",
   "metadata": {},
   "outputs": [
    {
     "data": {
      "text/plain": [
       "4271"
      ]
     },
     "execution_count": 50,
     "metadata": {},
     "output_type": "execute_result"
    }
   ],
   "source": [
    "tamanho_amostra = len(salarios)\n",
    "tamanho_amostra"
   ]
  },
  {
   "cell_type": "code",
   "execution_count": 51,
   "id": "b2d47a0f",
   "metadata": {},
   "outputs": [],
   "source": [
    "from scipy import stats"
   ]
  },
  {
   "cell_type": "code",
   "execution_count": 52,
   "id": "50bf3a55",
   "metadata": {},
   "outputs": [
    {
     "data": {
      "text/plain": [
       "127.11109872023638"
      ]
     },
     "execution_count": 52,
     "metadata": {},
     "output_type": "execute_result"
    }
   ],
   "source": [
    "erro_padrao = stats.sem(salarios) # calcula o erro médio padrão da amostra\n",
    "erro_padrao"
   ]
  },
  {
   "cell_type": "code",
   "execution_count": 54,
   "id": "5a5fcb2f",
   "metadata": {},
   "outputs": [],
   "source": [
    "grau_liberdade = tamanho_amostra - 1"
   ]
  },
  {
   "cell_type": "code",
   "execution_count": 55,
   "id": "311b32b9",
   "metadata": {},
   "outputs": [
    {
     "data": {
      "text/plain": [
       "(9655.186295869078, 10153.593923757535)"
      ]
     },
     "execution_count": 55,
     "metadata": {},
     "output_type": "execute_result"
    }
   ],
   "source": [
    "intervalo_confianca = stats.t.interval(nivel_confianca,grau_liberdade, loc = media_amostral, scale= erro_padrao)\n",
    "intervalo_confianca"
   ]
  },
  {
   "cell_type": "markdown",
   "id": "485555f5",
   "metadata": {},
   "source": [
    "com 95% de confiança que a média salarial está entre 9655,19 reais e 10153,60 reais"
   ]
  },
  {
   "cell_type": "code",
   "execution_count": 64,
   "id": "5c0e78cb",
   "metadata": {},
   "outputs": [
    {
     "data": {
      "text/plain": [
       "(9485.83782074697, 10322.942398879646)"
      ]
     },
     "execution_count": 64,
     "metadata": {},
     "output_type": "execute_result"
    }
   ],
   "source": [
    "intervalo_confianca = stats.t.interval(0.999,grau_liberdade, loc = media_amostral, scale= erro_padrao)\n",
    "intervalo_confianca"
   ]
  },
  {
   "cell_type": "code",
   "execution_count": 65,
   "id": "355abe62",
   "metadata": {},
   "outputs": [
    {
     "data": {
      "text/plain": [
       "(9772.631922207403, 10036.14829741921)"
      ]
     },
     "execution_count": 65,
     "metadata": {},
     "output_type": "execute_result"
    }
   ],
   "source": [
    "intervalo_confianca = stats.t.interval(0.70,grau_liberdade, loc = media_amostral, scale= erro_padrao)\n",
    "intervalo_confianca"
   ]
  },
  {
   "cell_type": "code",
   "execution_count": null,
   "id": "3e82add0",
   "metadata": {},
   "outputs": [],
   "source": []
  }
 ],
 "metadata": {
  "kernelspec": {
   "display_name": "Python 3",
   "language": "python",
   "name": "python3"
  },
  "language_info": {
   "codemirror_mode": {
    "name": "ipython",
    "version": 3
   },
   "file_extension": ".py",
   "mimetype": "text/x-python",
   "name": "python",
   "nbconvert_exporter": "python",
   "pygments_lexer": "ipython3",
   "version": "3.11.9"
  }
 },
 "nbformat": 4,
 "nbformat_minor": 5
}
