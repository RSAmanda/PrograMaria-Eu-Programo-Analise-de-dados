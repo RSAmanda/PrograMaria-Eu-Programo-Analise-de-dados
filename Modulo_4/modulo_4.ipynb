{
 "cells": [
  {
   "cell_type": "markdown",
   "id": "7591ac7d",
   "metadata": {},
   "source": [
    "# Módulo 4 - Estatística Básica"
   ]
  },
  {
   "cell_type": "code",
   "execution_count": 2,
   "id": "02c53add",
   "metadata": {},
   "outputs": [],
   "source": [
    "# importando bibliotecas\n",
    "import pandas as pd\n",
    "import numpy as np"
   ]
  },
  {
   "cell_type": "code",
   "execution_count": 7,
   "id": "0137fb30",
   "metadata": {},
   "outputs": [],
   "source": [
    "# Importando os dados\n",
    "dados = pd.read_excel('../Modulo_3/planilha_modulo3.xlsx', engine=\"openpyxl\")"
   ]
  },
  {
   "cell_type": "markdown",
   "id": "bdaf297e",
   "metadata": {},
   "source": [
    "## Média, Mediana, Moda, Desvio Padrão, Máximo e Mínimo"
   ]
  },
  {
   "cell_type": "code",
   "execution_count": 5,
   "id": "42277ab1",
   "metadata": {},
   "outputs": [],
   "source": [
    "media_idade = dados['IDADE'].mean()"
   ]
  },
  {
   "cell_type": "code",
   "execution_count": 6,
   "id": "e71b002c",
   "metadata": {},
   "outputs": [],
   "source": [
    "mediana_idade = dados['IDADE'].median()"
   ]
  },
  {
   "cell_type": "code",
   "execution_count": 7,
   "id": "125138f8",
   "metadata": {},
   "outputs": [],
   "source": [
    "moda_idade = dados[\"IDADE\"].mode()"
   ]
  },
  {
   "cell_type": "code",
   "execution_count": 8,
   "id": "abf53d2a",
   "metadata": {},
   "outputs": [],
   "source": [
    "desvio_padrao_idade = dados[\"IDADE\"].std()"
   ]
  },
  {
   "cell_type": "code",
   "execution_count": 12,
   "id": "68f4adf9",
   "metadata": {},
   "outputs": [],
   "source": [
    "min_idade = dados[\"IDADE\"].min()"
   ]
  },
  {
   "cell_type": "code",
   "execution_count": 13,
   "id": "d41f43b0",
   "metadata": {},
   "outputs": [],
   "source": [
    "max_idade = dados[\"IDADE\"].max()"
   ]
  },
  {
   "cell_type": "code",
   "execution_count": 19,
   "id": "45fc5f42",
   "metadata": {},
   "outputs": [
    {
     "name": "stdout",
     "output_type": "stream",
     "text": [
      "Análise das Idades\n",
      "MÉDIA         31.0\n",
      "MEDIANA       30.0\n",
      "MODA          0    27.0\n",
      "Name: IDADE, dtype: float64\n",
      "DESVIO PADRÃO 7.0\n",
      "MÁXIMO        54.0\n",
      "MÍNIMO        18.0\n"
     ]
    }
   ],
   "source": [
    "print('Análise das Idades')\n",
    "print('MÉDIA        ', media_idade.round())\n",
    "print('MEDIANA      ', mediana_idade.round())\n",
    "print('MODA         ', moda_idade)\n",
    "print('DESVIO PADRÃO', desvio_padrao_idade.round())\n",
    "print('MÁXIMO       ', max_idade.round())\n",
    "print('MÍNIMO       ', min_idade.round())"
   ]
  },
  {
   "cell_type": "code",
   "execution_count": 24,
   "id": "2128b185",
   "metadata": {},
   "outputs": [
    {
     "data": {
      "text/html": [
       "<div>\n",
       "<style scoped>\n",
       "    .dataframe tbody tr th:only-of-type {\n",
       "        vertical-align: middle;\n",
       "    }\n",
       "\n",
       "    .dataframe tbody tr th {\n",
       "        vertical-align: top;\n",
       "    }\n",
       "\n",
       "    .dataframe thead tr th {\n",
       "        text-align: left;\n",
       "    }\n",
       "\n",
       "    .dataframe thead tr:last-of-type th {\n",
       "        text-align: right;\n",
       "    }\n",
       "</style>\n",
       "<table border=\"1\" class=\"dataframe\">\n",
       "  <thead>\n",
       "    <tr>\n",
       "      <th></th>\n",
       "      <th colspan=\"3\" halign=\"left\">IDADE</th>\n",
       "    </tr>\n",
       "    <tr>\n",
       "      <th>NIVEL</th>\n",
       "      <th>Júnior</th>\n",
       "      <th>Pleno</th>\n",
       "      <th>Sênior</th>\n",
       "    </tr>\n",
       "    <tr>\n",
       "      <th>GENERO</th>\n",
       "      <th></th>\n",
       "      <th></th>\n",
       "      <th></th>\n",
       "    </tr>\n",
       "  </thead>\n",
       "  <tbody>\n",
       "    <tr>\n",
       "      <th>Feminino</th>\n",
       "      <td>29.32</td>\n",
       "      <td>30.42</td>\n",
       "      <td>33.22</td>\n",
       "    </tr>\n",
       "    <tr>\n",
       "      <th>Masculino</th>\n",
       "      <td>27.46</td>\n",
       "      <td>30.07</td>\n",
       "      <td>33.30</td>\n",
       "    </tr>\n",
       "    <tr>\n",
       "      <th>Prefiro não informar</th>\n",
       "      <td>24.50</td>\n",
       "      <td>27.25</td>\n",
       "      <td>30.00</td>\n",
       "    </tr>\n",
       "  </tbody>\n",
       "</table>\n",
       "</div>"
      ],
      "text/plain": [
       "                      IDADE              \n",
       "NIVEL                Júnior  Pleno Sênior\n",
       "GENERO                                   \n",
       "Feminino              29.32  30.42  33.22\n",
       "Masculino             27.46  30.07  33.30\n",
       "Prefiro não informar  24.50  27.25  30.00"
      ]
     },
     "execution_count": 24,
     "metadata": {},
     "output_type": "execute_result"
    }
   ],
   "source": [
    "pd.pivot_table(dados, values = ['IDADE'], index = ['GENERO'], columns = ['NIVEL'], aggfunc='mean').round(2)"
   ]
  },
  {
   "cell_type": "code",
   "execution_count": 23,
   "id": "fa8bcf94",
   "metadata": {},
   "outputs": [
    {
     "data": {
      "text/html": [
       "<div>\n",
       "<style scoped>\n",
       "    .dataframe tbody tr th:only-of-type {\n",
       "        vertical-align: middle;\n",
       "    }\n",
       "\n",
       "    .dataframe tbody tr th {\n",
       "        vertical-align: top;\n",
       "    }\n",
       "\n",
       "    .dataframe thead tr th {\n",
       "        text-align: left;\n",
       "    }\n",
       "\n",
       "    .dataframe thead tr:last-of-type th {\n",
       "        text-align: right;\n",
       "    }\n",
       "</style>\n",
       "<table border=\"1\" class=\"dataframe\">\n",
       "  <thead>\n",
       "    <tr>\n",
       "      <th></th>\n",
       "      <th colspan=\"3\" halign=\"left\">SALARIO</th>\n",
       "    </tr>\n",
       "    <tr>\n",
       "      <th>NIVEL</th>\n",
       "      <th>Júnior</th>\n",
       "      <th>Pleno</th>\n",
       "      <th>Sênior</th>\n",
       "    </tr>\n",
       "    <tr>\n",
       "      <th>GENERO</th>\n",
       "      <th></th>\n",
       "      <th></th>\n",
       "      <th></th>\n",
       "    </tr>\n",
       "  </thead>\n",
       "  <tbody>\n",
       "    <tr>\n",
       "      <th>Feminino</th>\n",
       "      <td>4000.81</td>\n",
       "      <td>8039.93</td>\n",
       "      <td>11746.87</td>\n",
       "    </tr>\n",
       "    <tr>\n",
       "      <th>Masculino</th>\n",
       "      <td>3915.25</td>\n",
       "      <td>8469.88</td>\n",
       "      <td>15936.83</td>\n",
       "    </tr>\n",
       "    <tr>\n",
       "      <th>Prefiro não informar</th>\n",
       "      <td>2701.00</td>\n",
       "      <td>8458.75</td>\n",
       "      <td>10174.00</td>\n",
       "    </tr>\n",
       "  </tbody>\n",
       "</table>\n",
       "</div>"
      ],
      "text/plain": [
       "                      SALARIO                   \n",
       "NIVEL                  Júnior    Pleno    Sênior\n",
       "GENERO                                          \n",
       "Feminino              4000.81  8039.93  11746.87\n",
       "Masculino             3915.25  8469.88  15936.83\n",
       "Prefiro não informar  2701.00  8458.75  10174.00"
      ]
     },
     "execution_count": 23,
     "metadata": {},
     "output_type": "execute_result"
    }
   ],
   "source": [
    "pd.pivot_table(dados, values = ['SALARIO'], index = ['GENERO'], columns = ['NIVEL'], aggfunc='mean').round(2)"
   ]
  },
  {
   "cell_type": "markdown",
   "id": "0ac0c48f",
   "metadata": {},
   "source": [
    "## Dados Faltantes"
   ]
  },
  {
   "cell_type": "markdown",
   "id": "1f4e1b20",
   "metadata": {},
   "source": [
    "### Gênero"
   ]
  },
  {
   "cell_type": "code",
   "execution_count": 9,
   "id": "33218a8a",
   "metadata": {},
   "outputs": [
    {
     "data": {
      "text/plain": [
       "GENERO\n",
       "Feminino                1055\n",
       "Masculino               3194\n",
       "Prefiro não informar      12\n",
       "NaN                        9\n",
       "Name: ID, dtype: int64"
      ]
     },
     "execution_count": 9,
     "metadata": {},
     "output_type": "execute_result"
    }
   ],
   "source": [
    "dados.groupby('GENERO', dropna= False)['ID'].nunique()"
   ]
  },
  {
   "cell_type": "markdown",
   "id": "5b49279b",
   "metadata": {},
   "source": [
    "podemos preencher os nulos por 'Prefiro não informar'"
   ]
  },
  {
   "cell_type": "code",
   "execution_count": 10,
   "id": "b5f4d00e",
   "metadata": {},
   "outputs": [],
   "source": [
    "dados['GENERO'] = dados['GENERO'].fillna('Prefiro não informar')"
   ]
  },
  {
   "cell_type": "code",
   "execution_count": 11,
   "id": "bbcdb523",
   "metadata": {},
   "outputs": [
    {
     "data": {
      "text/plain": [
       "GENERO\n",
       "Feminino                1055\n",
       "Masculino               3194\n",
       "Prefiro não informar      21\n",
       "Name: ID, dtype: int64"
      ]
     },
     "execution_count": 11,
     "metadata": {},
     "output_type": "execute_result"
    }
   ],
   "source": [
    "dados.groupby('GENERO', dropna= False)['ID'].nunique()"
   ]
  },
  {
   "cell_type": "markdown",
   "id": "da75341e",
   "metadata": {},
   "source": [
    "### Idade"
   ]
  },
  {
   "cell_type": "code",
   "execution_count": 12,
   "id": "938ebc0a",
   "metadata": {},
   "outputs": [
    {
     "data": {
      "text/plain": [
       "IDADE\n",
       "False    4197\n",
       "True       74\n",
       "Name: count, dtype: int64"
      ]
     },
     "execution_count": 12,
     "metadata": {},
     "output_type": "execute_result"
    }
   ],
   "source": [
    "dados['IDADE'].isnull().value_counts()"
   ]
  },
  {
   "cell_type": "code",
   "execution_count": 13,
   "id": "a19ca880",
   "metadata": {},
   "outputs": [
    {
     "data": {
      "text/plain": [
       "FAIXA IDADE\n",
       "55+      68\n",
       "17-21     6\n",
       "Name: count, dtype: int64"
      ]
     },
     "execution_count": 13,
     "metadata": {},
     "output_type": "execute_result"
    }
   ],
   "source": [
    "dados[dados['IDADE'].isnull()]['FAIXA IDADE'].value_counts()"
   ]
  },
  {
   "cell_type": "markdown",
   "id": "685f5bb3",
   "metadata": {},
   "source": [
    "temos que há pessoas que não registraram a idade, mas registraram a faixa etária.\n",
    "podemos fazer a média da idade preenchida para cada faixa e preencher os dados faltantes com ela"
   ]
  },
  {
   "cell_type": "code",
   "execution_count": 28,
   "id": "b28b9c88",
   "metadata": {},
   "outputs": [],
   "source": [
    "media_17_21= dados[dados['FAIXA IDADE']== '17-21']['IDADE'].mean()"
   ]
  },
  {
   "cell_type": "code",
   "execution_count": 30,
   "id": "1e8e8b2e",
   "metadata": {},
   "outputs": [],
   "source": [
    "dados.loc[(dados['FAIXA IDADE']== '17-21') & (dados['IDADE'].isnull()), 'IDADE'] = media_17_21"
   ]
  },
  {
   "cell_type": "code",
   "execution_count": 31,
   "id": "eb71e530",
   "metadata": {},
   "outputs": [
    {
     "data": {
      "text/plain": [
       "FAIXA IDADE\n",
       "55+    68\n",
       "Name: count, dtype: int64"
      ]
     },
     "execution_count": 31,
     "metadata": {},
     "output_type": "execute_result"
    }
   ],
   "source": [
    "dados[dados['IDADE'].isnull()]['FAIXA IDADE'].value_counts()"
   ]
  },
  {
   "cell_type": "code",
   "execution_count": 32,
   "id": "80b33d22",
   "metadata": {},
   "outputs": [
    {
     "data": {
      "text/plain": [
       "9      NaN\n",
       "66     NaN\n",
       "96     NaN\n",
       "121    NaN\n",
       "156    NaN\n",
       "        ..\n",
       "4001   NaN\n",
       "4043   NaN\n",
       "4048   NaN\n",
       "4061   NaN\n",
       "4215   NaN\n",
       "Name: IDADE, Length: 68, dtype: float64"
      ]
     },
     "execution_count": 32,
     "metadata": {},
     "output_type": "execute_result"
    }
   ],
   "source": [
    "dados[dados['FAIXA IDADE']== '55+']['IDADE']"
   ]
  },
  {
   "cell_type": "markdown",
   "id": "7094abf8",
   "metadata": {},
   "source": [
    "\n",
    "Ninguém com mais de 55 anos preencheu sua idade, podemos supor que há um erro no formulário.\n",
    "\n",
    "Um estratégia é preencher esses dados com a média geral"
   ]
  },
  {
   "cell_type": "code",
   "execution_count": 36,
   "id": "3961edc7",
   "metadata": {},
   "outputs": [],
   "source": [
    "media_geral = int(dados['IDADE'].mean().round())"
   ]
  },
  {
   "cell_type": "code",
   "execution_count": 40,
   "id": "5f2192af",
   "metadata": {},
   "outputs": [],
   "source": [
    "## substituindo valores\n",
    "dados.loc[(dados['FAIXA IDADE']== '55+') & (dados['IDADE'].isnull()), 'IDADE'] = media_geral"
   ]
  },
  {
   "cell_type": "code",
   "execution_count": 41,
   "id": "81c7b553",
   "metadata": {},
   "outputs": [
    {
     "data": {
      "text/plain": [
       "Series([], Name: count, dtype: int64)"
      ]
     },
     "execution_count": 41,
     "metadata": {},
     "output_type": "execute_result"
    }
   ],
   "source": [
    "# conferindo\n",
    "dados[dados['IDADE'].isnull()]['FAIXA IDADE'].value_counts()"
   ]
  },
  {
   "cell_type": "markdown",
   "id": "cf3e19ab",
   "metadata": {},
   "source": [
    "### Salário"
   ]
  },
  {
   "cell_type": "code",
   "execution_count": 42,
   "id": "c37b4b4b",
   "metadata": {},
   "outputs": [
    {
     "data": {
      "text/html": [
       "<div>\n",
       "<style scoped>\n",
       "    .dataframe tbody tr th:only-of-type {\n",
       "        vertical-align: middle;\n",
       "    }\n",
       "\n",
       "    .dataframe tbody tr th {\n",
       "        vertical-align: top;\n",
       "    }\n",
       "\n",
       "    .dataframe thead th {\n",
       "        text-align: right;\n",
       "    }\n",
       "</style>\n",
       "<table border=\"1\" class=\"dataframe\">\n",
       "  <thead>\n",
       "    <tr style=\"text-align: right;\">\n",
       "      <th></th>\n",
       "      <th>Unnamed: 0</th>\n",
       "      <th>ID</th>\n",
       "      <th>IDADE</th>\n",
       "      <th>FAIXA IDADE</th>\n",
       "      <th>GENERO</th>\n",
       "      <th>COR/RACA/ETNIA</th>\n",
       "      <th>PCD</th>\n",
       "      <th>EXPERIENCIA_PROFISSIONAL_PREJUDICADA</th>\n",
       "      <th>ASPECTOS_PREJUDICADOS</th>\n",
       "      <th>VIVE_NO_BRASIL</th>\n",
       "      <th>...</th>\n",
       "      <th>SETOR</th>\n",
       "      <th>NUMERO DE FUNCIONARIOS</th>\n",
       "      <th>GESTOR?</th>\n",
       "      <th>CARGO COMO GESTOR</th>\n",
       "      <th>CARGO ATUAL</th>\n",
       "      <th>NIVEL</th>\n",
       "      <th>FAIXA SALARIAL</th>\n",
       "      <th>QUANTO TEMPO DE EXPERIÊNCIA NA ÁREA DE DADOS VOCÊ TEM?</th>\n",
       "      <th>QUANTO TEMPO DE EXPERIÊNCIA NA ÁREA DE TI/ENGENHARIA DE SOFTWARE VOCÊ TEVE ANTES DE COMEÇAR A TRABALHAR NA ÁREA DE DADOS?</th>\n",
       "      <th>SALARIO</th>\n",
       "    </tr>\n",
       "  </thead>\n",
       "  <tbody>\n",
       "    <tr>\n",
       "      <th>12</th>\n",
       "      <td>12</td>\n",
       "      <td>zwr9hqcpg513kaopenzwr9hibaqmldto</td>\n",
       "      <td>31.0</td>\n",
       "      <td>30-34</td>\n",
       "      <td>Masculino</td>\n",
       "      <td>Branca</td>\n",
       "      <td>Não</td>\n",
       "      <td>NaN</td>\n",
       "      <td>NaN</td>\n",
       "      <td>True</td>\n",
       "      <td>...</td>\n",
       "      <td>NaN</td>\n",
       "      <td>NaN</td>\n",
       "      <td>NaN</td>\n",
       "      <td>NaN</td>\n",
       "      <td>NaN</td>\n",
       "      <td>NaN</td>\n",
       "      <td>NaN</td>\n",
       "      <td>NaN</td>\n",
       "      <td>NaN</td>\n",
       "      <td>NaN</td>\n",
       "    </tr>\n",
       "    <tr>\n",
       "      <th>28</th>\n",
       "      <td>28</td>\n",
       "      <td>ztgepgj82o9oix0nztgepq2trcay6gpv</td>\n",
       "      <td>24.0</td>\n",
       "      <td>22-24</td>\n",
       "      <td>Feminino</td>\n",
       "      <td>Parda</td>\n",
       "      <td>Não</td>\n",
       "      <td>Sim, acredito que a minha a experiência profis...</td>\n",
       "      <td>Aprovação em processos seletivos/entrevistas</td>\n",
       "      <td>True</td>\n",
       "      <td>...</td>\n",
       "      <td>NaN</td>\n",
       "      <td>NaN</td>\n",
       "      <td>NaN</td>\n",
       "      <td>NaN</td>\n",
       "      <td>NaN</td>\n",
       "      <td>NaN</td>\n",
       "      <td>NaN</td>\n",
       "      <td>NaN</td>\n",
       "      <td>NaN</td>\n",
       "      <td>NaN</td>\n",
       "    </tr>\n",
       "    <tr>\n",
       "      <th>34</th>\n",
       "      <td>34</td>\n",
       "      <td>zsa9i6njd3e594mw0tvlk4zsa9iw86i9</td>\n",
       "      <td>24.0</td>\n",
       "      <td>22-24</td>\n",
       "      <td>Feminino</td>\n",
       "      <td>Branca</td>\n",
       "      <td>Não</td>\n",
       "      <td>Sim, acredito que a minha a experiência profis...</td>\n",
       "      <td>Quantidade de oportunidades de emprego/vagas r...</td>\n",
       "      <td>True</td>\n",
       "      <td>...</td>\n",
       "      <td>NaN</td>\n",
       "      <td>NaN</td>\n",
       "      <td>NaN</td>\n",
       "      <td>NaN</td>\n",
       "      <td>NaN</td>\n",
       "      <td>NaN</td>\n",
       "      <td>NaN</td>\n",
       "      <td>NaN</td>\n",
       "      <td>NaN</td>\n",
       "      <td>NaN</td>\n",
       "    </tr>\n",
       "    <tr>\n",
       "      <th>39</th>\n",
       "      <td>39</td>\n",
       "      <td>zr4b2vm7dapp3linwqwn7zr4b2vmagqx</td>\n",
       "      <td>32.0</td>\n",
       "      <td>30-34</td>\n",
       "      <td>Masculino</td>\n",
       "      <td>Parda</td>\n",
       "      <td>Não</td>\n",
       "      <td>Não acredito que minha experiência profissiona...</td>\n",
       "      <td>NaN</td>\n",
       "      <td>True</td>\n",
       "      <td>...</td>\n",
       "      <td>NaN</td>\n",
       "      <td>NaN</td>\n",
       "      <td>NaN</td>\n",
       "      <td>NaN</td>\n",
       "      <td>NaN</td>\n",
       "      <td>NaN</td>\n",
       "      <td>NaN</td>\n",
       "      <td>NaN</td>\n",
       "      <td>NaN</td>\n",
       "      <td>NaN</td>\n",
       "    </tr>\n",
       "    <tr>\n",
       "      <th>63</th>\n",
       "      <td>63</td>\n",
       "      <td>zm7o5yquakof0j6zm7vh3o0letznhdvh</td>\n",
       "      <td>26.0</td>\n",
       "      <td>25-29</td>\n",
       "      <td>Masculino</td>\n",
       "      <td>Branca</td>\n",
       "      <td>Não</td>\n",
       "      <td>NaN</td>\n",
       "      <td>NaN</td>\n",
       "      <td>True</td>\n",
       "      <td>...</td>\n",
       "      <td>NaN</td>\n",
       "      <td>NaN</td>\n",
       "      <td>NaN</td>\n",
       "      <td>NaN</td>\n",
       "      <td>NaN</td>\n",
       "      <td>NaN</td>\n",
       "      <td>NaN</td>\n",
       "      <td>NaN</td>\n",
       "      <td>NaN</td>\n",
       "      <td>NaN</td>\n",
       "    </tr>\n",
       "    <tr>\n",
       "      <th>...</th>\n",
       "      <td>...</td>\n",
       "      <td>...</td>\n",
       "      <td>...</td>\n",
       "      <td>...</td>\n",
       "      <td>...</td>\n",
       "      <td>...</td>\n",
       "      <td>...</td>\n",
       "      <td>...</td>\n",
       "      <td>...</td>\n",
       "      <td>...</td>\n",
       "      <td>...</td>\n",
       "      <td>...</td>\n",
       "      <td>...</td>\n",
       "      <td>...</td>\n",
       "      <td>...</td>\n",
       "      <td>...</td>\n",
       "      <td>...</td>\n",
       "      <td>...</td>\n",
       "      <td>...</td>\n",
       "      <td>...</td>\n",
       "      <td>...</td>\n",
       "    </tr>\n",
       "    <tr>\n",
       "      <th>4242</th>\n",
       "      <td>4242</td>\n",
       "      <td>09oxwp6lsdwhw09ox1uobuxa8cq2pzma</td>\n",
       "      <td>26.0</td>\n",
       "      <td>25-29</td>\n",
       "      <td>Masculino</td>\n",
       "      <td>Branca</td>\n",
       "      <td>Não</td>\n",
       "      <td>NaN</td>\n",
       "      <td>NaN</td>\n",
       "      <td>True</td>\n",
       "      <td>...</td>\n",
       "      <td>NaN</td>\n",
       "      <td>NaN</td>\n",
       "      <td>NaN</td>\n",
       "      <td>NaN</td>\n",
       "      <td>NaN</td>\n",
       "      <td>NaN</td>\n",
       "      <td>NaN</td>\n",
       "      <td>NaN</td>\n",
       "      <td>NaN</td>\n",
       "      <td>NaN</td>\n",
       "    </tr>\n",
       "    <tr>\n",
       "      <th>4252</th>\n",
       "      <td>4252</td>\n",
       "      <td>064pe9b1htw7mflhif064pe95dotv6yf</td>\n",
       "      <td>39.0</td>\n",
       "      <td>35-39</td>\n",
       "      <td>Masculino</td>\n",
       "      <td>Parda</td>\n",
       "      <td>Não</td>\n",
       "      <td>Não acredito que minha experiência profissiona...</td>\n",
       "      <td>NaN</td>\n",
       "      <td>True</td>\n",
       "      <td>...</td>\n",
       "      <td>NaN</td>\n",
       "      <td>NaN</td>\n",
       "      <td>NaN</td>\n",
       "      <td>NaN</td>\n",
       "      <td>NaN</td>\n",
       "      <td>NaN</td>\n",
       "      <td>NaN</td>\n",
       "      <td>NaN</td>\n",
       "      <td>NaN</td>\n",
       "      <td>NaN</td>\n",
       "    </tr>\n",
       "    <tr>\n",
       "      <th>4258</th>\n",
       "      <td>4258</td>\n",
       "      <td>03zjgijmnwv9qrlzbr03zjgij1eae1hw</td>\n",
       "      <td>25.0</td>\n",
       "      <td>25-29</td>\n",
       "      <td>Feminino</td>\n",
       "      <td>Branca</td>\n",
       "      <td>Não</td>\n",
       "      <td>Sim, acredito que a minha a experiência profis...</td>\n",
       "      <td>Senioridade das vagas recebidas em relação à s...</td>\n",
       "      <td>True</td>\n",
       "      <td>...</td>\n",
       "      <td>NaN</td>\n",
       "      <td>NaN</td>\n",
       "      <td>NaN</td>\n",
       "      <td>NaN</td>\n",
       "      <td>NaN</td>\n",
       "      <td>NaN</td>\n",
       "      <td>NaN</td>\n",
       "      <td>NaN</td>\n",
       "      <td>NaN</td>\n",
       "      <td>NaN</td>\n",
       "    </tr>\n",
       "    <tr>\n",
       "      <th>4260</th>\n",
       "      <td>4260</td>\n",
       "      <td>03atvow8404tatt2iixjds03atvownkz</td>\n",
       "      <td>36.0</td>\n",
       "      <td>35-39</td>\n",
       "      <td>Masculino</td>\n",
       "      <td>Parda</td>\n",
       "      <td>Não</td>\n",
       "      <td>Não acredito que minha experiência profissiona...</td>\n",
       "      <td>NaN</td>\n",
       "      <td>True</td>\n",
       "      <td>...</td>\n",
       "      <td>NaN</td>\n",
       "      <td>NaN</td>\n",
       "      <td>NaN</td>\n",
       "      <td>NaN</td>\n",
       "      <td>NaN</td>\n",
       "      <td>NaN</td>\n",
       "      <td>NaN</td>\n",
       "      <td>NaN</td>\n",
       "      <td>NaN</td>\n",
       "      <td>NaN</td>\n",
       "    </tr>\n",
       "    <tr>\n",
       "      <th>4261</th>\n",
       "      <td>4261</td>\n",
       "      <td>02xomoejng6c9152kde02xomww412qpg</td>\n",
       "      <td>33.0</td>\n",
       "      <td>30-34</td>\n",
       "      <td>Masculino</td>\n",
       "      <td>Branca</td>\n",
       "      <td>Não</td>\n",
       "      <td>NaN</td>\n",
       "      <td>NaN</td>\n",
       "      <td>True</td>\n",
       "      <td>...</td>\n",
       "      <td>NaN</td>\n",
       "      <td>NaN</td>\n",
       "      <td>NaN</td>\n",
       "      <td>NaN</td>\n",
       "      <td>NaN</td>\n",
       "      <td>NaN</td>\n",
       "      <td>NaN</td>\n",
       "      <td>NaN</td>\n",
       "      <td>NaN</td>\n",
       "      <td>NaN</td>\n",
       "    </tr>\n",
       "  </tbody>\n",
       "</table>\n",
       "<p>577 rows × 28 columns</p>\n",
       "</div>"
      ],
      "text/plain": [
       "      Unnamed: 0                                ID  IDADE FAIXA IDADE  \\\n",
       "12            12  zwr9hqcpg513kaopenzwr9hibaqmldto   31.0       30-34   \n",
       "28            28  ztgepgj82o9oix0nztgepq2trcay6gpv   24.0       22-24   \n",
       "34            34  zsa9i6njd3e594mw0tvlk4zsa9iw86i9   24.0       22-24   \n",
       "39            39  zr4b2vm7dapp3linwqwn7zr4b2vmagqx   32.0       30-34   \n",
       "63            63  zm7o5yquakof0j6zm7vh3o0letznhdvh   26.0       25-29   \n",
       "...          ...                               ...    ...         ...   \n",
       "4242        4242  09oxwp6lsdwhw09ox1uobuxa8cq2pzma   26.0       25-29   \n",
       "4252        4252  064pe9b1htw7mflhif064pe95dotv6yf   39.0       35-39   \n",
       "4258        4258  03zjgijmnwv9qrlzbr03zjgij1eae1hw   25.0       25-29   \n",
       "4260        4260  03atvow8404tatt2iixjds03atvownkz   36.0       35-39   \n",
       "4261        4261  02xomoejng6c9152kde02xomww412qpg   33.0       30-34   \n",
       "\n",
       "         GENERO COR/RACA/ETNIA  PCD  \\\n",
       "12    Masculino         Branca  Não   \n",
       "28     Feminino          Parda  Não   \n",
       "34     Feminino         Branca  Não   \n",
       "39    Masculino          Parda  Não   \n",
       "63    Masculino         Branca  Não   \n",
       "...         ...            ...  ...   \n",
       "4242  Masculino         Branca  Não   \n",
       "4252  Masculino          Parda  Não   \n",
       "4258   Feminino         Branca  Não   \n",
       "4260  Masculino          Parda  Não   \n",
       "4261  Masculino         Branca  Não   \n",
       "\n",
       "                   EXPERIENCIA_PROFISSIONAL_PREJUDICADA  \\\n",
       "12                                                  NaN   \n",
       "28    Sim, acredito que a minha a experiência profis...   \n",
       "34    Sim, acredito que a minha a experiência profis...   \n",
       "39    Não acredito que minha experiência profissiona...   \n",
       "63                                                  NaN   \n",
       "...                                                 ...   \n",
       "4242                                                NaN   \n",
       "4252  Não acredito que minha experiência profissiona...   \n",
       "4258  Sim, acredito que a minha a experiência profis...   \n",
       "4260  Não acredito que minha experiência profissiona...   \n",
       "4261                                                NaN   \n",
       "\n",
       "                                  ASPECTOS_PREJUDICADOS  VIVE_NO_BRASIL  ...  \\\n",
       "12                                                  NaN            True  ...   \n",
       "28         Aprovação em processos seletivos/entrevistas            True  ...   \n",
       "34    Quantidade de oportunidades de emprego/vagas r...            True  ...   \n",
       "39                                                  NaN            True  ...   \n",
       "63                                                  NaN            True  ...   \n",
       "...                                                 ...             ...  ...   \n",
       "4242                                                NaN            True  ...   \n",
       "4252                                                NaN            True  ...   \n",
       "4258  Senioridade das vagas recebidas em relação à s...            True  ...   \n",
       "4260                                                NaN            True  ...   \n",
       "4261                                                NaN            True  ...   \n",
       "\n",
       "     SETOR NUMERO DE FUNCIONARIOS GESTOR?  CARGO COMO GESTOR CARGO ATUAL  \\\n",
       "12     NaN                    NaN     NaN                NaN         NaN   \n",
       "28     NaN                    NaN     NaN                NaN         NaN   \n",
       "34     NaN                    NaN     NaN                NaN         NaN   \n",
       "39     NaN                    NaN     NaN                NaN         NaN   \n",
       "63     NaN                    NaN     NaN                NaN         NaN   \n",
       "...    ...                    ...     ...                ...         ...   \n",
       "4242   NaN                    NaN     NaN                NaN         NaN   \n",
       "4252   NaN                    NaN     NaN                NaN         NaN   \n",
       "4258   NaN                    NaN     NaN                NaN         NaN   \n",
       "4260   NaN                    NaN     NaN                NaN         NaN   \n",
       "4261   NaN                    NaN     NaN                NaN         NaN   \n",
       "\n",
       "     NIVEL FAIXA SALARIAL  \\\n",
       "12     NaN            NaN   \n",
       "28     NaN            NaN   \n",
       "34     NaN            NaN   \n",
       "39     NaN            NaN   \n",
       "63     NaN            NaN   \n",
       "...    ...            ...   \n",
       "4242   NaN            NaN   \n",
       "4252   NaN            NaN   \n",
       "4258   NaN            NaN   \n",
       "4260   NaN            NaN   \n",
       "4261   NaN            NaN   \n",
       "\n",
       "     QUANTO TEMPO DE EXPERIÊNCIA NA ÁREA DE DADOS VOCÊ TEM?  \\\n",
       "12                                                  NaN       \n",
       "28                                                  NaN       \n",
       "34                                                  NaN       \n",
       "39                                                  NaN       \n",
       "63                                                  NaN       \n",
       "...                                                 ...       \n",
       "4242                                                NaN       \n",
       "4252                                                NaN       \n",
       "4258                                                NaN       \n",
       "4260                                                NaN       \n",
       "4261                                                NaN       \n",
       "\n",
       "     QUANTO TEMPO DE EXPERIÊNCIA NA ÁREA DE TI/ENGENHARIA DE SOFTWARE VOCÊ TEVE ANTES DE COMEÇAR A TRABALHAR NA ÁREA DE DADOS?  \\\n",
       "12                                                  NaN                                                                          \n",
       "28                                                  NaN                                                                          \n",
       "34                                                  NaN                                                                          \n",
       "39                                                  NaN                                                                          \n",
       "63                                                  NaN                                                                          \n",
       "...                                                 ...                                                                          \n",
       "4242                                                NaN                                                                          \n",
       "4252                                                NaN                                                                          \n",
       "4258                                                NaN                                                                          \n",
       "4260                                                NaN                                                                          \n",
       "4261                                                NaN                                                                          \n",
       "\n",
       "     SALARIO  \n",
       "12       NaN  \n",
       "28       NaN  \n",
       "34       NaN  \n",
       "39       NaN  \n",
       "63       NaN  \n",
       "...      ...  \n",
       "4242     NaN  \n",
       "4252     NaN  \n",
       "4258     NaN  \n",
       "4260     NaN  \n",
       "4261     NaN  \n",
       "\n",
       "[577 rows x 28 columns]"
      ]
     },
     "execution_count": 42,
     "metadata": {},
     "output_type": "execute_result"
    }
   ],
   "source": [
    "dados[dados['SALARIO'].isnull()]"
   ]
  },
  {
   "cell_type": "code",
   "execution_count": 45,
   "id": "fbcd21a3",
   "metadata": {},
   "outputs": [
    {
     "data": {
      "text/plain": [
       "Series([], Name: count, dtype: int64)"
      ]
     },
     "execution_count": 45,
     "metadata": {},
     "output_type": "execute_result"
    }
   ],
   "source": [
    "dados[dados['SALARIO'].isnull()]['FAIXA SALARIAL'].value_counts()\n",
    "# quem não preencheu salário, também não preencheu faixa salarial"
   ]
  },
  {
   "cell_type": "code",
   "execution_count": 58,
   "id": "31329150",
   "metadata": {},
   "outputs": [],
   "source": [
    "## completando pela mediana\n",
    "mediana_salario = dados[dados['SALARIO'].notnull()]['SALARIO'].median()"
   ]
  },
  {
   "cell_type": "code",
   "execution_count": 59,
   "id": "0c7e3f05",
   "metadata": {},
   "outputs": [],
   "source": [
    "dados.loc[dados['SALARIO'].isnull(), 'SALARIO'] = mediana_salario"
   ]
  }
 ],
 "metadata": {
  "kernelspec": {
   "display_name": "Python 3",
   "language": "python",
   "name": "python3"
  },
  "language_info": {
   "codemirror_mode": {
    "name": "ipython",
    "version": 3
   },
   "file_extension": ".py",
   "mimetype": "text/x-python",
   "name": "python",
   "nbconvert_exporter": "python",
   "pygments_lexer": "ipython3",
   "version": "3.11.9"
  }
 },
 "nbformat": 4,
 "nbformat_minor": 5
}
