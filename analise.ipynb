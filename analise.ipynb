{
 "cells": [
  {
   "cell_type": "markdown",
   "id": "502bd109",
   "metadata": {},
   "source": [
    "# Introdução:"
   ]
  },
  {
   "cell_type": "markdown",
   "id": "1259f010",
   "metadata": {},
   "source": [
    "Neste notebook, iremos explorar os dados coletados na pesquisa anual do Datahackers de 2022. A pesquisa de Datahackers é uma fonte valiosa de informações sobre o mercado de trabalho na área de tecnologia da informação (TI) no Brasil, abordando uma ampla gama de tópicos relevantes ára profissionais, empresas e instituições de ensino.\n",
    "\n",
    "A importância dessa pesquisa não pode ser subestimada, pois fornece insights cruciais sobre tendências, demandas e desagios enfrentados pelos profissionais de TI no Brasil. Além disso, a pesquisa contribui significativamente para o debate sobre diversidade no setor, incluindo questões de gênero, raça e outros aspectos relacionados à inclusão\n",
    "\n",
    "O objetivo desta análise de dados é duplo: em primeiro lugar, buscamos aprender e praticar técnicas de análise de dados utilizando Python e bibliotecas como pandas, matplotlib e seaborn. Em segundo lugar, pretendemos extrair insights importantes sobre o mercado de trabalho na área de TI, identificando padrões, tendências e correlações nos dados coletados.\n",
    "\n",
    "Além de explorar aspectos como salários, níveis de escolaridade e tecnologias mais utilizadas, daremos um foco especial ao debate de diversidade, investigando questões de representatividade de gênero e raça no campo da tecnologia.\n",
    "\n",
    "Vamos começar nossa jornada de exploração dos dados e descobertas!"
   ]
  },
  {
   "cell_type": "markdown",
   "id": "f67aab59",
   "metadata": {},
   "source": [
    "---"
   ]
  },
  {
   "cell_type": "markdown",
   "id": "d2048675",
   "metadata": {},
   "source": [
    "# Módulo 3 - Primeira Análise"
   ]
  },
  {
   "cell_type": "code",
   "execution_count": 151,
   "id": "2d8e720f",
   "metadata": {},
   "outputs": [],
   "source": [
    "# importando bibliotecas\n",
    "import pandas as pd\n",
    "#!pip install openpyxl"
   ]
  },
  {
   "cell_type": "code",
   "execution_count": 152,
   "id": "62e11330",
   "metadata": {},
   "outputs": [],
   "source": [
    "# Importando os dados\n",
    "dados = pd.read_excel('arquivos_conteudo/planilha_modulo3.xlsx', engine=\"openpyxl\")"
   ]
  },
  {
   "cell_type": "markdown",
   "id": "24f2f685",
   "metadata": {},
   "source": [
    "## Analisando brevemente a importação dos dados"
   ]
  },
  {
   "cell_type": "code",
   "execution_count": 153,
   "id": "f5bc1802",
   "metadata": {},
   "outputs": [
    {
     "name": "stdout",
     "output_type": "stream",
     "text": [
      "<class 'pandas.core.frame.DataFrame'>\n",
      "RangeIndex: 4271 entries, 0 to 4270\n",
      "Data columns (total 28 columns):\n",
      " #   Column                                                                                                                     Non-Null Count  Dtype  \n",
      "---  ------                                                                                                                     --------------  -----  \n",
      " 0   Unnamed: 0                                                                                                                 4271 non-null   int64  \n",
      " 1   ID                                                                                                                         4271 non-null   object \n",
      " 2   IDADE                                                                                                                      4197 non-null   float64\n",
      " 3   FAIXA IDADE                                                                                                                4271 non-null   object \n",
      " 4   GENERO                                                                                                                     4262 non-null   object \n",
      " 5   COR/RACA/ETNIA                                                                                                             4271 non-null   object \n",
      " 6   PCD                                                                                                                        4271 non-null   object \n",
      " 7   EXPERIENCIA_PROFISSIONAL_PREJUDICADA                                                                                       2190 non-null   object \n",
      " 8   ASPECTOS_PREJUDICADOS                                                                                                      837 non-null    object \n",
      " 9   VIVE_NO_BRASIL                                                                                                             4271 non-null   bool   \n",
      " 10  ESTADO ONDE MORA                                                                                                           4156 non-null   object \n",
      " 11  UF ONDE MORA                                                                                                               4156 non-null   object \n",
      " 12  REGIAO ONDE MORA                                                                                                           4171 non-null   object \n",
      " 13  MUDOU DE ESTADO?                                                                                                           4171 non-null   float64\n",
      " 14  REGIAO DE ORIGEM                                                                                                           772 non-null    object \n",
      " 15  NIVEL DE ENSINO                                                                                                            4271 non-null   object \n",
      " 16  ÁREA DE FORMAÇÃO                                                                                                           4149 non-null   object \n",
      " 17  QUAL SUA SITUAÇÃO ATUAL DE TRABALHO?                                                                                       4271 non-null   object \n",
      " 18  SETOR                                                                                                                      3694 non-null   object \n",
      " 19  NUMERO DE FUNCIONARIOS                                                                                                     3694 non-null   object \n",
      " 20  GESTOR?                                                                                                                    3694 non-null   float64\n",
      " 21  CARGO COMO GESTOR                                                                                                          713 non-null    object \n",
      " 22  CARGO ATUAL                                                                                                                2981 non-null   object \n",
      " 23  NIVEL                                                                                                                      2981 non-null   object \n",
      " 24  FAIXA SALARIAL                                                                                                             3694 non-null   object \n",
      " 25  QUANTO TEMPO DE EXPERIÊNCIA NA ÁREA DE DADOS VOCÊ TEM?                                                                     3694 non-null   object \n",
      " 26  QUANTO TEMPO DE EXPERIÊNCIA NA ÁREA DE TI/ENGENHARIA DE SOFTWARE VOCÊ TEVE ANTES DE COMEÇAR A TRABALHAR NA ÁREA DE DADOS?  3694 non-null   object \n",
      " 27  SALARIO                                                                                                                    3694 non-null   float64\n",
      "dtypes: bool(1), float64(4), int64(1), object(22)\n",
      "memory usage: 905.2+ KB\n"
     ]
    }
   ],
   "source": [
    "dados.info()"
   ]
  },
  {
   "cell_type": "code",
   "execution_count": 154,
   "id": "0fedbf0d",
   "metadata": {},
   "outputs": [
    {
     "data": {
      "text/html": [
       "<div>\n",
       "<style scoped>\n",
       "    .dataframe tbody tr th:only-of-type {\n",
       "        vertical-align: middle;\n",
       "    }\n",
       "\n",
       "    .dataframe tbody tr th {\n",
       "        vertical-align: top;\n",
       "    }\n",
       "\n",
       "    .dataframe thead th {\n",
       "        text-align: right;\n",
       "    }\n",
       "</style>\n",
       "<table border=\"1\" class=\"dataframe\">\n",
       "  <thead>\n",
       "    <tr style=\"text-align: right;\">\n",
       "      <th></th>\n",
       "      <th>Unnamed: 0</th>\n",
       "      <th>IDADE</th>\n",
       "      <th>MUDOU DE ESTADO?</th>\n",
       "      <th>GESTOR?</th>\n",
       "      <th>SALARIO</th>\n",
       "    </tr>\n",
       "  </thead>\n",
       "  <tbody>\n",
       "    <tr>\n",
       "      <th>count</th>\n",
       "      <td>4271.000000</td>\n",
       "      <td>4197.000000</td>\n",
       "      <td>4171.000000</td>\n",
       "      <td>3694.000000</td>\n",
       "      <td>3694.000000</td>\n",
       "    </tr>\n",
       "    <tr>\n",
       "      <th>mean</th>\n",
       "      <td>2135.000000</td>\n",
       "      <td>31.169168</td>\n",
       "      <td>0.806281</td>\n",
       "      <td>0.193016</td>\n",
       "      <td>10969.266919</td>\n",
       "    </tr>\n",
       "    <tr>\n",
       "      <th>std</th>\n",
       "      <td>1233.075829</td>\n",
       "      <td>6.902803</td>\n",
       "      <td>0.395258</td>\n",
       "      <td>0.394719</td>\n",
       "      <td>19419.753189</td>\n",
       "    </tr>\n",
       "    <tr>\n",
       "      <th>min</th>\n",
       "      <td>0.000000</td>\n",
       "      <td>18.000000</td>\n",
       "      <td>0.000000</td>\n",
       "      <td>0.000000</td>\n",
       "      <td>35.000000</td>\n",
       "    </tr>\n",
       "    <tr>\n",
       "      <th>25%</th>\n",
       "      <td>1067.500000</td>\n",
       "      <td>26.000000</td>\n",
       "      <td>1.000000</td>\n",
       "      <td>0.000000</td>\n",
       "      <td>4269.500000</td>\n",
       "    </tr>\n",
       "    <tr>\n",
       "      <th>50%</th>\n",
       "      <td>2135.000000</td>\n",
       "      <td>30.000000</td>\n",
       "      <td>1.000000</td>\n",
       "      <td>0.000000</td>\n",
       "      <td>7625.500000</td>\n",
       "    </tr>\n",
       "    <tr>\n",
       "      <th>75%</th>\n",
       "      <td>3202.500000</td>\n",
       "      <td>35.000000</td>\n",
       "      <td>1.000000</td>\n",
       "      <td>0.000000</td>\n",
       "      <td>12778.500000</td>\n",
       "    </tr>\n",
       "    <tr>\n",
       "      <th>max</th>\n",
       "      <td>4270.000000</td>\n",
       "      <td>54.000000</td>\n",
       "      <td>1.000000</td>\n",
       "      <td>1.000000</td>\n",
       "      <td>485191.000000</td>\n",
       "    </tr>\n",
       "  </tbody>\n",
       "</table>\n",
       "</div>"
      ],
      "text/plain": [
       "        Unnamed: 0        IDADE  MUDOU DE ESTADO?      GESTOR?        SALARIO\n",
       "count  4271.000000  4197.000000       4171.000000  3694.000000    3694.000000\n",
       "mean   2135.000000    31.169168          0.806281     0.193016   10969.266919\n",
       "std    1233.075829     6.902803          0.395258     0.394719   19419.753189\n",
       "min       0.000000    18.000000          0.000000     0.000000      35.000000\n",
       "25%    1067.500000    26.000000          1.000000     0.000000    4269.500000\n",
       "50%    2135.000000    30.000000          1.000000     0.000000    7625.500000\n",
       "75%    3202.500000    35.000000          1.000000     0.000000   12778.500000\n",
       "max    4270.000000    54.000000          1.000000     1.000000  485191.000000"
      ]
     },
     "execution_count": 154,
     "metadata": {},
     "output_type": "execute_result"
    }
   ],
   "source": [
    "dados.describe()"
   ]
  },
  {
   "cell_type": "markdown",
   "id": "42634056",
   "metadata": {},
   "source": [
    "## Análise dos dados"
   ]
  },
  {
   "cell_type": "markdown",
   "id": "b902414f",
   "metadata": {},
   "source": [
    "Análise de gêneros:"
   ]
  },
  {
   "cell_type": "code",
   "execution_count": 155,
   "id": "a1c50718",
   "metadata": {},
   "outputs": [
    {
     "data": {
      "text/plain": [
       "array(['Masculino', 'Feminino', nan, 'Prefiro não informar'], dtype=object)"
      ]
     },
     "execution_count": 155,
     "metadata": {},
     "output_type": "execute_result"
    }
   ],
   "source": [
    "#opções disponíveis na coluna GENERO\n",
    "dados['GENERO'].unique()"
   ]
  },
  {
   "cell_type": "code",
   "execution_count": 156,
   "id": "fca0da24",
   "metadata": {},
   "outputs": [],
   "source": [
    "qtd_fem = len(dados[dados['GENERO']=='Feminino'])\n",
    "qtd_mas = len(dados[dados['GENERO']=='Masculino'])\n",
    "qtd_pni = len(dados[dados['GENERO']=='Prefiro não informar'])\n",
    "qtd_tot = len(dados)\n"
   ]
  },
  {
   "cell_type": "code",
   "execution_count": 157,
   "id": "490e00ca",
   "metadata": {},
   "outputs": [
    {
     "name": "stdout",
     "output_type": "stream",
     "text": [
      "Em um total de  4271 respostas, temos 1056 que assinalaram Feminino 3194 que assinalaram Masculino, 12 que preferiram não informar e 9 que deixaram o campo em branco.\n"
     ]
    }
   ],
   "source": [
    "print('Em um total de ', qtd_tot, 'respostas, temos', qtd_fem, 'que assinalaram Feminino', qtd_mas, 'que assinalaram Masculino,', qtd_pni, 'que preferiram não informar e', qtd_tot - qtd_fem - qtd_mas - qtd_pni, 'que deixaram o campo em branco.')"
   ]
  },
  {
   "cell_type": "markdown",
   "id": "191549fa",
   "metadata": {},
   "source": [
    "## Atividade\n",
    "📌 Que tal fazer um filtro para identificar pessoas que se declararam amarelas e outro de pessoas abaixo de 40 anos? E melhor, um filtro que misture ambos?😉   "
   ]
  },
  {
   "cell_type": "code",
   "execution_count": 158,
   "id": "acc80679",
   "metadata": {},
   "outputs": [],
   "source": [
    "# filtro das pessoas amarelas\n",
    "amarelas = dados['COR/RACA/ETNIA']=='Amarela'"
   ]
  },
  {
   "cell_type": "code",
   "execution_count": 159,
   "id": "4dc3a8b5",
   "metadata": {},
   "outputs": [
    {
     "data": {
      "text/html": [
       "<div>\n",
       "<style scoped>\n",
       "    .dataframe tbody tr th:only-of-type {\n",
       "        vertical-align: middle;\n",
       "    }\n",
       "\n",
       "    .dataframe tbody tr th {\n",
       "        vertical-align: top;\n",
       "    }\n",
       "\n",
       "    .dataframe thead th {\n",
       "        text-align: right;\n",
       "    }\n",
       "</style>\n",
       "<table border=\"1\" class=\"dataframe\">\n",
       "  <thead>\n",
       "    <tr style=\"text-align: right;\">\n",
       "      <th></th>\n",
       "      <th>Unnamed: 0</th>\n",
       "      <th>ID</th>\n",
       "      <th>IDADE</th>\n",
       "      <th>FAIXA IDADE</th>\n",
       "      <th>GENERO</th>\n",
       "      <th>COR/RACA/ETNIA</th>\n",
       "      <th>PCD</th>\n",
       "      <th>EXPERIENCIA_PROFISSIONAL_PREJUDICADA</th>\n",
       "      <th>ASPECTOS_PREJUDICADOS</th>\n",
       "      <th>VIVE_NO_BRASIL</th>\n",
       "      <th>...</th>\n",
       "      <th>SETOR</th>\n",
       "      <th>NUMERO DE FUNCIONARIOS</th>\n",
       "      <th>GESTOR?</th>\n",
       "      <th>CARGO COMO GESTOR</th>\n",
       "      <th>CARGO ATUAL</th>\n",
       "      <th>NIVEL</th>\n",
       "      <th>FAIXA SALARIAL</th>\n",
       "      <th>QUANTO TEMPO DE EXPERIÊNCIA NA ÁREA DE DADOS VOCÊ TEM?</th>\n",
       "      <th>QUANTO TEMPO DE EXPERIÊNCIA NA ÁREA DE TI/ENGENHARIA DE SOFTWARE VOCÊ TEVE ANTES DE COMEÇAR A TRABALHAR NA ÁREA DE DADOS?</th>\n",
       "      <th>SALARIO</th>\n",
       "    </tr>\n",
       "  </thead>\n",
       "  <tbody>\n",
       "    <tr>\n",
       "      <th>13</th>\n",
       "      <td>13</td>\n",
       "      <td>zwh83jpy6x40b95xigsr2zwh83jpflu3</td>\n",
       "      <td>24.0</td>\n",
       "      <td>22-24</td>\n",
       "      <td>Masculino</td>\n",
       "      <td>Amarela</td>\n",
       "      <td>Não</td>\n",
       "      <td>Não acredito que minha experiência profissiona...</td>\n",
       "      <td>NaN</td>\n",
       "      <td>True</td>\n",
       "      <td>...</td>\n",
       "      <td>Finanças ou Bancos</td>\n",
       "      <td>Acima de 3.000</td>\n",
       "      <td>0.0</td>\n",
       "      <td>NaN</td>\n",
       "      <td>Analista de Negócios/Business Analyst</td>\n",
       "      <td>Júnior</td>\n",
       "      <td>de R$ 4.001/mês a R$ 6.000/mês</td>\n",
       "      <td>de 1 a 2 anos</td>\n",
       "      <td>Menos de 1 ano</td>\n",
       "      <td>5296.0</td>\n",
       "    </tr>\n",
       "    <tr>\n",
       "      <th>85</th>\n",
       "      <td>85</td>\n",
       "      <td>zfeuk2m9jozahicujlla8zfeuk2g7apj</td>\n",
       "      <td>29.0</td>\n",
       "      <td>25-29</td>\n",
       "      <td>Feminino</td>\n",
       "      <td>Amarela</td>\n",
       "      <td>Não</td>\n",
       "      <td>Não acredito que minha experiência profissiona...</td>\n",
       "      <td>NaN</td>\n",
       "      <td>True</td>\n",
       "      <td>...</td>\n",
       "      <td>NaN</td>\n",
       "      <td>NaN</td>\n",
       "      <td>NaN</td>\n",
       "      <td>NaN</td>\n",
       "      <td>NaN</td>\n",
       "      <td>NaN</td>\n",
       "      <td>NaN</td>\n",
       "      <td>NaN</td>\n",
       "      <td>NaN</td>\n",
       "      <td>NaN</td>\n",
       "    </tr>\n",
       "    <tr>\n",
       "      <th>97</th>\n",
       "      <td>97</td>\n",
       "      <td>zbukfwxvpwlk6loglm0zbukfwx6bvyb6</td>\n",
       "      <td>40.0</td>\n",
       "      <td>40-44</td>\n",
       "      <td>Masculino</td>\n",
       "      <td>Amarela</td>\n",
       "      <td>Não</td>\n",
       "      <td>Não acredito que minha experiência profissiona...</td>\n",
       "      <td>NaN</td>\n",
       "      <td>True</td>\n",
       "      <td>...</td>\n",
       "      <td>Varejo</td>\n",
       "      <td>Acima de 3.000</td>\n",
       "      <td>0.0</td>\n",
       "      <td>NaN</td>\n",
       "      <td>Analista de BI/BI Analyst</td>\n",
       "      <td>Sênior</td>\n",
       "      <td>de R$ 8.001/mês a R$ 12.000/mês</td>\n",
       "      <td>de 4 a 6 anos</td>\n",
       "      <td>Mais de 10 anos</td>\n",
       "      <td>11388.0</td>\n",
       "    </tr>\n",
       "  </tbody>\n",
       "</table>\n",
       "<p>3 rows × 28 columns</p>\n",
       "</div>"
      ],
      "text/plain": [
       "    Unnamed: 0                                ID  IDADE FAIXA IDADE  \\\n",
       "13          13  zwh83jpy6x40b95xigsr2zwh83jpflu3   24.0       22-24   \n",
       "85          85  zfeuk2m9jozahicujlla8zfeuk2g7apj   29.0       25-29   \n",
       "97          97  zbukfwxvpwlk6loglm0zbukfwx6bvyb6   40.0       40-44   \n",
       "\n",
       "       GENERO COR/RACA/ETNIA  PCD  \\\n",
       "13  Masculino        Amarela  Não   \n",
       "85   Feminino        Amarela  Não   \n",
       "97  Masculino        Amarela  Não   \n",
       "\n",
       "                 EXPERIENCIA_PROFISSIONAL_PREJUDICADA ASPECTOS_PREJUDICADOS  \\\n",
       "13  Não acredito que minha experiência profissiona...                   NaN   \n",
       "85  Não acredito que minha experiência profissiona...                   NaN   \n",
       "97  Não acredito que minha experiência profissiona...                   NaN   \n",
       "\n",
       "    VIVE_NO_BRASIL  ...               SETOR NUMERO DE FUNCIONARIOS GESTOR?  \\\n",
       "13            True  ...  Finanças ou Bancos         Acima de 3.000     0.0   \n",
       "85            True  ...                 NaN                    NaN     NaN   \n",
       "97            True  ...              Varejo         Acima de 3.000     0.0   \n",
       "\n",
       "    CARGO COMO GESTOR                            CARGO ATUAL   NIVEL  \\\n",
       "13                NaN  Analista de Negócios/Business Analyst  Júnior   \n",
       "85                NaN                                    NaN     NaN   \n",
       "97                NaN              Analista de BI/BI Analyst  Sênior   \n",
       "\n",
       "                     FAIXA SALARIAL  \\\n",
       "13   de R$ 4.001/mês a R$ 6.000/mês   \n",
       "85                              NaN   \n",
       "97  de R$ 8.001/mês a R$ 12.000/mês   \n",
       "\n",
       "   QUANTO TEMPO DE EXPERIÊNCIA NA ÁREA DE DADOS VOCÊ TEM?  \\\n",
       "13                                      de 1 a 2 anos       \n",
       "85                                                NaN       \n",
       "97                                      de 4 a 6 anos       \n",
       "\n",
       "   QUANTO TEMPO DE EXPERIÊNCIA NA ÁREA DE TI/ENGENHARIA DE SOFTWARE VOCÊ TEVE ANTES DE COMEÇAR A TRABALHAR NA ÁREA DE DADOS?  \\\n",
       "13                                     Menos de 1 ano                                                                          \n",
       "85                                                NaN                                                                          \n",
       "97                                    Mais de 10 anos                                                                          \n",
       "\n",
       "    SALARIO  \n",
       "13   5296.0  \n",
       "85      NaN  \n",
       "97  11388.0  \n",
       "\n",
       "[3 rows x 28 columns]"
      ]
     },
     "execution_count": 159,
     "metadata": {},
     "output_type": "execute_result"
    }
   ],
   "source": [
    "# dados apenas das pessoas amarelas\n",
    "dados[amarelas].head(3)"
   ]
  },
  {
   "cell_type": "code",
   "execution_count": 160,
   "id": "296f9240",
   "metadata": {},
   "outputs": [],
   "source": [
    "# filtro das pessoas menores ou igual a 40 anos\n",
    "le40 = dados['IDADE']<= 40"
   ]
  },
  {
   "cell_type": "code",
   "execution_count": 161,
   "id": "f904130b",
   "metadata": {},
   "outputs": [
    {
     "data": {
      "text/html": [
       "<div>\n",
       "<style scoped>\n",
       "    .dataframe tbody tr th:only-of-type {\n",
       "        vertical-align: middle;\n",
       "    }\n",
       "\n",
       "    .dataframe tbody tr th {\n",
       "        vertical-align: top;\n",
       "    }\n",
       "\n",
       "    .dataframe thead th {\n",
       "        text-align: right;\n",
       "    }\n",
       "</style>\n",
       "<table border=\"1\" class=\"dataframe\">\n",
       "  <thead>\n",
       "    <tr style=\"text-align: right;\">\n",
       "      <th></th>\n",
       "      <th>Unnamed: 0</th>\n",
       "      <th>ID</th>\n",
       "      <th>IDADE</th>\n",
       "      <th>FAIXA IDADE</th>\n",
       "      <th>GENERO</th>\n",
       "      <th>COR/RACA/ETNIA</th>\n",
       "      <th>PCD</th>\n",
       "      <th>EXPERIENCIA_PROFISSIONAL_PREJUDICADA</th>\n",
       "      <th>ASPECTOS_PREJUDICADOS</th>\n",
       "      <th>VIVE_NO_BRASIL</th>\n",
       "      <th>...</th>\n",
       "      <th>SETOR</th>\n",
       "      <th>NUMERO DE FUNCIONARIOS</th>\n",
       "      <th>GESTOR?</th>\n",
       "      <th>CARGO COMO GESTOR</th>\n",
       "      <th>CARGO ATUAL</th>\n",
       "      <th>NIVEL</th>\n",
       "      <th>FAIXA SALARIAL</th>\n",
       "      <th>QUANTO TEMPO DE EXPERIÊNCIA NA ÁREA DE DADOS VOCÊ TEM?</th>\n",
       "      <th>QUANTO TEMPO DE EXPERIÊNCIA NA ÁREA DE TI/ENGENHARIA DE SOFTWARE VOCÊ TEVE ANTES DE COMEÇAR A TRABALHAR NA ÁREA DE DADOS?</th>\n",
       "      <th>SALARIO</th>\n",
       "    </tr>\n",
       "  </thead>\n",
       "  <tbody>\n",
       "    <tr>\n",
       "      <th>0</th>\n",
       "      <td>0</td>\n",
       "      <td>zzqzz3l9ily8nuo2m7wyzzqzz3w48o96</td>\n",
       "      <td>39.0</td>\n",
       "      <td>35-39</td>\n",
       "      <td>Masculino</td>\n",
       "      <td>Parda</td>\n",
       "      <td>Não</td>\n",
       "      <td>Não acredito que minha experiência profissiona...</td>\n",
       "      <td>NaN</td>\n",
       "      <td>True</td>\n",
       "      <td>...</td>\n",
       "      <td>Setor Público</td>\n",
       "      <td>Acima de 3.000</td>\n",
       "      <td>0.0</td>\n",
       "      <td>NaN</td>\n",
       "      <td>DBA/Administrador de Banco de Dados</td>\n",
       "      <td>Júnior</td>\n",
       "      <td>de R$ 8.001/mês a R$ 12.000/mês</td>\n",
       "      <td>de 1 a 2 anos</td>\n",
       "      <td>de 7 a 10 anos</td>\n",
       "      <td>11194.0</td>\n",
       "    </tr>\n",
       "    <tr>\n",
       "      <th>1</th>\n",
       "      <td>1</td>\n",
       "      <td>zzls2oftfn9law393oezzls2ofhvfpzd</td>\n",
       "      <td>32.0</td>\n",
       "      <td>30-34</td>\n",
       "      <td>Masculino</td>\n",
       "      <td>Parda</td>\n",
       "      <td>Não</td>\n",
       "      <td>Sim, acredito que a minha a experiência profis...</td>\n",
       "      <td>Aprovação em processos seletivos/entrevistas</td>\n",
       "      <td>True</td>\n",
       "      <td>...</td>\n",
       "      <td>Outra Opção</td>\n",
       "      <td>Acima de 3.000</td>\n",
       "      <td>1.0</td>\n",
       "      <td>Supervisor/Coordenador</td>\n",
       "      <td>NaN</td>\n",
       "      <td>NaN</td>\n",
       "      <td>de R$ 4.001/mês a R$ 6.000/mês</td>\n",
       "      <td>de 3 a 4 anos</td>\n",
       "      <td>Menos de 1 ano</td>\n",
       "      <td>4695.0</td>\n",
       "    </tr>\n",
       "    <tr>\n",
       "      <th>3</th>\n",
       "      <td>3</td>\n",
       "      <td>zzbqh3uy7yk7k9qmkzzbqtb4s9faqspl</td>\n",
       "      <td>27.0</td>\n",
       "      <td>25-29</td>\n",
       "      <td>Masculino</td>\n",
       "      <td>Branca</td>\n",
       "      <td>Não</td>\n",
       "      <td>NaN</td>\n",
       "      <td>NaN</td>\n",
       "      <td>True</td>\n",
       "      <td>...</td>\n",
       "      <td>Setor Automotivo</td>\n",
       "      <td>Acima de 3.000</td>\n",
       "      <td>0.0</td>\n",
       "      <td>NaN</td>\n",
       "      <td>Cientista de Dados/Data Scientist</td>\n",
       "      <td>Sênior</td>\n",
       "      <td>de R$ 12.001/mês a R$ 16.000/mês</td>\n",
       "      <td>de 4 a 6 anos</td>\n",
       "      <td>Não tive experiência na área de TI/Engenharia ...</td>\n",
       "      <td>15463.0</td>\n",
       "    </tr>\n",
       "  </tbody>\n",
       "</table>\n",
       "<p>3 rows × 28 columns</p>\n",
       "</div>"
      ],
      "text/plain": [
       "   Unnamed: 0                                ID  IDADE FAIXA IDADE     GENERO  \\\n",
       "0           0  zzqzz3l9ily8nuo2m7wyzzqzz3w48o96   39.0       35-39  Masculino   \n",
       "1           1  zzls2oftfn9law393oezzls2ofhvfpzd   32.0       30-34  Masculino   \n",
       "3           3  zzbqh3uy7yk7k9qmkzzbqtb4s9faqspl   27.0       25-29  Masculino   \n",
       "\n",
       "  COR/RACA/ETNIA  PCD               EXPERIENCIA_PROFISSIONAL_PREJUDICADA  \\\n",
       "0          Parda  Não  Não acredito que minha experiência profissiona...   \n",
       "1          Parda  Não  Sim, acredito que a minha a experiência profis...   \n",
       "3         Branca  Não                                                NaN   \n",
       "\n",
       "                          ASPECTOS_PREJUDICADOS  VIVE_NO_BRASIL  ...  \\\n",
       "0                                           NaN            True  ...   \n",
       "1  Aprovação em processos seletivos/entrevistas            True  ...   \n",
       "3                                           NaN            True  ...   \n",
       "\n",
       "              SETOR NUMERO DE FUNCIONARIOS GESTOR?       CARGO COMO GESTOR  \\\n",
       "0     Setor Público         Acima de 3.000     0.0                     NaN   \n",
       "1       Outra Opção         Acima de 3.000     1.0  Supervisor/Coordenador   \n",
       "3  Setor Automotivo         Acima de 3.000     0.0                     NaN   \n",
       "\n",
       "                           CARGO ATUAL   NIVEL  \\\n",
       "0  DBA/Administrador de Banco de Dados  Júnior   \n",
       "1                                  NaN     NaN   \n",
       "3    Cientista de Dados/Data Scientist  Sênior   \n",
       "\n",
       "                     FAIXA SALARIAL  \\\n",
       "0   de R$ 8.001/mês a R$ 12.000/mês   \n",
       "1    de R$ 4.001/mês a R$ 6.000/mês   \n",
       "3  de R$ 12.001/mês a R$ 16.000/mês   \n",
       "\n",
       "  QUANTO TEMPO DE EXPERIÊNCIA NA ÁREA DE DADOS VOCÊ TEM?  \\\n",
       "0                                      de 1 a 2 anos       \n",
       "1                                      de 3 a 4 anos       \n",
       "3                                      de 4 a 6 anos       \n",
       "\n",
       "  QUANTO TEMPO DE EXPERIÊNCIA NA ÁREA DE TI/ENGENHARIA DE SOFTWARE VOCÊ TEVE ANTES DE COMEÇAR A TRABALHAR NA ÁREA DE DADOS?  \\\n",
       "0                                     de 7 a 10 anos                                                                          \n",
       "1                                     Menos de 1 ano                                                                          \n",
       "3  Não tive experiência na área de TI/Engenharia ...                                                                          \n",
       "\n",
       "   SALARIO  \n",
       "0  11194.0  \n",
       "1   4695.0  \n",
       "3  15463.0  \n",
       "\n",
       "[3 rows x 28 columns]"
      ]
     },
     "execution_count": 161,
     "metadata": {},
     "output_type": "execute_result"
    }
   ],
   "source": [
    "# dados apenas das pessoas com 40 anos ou menos\n",
    "dados[le40].head(3)"
   ]
  },
  {
   "cell_type": "code",
   "execution_count": 162,
   "id": "2d955f42",
   "metadata": {},
   "outputs": [
    {
     "data": {
      "text/html": [
       "<div>\n",
       "<style scoped>\n",
       "    .dataframe tbody tr th:only-of-type {\n",
       "        vertical-align: middle;\n",
       "    }\n",
       "\n",
       "    .dataframe tbody tr th {\n",
       "        vertical-align: top;\n",
       "    }\n",
       "\n",
       "    .dataframe thead th {\n",
       "        text-align: right;\n",
       "    }\n",
       "</style>\n",
       "<table border=\"1\" class=\"dataframe\">\n",
       "  <thead>\n",
       "    <tr style=\"text-align: right;\">\n",
       "      <th></th>\n",
       "      <th>Unnamed: 0</th>\n",
       "      <th>ID</th>\n",
       "      <th>IDADE</th>\n",
       "      <th>FAIXA IDADE</th>\n",
       "      <th>GENERO</th>\n",
       "      <th>COR/RACA/ETNIA</th>\n",
       "      <th>PCD</th>\n",
       "      <th>EXPERIENCIA_PROFISSIONAL_PREJUDICADA</th>\n",
       "      <th>ASPECTOS_PREJUDICADOS</th>\n",
       "      <th>VIVE_NO_BRASIL</th>\n",
       "      <th>...</th>\n",
       "      <th>SETOR</th>\n",
       "      <th>NUMERO DE FUNCIONARIOS</th>\n",
       "      <th>GESTOR?</th>\n",
       "      <th>CARGO COMO GESTOR</th>\n",
       "      <th>CARGO ATUAL</th>\n",
       "      <th>NIVEL</th>\n",
       "      <th>FAIXA SALARIAL</th>\n",
       "      <th>QUANTO TEMPO DE EXPERIÊNCIA NA ÁREA DE DADOS VOCÊ TEM?</th>\n",
       "      <th>QUANTO TEMPO DE EXPERIÊNCIA NA ÁREA DE TI/ENGENHARIA DE SOFTWARE VOCÊ TEVE ANTES DE COMEÇAR A TRABALHAR NA ÁREA DE DADOS?</th>\n",
       "      <th>SALARIO</th>\n",
       "    </tr>\n",
       "  </thead>\n",
       "  <tbody>\n",
       "    <tr>\n",
       "      <th>13</th>\n",
       "      <td>13</td>\n",
       "      <td>zwh83jpy6x40b95xigsr2zwh83jpflu3</td>\n",
       "      <td>24.0</td>\n",
       "      <td>22-24</td>\n",
       "      <td>Masculino</td>\n",
       "      <td>Amarela</td>\n",
       "      <td>Não</td>\n",
       "      <td>Não acredito que minha experiência profissiona...</td>\n",
       "      <td>NaN</td>\n",
       "      <td>True</td>\n",
       "      <td>...</td>\n",
       "      <td>Finanças ou Bancos</td>\n",
       "      <td>Acima de 3.000</td>\n",
       "      <td>0.0</td>\n",
       "      <td>NaN</td>\n",
       "      <td>Analista de Negócios/Business Analyst</td>\n",
       "      <td>Júnior</td>\n",
       "      <td>de R$ 4.001/mês a R$ 6.000/mês</td>\n",
       "      <td>de 1 a 2 anos</td>\n",
       "      <td>Menos de 1 ano</td>\n",
       "      <td>5296.0</td>\n",
       "    </tr>\n",
       "    <tr>\n",
       "      <th>85</th>\n",
       "      <td>85</td>\n",
       "      <td>zfeuk2m9jozahicujlla8zfeuk2g7apj</td>\n",
       "      <td>29.0</td>\n",
       "      <td>25-29</td>\n",
       "      <td>Feminino</td>\n",
       "      <td>Amarela</td>\n",
       "      <td>Não</td>\n",
       "      <td>Não acredito que minha experiência profissiona...</td>\n",
       "      <td>NaN</td>\n",
       "      <td>True</td>\n",
       "      <td>...</td>\n",
       "      <td>NaN</td>\n",
       "      <td>NaN</td>\n",
       "      <td>NaN</td>\n",
       "      <td>NaN</td>\n",
       "      <td>NaN</td>\n",
       "      <td>NaN</td>\n",
       "      <td>NaN</td>\n",
       "      <td>NaN</td>\n",
       "      <td>NaN</td>\n",
       "      <td>NaN</td>\n",
       "    </tr>\n",
       "    <tr>\n",
       "      <th>97</th>\n",
       "      <td>97</td>\n",
       "      <td>zbukfwxvpwlk6loglm0zbukfwx6bvyb6</td>\n",
       "      <td>40.0</td>\n",
       "      <td>40-44</td>\n",
       "      <td>Masculino</td>\n",
       "      <td>Amarela</td>\n",
       "      <td>Não</td>\n",
       "      <td>Não acredito que minha experiência profissiona...</td>\n",
       "      <td>NaN</td>\n",
       "      <td>True</td>\n",
       "      <td>...</td>\n",
       "      <td>Varejo</td>\n",
       "      <td>Acima de 3.000</td>\n",
       "      <td>0.0</td>\n",
       "      <td>NaN</td>\n",
       "      <td>Analista de BI/BI Analyst</td>\n",
       "      <td>Sênior</td>\n",
       "      <td>de R$ 8.001/mês a R$ 12.000/mês</td>\n",
       "      <td>de 4 a 6 anos</td>\n",
       "      <td>Mais de 10 anos</td>\n",
       "      <td>11388.0</td>\n",
       "    </tr>\n",
       "    <tr>\n",
       "      <th>159</th>\n",
       "      <td>159</td>\n",
       "      <td>ytrnz3zyvn791t3dum1ytrnz3zp22tmk</td>\n",
       "      <td>37.0</td>\n",
       "      <td>35-39</td>\n",
       "      <td>Feminino</td>\n",
       "      <td>Amarela</td>\n",
       "      <td>Não</td>\n",
       "      <td>Sim, acredito que a minha a experiência profis...</td>\n",
       "      <td>Oportunidades de progressão de carreira, Aprov...</td>\n",
       "      <td>True</td>\n",
       "      <td>...</td>\n",
       "      <td>Tecnologia/Fábrica de Software</td>\n",
       "      <td>de 101 a 500</td>\n",
       "      <td>0.0</td>\n",
       "      <td>NaN</td>\n",
       "      <td>Engenheiro de Dados/Arquiteto de Dados/Data En...</td>\n",
       "      <td>Pleno</td>\n",
       "      <td>de R$ 8.001/mês a R$ 12.000/mês</td>\n",
       "      <td>de 1 a 2 anos</td>\n",
       "      <td>de 7 a 10 anos</td>\n",
       "      <td>10628.0</td>\n",
       "    </tr>\n",
       "    <tr>\n",
       "      <th>170</th>\n",
       "      <td>170</td>\n",
       "      <td>yri3z491ejizlpj9ylu2k3jyri3z4915</td>\n",
       "      <td>34.0</td>\n",
       "      <td>30-34</td>\n",
       "      <td>Masculino</td>\n",
       "      <td>Amarela</td>\n",
       "      <td>Não</td>\n",
       "      <td>Não acredito que minha experiência profissiona...</td>\n",
       "      <td>NaN</td>\n",
       "      <td>True</td>\n",
       "      <td>...</td>\n",
       "      <td>Varejo</td>\n",
       "      <td>Acima de 3.000</td>\n",
       "      <td>1.0</td>\n",
       "      <td>Gerente/Head</td>\n",
       "      <td>NaN</td>\n",
       "      <td>NaN</td>\n",
       "      <td>de R$ 16.001/mês a R$ 20.000/mês</td>\n",
       "      <td>de 3 a 4 anos</td>\n",
       "      <td>Não tive experiência na área de TI/Engenharia ...</td>\n",
       "      <td>16650.0</td>\n",
       "    </tr>\n",
       "    <tr>\n",
       "      <th>...</th>\n",
       "      <td>...</td>\n",
       "      <td>...</td>\n",
       "      <td>...</td>\n",
       "      <td>...</td>\n",
       "      <td>...</td>\n",
       "      <td>...</td>\n",
       "      <td>...</td>\n",
       "      <td>...</td>\n",
       "      <td>...</td>\n",
       "      <td>...</td>\n",
       "      <td>...</td>\n",
       "      <td>...</td>\n",
       "      <td>...</td>\n",
       "      <td>...</td>\n",
       "      <td>...</td>\n",
       "      <td>...</td>\n",
       "      <td>...</td>\n",
       "      <td>...</td>\n",
       "      <td>...</td>\n",
       "      <td>...</td>\n",
       "      <td>...</td>\n",
       "    </tr>\n",
       "    <tr>\n",
       "      <th>3947</th>\n",
       "      <td>3947</td>\n",
       "      <td>2tnsh0gxdu3aq4z2d2tnsh0hk15brx7q</td>\n",
       "      <td>31.0</td>\n",
       "      <td>30-34</td>\n",
       "      <td>Feminino</td>\n",
       "      <td>Amarela</td>\n",
       "      <td>Não</td>\n",
       "      <td>Sim, acredito que a minha a experiência profis...</td>\n",
       "      <td>Quantidade de oportunidades de emprego/vagas r...</td>\n",
       "      <td>False</td>\n",
       "      <td>...</td>\n",
       "      <td>Tecnologia/Fábrica de Software</td>\n",
       "      <td>Acima de 3.000</td>\n",
       "      <td>1.0</td>\n",
       "      <td>Supervisor/Coordenador</td>\n",
       "      <td>NaN</td>\n",
       "      <td>NaN</td>\n",
       "      <td>de R$ 25.001/mês a R$ 30.000/mês</td>\n",
       "      <td>de 1 a 2 anos</td>\n",
       "      <td>Não tive experiência na área de TI/Engenharia ...</td>\n",
       "      <td>29408.0</td>\n",
       "    </tr>\n",
       "    <tr>\n",
       "      <th>4058</th>\n",
       "      <td>4058</td>\n",
       "      <td>1t3ndwx8j50k0bz1t3ndwxdpwyg17c2k</td>\n",
       "      <td>27.0</td>\n",
       "      <td>25-29</td>\n",
       "      <td>Feminino</td>\n",
       "      <td>Amarela</td>\n",
       "      <td>Não</td>\n",
       "      <td>Sim, acredito que a minha a experiência profis...</td>\n",
       "      <td>Nível de cobrança no trabalho / Stress no trab...</td>\n",
       "      <td>True</td>\n",
       "      <td>...</td>\n",
       "      <td>Tecnologia/Fábrica de Software</td>\n",
       "      <td>Acima de 3.000</td>\n",
       "      <td>0.0</td>\n",
       "      <td>NaN</td>\n",
       "      <td>Cientista de Dados/Data Scientist</td>\n",
       "      <td>Sênior</td>\n",
       "      <td>de R$ 12.001/mês a R$ 16.000/mês</td>\n",
       "      <td>de 4 a 6 anos</td>\n",
       "      <td>Não tive experiência na área de TI/Engenharia ...</td>\n",
       "      <td>14175.0</td>\n",
       "    </tr>\n",
       "    <tr>\n",
       "      <th>4176</th>\n",
       "      <td>4176</td>\n",
       "      <td>0qpa64gqpieg60xpygnajt70qpa64g1a</td>\n",
       "      <td>27.0</td>\n",
       "      <td>25-29</td>\n",
       "      <td>Feminino</td>\n",
       "      <td>Amarela</td>\n",
       "      <td>Não</td>\n",
       "      <td>Não acredito que minha experiência profissiona...</td>\n",
       "      <td>NaN</td>\n",
       "      <td>True</td>\n",
       "      <td>...</td>\n",
       "      <td>NaN</td>\n",
       "      <td>NaN</td>\n",
       "      <td>NaN</td>\n",
       "      <td>NaN</td>\n",
       "      <td>NaN</td>\n",
       "      <td>NaN</td>\n",
       "      <td>NaN</td>\n",
       "      <td>NaN</td>\n",
       "      <td>NaN</td>\n",
       "      <td>NaN</td>\n",
       "    </tr>\n",
       "    <tr>\n",
       "      <th>4207</th>\n",
       "      <td>4207</td>\n",
       "      <td>0ibb8fj9qrwpswfqiil0ibb89e3e4hz3</td>\n",
       "      <td>30.0</td>\n",
       "      <td>30-34</td>\n",
       "      <td>Feminino</td>\n",
       "      <td>Amarela</td>\n",
       "      <td>Não</td>\n",
       "      <td>Sim, acredito que a minha a experiência profis...</td>\n",
       "      <td>Oportunidades de progressão de carreira, Veloc...</td>\n",
       "      <td>True</td>\n",
       "      <td>...</td>\n",
       "      <td>Área de Consultoria</td>\n",
       "      <td>de 501 a 1.000</td>\n",
       "      <td>0.0</td>\n",
       "      <td>NaN</td>\n",
       "      <td>Cientista de Dados/Data Scientist</td>\n",
       "      <td>Sênior</td>\n",
       "      <td>de R$ 16.001/mês a R$ 20.000/mês</td>\n",
       "      <td>de 4 a 6 anos</td>\n",
       "      <td>de 5 a 6 anos</td>\n",
       "      <td>16298.0</td>\n",
       "    </tr>\n",
       "    <tr>\n",
       "      <th>4262</th>\n",
       "      <td>4262</td>\n",
       "      <td>02vlm03c29g3fcys8tj06102vlm0983h</td>\n",
       "      <td>31.0</td>\n",
       "      <td>30-34</td>\n",
       "      <td>Masculino</td>\n",
       "      <td>Amarela</td>\n",
       "      <td>Não</td>\n",
       "      <td>Não acredito que minha experiência profissiona...</td>\n",
       "      <td>NaN</td>\n",
       "      <td>True</td>\n",
       "      <td>...</td>\n",
       "      <td>Tecnologia/Fábrica de Software</td>\n",
       "      <td>de 501 a 1.000</td>\n",
       "      <td>1.0</td>\n",
       "      <td>Team Leader/Tech Leader</td>\n",
       "      <td>NaN</td>\n",
       "      <td>NaN</td>\n",
       "      <td>de R$ 16.001/mês a R$ 20.000/mês</td>\n",
       "      <td>de 3 a 4 anos</td>\n",
       "      <td>de 3 a 4 anos</td>\n",
       "      <td>18402.0</td>\n",
       "    </tr>\n",
       "  </tbody>\n",
       "</table>\n",
       "<p>103 rows × 28 columns</p>\n",
       "</div>"
      ],
      "text/plain": [
       "      Unnamed: 0                                ID  IDADE FAIXA IDADE  \\\n",
       "13            13  zwh83jpy6x40b95xigsr2zwh83jpflu3   24.0       22-24   \n",
       "85            85  zfeuk2m9jozahicujlla8zfeuk2g7apj   29.0       25-29   \n",
       "97            97  zbukfwxvpwlk6loglm0zbukfwx6bvyb6   40.0       40-44   \n",
       "159          159  ytrnz3zyvn791t3dum1ytrnz3zp22tmk   37.0       35-39   \n",
       "170          170  yri3z491ejizlpj9ylu2k3jyri3z4915   34.0       30-34   \n",
       "...          ...                               ...    ...         ...   \n",
       "3947        3947  2tnsh0gxdu3aq4z2d2tnsh0hk15brx7q   31.0       30-34   \n",
       "4058        4058  1t3ndwx8j50k0bz1t3ndwxdpwyg17c2k   27.0       25-29   \n",
       "4176        4176  0qpa64gqpieg60xpygnajt70qpa64g1a   27.0       25-29   \n",
       "4207        4207  0ibb8fj9qrwpswfqiil0ibb89e3e4hz3   30.0       30-34   \n",
       "4262        4262  02vlm03c29g3fcys8tj06102vlm0983h   31.0       30-34   \n",
       "\n",
       "         GENERO COR/RACA/ETNIA  PCD  \\\n",
       "13    Masculino        Amarela  Não   \n",
       "85     Feminino        Amarela  Não   \n",
       "97    Masculino        Amarela  Não   \n",
       "159    Feminino        Amarela  Não   \n",
       "170   Masculino        Amarela  Não   \n",
       "...         ...            ...  ...   \n",
       "3947   Feminino        Amarela  Não   \n",
       "4058   Feminino        Amarela  Não   \n",
       "4176   Feminino        Amarela  Não   \n",
       "4207   Feminino        Amarela  Não   \n",
       "4262  Masculino        Amarela  Não   \n",
       "\n",
       "                   EXPERIENCIA_PROFISSIONAL_PREJUDICADA  \\\n",
       "13    Não acredito que minha experiência profissiona...   \n",
       "85    Não acredito que minha experiência profissiona...   \n",
       "97    Não acredito que minha experiência profissiona...   \n",
       "159   Sim, acredito que a minha a experiência profis...   \n",
       "170   Não acredito que minha experiência profissiona...   \n",
       "...                                                 ...   \n",
       "3947  Sim, acredito que a minha a experiência profis...   \n",
       "4058  Sim, acredito que a minha a experiência profis...   \n",
       "4176  Não acredito que minha experiência profissiona...   \n",
       "4207  Sim, acredito que a minha a experiência profis...   \n",
       "4262  Não acredito que minha experiência profissiona...   \n",
       "\n",
       "                                  ASPECTOS_PREJUDICADOS  VIVE_NO_BRASIL  ...  \\\n",
       "13                                                  NaN            True  ...   \n",
       "85                                                  NaN            True  ...   \n",
       "97                                                  NaN            True  ...   \n",
       "159   Oportunidades de progressão de carreira, Aprov...            True  ...   \n",
       "170                                                 NaN            True  ...   \n",
       "...                                                 ...             ...  ...   \n",
       "3947  Quantidade de oportunidades de emprego/vagas r...           False  ...   \n",
       "4058  Nível de cobrança no trabalho / Stress no trab...            True  ...   \n",
       "4176                                                NaN            True  ...   \n",
       "4207  Oportunidades de progressão de carreira, Veloc...            True  ...   \n",
       "4262                                                NaN            True  ...   \n",
       "\n",
       "                               SETOR NUMERO DE FUNCIONARIOS GESTOR?  \\\n",
       "13                Finanças ou Bancos         Acima de 3.000     0.0   \n",
       "85                               NaN                    NaN     NaN   \n",
       "97                            Varejo         Acima de 3.000     0.0   \n",
       "159   Tecnologia/Fábrica de Software           de 101 a 500     0.0   \n",
       "170                           Varejo         Acima de 3.000     1.0   \n",
       "...                              ...                    ...     ...   \n",
       "3947  Tecnologia/Fábrica de Software         Acima de 3.000     1.0   \n",
       "4058  Tecnologia/Fábrica de Software         Acima de 3.000     0.0   \n",
       "4176                             NaN                    NaN     NaN   \n",
       "4207             Área de Consultoria         de 501 a 1.000     0.0   \n",
       "4262  Tecnologia/Fábrica de Software         de 501 a 1.000     1.0   \n",
       "\n",
       "            CARGO COMO GESTOR  \\\n",
       "13                        NaN   \n",
       "85                        NaN   \n",
       "97                        NaN   \n",
       "159                       NaN   \n",
       "170              Gerente/Head   \n",
       "...                       ...   \n",
       "3947   Supervisor/Coordenador   \n",
       "4058                      NaN   \n",
       "4176                      NaN   \n",
       "4207                      NaN   \n",
       "4262  Team Leader/Tech Leader   \n",
       "\n",
       "                                            CARGO ATUAL   NIVEL  \\\n",
       "13                Analista de Negócios/Business Analyst  Júnior   \n",
       "85                                                  NaN     NaN   \n",
       "97                            Analista de BI/BI Analyst  Sênior   \n",
       "159   Engenheiro de Dados/Arquiteto de Dados/Data En...   Pleno   \n",
       "170                                                 NaN     NaN   \n",
       "...                                                 ...     ...   \n",
       "3947                                                NaN     NaN   \n",
       "4058                  Cientista de Dados/Data Scientist  Sênior   \n",
       "4176                                                NaN     NaN   \n",
       "4207                  Cientista de Dados/Data Scientist  Sênior   \n",
       "4262                                                NaN     NaN   \n",
       "\n",
       "                        FAIXA SALARIAL  \\\n",
       "13      de R$ 4.001/mês a R$ 6.000/mês   \n",
       "85                                 NaN   \n",
       "97     de R$ 8.001/mês a R$ 12.000/mês   \n",
       "159    de R$ 8.001/mês a R$ 12.000/mês   \n",
       "170   de R$ 16.001/mês a R$ 20.000/mês   \n",
       "...                                ...   \n",
       "3947  de R$ 25.001/mês a R$ 30.000/mês   \n",
       "4058  de R$ 12.001/mês a R$ 16.000/mês   \n",
       "4176                               NaN   \n",
       "4207  de R$ 16.001/mês a R$ 20.000/mês   \n",
       "4262  de R$ 16.001/mês a R$ 20.000/mês   \n",
       "\n",
       "     QUANTO TEMPO DE EXPERIÊNCIA NA ÁREA DE DADOS VOCÊ TEM?  \\\n",
       "13                                        de 1 a 2 anos       \n",
       "85                                                  NaN       \n",
       "97                                        de 4 a 6 anos       \n",
       "159                                       de 1 a 2 anos       \n",
       "170                                       de 3 a 4 anos       \n",
       "...                                                 ...       \n",
       "3947                                      de 1 a 2 anos       \n",
       "4058                                      de 4 a 6 anos       \n",
       "4176                                                NaN       \n",
       "4207                                      de 4 a 6 anos       \n",
       "4262                                      de 3 a 4 anos       \n",
       "\n",
       "     QUANTO TEMPO DE EXPERIÊNCIA NA ÁREA DE TI/ENGENHARIA DE SOFTWARE VOCÊ TEVE ANTES DE COMEÇAR A TRABALHAR NA ÁREA DE DADOS?  \\\n",
       "13                                       Menos de 1 ano                                                                          \n",
       "85                                                  NaN                                                                          \n",
       "97                                      Mais de 10 anos                                                                          \n",
       "159                                      de 7 a 10 anos                                                                          \n",
       "170   Não tive experiência na área de TI/Engenharia ...                                                                          \n",
       "...                                                 ...                                                                          \n",
       "3947  Não tive experiência na área de TI/Engenharia ...                                                                          \n",
       "4058  Não tive experiência na área de TI/Engenharia ...                                                                          \n",
       "4176                                                NaN                                                                          \n",
       "4207                                      de 5 a 6 anos                                                                          \n",
       "4262                                      de 3 a 4 anos                                                                          \n",
       "\n",
       "      SALARIO  \n",
       "13     5296.0  \n",
       "85        NaN  \n",
       "97    11388.0  \n",
       "159   10628.0  \n",
       "170   16650.0  \n",
       "...       ...  \n",
       "3947  29408.0  \n",
       "4058  14175.0  \n",
       "4176      NaN  \n",
       "4207  16298.0  \n",
       "4262  18402.0  \n",
       "\n",
       "[103 rows x 28 columns]"
      ]
     },
     "execution_count": 162,
     "metadata": {},
     "output_type": "execute_result"
    }
   ],
   "source": [
    "# dados com os filtros combinados\n",
    "dados[amarelas & le40]"
   ]
  },
  {
   "cell_type": "markdown",
   "id": "41f307d0",
   "metadata": {},
   "source": [
    "------------------\n"
   ]
  },
  {
   "cell_type": "markdown",
   "id": "64221f9b",
   "metadata": {},
   "source": [
    "## Agrupamento"
   ]
  },
  {
   "cell_type": "markdown",
   "id": "6ab3e0e2",
   "metadata": {},
   "source": [
    "### GroupBy"
   ]
  },
  {
   "cell_type": "code",
   "execution_count": 163,
   "id": "3dbb405d",
   "metadata": {},
   "outputs": [
    {
     "data": {
      "text/plain": [
       "GENERO\n",
       "Feminino                1055\n",
       "Masculino               3194\n",
       "Prefiro não informar      12\n",
       "Name: ID, dtype: int64"
      ]
     },
     "execution_count": 163,
     "metadata": {},
     "output_type": "execute_result"
    }
   ],
   "source": [
    "dados.groupby('GENERO')['ID'].nunique()"
   ]
  },
  {
   "cell_type": "code",
   "execution_count": 164,
   "id": "4187afdf",
   "metadata": {},
   "outputs": [
    {
     "data": {
      "text/plain": [
       "GENERO\n",
       "Feminino                1055\n",
       "Masculino               3194\n",
       "Prefiro não informar      12\n",
       "NaN                        9\n",
       "Name: ID, dtype: int64"
      ]
     },
     "execution_count": 164,
     "metadata": {},
     "output_type": "execute_result"
    }
   ],
   "source": [
    "dados.groupby('GENERO', dropna=False)['ID'].nunique()"
   ]
  },
  {
   "cell_type": "markdown",
   "id": "c8f79de1",
   "metadata": {},
   "source": [
    "### Value Counts"
   ]
  },
  {
   "cell_type": "code",
   "execution_count": 165,
   "id": "abf184d0",
   "metadata": {},
   "outputs": [
    {
     "data": {
      "text/plain": [
       "GENERO\n",
       "Masculino               3194\n",
       "Feminino                1056\n",
       "Prefiro não informar      12\n",
       "NaN                        9\n",
       "Name: count, dtype: int64"
      ]
     },
     "execution_count": 165,
     "metadata": {},
     "output_type": "execute_result"
    }
   ],
   "source": [
    "dados['GENERO'].value_counts(dropna = False)"
   ]
  },
  {
   "cell_type": "markdown",
   "id": "bfbeeeb2",
   "metadata": {},
   "source": [
    "- Use .value_counts() quando quiser frequência simples.\n",
    "\n",
    "- Use .groupby(...).nunique() quando quiser contar quantos indivíduos únicos (ou outra coluna única) tem por categoria.\n",
    "\n",
    "Ou seja, tem uma pessoa marcada como \"Feminino\" com um ID duplicado — por isso aparece 1056 vezes, mas só 1055 IDs diferentes."
   ]
  },
  {
   "cell_type": "code",
   "execution_count": 166,
   "id": "b7998e9a",
   "metadata": {},
   "outputs": [
    {
     "data": {
      "text/plain": [
       "NIVEL\n",
       "Sênior    525\n",
       "Pleno     408\n",
       "Júnior    274\n",
       "Name: count, dtype: int64"
      ]
     },
     "execution_count": 166,
     "metadata": {},
     "output_type": "execute_result"
    }
   ],
   "source": [
    "dados[dados['IDADE']>30]['NIVEL'].value_counts()"
   ]
  },
  {
   "cell_type": "code",
   "execution_count": 167,
   "id": "2d717a9c",
   "metadata": {},
   "outputs": [
    {
     "data": {
      "text/plain": [
       "NIVEL\n",
       "Pleno     117\n",
       "Sênior    114\n",
       "Júnior     96\n",
       "Name: count, dtype: int64"
      ]
     },
     "execution_count": 167,
     "metadata": {},
     "output_type": "execute_result"
    }
   ],
   "source": [
    "dados[(dados['IDADE']>30) & (dados['GENERO']== 'Feminino')]['NIVEL'].value_counts()"
   ]
  },
  {
   "cell_type": "markdown",
   "id": "186b2636",
   "metadata": {},
   "source": [
    "### Pivot Table = Tabela Dinâmica"
   ]
  },
  {
   "cell_type": "code",
   "execution_count": 168,
   "id": "11f237f2",
   "metadata": {},
   "outputs": [
    {
     "data": {
      "text/html": [
       "<div>\n",
       "<style scoped>\n",
       "    .dataframe tbody tr th:only-of-type {\n",
       "        vertical-align: middle;\n",
       "    }\n",
       "\n",
       "    .dataframe tbody tr th {\n",
       "        vertical-align: top;\n",
       "    }\n",
       "\n",
       "    .dataframe thead tr th {\n",
       "        text-align: left;\n",
       "    }\n",
       "\n",
       "    .dataframe thead tr:last-of-type th {\n",
       "        text-align: right;\n",
       "    }\n",
       "</style>\n",
       "<table border=\"1\" class=\"dataframe\">\n",
       "  <thead>\n",
       "    <tr>\n",
       "      <th></th>\n",
       "      <th colspan=\"2\" halign=\"left\">ID</th>\n",
       "    </tr>\n",
       "    <tr>\n",
       "      <th>GESTOR?</th>\n",
       "      <th>0.0</th>\n",
       "      <th>1.0</th>\n",
       "    </tr>\n",
       "    <tr>\n",
       "      <th>GENERO</th>\n",
       "      <th></th>\n",
       "      <th></th>\n",
       "    </tr>\n",
       "  </thead>\n",
       "  <tbody>\n",
       "    <tr>\n",
       "      <th>Feminino</th>\n",
       "      <td>754</td>\n",
       "      <td>132</td>\n",
       "    </tr>\n",
       "    <tr>\n",
       "      <th>Masculino</th>\n",
       "      <td>2212</td>\n",
       "      <td>578</td>\n",
       "    </tr>\n",
       "    <tr>\n",
       "      <th>Prefiro não informar</th>\n",
       "      <td>9</td>\n",
       "      <td>2</td>\n",
       "    </tr>\n",
       "  </tbody>\n",
       "</table>\n",
       "</div>"
      ],
      "text/plain": [
       "                        ID     \n",
       "GESTOR?                0.0  1.0\n",
       "GENERO                         \n",
       "Feminino               754  132\n",
       "Masculino             2212  578\n",
       "Prefiro não informar     9    2"
      ]
     },
     "execution_count": 168,
     "metadata": {},
     "output_type": "execute_result"
    }
   ],
   "source": [
    "pd.pivot_table(dados, values = ['ID'], index = ['GENERO'], columns = ['GESTOR?'], aggfunc='count')"
   ]
  },
  {
   "cell_type": "markdown",
   "id": "cdaaae73",
   "metadata": {},
   "source": [
    "-------------------------"
   ]
  },
  {
   "cell_type": "markdown",
   "id": "656f0666",
   "metadata": {},
   "source": [
    "# Módulo 4 - Estatística Básica"
   ]
  },
  {
   "cell_type": "code",
   "execution_count": 169,
   "id": "3cc3e4ac",
   "metadata": {},
   "outputs": [],
   "source": [
    "import numpy as np"
   ]
  },
  {
   "cell_type": "markdown",
   "id": "124f5424",
   "metadata": {},
   "source": [
    "## Média, Mediana, Moda, Desvio Padrão, Máximo e Mínimo"
   ]
  },
  {
   "cell_type": "code",
   "execution_count": 170,
   "id": "22f3c521",
   "metadata": {},
   "outputs": [],
   "source": [
    "media_idade = dados['IDADE'].mean()"
   ]
  },
  {
   "cell_type": "code",
   "execution_count": 171,
   "id": "3f5ff87c",
   "metadata": {},
   "outputs": [],
   "source": [
    "mediana_idade = dados['IDADE'].median()"
   ]
  },
  {
   "cell_type": "code",
   "execution_count": 172,
   "id": "ac7cfd20",
   "metadata": {},
   "outputs": [],
   "source": [
    "moda_idade = dados[\"IDADE\"].mode()"
   ]
  },
  {
   "cell_type": "code",
   "execution_count": 173,
   "id": "e2824187",
   "metadata": {},
   "outputs": [],
   "source": [
    "desvio_padrao_idade = dados[\"IDADE\"].std()"
   ]
  },
  {
   "cell_type": "code",
   "execution_count": 174,
   "id": "7ef8d775",
   "metadata": {},
   "outputs": [],
   "source": [
    "min_idade = dados[\"IDADE\"].min()"
   ]
  },
  {
   "cell_type": "code",
   "execution_count": 175,
   "id": "5f795c1d",
   "metadata": {},
   "outputs": [],
   "source": [
    "max_idade = dados[\"IDADE\"].max()"
   ]
  },
  {
   "cell_type": "code",
   "execution_count": 176,
   "id": "17715bb2",
   "metadata": {},
   "outputs": [
    {
     "name": "stdout",
     "output_type": "stream",
     "text": [
      "Análise das Idades\n",
      "MÉDIA         31.0\n",
      "MEDIANA       30.0\n",
      "MODA          0    27.0\n",
      "Name: IDADE, dtype: float64\n",
      "DESVIO PADRÃO 7.0\n",
      "MÁXIMO        54.0\n",
      "MÍNIMO        18.0\n"
     ]
    }
   ],
   "source": [
    "print('Análise das Idades')\n",
    "print('MÉDIA        ', media_idade.round())\n",
    "print('MEDIANA      ', mediana_idade.round())\n",
    "print('MODA         ', moda_idade)\n",
    "print('DESVIO PADRÃO', desvio_padrao_idade.round())\n",
    "print('MÁXIMO       ', max_idade.round())\n",
    "print('MÍNIMO       ', min_idade.round())"
   ]
  },
  {
   "cell_type": "code",
   "execution_count": 177,
   "id": "4f0ede7f",
   "metadata": {},
   "outputs": [
    {
     "data": {
      "text/html": [
       "<div>\n",
       "<style scoped>\n",
       "    .dataframe tbody tr th:only-of-type {\n",
       "        vertical-align: middle;\n",
       "    }\n",
       "\n",
       "    .dataframe tbody tr th {\n",
       "        vertical-align: top;\n",
       "    }\n",
       "\n",
       "    .dataframe thead tr th {\n",
       "        text-align: left;\n",
       "    }\n",
       "\n",
       "    .dataframe thead tr:last-of-type th {\n",
       "        text-align: right;\n",
       "    }\n",
       "</style>\n",
       "<table border=\"1\" class=\"dataframe\">\n",
       "  <thead>\n",
       "    <tr>\n",
       "      <th></th>\n",
       "      <th colspan=\"3\" halign=\"left\">IDADE</th>\n",
       "    </tr>\n",
       "    <tr>\n",
       "      <th>NIVEL</th>\n",
       "      <th>Júnior</th>\n",
       "      <th>Pleno</th>\n",
       "      <th>Sênior</th>\n",
       "    </tr>\n",
       "    <tr>\n",
       "      <th>GENERO</th>\n",
       "      <th></th>\n",
       "      <th></th>\n",
       "      <th></th>\n",
       "    </tr>\n",
       "  </thead>\n",
       "  <tbody>\n",
       "    <tr>\n",
       "      <th>Feminino</th>\n",
       "      <td>29.32</td>\n",
       "      <td>30.42</td>\n",
       "      <td>33.22</td>\n",
       "    </tr>\n",
       "    <tr>\n",
       "      <th>Masculino</th>\n",
       "      <td>27.46</td>\n",
       "      <td>30.07</td>\n",
       "      <td>33.30</td>\n",
       "    </tr>\n",
       "    <tr>\n",
       "      <th>Prefiro não informar</th>\n",
       "      <td>24.50</td>\n",
       "      <td>27.25</td>\n",
       "      <td>30.00</td>\n",
       "    </tr>\n",
       "  </tbody>\n",
       "</table>\n",
       "</div>"
      ],
      "text/plain": [
       "                      IDADE              \n",
       "NIVEL                Júnior  Pleno Sênior\n",
       "GENERO                                   \n",
       "Feminino              29.32  30.42  33.22\n",
       "Masculino             27.46  30.07  33.30\n",
       "Prefiro não informar  24.50  27.25  30.00"
      ]
     },
     "execution_count": 177,
     "metadata": {},
     "output_type": "execute_result"
    }
   ],
   "source": [
    "pd.pivot_table(dados, values = ['IDADE'], index = ['GENERO'], columns = ['NIVEL'], aggfunc='mean').round(2)"
   ]
  },
  {
   "cell_type": "code",
   "execution_count": 178,
   "id": "32bf634c",
   "metadata": {},
   "outputs": [
    {
     "data": {
      "text/html": [
       "<div>\n",
       "<style scoped>\n",
       "    .dataframe tbody tr th:only-of-type {\n",
       "        vertical-align: middle;\n",
       "    }\n",
       "\n",
       "    .dataframe tbody tr th {\n",
       "        vertical-align: top;\n",
       "    }\n",
       "\n",
       "    .dataframe thead tr th {\n",
       "        text-align: left;\n",
       "    }\n",
       "\n",
       "    .dataframe thead tr:last-of-type th {\n",
       "        text-align: right;\n",
       "    }\n",
       "</style>\n",
       "<table border=\"1\" class=\"dataframe\">\n",
       "  <thead>\n",
       "    <tr>\n",
       "      <th></th>\n",
       "      <th colspan=\"3\" halign=\"left\">SALARIO</th>\n",
       "    </tr>\n",
       "    <tr>\n",
       "      <th>NIVEL</th>\n",
       "      <th>Júnior</th>\n",
       "      <th>Pleno</th>\n",
       "      <th>Sênior</th>\n",
       "    </tr>\n",
       "    <tr>\n",
       "      <th>GENERO</th>\n",
       "      <th></th>\n",
       "      <th></th>\n",
       "      <th></th>\n",
       "    </tr>\n",
       "  </thead>\n",
       "  <tbody>\n",
       "    <tr>\n",
       "      <th>Feminino</th>\n",
       "      <td>4000.81</td>\n",
       "      <td>8039.93</td>\n",
       "      <td>11746.87</td>\n",
       "    </tr>\n",
       "    <tr>\n",
       "      <th>Masculino</th>\n",
       "      <td>3915.25</td>\n",
       "      <td>8469.88</td>\n",
       "      <td>15936.83</td>\n",
       "    </tr>\n",
       "    <tr>\n",
       "      <th>Prefiro não informar</th>\n",
       "      <td>2701.00</td>\n",
       "      <td>8458.75</td>\n",
       "      <td>10174.00</td>\n",
       "    </tr>\n",
       "  </tbody>\n",
       "</table>\n",
       "</div>"
      ],
      "text/plain": [
       "                      SALARIO                   \n",
       "NIVEL                  Júnior    Pleno    Sênior\n",
       "GENERO                                          \n",
       "Feminino              4000.81  8039.93  11746.87\n",
       "Masculino             3915.25  8469.88  15936.83\n",
       "Prefiro não informar  2701.00  8458.75  10174.00"
      ]
     },
     "execution_count": 178,
     "metadata": {},
     "output_type": "execute_result"
    }
   ],
   "source": [
    "pd.pivot_table(dados, values = ['SALARIO'], index = ['GENERO'], columns = ['NIVEL'], aggfunc='mean').round(2)"
   ]
  },
  {
   "cell_type": "markdown",
   "id": "52195ce0",
   "metadata": {},
   "source": [
    "## Dados Faltantes"
   ]
  },
  {
   "cell_type": "markdown",
   "id": "81af84eb",
   "metadata": {},
   "source": [
    "### Gênero"
   ]
  },
  {
   "cell_type": "code",
   "execution_count": 179,
   "id": "ada7f92d",
   "metadata": {},
   "outputs": [
    {
     "data": {
      "text/plain": [
       "GENERO\n",
       "Feminino                1055\n",
       "Masculino               3194\n",
       "Prefiro não informar      12\n",
       "NaN                        9\n",
       "Name: ID, dtype: int64"
      ]
     },
     "execution_count": 179,
     "metadata": {},
     "output_type": "execute_result"
    }
   ],
   "source": [
    "dados.groupby('GENERO', dropna= False)['ID'].nunique()"
   ]
  },
  {
   "cell_type": "markdown",
   "id": "c6a216c4",
   "metadata": {},
   "source": [
    "podemos preencher os nulos por 'Prefiro não informar'"
   ]
  },
  {
   "cell_type": "code",
   "execution_count": 180,
   "id": "368ee60c",
   "metadata": {},
   "outputs": [],
   "source": [
    "dados['GENERO'] = dados['GENERO'].fillna('Prefiro não informar')"
   ]
  },
  {
   "cell_type": "code",
   "execution_count": 181,
   "id": "fce29b6f",
   "metadata": {},
   "outputs": [
    {
     "data": {
      "text/plain": [
       "GENERO\n",
       "Feminino                1055\n",
       "Masculino               3194\n",
       "Prefiro não informar      21\n",
       "Name: ID, dtype: int64"
      ]
     },
     "execution_count": 181,
     "metadata": {},
     "output_type": "execute_result"
    }
   ],
   "source": [
    "dados.groupby('GENERO', dropna= False)['ID'].nunique()"
   ]
  },
  {
   "cell_type": "markdown",
   "id": "590a5dad",
   "metadata": {},
   "source": [
    "### Idade"
   ]
  },
  {
   "cell_type": "code",
   "execution_count": 182,
   "id": "8070f017",
   "metadata": {},
   "outputs": [
    {
     "data": {
      "text/plain": [
       "IDADE\n",
       "False    4197\n",
       "True       74\n",
       "Name: count, dtype: int64"
      ]
     },
     "execution_count": 182,
     "metadata": {},
     "output_type": "execute_result"
    }
   ],
   "source": [
    "dados['IDADE'].isnull().value_counts()"
   ]
  },
  {
   "cell_type": "code",
   "execution_count": 183,
   "id": "b67c0d9c",
   "metadata": {},
   "outputs": [
    {
     "data": {
      "text/plain": [
       "FAIXA IDADE\n",
       "55+      68\n",
       "17-21     6\n",
       "Name: count, dtype: int64"
      ]
     },
     "execution_count": 183,
     "metadata": {},
     "output_type": "execute_result"
    }
   ],
   "source": [
    "dados[dados['IDADE'].isnull()]['FAIXA IDADE'].value_counts()"
   ]
  },
  {
   "cell_type": "markdown",
   "id": "b74c68f4",
   "metadata": {},
   "source": [
    "temos que há pessoas que não registraram a idade, mas registraram a faixa etária.\n",
    "podemos fazer a média da idade preenchida para cada faixa e preencher os dados faltantes com ela"
   ]
  },
  {
   "cell_type": "code",
   "execution_count": 184,
   "id": "e674a768",
   "metadata": {},
   "outputs": [],
   "source": [
    "media_17_21= dados[dados['FAIXA IDADE']== '17-21']['IDADE'].mean()"
   ]
  },
  {
   "cell_type": "code",
   "execution_count": 185,
   "id": "015364c6",
   "metadata": {},
   "outputs": [],
   "source": [
    "dados.loc[(dados['FAIXA IDADE']== '17-21') & (dados['IDADE'].isnull()), 'IDADE'] = media_17_21"
   ]
  },
  {
   "cell_type": "code",
   "execution_count": 186,
   "id": "b98c1e31",
   "metadata": {},
   "outputs": [
    {
     "data": {
      "text/plain": [
       "FAIXA IDADE\n",
       "55+    68\n",
       "Name: count, dtype: int64"
      ]
     },
     "execution_count": 186,
     "metadata": {},
     "output_type": "execute_result"
    }
   ],
   "source": [
    "dados[dados['IDADE'].isnull()]['FAIXA IDADE'].value_counts()"
   ]
  },
  {
   "cell_type": "code",
   "execution_count": 187,
   "id": "3129eef1",
   "metadata": {},
   "outputs": [
    {
     "data": {
      "text/plain": [
       "9      NaN\n",
       "66     NaN\n",
       "96     NaN\n",
       "121    NaN\n",
       "156    NaN\n",
       "        ..\n",
       "4001   NaN\n",
       "4043   NaN\n",
       "4048   NaN\n",
       "4061   NaN\n",
       "4215   NaN\n",
       "Name: IDADE, Length: 68, dtype: float64"
      ]
     },
     "execution_count": 187,
     "metadata": {},
     "output_type": "execute_result"
    }
   ],
   "source": [
    "dados[dados['FAIXA IDADE']== '55+']['IDADE']"
   ]
  },
  {
   "cell_type": "markdown",
   "id": "b0733ac8",
   "metadata": {},
   "source": [
    "\n",
    "Ninguém com mais de 55 anos preencheu sua idade, podemos supor que há um erro no formulário.\n",
    "\n",
    "Um estratégia é preencher esses dados com a média geral"
   ]
  },
  {
   "cell_type": "code",
   "execution_count": 188,
   "id": "81cc4517",
   "metadata": {},
   "outputs": [],
   "source": [
    "media_geral = int(dados['IDADE'].mean().round())"
   ]
  },
  {
   "cell_type": "code",
   "execution_count": 189,
   "id": "2e6da8c2",
   "metadata": {},
   "outputs": [],
   "source": [
    "## substituindo valores\n",
    "dados.loc[(dados['FAIXA IDADE']== '55+') & (dados['IDADE'].isnull()), 'IDADE'] = media_geral"
   ]
  },
  {
   "cell_type": "code",
   "execution_count": 190,
   "id": "c96e7093",
   "metadata": {},
   "outputs": [
    {
     "data": {
      "text/plain": [
       "Series([], Name: count, dtype: int64)"
      ]
     },
     "execution_count": 190,
     "metadata": {},
     "output_type": "execute_result"
    }
   ],
   "source": [
    "# conferindo\n",
    "dados[dados['IDADE'].isnull()]['FAIXA IDADE'].value_counts()"
   ]
  },
  {
   "cell_type": "markdown",
   "id": "2e2c143c",
   "metadata": {},
   "source": [
    "### Salário"
   ]
  },
  {
   "cell_type": "code",
   "execution_count": 191,
   "id": "4bc572ca",
   "metadata": {},
   "outputs": [
    {
     "data": {
      "text/html": [
       "<div>\n",
       "<style scoped>\n",
       "    .dataframe tbody tr th:only-of-type {\n",
       "        vertical-align: middle;\n",
       "    }\n",
       "\n",
       "    .dataframe tbody tr th {\n",
       "        vertical-align: top;\n",
       "    }\n",
       "\n",
       "    .dataframe thead th {\n",
       "        text-align: right;\n",
       "    }\n",
       "</style>\n",
       "<table border=\"1\" class=\"dataframe\">\n",
       "  <thead>\n",
       "    <tr style=\"text-align: right;\">\n",
       "      <th></th>\n",
       "      <th>Unnamed: 0</th>\n",
       "      <th>ID</th>\n",
       "      <th>IDADE</th>\n",
       "      <th>FAIXA IDADE</th>\n",
       "      <th>GENERO</th>\n",
       "      <th>COR/RACA/ETNIA</th>\n",
       "      <th>PCD</th>\n",
       "      <th>EXPERIENCIA_PROFISSIONAL_PREJUDICADA</th>\n",
       "      <th>ASPECTOS_PREJUDICADOS</th>\n",
       "      <th>VIVE_NO_BRASIL</th>\n",
       "      <th>...</th>\n",
       "      <th>SETOR</th>\n",
       "      <th>NUMERO DE FUNCIONARIOS</th>\n",
       "      <th>GESTOR?</th>\n",
       "      <th>CARGO COMO GESTOR</th>\n",
       "      <th>CARGO ATUAL</th>\n",
       "      <th>NIVEL</th>\n",
       "      <th>FAIXA SALARIAL</th>\n",
       "      <th>QUANTO TEMPO DE EXPERIÊNCIA NA ÁREA DE DADOS VOCÊ TEM?</th>\n",
       "      <th>QUANTO TEMPO DE EXPERIÊNCIA NA ÁREA DE TI/ENGENHARIA DE SOFTWARE VOCÊ TEVE ANTES DE COMEÇAR A TRABALHAR NA ÁREA DE DADOS?</th>\n",
       "      <th>SALARIO</th>\n",
       "    </tr>\n",
       "  </thead>\n",
       "  <tbody>\n",
       "    <tr>\n",
       "      <th>12</th>\n",
       "      <td>12</td>\n",
       "      <td>zwr9hqcpg513kaopenzwr9hibaqmldto</td>\n",
       "      <td>31.0</td>\n",
       "      <td>30-34</td>\n",
       "      <td>Masculino</td>\n",
       "      <td>Branca</td>\n",
       "      <td>Não</td>\n",
       "      <td>NaN</td>\n",
       "      <td>NaN</td>\n",
       "      <td>True</td>\n",
       "      <td>...</td>\n",
       "      <td>NaN</td>\n",
       "      <td>NaN</td>\n",
       "      <td>NaN</td>\n",
       "      <td>NaN</td>\n",
       "      <td>NaN</td>\n",
       "      <td>NaN</td>\n",
       "      <td>NaN</td>\n",
       "      <td>NaN</td>\n",
       "      <td>NaN</td>\n",
       "      <td>NaN</td>\n",
       "    </tr>\n",
       "    <tr>\n",
       "      <th>28</th>\n",
       "      <td>28</td>\n",
       "      <td>ztgepgj82o9oix0nztgepq2trcay6gpv</td>\n",
       "      <td>24.0</td>\n",
       "      <td>22-24</td>\n",
       "      <td>Feminino</td>\n",
       "      <td>Parda</td>\n",
       "      <td>Não</td>\n",
       "      <td>Sim, acredito que a minha a experiência profis...</td>\n",
       "      <td>Aprovação em processos seletivos/entrevistas</td>\n",
       "      <td>True</td>\n",
       "      <td>...</td>\n",
       "      <td>NaN</td>\n",
       "      <td>NaN</td>\n",
       "      <td>NaN</td>\n",
       "      <td>NaN</td>\n",
       "      <td>NaN</td>\n",
       "      <td>NaN</td>\n",
       "      <td>NaN</td>\n",
       "      <td>NaN</td>\n",
       "      <td>NaN</td>\n",
       "      <td>NaN</td>\n",
       "    </tr>\n",
       "    <tr>\n",
       "      <th>34</th>\n",
       "      <td>34</td>\n",
       "      <td>zsa9i6njd3e594mw0tvlk4zsa9iw86i9</td>\n",
       "      <td>24.0</td>\n",
       "      <td>22-24</td>\n",
       "      <td>Feminino</td>\n",
       "      <td>Branca</td>\n",
       "      <td>Não</td>\n",
       "      <td>Sim, acredito que a minha a experiência profis...</td>\n",
       "      <td>Quantidade de oportunidades de emprego/vagas r...</td>\n",
       "      <td>True</td>\n",
       "      <td>...</td>\n",
       "      <td>NaN</td>\n",
       "      <td>NaN</td>\n",
       "      <td>NaN</td>\n",
       "      <td>NaN</td>\n",
       "      <td>NaN</td>\n",
       "      <td>NaN</td>\n",
       "      <td>NaN</td>\n",
       "      <td>NaN</td>\n",
       "      <td>NaN</td>\n",
       "      <td>NaN</td>\n",
       "    </tr>\n",
       "    <tr>\n",
       "      <th>39</th>\n",
       "      <td>39</td>\n",
       "      <td>zr4b2vm7dapp3linwqwn7zr4b2vmagqx</td>\n",
       "      <td>32.0</td>\n",
       "      <td>30-34</td>\n",
       "      <td>Masculino</td>\n",
       "      <td>Parda</td>\n",
       "      <td>Não</td>\n",
       "      <td>Não acredito que minha experiência profissiona...</td>\n",
       "      <td>NaN</td>\n",
       "      <td>True</td>\n",
       "      <td>...</td>\n",
       "      <td>NaN</td>\n",
       "      <td>NaN</td>\n",
       "      <td>NaN</td>\n",
       "      <td>NaN</td>\n",
       "      <td>NaN</td>\n",
       "      <td>NaN</td>\n",
       "      <td>NaN</td>\n",
       "      <td>NaN</td>\n",
       "      <td>NaN</td>\n",
       "      <td>NaN</td>\n",
       "    </tr>\n",
       "    <tr>\n",
       "      <th>63</th>\n",
       "      <td>63</td>\n",
       "      <td>zm7o5yquakof0j6zm7vh3o0letznhdvh</td>\n",
       "      <td>26.0</td>\n",
       "      <td>25-29</td>\n",
       "      <td>Masculino</td>\n",
       "      <td>Branca</td>\n",
       "      <td>Não</td>\n",
       "      <td>NaN</td>\n",
       "      <td>NaN</td>\n",
       "      <td>True</td>\n",
       "      <td>...</td>\n",
       "      <td>NaN</td>\n",
       "      <td>NaN</td>\n",
       "      <td>NaN</td>\n",
       "      <td>NaN</td>\n",
       "      <td>NaN</td>\n",
       "      <td>NaN</td>\n",
       "      <td>NaN</td>\n",
       "      <td>NaN</td>\n",
       "      <td>NaN</td>\n",
       "      <td>NaN</td>\n",
       "    </tr>\n",
       "    <tr>\n",
       "      <th>...</th>\n",
       "      <td>...</td>\n",
       "      <td>...</td>\n",
       "      <td>...</td>\n",
       "      <td>...</td>\n",
       "      <td>...</td>\n",
       "      <td>...</td>\n",
       "      <td>...</td>\n",
       "      <td>...</td>\n",
       "      <td>...</td>\n",
       "      <td>...</td>\n",
       "      <td>...</td>\n",
       "      <td>...</td>\n",
       "      <td>...</td>\n",
       "      <td>...</td>\n",
       "      <td>...</td>\n",
       "      <td>...</td>\n",
       "      <td>...</td>\n",
       "      <td>...</td>\n",
       "      <td>...</td>\n",
       "      <td>...</td>\n",
       "      <td>...</td>\n",
       "    </tr>\n",
       "    <tr>\n",
       "      <th>4242</th>\n",
       "      <td>4242</td>\n",
       "      <td>09oxwp6lsdwhw09ox1uobuxa8cq2pzma</td>\n",
       "      <td>26.0</td>\n",
       "      <td>25-29</td>\n",
       "      <td>Masculino</td>\n",
       "      <td>Branca</td>\n",
       "      <td>Não</td>\n",
       "      <td>NaN</td>\n",
       "      <td>NaN</td>\n",
       "      <td>True</td>\n",
       "      <td>...</td>\n",
       "      <td>NaN</td>\n",
       "      <td>NaN</td>\n",
       "      <td>NaN</td>\n",
       "      <td>NaN</td>\n",
       "      <td>NaN</td>\n",
       "      <td>NaN</td>\n",
       "      <td>NaN</td>\n",
       "      <td>NaN</td>\n",
       "      <td>NaN</td>\n",
       "      <td>NaN</td>\n",
       "    </tr>\n",
       "    <tr>\n",
       "      <th>4252</th>\n",
       "      <td>4252</td>\n",
       "      <td>064pe9b1htw7mflhif064pe95dotv6yf</td>\n",
       "      <td>39.0</td>\n",
       "      <td>35-39</td>\n",
       "      <td>Masculino</td>\n",
       "      <td>Parda</td>\n",
       "      <td>Não</td>\n",
       "      <td>Não acredito que minha experiência profissiona...</td>\n",
       "      <td>NaN</td>\n",
       "      <td>True</td>\n",
       "      <td>...</td>\n",
       "      <td>NaN</td>\n",
       "      <td>NaN</td>\n",
       "      <td>NaN</td>\n",
       "      <td>NaN</td>\n",
       "      <td>NaN</td>\n",
       "      <td>NaN</td>\n",
       "      <td>NaN</td>\n",
       "      <td>NaN</td>\n",
       "      <td>NaN</td>\n",
       "      <td>NaN</td>\n",
       "    </tr>\n",
       "    <tr>\n",
       "      <th>4258</th>\n",
       "      <td>4258</td>\n",
       "      <td>03zjgijmnwv9qrlzbr03zjgij1eae1hw</td>\n",
       "      <td>25.0</td>\n",
       "      <td>25-29</td>\n",
       "      <td>Feminino</td>\n",
       "      <td>Branca</td>\n",
       "      <td>Não</td>\n",
       "      <td>Sim, acredito que a minha a experiência profis...</td>\n",
       "      <td>Senioridade das vagas recebidas em relação à s...</td>\n",
       "      <td>True</td>\n",
       "      <td>...</td>\n",
       "      <td>NaN</td>\n",
       "      <td>NaN</td>\n",
       "      <td>NaN</td>\n",
       "      <td>NaN</td>\n",
       "      <td>NaN</td>\n",
       "      <td>NaN</td>\n",
       "      <td>NaN</td>\n",
       "      <td>NaN</td>\n",
       "      <td>NaN</td>\n",
       "      <td>NaN</td>\n",
       "    </tr>\n",
       "    <tr>\n",
       "      <th>4260</th>\n",
       "      <td>4260</td>\n",
       "      <td>03atvow8404tatt2iixjds03atvownkz</td>\n",
       "      <td>36.0</td>\n",
       "      <td>35-39</td>\n",
       "      <td>Masculino</td>\n",
       "      <td>Parda</td>\n",
       "      <td>Não</td>\n",
       "      <td>Não acredito que minha experiência profissiona...</td>\n",
       "      <td>NaN</td>\n",
       "      <td>True</td>\n",
       "      <td>...</td>\n",
       "      <td>NaN</td>\n",
       "      <td>NaN</td>\n",
       "      <td>NaN</td>\n",
       "      <td>NaN</td>\n",
       "      <td>NaN</td>\n",
       "      <td>NaN</td>\n",
       "      <td>NaN</td>\n",
       "      <td>NaN</td>\n",
       "      <td>NaN</td>\n",
       "      <td>NaN</td>\n",
       "    </tr>\n",
       "    <tr>\n",
       "      <th>4261</th>\n",
       "      <td>4261</td>\n",
       "      <td>02xomoejng6c9152kde02xomww412qpg</td>\n",
       "      <td>33.0</td>\n",
       "      <td>30-34</td>\n",
       "      <td>Masculino</td>\n",
       "      <td>Branca</td>\n",
       "      <td>Não</td>\n",
       "      <td>NaN</td>\n",
       "      <td>NaN</td>\n",
       "      <td>True</td>\n",
       "      <td>...</td>\n",
       "      <td>NaN</td>\n",
       "      <td>NaN</td>\n",
       "      <td>NaN</td>\n",
       "      <td>NaN</td>\n",
       "      <td>NaN</td>\n",
       "      <td>NaN</td>\n",
       "      <td>NaN</td>\n",
       "      <td>NaN</td>\n",
       "      <td>NaN</td>\n",
       "      <td>NaN</td>\n",
       "    </tr>\n",
       "  </tbody>\n",
       "</table>\n",
       "<p>577 rows × 28 columns</p>\n",
       "</div>"
      ],
      "text/plain": [
       "      Unnamed: 0                                ID  IDADE FAIXA IDADE  \\\n",
       "12            12  zwr9hqcpg513kaopenzwr9hibaqmldto   31.0       30-34   \n",
       "28            28  ztgepgj82o9oix0nztgepq2trcay6gpv   24.0       22-24   \n",
       "34            34  zsa9i6njd3e594mw0tvlk4zsa9iw86i9   24.0       22-24   \n",
       "39            39  zr4b2vm7dapp3linwqwn7zr4b2vmagqx   32.0       30-34   \n",
       "63            63  zm7o5yquakof0j6zm7vh3o0letznhdvh   26.0       25-29   \n",
       "...          ...                               ...    ...         ...   \n",
       "4242        4242  09oxwp6lsdwhw09ox1uobuxa8cq2pzma   26.0       25-29   \n",
       "4252        4252  064pe9b1htw7mflhif064pe95dotv6yf   39.0       35-39   \n",
       "4258        4258  03zjgijmnwv9qrlzbr03zjgij1eae1hw   25.0       25-29   \n",
       "4260        4260  03atvow8404tatt2iixjds03atvownkz   36.0       35-39   \n",
       "4261        4261  02xomoejng6c9152kde02xomww412qpg   33.0       30-34   \n",
       "\n",
       "         GENERO COR/RACA/ETNIA  PCD  \\\n",
       "12    Masculino         Branca  Não   \n",
       "28     Feminino          Parda  Não   \n",
       "34     Feminino         Branca  Não   \n",
       "39    Masculino          Parda  Não   \n",
       "63    Masculino         Branca  Não   \n",
       "...         ...            ...  ...   \n",
       "4242  Masculino         Branca  Não   \n",
       "4252  Masculino          Parda  Não   \n",
       "4258   Feminino         Branca  Não   \n",
       "4260  Masculino          Parda  Não   \n",
       "4261  Masculino         Branca  Não   \n",
       "\n",
       "                   EXPERIENCIA_PROFISSIONAL_PREJUDICADA  \\\n",
       "12                                                  NaN   \n",
       "28    Sim, acredito que a minha a experiência profis...   \n",
       "34    Sim, acredito que a minha a experiência profis...   \n",
       "39    Não acredito que minha experiência profissiona...   \n",
       "63                                                  NaN   \n",
       "...                                                 ...   \n",
       "4242                                                NaN   \n",
       "4252  Não acredito que minha experiência profissiona...   \n",
       "4258  Sim, acredito que a minha a experiência profis...   \n",
       "4260  Não acredito que minha experiência profissiona...   \n",
       "4261                                                NaN   \n",
       "\n",
       "                                  ASPECTOS_PREJUDICADOS  VIVE_NO_BRASIL  ...  \\\n",
       "12                                                  NaN            True  ...   \n",
       "28         Aprovação em processos seletivos/entrevistas            True  ...   \n",
       "34    Quantidade de oportunidades de emprego/vagas r...            True  ...   \n",
       "39                                                  NaN            True  ...   \n",
       "63                                                  NaN            True  ...   \n",
       "...                                                 ...             ...  ...   \n",
       "4242                                                NaN            True  ...   \n",
       "4252                                                NaN            True  ...   \n",
       "4258  Senioridade das vagas recebidas em relação à s...            True  ...   \n",
       "4260                                                NaN            True  ...   \n",
       "4261                                                NaN            True  ...   \n",
       "\n",
       "     SETOR NUMERO DE FUNCIONARIOS GESTOR?  CARGO COMO GESTOR CARGO ATUAL  \\\n",
       "12     NaN                    NaN     NaN                NaN         NaN   \n",
       "28     NaN                    NaN     NaN                NaN         NaN   \n",
       "34     NaN                    NaN     NaN                NaN         NaN   \n",
       "39     NaN                    NaN     NaN                NaN         NaN   \n",
       "63     NaN                    NaN     NaN                NaN         NaN   \n",
       "...    ...                    ...     ...                ...         ...   \n",
       "4242   NaN                    NaN     NaN                NaN         NaN   \n",
       "4252   NaN                    NaN     NaN                NaN         NaN   \n",
       "4258   NaN                    NaN     NaN                NaN         NaN   \n",
       "4260   NaN                    NaN     NaN                NaN         NaN   \n",
       "4261   NaN                    NaN     NaN                NaN         NaN   \n",
       "\n",
       "     NIVEL FAIXA SALARIAL  \\\n",
       "12     NaN            NaN   \n",
       "28     NaN            NaN   \n",
       "34     NaN            NaN   \n",
       "39     NaN            NaN   \n",
       "63     NaN            NaN   \n",
       "...    ...            ...   \n",
       "4242   NaN            NaN   \n",
       "4252   NaN            NaN   \n",
       "4258   NaN            NaN   \n",
       "4260   NaN            NaN   \n",
       "4261   NaN            NaN   \n",
       "\n",
       "     QUANTO TEMPO DE EXPERIÊNCIA NA ÁREA DE DADOS VOCÊ TEM?  \\\n",
       "12                                                  NaN       \n",
       "28                                                  NaN       \n",
       "34                                                  NaN       \n",
       "39                                                  NaN       \n",
       "63                                                  NaN       \n",
       "...                                                 ...       \n",
       "4242                                                NaN       \n",
       "4252                                                NaN       \n",
       "4258                                                NaN       \n",
       "4260                                                NaN       \n",
       "4261                                                NaN       \n",
       "\n",
       "     QUANTO TEMPO DE EXPERIÊNCIA NA ÁREA DE TI/ENGENHARIA DE SOFTWARE VOCÊ TEVE ANTES DE COMEÇAR A TRABALHAR NA ÁREA DE DADOS?  \\\n",
       "12                                                  NaN                                                                          \n",
       "28                                                  NaN                                                                          \n",
       "34                                                  NaN                                                                          \n",
       "39                                                  NaN                                                                          \n",
       "63                                                  NaN                                                                          \n",
       "...                                                 ...                                                                          \n",
       "4242                                                NaN                                                                          \n",
       "4252                                                NaN                                                                          \n",
       "4258                                                NaN                                                                          \n",
       "4260                                                NaN                                                                          \n",
       "4261                                                NaN                                                                          \n",
       "\n",
       "     SALARIO  \n",
       "12       NaN  \n",
       "28       NaN  \n",
       "34       NaN  \n",
       "39       NaN  \n",
       "63       NaN  \n",
       "...      ...  \n",
       "4242     NaN  \n",
       "4252     NaN  \n",
       "4258     NaN  \n",
       "4260     NaN  \n",
       "4261     NaN  \n",
       "\n",
       "[577 rows x 28 columns]"
      ]
     },
     "execution_count": 191,
     "metadata": {},
     "output_type": "execute_result"
    }
   ],
   "source": [
    "dados[dados['SALARIO'].isnull()]"
   ]
  },
  {
   "cell_type": "code",
   "execution_count": 192,
   "id": "05b04990",
   "metadata": {},
   "outputs": [
    {
     "data": {
      "text/plain": [
       "Series([], Name: count, dtype: int64)"
      ]
     },
     "execution_count": 192,
     "metadata": {},
     "output_type": "execute_result"
    }
   ],
   "source": [
    "dados[dados['SALARIO'].isnull()]['FAIXA SALARIAL'].value_counts()\n",
    "# quem não preencheu salário, também não preencheu faixa salarial"
   ]
  },
  {
   "cell_type": "code",
   "execution_count": 193,
   "id": "c907508a",
   "metadata": {},
   "outputs": [],
   "source": [
    "## completando pela mediana\n",
    "mediana_salario = dados[dados['SALARIO'].notnull()]['SALARIO'].median()"
   ]
  },
  {
   "cell_type": "code",
   "execution_count": 194,
   "id": "50ed224a",
   "metadata": {},
   "outputs": [],
   "source": [
    "dados.loc[dados['SALARIO'].isnull(), 'SALARIO'] = mediana_salario"
   ]
  },
  {
   "cell_type": "markdown",
   "id": "b745658f",
   "metadata": {},
   "source": [
    "## Valores Discrepantes (Outliers)"
   ]
  },
  {
   "cell_type": "code",
   "execution_count": 195,
   "id": "5fc974eb",
   "metadata": {},
   "outputs": [],
   "source": [
    "import matplotlib.pyplot as plt"
   ]
  },
  {
   "cell_type": "code",
   "execution_count": 196,
   "id": "4c89001f",
   "metadata": {},
   "outputs": [
    {
     "data": {
      "text/plain": [
       "{'whiskers': [<matplotlib.lines.Line2D at 0x1b0680b8ed0>,\n",
       "  <matplotlib.lines.Line2D at 0x1b0680a9210>],\n",
       " 'caps': [<matplotlib.lines.Line2D at 0x1b0680a8e10>,\n",
       "  <matplotlib.lines.Line2D at 0x1b0680a8050>],\n",
       " 'boxes': [<matplotlib.lines.Line2D at 0x1b0680bbd10>],\n",
       " 'medians': [<matplotlib.lines.Line2D at 0x1b0680abd90>],\n",
       " 'fliers': [<matplotlib.lines.Line2D at 0x1b068095c50>],\n",
       " 'means': []}"
      ]
     },
     "execution_count": 196,
     "metadata": {},
     "output_type": "execute_result"
    },
    {
     "data": {
      "image/png": "[encoded data removed]",
      "text/plain": [
       "<Figure size 640x480 with 1 Axes>"
      ]
     },
     "metadata": {},
     "output_type": "display_data"
    }
   ],
   "source": [
    "plt.boxplot(dados['SALARIO'])"
   ]
  },
  {
   "cell_type": "code",
   "execution_count": 197,
   "id": "c7c5f6c9",
   "metadata": {},
   "outputs": [
    {
     "data": {
      "text/plain": [
       "count      4271.000000\n",
       "mean      10517.533482\n",
       "std       18096.210989\n",
       "min          35.000000\n",
       "25%        4751.500000\n",
       "50%        7625.500000\n",
       "75%       11794.500000\n",
       "max      485191.000000\n",
       "Name: SALARIO, dtype: float64"
      ]
     },
     "execution_count": 197,
     "metadata": {},
     "output_type": "execute_result"
    }
   ],
   "source": [
    "dados['SALARIO'].describe()"
   ]
  },
  {
   "cell_type": "code",
   "execution_count": 198,
   "id": "50d66158",
   "metadata": {},
   "outputs": [],
   "source": [
    "Q3 = dados['SALARIO'].quantile(.25)\n",
    "Q1 = dados['SALARIO'].quantile(.75)\n",
    "IQR = Q3 - Q1\n",
    "limSup = Q3 + (1.5*IQR)\n",
    "limInf = Q1 - (1.5*IQR)"
   ]
  },
  {
   "cell_type": "code",
   "execution_count": 199,
   "id": "eacec640",
   "metadata": {},
   "outputs": [
    {
     "data": {
      "text/plain": [
       "FAIXA SALARIAL\n",
       "de R$ 8.001/mês a R$ 12.000/mês     752\n",
       "de R$ 4.001/mês a R$ 6.000/mês      584\n",
       "de R$ 6.001/mês a R$ 8.000/mês      527\n",
       "de R$ 12.001/mês a R$ 16.000/mês    437\n",
       "de R$ 3.001/mês a R$ 4.000/mês      303\n",
       "de R$ 2.001/mês a R$ 3.000/mês      285\n",
       "de R$ 16.001/mês a R$ 20.000/mês    229\n",
       "de R$ 1.001/mês a R$ 2.000/mês      216\n",
       "de R$ 20.001/mês a R$ 25.000/mês    134\n",
       "de R$ 25.001/mês a R$ 30.000/mês     77\n",
       "de R$ 30.001/mês a R$ 40.000/mês     70\n",
       "Acima de R$ 40.001/mês               45\n",
       "Menos de R$ 1.000/mês                35\n",
       "Name: count, dtype: int64"
      ]
     },
     "execution_count": 199,
     "metadata": {},
     "output_type": "execute_result"
    }
   ],
   "source": [
    "dados['FAIXA SALARIAL'].value_counts()"
   ]
  },
  {
   "cell_type": "code",
   "execution_count": 200,
   "id": "3900acca",
   "metadata": {},
   "outputs": [],
   "source": [
    "media_salario = dados['SALARIO'].mean()"
   ]
  },
  {
   "cell_type": "code",
   "execution_count": 201,
   "id": "d67b417e",
   "metadata": {},
   "outputs": [],
   "source": [
    "desvio_salario = dados['SALARIO'].std()"
   ]
  },
  {
   "cell_type": "code",
   "execution_count": 202,
   "id": "3efd8f54",
   "metadata": {},
   "outputs": [],
   "source": [
    "limite_superior = media_salario +3*desvio_salario"
   ]
  },
  {
   "cell_type": "code",
   "execution_count": 203,
   "id": "f4c7b5dc",
   "metadata": {},
   "outputs": [
    {
     "data": {
      "text/plain": [
       "64806.166448975964"
      ]
     },
     "execution_count": 203,
     "metadata": {},
     "output_type": "execute_result"
    }
   ],
   "source": [
    "limite_superior"
   ]
  },
  {
   "cell_type": "code",
   "execution_count": 204,
   "id": "35181d22",
   "metadata": {},
   "outputs": [
    {
     "data": {
      "text/plain": [
       "FAIXA SALARIAL\n",
       "Acima de R$ 40.001/mês              19\n",
       "de R$ 30.001/mês a R$ 40.000/mês     3\n",
       "Name: count, dtype: int64"
      ]
     },
     "execution_count": 204,
     "metadata": {},
     "output_type": "execute_result"
    }
   ],
   "source": [
    "dados[dados['SALARIO']> limite_superior]['FAIXA SALARIAL'].value_counts()"
   ]
  },
  {
   "cell_type": "code",
   "execution_count": 205,
   "id": "b52d398e",
   "metadata": {},
   "outputs": [],
   "source": [
    "media_30_40 = dados[(dados['FAIXA SALARIAL']== 'de R$ 30.001/mês a R$ 40.000/mês')&(dados['SALARIO']<limite_superior)]['SALARIO'].mean()"
   ]
  },
  {
   "cell_type": "code",
   "execution_count": 206,
   "id": "9ad11474",
   "metadata": {},
   "outputs": [],
   "source": [
    "# substituindo os dados discrepante entre 30 e 40k\n",
    "dados.loc[(dados['FAIXA SALARIAL']== 'de R$ 30.001/mês a R$ 40.000/mês')&(dados['SALARIO']>limite_superior), 'SALARIO'] = media_30_40"
   ]
  },
  {
   "cell_type": "code",
   "execution_count": 207,
   "id": "4292ef0c",
   "metadata": {},
   "outputs": [],
   "source": [
    "media_40 = dados[(dados['FAIXA SALARIAL']== 'Acima de R$ 40.001/mês')&(dados['SALARIO']<limite_superior)]['SALARIO'].mean()\n",
    "dados.loc[(dados['FAIXA SALARIAL']== 'Acima de R$ 40.001/mês')&(dados['SALARIO']>limite_superior), 'SALARIO'] = media_40"
   ]
  },
  {
   "cell_type": "code",
   "execution_count": 208,
   "id": "1598dae2",
   "metadata": {},
   "outputs": [
    {
     "data": {
      "text/plain": [
       "Series([], Name: count, dtype: int64)"
      ]
     },
     "execution_count": 208,
     "metadata": {},
     "output_type": "execute_result"
    }
   ],
   "source": [
    "## conferindo se ainda tem dados discrepantes\n",
    "dados[dados['SALARIO']> limite_superior]['FAIXA SALARIAL'].value_counts()"
   ]
  },
  {
   "cell_type": "code",
   "execution_count": 209,
   "id": "9ef8b3e5",
   "metadata": {},
   "outputs": [
    {
     "data": {
      "text/plain": [
       "{'whiskers': [<matplotlib.lines.Line2D at 0x1b0681d67d0>,\n",
       "  <matplotlib.lines.Line2D at 0x1b061f90210>],\n",
       " 'caps': [<matplotlib.lines.Line2D at 0x1b06805c710>,\n",
       "  <matplotlib.lines.Line2D at 0x1b06805ed90>],\n",
       " 'boxes': [<matplotlib.lines.Line2D at 0x1b068190c50>],\n",
       " 'medians': [<matplotlib.lines.Line2D at 0x1b06805cf50>],\n",
       " 'fliers': [<matplotlib.lines.Line2D at 0x1b06805f5d0>],\n",
       " 'means': []}"
      ]
     },
     "execution_count": 209,
     "metadata": {},
     "output_type": "execute_result"
    },
    {
     "data": {
      "image/png": "[encoded data removed]",
      "text/plain": [
       "<Figure size 640x480 with 1 Axes>"
      ]
     },
     "metadata": {},
     "output_type": "display_data"
    }
   ],
   "source": [
    "plt.boxplot(dados['SALARIO'])"
   ]
  },
  {
   "cell_type": "markdown",
   "id": "e4fac0ad",
   "metadata": {},
   "source": [
    "## Distribuição Amostral e Intervalo de Confiança"
   ]
  },
  {
   "cell_type": "code",
   "execution_count": 210,
   "id": "a6aa7f8a",
   "metadata": {},
   "outputs": [],
   "source": [
    "salarios = dados['SALARIO']"
   ]
  },
  {
   "cell_type": "code",
   "execution_count": 211,
   "id": "f150c91c",
   "metadata": {},
   "outputs": [
    {
     "data": {
      "text/plain": [
       "9904.390109813306"
      ]
     },
     "execution_count": 211,
     "metadata": {},
     "output_type": "execute_result"
    }
   ],
   "source": [
    "media_amostral = np.mean(salarios)\n",
    "media_amostral"
   ]
  },
  {
   "cell_type": "code",
   "execution_count": 212,
   "id": "e7b35699",
   "metadata": {},
   "outputs": [
    {
     "data": {
      "text/plain": [
       "8306.104872579352"
      ]
     },
     "execution_count": 212,
     "metadata": {},
     "output_type": "execute_result"
    }
   ],
   "source": [
    "desvio_amostral = np.std(salarios)\n",
    "desvio_amostral"
   ]
  },
  {
   "cell_type": "code",
   "execution_count": 213,
   "id": "afff95a4",
   "metadata": {},
   "outputs": [],
   "source": [
    "# confiança de 95%\n",
    "nivel_confianca = 0.95"
   ]
  },
  {
   "cell_type": "code",
   "execution_count": 214,
   "id": "acbe73ce",
   "metadata": {},
   "outputs": [
    {
     "data": {
      "text/plain": [
       "4271"
      ]
     },
     "execution_count": 214,
     "metadata": {},
     "output_type": "execute_result"
    }
   ],
   "source": [
    "tamanho_amostra = len(salarios)\n",
    "tamanho_amostra"
   ]
  },
  {
   "cell_type": "code",
   "execution_count": 215,
   "id": "a9be8168",
   "metadata": {},
   "outputs": [],
   "source": [
    "from scipy import stats"
   ]
  },
  {
   "cell_type": "code",
   "execution_count": 216,
   "id": "52ee7c2b",
   "metadata": {},
   "outputs": [
    {
     "data": {
      "text/plain": [
       "127.11109872023638"
      ]
     },
     "execution_count": 216,
     "metadata": {},
     "output_type": "execute_result"
    }
   ],
   "source": [
    "erro_padrao = stats.sem(salarios) # calcula o erro médio padrão da amostra\n",
    "erro_padrao"
   ]
  },
  {
   "cell_type": "code",
   "execution_count": 217,
   "id": "9c05c5e4",
   "metadata": {},
   "outputs": [],
   "source": [
    "grau_liberdade = tamanho_amostra - 1"
   ]
  },
  {
   "cell_type": "code",
   "execution_count": 218,
   "id": "d27aee61",
   "metadata": {},
   "outputs": [
    {
     "data": {
      "text/plain": [
       "(9655.186295869078, 10153.593923757535)"
      ]
     },
     "execution_count": 218,
     "metadata": {},
     "output_type": "execute_result"
    }
   ],
   "source": [
    "intervalo_confianca = stats.t.interval(nivel_confianca,grau_liberdade, loc = media_amostral, scale= erro_padrao)\n",
    "intervalo_confianca"
   ]
  },
  {
   "cell_type": "markdown",
   "id": "1f21bc1b",
   "metadata": {},
   "source": [
    "com 95% de confiança que a média salarial está entre 9655,19 reais e 10153,60 reais"
   ]
  },
  {
   "cell_type": "code",
   "execution_count": 219,
   "id": "502d272e",
   "metadata": {},
   "outputs": [
    {
     "data": {
      "text/plain": [
       "(9485.83782074697, 10322.942398879646)"
      ]
     },
     "execution_count": 219,
     "metadata": {},
     "output_type": "execute_result"
    }
   ],
   "source": [
    "intervalo_confianca = stats.t.interval(0.999,grau_liberdade, loc = media_amostral, scale= erro_padrao)\n",
    "intervalo_confianca"
   ]
  },
  {
   "cell_type": "code",
   "execution_count": 220,
   "id": "99caa058",
   "metadata": {},
   "outputs": [
    {
     "data": {
      "text/plain": [
       "(9772.631922207403, 10036.14829741921)"
      ]
     },
     "execution_count": 220,
     "metadata": {},
     "output_type": "execute_result"
    }
   ],
   "source": [
    "intervalo_confianca = stats.t.interval(0.70,grau_liberdade, loc = media_amostral, scale= erro_padrao)\n",
    "intervalo_confianca"
   ]
  },
  {
   "cell_type": "markdown",
   "id": "04652319",
   "metadata": {},
   "source": [
    "-----"
   ]
  },
  {
   "cell_type": "markdown",
   "id": "8b784ffd",
   "metadata": {},
   "source": [
    "# Módulo 5 - Mais sobre análises estatísticas em Python"
   ]
  },
  {
   "cell_type": "markdown",
   "id": "6aa7585c",
   "metadata": {},
   "source": [
    "## Featuring engineering"
   ]
  },
  {
   "cell_type": "code",
   "execution_count": 221,
   "id": "d0a78301",
   "metadata": {},
   "outputs": [],
   "source": [
    "def preencher_nivel(gestor, nivel):\n",
    "    if gestor == 1:\n",
    "        return \"Pessoa Gestora\"\n",
    "    else:\n",
    "        return nivel"
   ]
  },
  {
   "cell_type": "code",
   "execution_count": 222,
   "id": "cfe2a88d",
   "metadata": {},
   "outputs": [],
   "source": [
    "dados['NOVO_NIVEL'] = dados.apply(lambda x: preencher_nivel(x['GESTOR?'], x['NIVEL']), axis = 1)"
   ]
  },
  {
   "cell_type": "code",
   "execution_count": 223,
   "id": "9be6057d",
   "metadata": {},
   "outputs": [
    {
     "data": {
      "text/plain": [
       "NOVO_NIVEL\n",
       "Pleno             1060\n",
       "Júnior            1023\n",
       "Sênior             898\n",
       "Pessoa Gestora     713\n",
       "Name: count, dtype: int64"
      ]
     },
     "execution_count": 223,
     "metadata": {},
     "output_type": "execute_result"
    }
   ],
   "source": [
    "dados['NOVO_NIVEL'].value_counts()"
   ]
  },
  {
   "cell_type": "code",
   "execution_count": 224,
   "id": "120a9171",
   "metadata": {},
   "outputs": [],
   "source": [
    "dados = pd.get_dummies(dados, columns= ['NIVEL'])"
   ]
  },
  {
   "cell_type": "code",
   "execution_count": 225,
   "id": "1dfe8042",
   "metadata": {},
   "outputs": [],
   "source": [
    "def determinar_geracao(idade):\n",
    "    if   39 < idade <= 58:\n",
    "        return 'Geração X'\n",
    "    elif 29 < idade <= 39:\n",
    "        return 'Millenial'\n",
    "    elif 13 < idade <= 29:\n",
    "        return 'Geração Z'\n",
    "    else:\n",
    "        return 'Outra Geração'"
   ]
  },
  {
   "cell_type": "code",
   "execution_count": 226,
   "id": "328cbd6b",
   "metadata": {},
   "outputs": [],
   "source": [
    "dados['GERAÇÃO'] = dados['IDADE'].apply(determinar_geracao)"
   ]
  },
  {
   "cell_type": "code",
   "execution_count": 227,
   "id": "6170794b",
   "metadata": {},
   "outputs": [
    {
     "data": {
      "text/plain": [
       "GERAÇÃO\n",
       "Geração Z    1999\n",
       "Millenial    1761\n",
       "Geração X     511\n",
       "Name: count, dtype: int64"
      ]
     },
     "execution_count": 227,
     "metadata": {},
     "output_type": "execute_result"
    }
   ],
   "source": [
    "dados['GERAÇÃO'].value_counts()"
   ]
  },
  {
   "cell_type": "code",
   "execution_count": 228,
   "id": "ef59db0f",
   "metadata": {},
   "outputs": [],
   "source": [
    "dados2 = pd.read_excel('arquivos_conteudo/Planilha_Aula_parte2.xlsx')"
   ]
  },
  {
   "cell_type": "code",
   "execution_count": 229,
   "id": "509eae79",
   "metadata": {},
   "outputs": [
    {
     "data": {
      "text/html": [
       "<div>\n",
       "<style scoped>\n",
       "    .dataframe tbody tr th:only-of-type {\n",
       "        vertical-align: middle;\n",
       "    }\n",
       "\n",
       "    .dataframe tbody tr th {\n",
       "        vertical-align: top;\n",
       "    }\n",
       "\n",
       "    .dataframe thead th {\n",
       "        text-align: right;\n",
       "    }\n",
       "</style>\n",
       "<table border=\"1\" class=\"dataframe\">\n",
       "  <thead>\n",
       "    <tr style=\"text-align: right;\">\n",
       "      <th></th>\n",
       "      <th>ID</th>\n",
       "      <th>Quanto tempo de experiência na área de dados você tem?</th>\n",
       "      <th>Quanto tempo de experiência na área de TI/Engenharia de Software você teve antes de começar a trabalhar na área de dados?</th>\n",
       "      <th>Você está satisfeito na sua empresa atual?</th>\n",
       "      <th>Qual o principal motivo da sua insatisfação com a empresa atual?</th>\n",
       "      <th>Você participou de entrevistas de emprego nos últimos 6 meses?</th>\n",
       "      <th>Você pretende mudar de emprego nos próximos 6 meses?</th>\n",
       "      <th>Quais os principais critérios que você leva em consideração no momento de decidir onde trabalhar?</th>\n",
       "      <th>Atualmente qual a sua forma de trabalho?</th>\n",
       "      <th>Qual a forma de trabalho ideal para você?</th>\n",
       "      <th>Caso sua empresa decida pelo modelo 100% presencial qual será sua atitude?</th>\n",
       "      <th>Sua empresa passu por Layoff em 2022?</th>\n",
       "      <th>Atuacao</th>\n",
       "      <th>Quais das linguagens listadas abaixo você utiliza no trabalho?</th>\n",
       "    </tr>\n",
       "  </thead>\n",
       "  <tbody>\n",
       "    <tr>\n",
       "      <th>0</th>\n",
       "      <td>zzqzz3l9ily8nuo2m7wyzzqzz3w48o96</td>\n",
       "      <td>de 1 a 2 anos</td>\n",
       "      <td>de 7 a 10 anos</td>\n",
       "      <td>True</td>\n",
       "      <td>NaN</td>\n",
       "      <td>Não participei de entrevistas de emprego/proce...</td>\n",
       "      <td>Não estou buscando e não pretendo mudar de emp...</td>\n",
       "      <td>Benefícios</td>\n",
       "      <td>Modelo 100% presencial</td>\n",
       "      <td>Modelo híbrido com dias fixos de trabalho pres...</td>\n",
       "      <td>Vou aceitar e retornar ao modelo 100% presencial</td>\n",
       "      <td>Não ocorreram layoffs/demissões em massa na em...</td>\n",
       "      <td>Engenharia de Dados</td>\n",
       "      <td>SQL</td>\n",
       "    </tr>\n",
       "    <tr>\n",
       "      <th>1</th>\n",
       "      <td>zzls2oftfn9law393oezzls2ofhvfpzd</td>\n",
       "      <td>de 3 a 4 anos</td>\n",
       "      <td>Menos de 1 ano</td>\n",
       "      <td>False</td>\n",
       "      <td>Falta de oportunidade de crescimento no empreg...</td>\n",
       "      <td>Sim, fiz entrevistas mas não fui aprovado</td>\n",
       "      <td>Estou em busca de oportunidades dentro ou fora...</td>\n",
       "      <td>Remuneração/Salário, Plano de carreira e oport...</td>\n",
       "      <td>Modelo 100% presencial</td>\n",
       "      <td>Modelo híbrido flexível (o funcionário tem lib...</td>\n",
       "      <td>Vou aceitar e retornar ao modelo 100% presencial</td>\n",
       "      <td>Não ocorreram layoffs/demissões em massa na em...</td>\n",
       "      <td>Gestor</td>\n",
       "      <td>NaN</td>\n",
       "    </tr>\n",
       "    <tr>\n",
       "      <th>2</th>\n",
       "      <td>zzdwqzfqqp1ypc7ps6m0hzzdwqz292yi</td>\n",
       "      <td>de 3 a 4 anos</td>\n",
       "      <td>Mais de 10 anos</td>\n",
       "      <td>False</td>\n",
       "      <td>Falta de oportunidade de crescimento no empreg...</td>\n",
       "      <td>Não participei de entrevistas de emprego/proce...</td>\n",
       "      <td>Não estou buscando, mas me considero aberto a ...</td>\n",
       "      <td>Remuneração/Salário, Flexibilidade de trabalho...</td>\n",
       "      <td>Modelo híbrido com dias fixos de trabalho pres...</td>\n",
       "      <td>Modelo híbrido flexível (o funcionário tem lib...</td>\n",
       "      <td>Vou procurar outra oportunidade no modelo híbr...</td>\n",
       "      <td>Não ocorreram layoffs/demissões em massa na em...</td>\n",
       "      <td>desenvolve modelos preditivos e algoritmos de...</td>\n",
       "      <td>1</td>\n",
       "    </tr>\n",
       "    <tr>\n",
       "      <th>3</th>\n",
       "      <td>zzbqh3uy7yk7k9qmkzzbqtb4s9faqspl</td>\n",
       "      <td>de 4 a 6 anos</td>\n",
       "      <td>Não tive experiência na área de TI/Engenharia ...</td>\n",
       "      <td>True</td>\n",
       "      <td>NaN</td>\n",
       "      <td>Sim, fui aprovado e mudei de emprego</td>\n",
       "      <td>Não estou buscando, mas me considero aberto a ...</td>\n",
       "      <td>Remuneração/Salário, Flexibilidade de trabalho...</td>\n",
       "      <td>Modelo híbrido flexível (o funcionário tem lib...</td>\n",
       "      <td>Modelo híbrido flexível (o funcionário tem lib...</td>\n",
       "      <td>Vou procurar outra oportunidade no modelo híbr...</td>\n",
       "      <td>Não ocorreram layoffs/demissões em massa na em...</td>\n",
       "      <td>desenvolve modelos preditivos e algoritmos de...</td>\n",
       "      <td>0</td>\n",
       "    </tr>\n",
       "    <tr>\n",
       "      <th>4</th>\n",
       "      <td>zzaf1m95yan929rb94wzzaf1mekhvhpg</td>\n",
       "      <td>Não tenho experiência na área de dados</td>\n",
       "      <td>Mais de 10 anos</td>\n",
       "      <td>False</td>\n",
       "      <td>Falta de oportunidade de crescimento no empreg...</td>\n",
       "      <td>Não participei de entrevistas de emprego/proce...</td>\n",
       "      <td>Não estou buscando, mas me considero aberto a ...</td>\n",
       "      <td>Remuneração/Salário, Oportunidade de aprendiza...</td>\n",
       "      <td>Modelo 100% presencial</td>\n",
       "      <td>Modelo 100% presencial</td>\n",
       "      <td>Vou aceitar e retornar ao modelo 100% presencial</td>\n",
       "      <td>Não ocorreram layoffs/demissões em massa na em...</td>\n",
       "      <td>Outra atuação</td>\n",
       "      <td>SQL</td>\n",
       "    </tr>\n",
       "  </tbody>\n",
       "</table>\n",
       "</div>"
      ],
      "text/plain": [
       "                                 ID  \\\n",
       "0  zzqzz3l9ily8nuo2m7wyzzqzz3w48o96   \n",
       "1  zzls2oftfn9law393oezzls2ofhvfpzd   \n",
       "2  zzdwqzfqqp1ypc7ps6m0hzzdwqz292yi   \n",
       "3  zzbqh3uy7yk7k9qmkzzbqtb4s9faqspl   \n",
       "4  zzaf1m95yan929rb94wzzaf1mekhvhpg   \n",
       "\n",
       "  Quanto tempo de experiência na área de dados você tem?  \\\n",
       "0                                      de 1 a 2 anos       \n",
       "1                                      de 3 a 4 anos       \n",
       "2                                      de 3 a 4 anos       \n",
       "3                                      de 4 a 6 anos       \n",
       "4             Não tenho experiência na área de dados       \n",
       "\n",
       "  Quanto tempo de experiência na área de TI/Engenharia de Software você teve antes de começar a trabalhar na área de dados?  \\\n",
       "0                                     de 7 a 10 anos                                                                          \n",
       "1                                     Menos de 1 ano                                                                          \n",
       "2                                    Mais de 10 anos                                                                          \n",
       "3  Não tive experiência na área de TI/Engenharia ...                                                                          \n",
       "4                                    Mais de 10 anos                                                                          \n",
       "\n",
       "  Você está satisfeito na sua empresa atual?  \\\n",
       "0                                       True   \n",
       "1                                      False   \n",
       "2                                      False   \n",
       "3                                       True   \n",
       "4                                      False   \n",
       "\n",
       "  Qual o principal motivo da sua insatisfação com a empresa atual?  \\\n",
       "0                                                NaN                 \n",
       "1  Falta de oportunidade de crescimento no empreg...                 \n",
       "2  Falta de oportunidade de crescimento no empreg...                 \n",
       "3                                                NaN                 \n",
       "4  Falta de oportunidade de crescimento no empreg...                 \n",
       "\n",
       "  Você participou de entrevistas de emprego nos últimos 6 meses?  \\\n",
       "0  Não participei de entrevistas de emprego/proce...               \n",
       "1          Sim, fiz entrevistas mas não fui aprovado               \n",
       "2  Não participei de entrevistas de emprego/proce...               \n",
       "3               Sim, fui aprovado e mudei de emprego               \n",
       "4  Não participei de entrevistas de emprego/proce...               \n",
       "\n",
       "  Você pretende mudar de emprego nos próximos 6 meses?  \\\n",
       "0  Não estou buscando e não pretendo mudar de emp...     \n",
       "1  Estou em busca de oportunidades dentro ou fora...     \n",
       "2  Não estou buscando, mas me considero aberto a ...     \n",
       "3  Não estou buscando, mas me considero aberto a ...     \n",
       "4  Não estou buscando, mas me considero aberto a ...     \n",
       "\n",
       "  Quais os principais critérios que você leva em consideração no momento de decidir onde trabalhar?  \\\n",
       "0                                         Benefícios                                                  \n",
       "1  Remuneração/Salário, Plano de carreira e oport...                                                  \n",
       "2  Remuneração/Salário, Flexibilidade de trabalho...                                                  \n",
       "3  Remuneração/Salário, Flexibilidade de trabalho...                                                  \n",
       "4  Remuneração/Salário, Oportunidade de aprendiza...                                                  \n",
       "\n",
       "            Atualmente qual a sua forma de trabalho?  \\\n",
       "0                             Modelo 100% presencial   \n",
       "1                             Modelo 100% presencial   \n",
       "2  Modelo híbrido com dias fixos de trabalho pres...   \n",
       "3  Modelo híbrido flexível (o funcionário tem lib...   \n",
       "4                             Modelo 100% presencial   \n",
       "\n",
       "           Qual a forma de trabalho ideal para você?  \\\n",
       "0  Modelo híbrido com dias fixos de trabalho pres...   \n",
       "1  Modelo híbrido flexível (o funcionário tem lib...   \n",
       "2  Modelo híbrido flexível (o funcionário tem lib...   \n",
       "3  Modelo híbrido flexível (o funcionário tem lib...   \n",
       "4                             Modelo 100% presencial   \n",
       "\n",
       "  Caso sua empresa decida pelo modelo 100% presencial qual será sua atitude?  \\\n",
       "0   Vou aceitar e retornar ao modelo 100% presencial                           \n",
       "1   Vou aceitar e retornar ao modelo 100% presencial                           \n",
       "2  Vou procurar outra oportunidade no modelo híbr...                           \n",
       "3  Vou procurar outra oportunidade no modelo híbr...                           \n",
       "4   Vou aceitar e retornar ao modelo 100% presencial                           \n",
       "\n",
       "               Sua empresa passu por Layoff em 2022?  \\\n",
       "0  Não ocorreram layoffs/demissões em massa na em...   \n",
       "1  Não ocorreram layoffs/demissões em massa na em...   \n",
       "2  Não ocorreram layoffs/demissões em massa na em...   \n",
       "3  Não ocorreram layoffs/demissões em massa na em...   \n",
       "4  Não ocorreram layoffs/demissões em massa na em...   \n",
       "\n",
       "                                             Atuacao  \\\n",
       "0                                Engenharia de Dados   \n",
       "1                                             Gestor   \n",
       "2   desenvolve modelos preditivos e algoritmos de...   \n",
       "3   desenvolve modelos preditivos e algoritmos de...   \n",
       "4                                      Outra atuação   \n",
       "\n",
       "  Quais das linguagens listadas abaixo você utiliza no trabalho?  \n",
       "0                                                SQL              \n",
       "1                                                NaN              \n",
       "2                                                  1              \n",
       "3                                                  0              \n",
       "4                                                SQL              "
      ]
     },
     "execution_count": 229,
     "metadata": {},
     "output_type": "execute_result"
    }
   ],
   "source": [
    "dados2.head()"
   ]
  },
  {
   "cell_type": "markdown",
   "id": "31eb5a2c",
   "metadata": {},
   "source": [
    "## Merge"
   ]
  },
  {
   "cell_type": "code",
   "execution_count": 230,
   "id": "5b0bf7fa",
   "metadata": {},
   "outputs": [],
   "source": [
    "dados = dados.merge(dados2, on = 'ID', how = 'left')"
   ]
  },
  {
   "cell_type": "code",
   "execution_count": 231,
   "id": "08e8d277",
   "metadata": {},
   "outputs": [
    {
     "data": {
      "text/html": [
       "<div>\n",
       "<style scoped>\n",
       "    .dataframe tbody tr th:only-of-type {\n",
       "        vertical-align: middle;\n",
       "    }\n",
       "\n",
       "    .dataframe tbody tr th {\n",
       "        vertical-align: top;\n",
       "    }\n",
       "\n",
       "    .dataframe thead th {\n",
       "        text-align: right;\n",
       "    }\n",
       "</style>\n",
       "<table border=\"1\" class=\"dataframe\">\n",
       "  <thead>\n",
       "    <tr style=\"text-align: right;\">\n",
       "      <th></th>\n",
       "      <th>Unnamed: 0</th>\n",
       "      <th>ID</th>\n",
       "      <th>IDADE</th>\n",
       "      <th>FAIXA IDADE</th>\n",
       "      <th>GENERO</th>\n",
       "      <th>COR/RACA/ETNIA</th>\n",
       "      <th>PCD</th>\n",
       "      <th>EXPERIENCIA_PROFISSIONAL_PREJUDICADA</th>\n",
       "      <th>ASPECTOS_PREJUDICADOS</th>\n",
       "      <th>VIVE_NO_BRASIL</th>\n",
       "      <th>...</th>\n",
       "      <th>Qual o principal motivo da sua insatisfação com a empresa atual?</th>\n",
       "      <th>Você participou de entrevistas de emprego nos últimos 6 meses?</th>\n",
       "      <th>Você pretende mudar de emprego nos próximos 6 meses?</th>\n",
       "      <th>Quais os principais critérios que você leva em consideração no momento de decidir onde trabalhar?</th>\n",
       "      <th>Atualmente qual a sua forma de trabalho?</th>\n",
       "      <th>Qual a forma de trabalho ideal para você?</th>\n",
       "      <th>Caso sua empresa decida pelo modelo 100% presencial qual será sua atitude?</th>\n",
       "      <th>Sua empresa passu por Layoff em 2022?</th>\n",
       "      <th>Atuacao</th>\n",
       "      <th>Quais das linguagens listadas abaixo você utiliza no trabalho?</th>\n",
       "    </tr>\n",
       "  </thead>\n",
       "  <tbody>\n",
       "    <tr>\n",
       "      <th>0</th>\n",
       "      <td>0</td>\n",
       "      <td>zzqzz3l9ily8nuo2m7wyzzqzz3w48o96</td>\n",
       "      <td>39.0</td>\n",
       "      <td>35-39</td>\n",
       "      <td>Masculino</td>\n",
       "      <td>Parda</td>\n",
       "      <td>Não</td>\n",
       "      <td>Não acredito que minha experiência profissiona...</td>\n",
       "      <td>NaN</td>\n",
       "      <td>True</td>\n",
       "      <td>...</td>\n",
       "      <td>NaN</td>\n",
       "      <td>Não participei de entrevistas de emprego/proce...</td>\n",
       "      <td>Não estou buscando e não pretendo mudar de emp...</td>\n",
       "      <td>Benefícios</td>\n",
       "      <td>Modelo 100% presencial</td>\n",
       "      <td>Modelo híbrido com dias fixos de trabalho pres...</td>\n",
       "      <td>Vou aceitar e retornar ao modelo 100% presencial</td>\n",
       "      <td>Não ocorreram layoffs/demissões em massa na em...</td>\n",
       "      <td>Engenharia de Dados</td>\n",
       "      <td>SQL</td>\n",
       "    </tr>\n",
       "    <tr>\n",
       "      <th>1</th>\n",
       "      <td>1</td>\n",
       "      <td>zzls2oftfn9law393oezzls2ofhvfpzd</td>\n",
       "      <td>32.0</td>\n",
       "      <td>30-34</td>\n",
       "      <td>Masculino</td>\n",
       "      <td>Parda</td>\n",
       "      <td>Não</td>\n",
       "      <td>Sim, acredito que a minha a experiência profis...</td>\n",
       "      <td>Aprovação em processos seletivos/entrevistas</td>\n",
       "      <td>True</td>\n",
       "      <td>...</td>\n",
       "      <td>Falta de oportunidade de crescimento no empreg...</td>\n",
       "      <td>Sim, fiz entrevistas mas não fui aprovado</td>\n",
       "      <td>Estou em busca de oportunidades dentro ou fora...</td>\n",
       "      <td>Remuneração/Salário, Plano de carreira e oport...</td>\n",
       "      <td>Modelo 100% presencial</td>\n",
       "      <td>Modelo híbrido flexível (o funcionário tem lib...</td>\n",
       "      <td>Vou aceitar e retornar ao modelo 100% presencial</td>\n",
       "      <td>Não ocorreram layoffs/demissões em massa na em...</td>\n",
       "      <td>Gestor</td>\n",
       "      <td>NaN</td>\n",
       "    </tr>\n",
       "    <tr>\n",
       "      <th>2</th>\n",
       "      <td>2</td>\n",
       "      <td>zzdwqzfqqp1ypc7ps6m0hzzdwqz292yi</td>\n",
       "      <td>53.0</td>\n",
       "      <td>50-54</td>\n",
       "      <td>Masculino</td>\n",
       "      <td>Branca</td>\n",
       "      <td>Não</td>\n",
       "      <td>NaN</td>\n",
       "      <td>NaN</td>\n",
       "      <td>True</td>\n",
       "      <td>...</td>\n",
       "      <td>Falta de oportunidade de crescimento no empreg...</td>\n",
       "      <td>Não participei de entrevistas de emprego/proce...</td>\n",
       "      <td>Não estou buscando, mas me considero aberto a ...</td>\n",
       "      <td>Remuneração/Salário, Flexibilidade de trabalho...</td>\n",
       "      <td>Modelo híbrido com dias fixos de trabalho pres...</td>\n",
       "      <td>Modelo híbrido flexível (o funcionário tem lib...</td>\n",
       "      <td>Vou procurar outra oportunidade no modelo híbr...</td>\n",
       "      <td>Não ocorreram layoffs/demissões em massa na em...</td>\n",
       "      <td>desenvolve modelos preditivos e algoritmos de...</td>\n",
       "      <td>1</td>\n",
       "    </tr>\n",
       "  </tbody>\n",
       "</table>\n",
       "<p>3 rows × 45 columns</p>\n",
       "</div>"
      ],
      "text/plain": [
       "   Unnamed: 0                                ID  IDADE FAIXA IDADE     GENERO  \\\n",
       "0           0  zzqzz3l9ily8nuo2m7wyzzqzz3w48o96   39.0       35-39  Masculino   \n",
       "1           1  zzls2oftfn9law393oezzls2ofhvfpzd   32.0       30-34  Masculino   \n",
       "2           2  zzdwqzfqqp1ypc7ps6m0hzzdwqz292yi   53.0       50-54  Masculino   \n",
       "\n",
       "  COR/RACA/ETNIA  PCD               EXPERIENCIA_PROFISSIONAL_PREJUDICADA  \\\n",
       "0          Parda  Não  Não acredito que minha experiência profissiona...   \n",
       "1          Parda  Não  Sim, acredito que a minha a experiência profis...   \n",
       "2         Branca  Não                                                NaN   \n",
       "\n",
       "                          ASPECTOS_PREJUDICADOS  VIVE_NO_BRASIL  ...  \\\n",
       "0                                           NaN            True  ...   \n",
       "1  Aprovação em processos seletivos/entrevistas            True  ...   \n",
       "2                                           NaN            True  ...   \n",
       "\n",
       "  Qual o principal motivo da sua insatisfação com a empresa atual?  \\\n",
       "0                                                NaN                 \n",
       "1  Falta de oportunidade de crescimento no empreg...                 \n",
       "2  Falta de oportunidade de crescimento no empreg...                 \n",
       "\n",
       "  Você participou de entrevistas de emprego nos últimos 6 meses?  \\\n",
       "0  Não participei de entrevistas de emprego/proce...               \n",
       "1          Sim, fiz entrevistas mas não fui aprovado               \n",
       "2  Não participei de entrevistas de emprego/proce...               \n",
       "\n",
       "  Você pretende mudar de emprego nos próximos 6 meses?  \\\n",
       "0  Não estou buscando e não pretendo mudar de emp...     \n",
       "1  Estou em busca de oportunidades dentro ou fora...     \n",
       "2  Não estou buscando, mas me considero aberto a ...     \n",
       "\n",
       "   Quais os principais critérios que você leva em consideração no momento de decidir onde trabalhar?  \\\n",
       "0                                         Benefícios                                                   \n",
       "1  Remuneração/Salário, Plano de carreira e oport...                                                   \n",
       "2  Remuneração/Salário, Flexibilidade de trabalho...                                                   \n",
       "\n",
       "            Atualmente qual a sua forma de trabalho?  \\\n",
       "0                             Modelo 100% presencial   \n",
       "1                             Modelo 100% presencial   \n",
       "2  Modelo híbrido com dias fixos de trabalho pres...   \n",
       "\n",
       "           Qual a forma de trabalho ideal para você?  \\\n",
       "0  Modelo híbrido com dias fixos de trabalho pres...   \n",
       "1  Modelo híbrido flexível (o funcionário tem lib...   \n",
       "2  Modelo híbrido flexível (o funcionário tem lib...   \n",
       "\n",
       "  Caso sua empresa decida pelo modelo 100% presencial qual será sua atitude?  \\\n",
       "0   Vou aceitar e retornar ao modelo 100% presencial                           \n",
       "1   Vou aceitar e retornar ao modelo 100% presencial                           \n",
       "2  Vou procurar outra oportunidade no modelo híbr...                           \n",
       "\n",
       "               Sua empresa passu por Layoff em 2022?  \\\n",
       "0  Não ocorreram layoffs/demissões em massa na em...   \n",
       "1  Não ocorreram layoffs/demissões em massa na em...   \n",
       "2  Não ocorreram layoffs/demissões em massa na em...   \n",
       "\n",
       "                                             Atuacao  \\\n",
       "0                                Engenharia de Dados   \n",
       "1                                             Gestor   \n",
       "2   desenvolve modelos preditivos e algoritmos de...   \n",
       "\n",
       "  Quais das linguagens listadas abaixo você utiliza no trabalho?  \n",
       "0                                                SQL              \n",
       "1                                                NaN              \n",
       "2                                                  1              \n",
       "\n",
       "[3 rows x 45 columns]"
      ]
     },
     "execution_count": 231,
     "metadata": {},
     "output_type": "execute_result"
    }
   ],
   "source": [
    "dados.head(3)"
   ]
  },
  {
   "cell_type": "code",
   "execution_count": 232,
   "id": "564926a7",
   "metadata": {},
   "outputs": [
    {
     "data": {
      "text/plain": [
       "Index(['Unnamed: 0', 'ID', 'IDADE', 'FAIXA IDADE', 'GENERO', 'COR/RACA/ETNIA',\n",
       "       'PCD', 'EXPERIENCIA_PROFISSIONAL_PREJUDICADA', 'ASPECTOS_PREJUDICADOS',\n",
       "       'VIVE_NO_BRASIL', 'ESTADO ONDE MORA', 'UF ONDE MORA',\n",
       "       'REGIAO ONDE MORA', 'MUDOU DE ESTADO?', 'REGIAO DE ORIGEM',\n",
       "       'NIVEL DE ENSINO', 'ÁREA DE FORMAÇÃO',\n",
       "       'QUAL SUA SITUAÇÃO ATUAL DE TRABALHO?', 'SETOR',\n",
       "       'NUMERO DE FUNCIONARIOS', 'GESTOR?', 'CARGO COMO GESTOR', 'CARGO ATUAL',\n",
       "       'FAIXA SALARIAL',\n",
       "       'QUANTO TEMPO DE EXPERIÊNCIA NA ÁREA DE DADOS VOCÊ TEM?',\n",
       "       'QUANTO TEMPO DE EXPERIÊNCIA NA ÁREA DE TI/ENGENHARIA DE SOFTWARE VOCÊ TEVE ANTES DE COMEÇAR A TRABALHAR NA ÁREA DE DADOS?',\n",
       "       'SALARIO', 'NOVO_NIVEL', 'NIVEL_Júnior', 'NIVEL_Pleno', 'NIVEL_Sênior',\n",
       "       'GERAÇÃO', 'Quanto tempo de experiência na área de dados você tem?',\n",
       "       'Quanto tempo de experiência na área de TI/Engenharia de Software você teve antes de começar a trabalhar na área de dados?',\n",
       "       'Você está satisfeito na sua empresa atual?',\n",
       "       'Qual o principal motivo da sua insatisfação com a empresa atual?',\n",
       "       'Você participou de entrevistas de emprego nos últimos 6 meses?',\n",
       "       'Você pretende mudar de emprego nos próximos 6 meses?',\n",
       "       'Quais os principais critérios que você leva em consideração no momento de decidir onde trabalhar?',\n",
       "       'Atualmente qual a sua forma de trabalho?',\n",
       "       'Qual a forma de trabalho ideal para você?',\n",
       "       'Caso sua empresa decida pelo modelo 100% presencial qual será sua atitude?',\n",
       "       'Sua empresa passu por Layoff em 2022?', 'Atuacao',\n",
       "       'Quais das linguagens listadas abaixo você utiliza no trabalho?'],\n",
       "      dtype='object')"
      ]
     },
     "execution_count": 232,
     "metadata": {},
     "output_type": "execute_result"
    }
   ],
   "source": [
    "dados.columns\n",
    "# foram agrupados as colunas da tabela dados e dados2"
   ]
  },
  {
   "cell_type": "code",
   "execution_count": 233,
   "id": "18a0c2bb",
   "metadata": {},
   "outputs": [
    {
     "data": {
      "text/plain": [
       "Você pretende mudar de emprego nos próximos 6 meses?\n",
       "Não estou buscando, mas me considero aberto a outras oportunidades         1354\n",
       "Estou em busca de oportunidades dentro ou fora do Brasil                   1011\n",
       "Não estou buscando e não pretendo mudar de emprego nos próximos 6 meses     978\n",
       "Estou em busca de oportunidades, mas apenas fora do Brasil                  353\n",
       "Name: count, dtype: int64"
      ]
     },
     "execution_count": 233,
     "metadata": {},
     "output_type": "execute_result"
    }
   ],
   "source": [
    "dados['Você pretende mudar de emprego nos próximos 6 meses?'].value_counts()"
   ]
  },
  {
   "cell_type": "code",
   "execution_count": 234,
   "id": "975e3996",
   "metadata": {},
   "outputs": [],
   "source": [
    "dados['EM_BUSCA'] = dados['Você pretende mudar de emprego nos próximos 6 meses?'].str.contains('em busca', case = False)"
   ]
  },
  {
   "cell_type": "code",
   "execution_count": 235,
   "id": "b224f72a",
   "metadata": {},
   "outputs": [
    {
     "data": {
      "text/plain": [
       "EM_BUSCA\n",
       "False    2332\n",
       "True     1364\n",
       "Name: count, dtype: int64"
      ]
     },
     "execution_count": 235,
     "metadata": {},
     "output_type": "execute_result"
    }
   ],
   "source": [
    "dados['EM_BUSCA'].value_counts()"
   ]
  },
  {
   "cell_type": "code",
   "execution_count": 236,
   "id": "de3df7e4",
   "metadata": {},
   "outputs": [],
   "source": [
    "dados['ABERTO_OPORTUNIDADE'] = dados['Você pretende mudar de emprego nos próximos 6 meses?'].str.contains('aberto', case = False)"
   ]
  },
  {
   "cell_type": "code",
   "execution_count": 237,
   "id": "9c1c9222",
   "metadata": {},
   "outputs": [
    {
     "data": {
      "text/plain": [
       "ABERTO_OPORTUNIDADE\n",
       "False    2342\n",
       "True     1354\n",
       "Name: count, dtype: int64"
      ]
     },
     "execution_count": 237,
     "metadata": {},
     "output_type": "execute_result"
    }
   ],
   "source": [
    "dados['ABERTO_OPORTUNIDADE'].value_counts()"
   ]
  },
  {
   "cell_type": "markdown",
   "id": "2e8468e5",
   "metadata": {},
   "source": [
    "## Atividade\n",
    "\n",
    "📌Com base no que aprendemos nas aulas de Featuring engineering, crie uma nova coluna de Etnia - brancas, não branca e outras😊"
   ]
  },
  {
   "cell_type": "code",
   "execution_count": 238,
   "id": "dffcfb1f",
   "metadata": {},
   "outputs": [],
   "source": [
    "def determinar_etnia(etnia):\n",
    "  if   etnia == 'Branca':\n",
    "    return 'Branca'\n",
    "  elif etnia == 'Parda':\n",
    "    return 'Não Branca'\n",
    "  elif etnia == 'Preta':\n",
    "    return 'Não Branca'\n",
    "  elif etnia == 'Amarela':\n",
    "    return 'Não Branca'\n",
    "  else:\n",
    "    return 'Outras'"
   ]
  },
  {
   "cell_type": "code",
   "execution_count": 239,
   "id": "705c35ee",
   "metadata": {},
   "outputs": [],
   "source": [
    "dados ['ETNIAS'] = dados['COR/RACA/ETNIA'].apply(determinar_etnia)"
   ]
  },
  {
   "cell_type": "code",
   "execution_count": 240,
   "id": "b2aa3393",
   "metadata": {},
   "outputs": [
    {
     "data": {
      "text/plain": [
       "ETNIAS\n",
       "Branca        2746\n",
       "Não Branca    1473\n",
       "Outras          54\n",
       "Name: count, dtype: int64"
      ]
     },
     "execution_count": 240,
     "metadata": {},
     "output_type": "execute_result"
    }
   ],
   "source": [
    "dados ['ETNIAS'].value_counts()"
   ]
  },
  {
   "cell_type": "markdown",
   "id": "cfe4fd6a",
   "metadata": {},
   "source": [
    "## Correlação, diferentes funções para dados discretos e contínuos"
   ]
  },
  {
   "cell_type": "code",
   "execution_count": 241,
   "id": "5a3a3142",
   "metadata": {},
   "outputs": [
    {
     "data": {
      "text/plain": [
       "0.29025428469995035"
      ]
     },
     "execution_count": 241,
     "metadata": {},
     "output_type": "execute_result"
    }
   ],
   "source": [
    "correlacao_continua = dados['IDADE'].corr(dados['SALARIO'])\n",
    "correlacao_continua"
   ]
  },
  {
   "cell_type": "code",
   "execution_count": 242,
   "id": "c5b90ba9",
   "metadata": {},
   "outputs": [],
   "source": [
    "from scipy.stats import chi2_contingency # compara da distribuição observada na tabela cruzada com a distribuição esperada se as duas variaveis fossem independentes"
   ]
  },
  {
   "cell_type": "code",
   "execution_count": 243,
   "id": "cba89ea1",
   "metadata": {},
   "outputs": [],
   "source": [
    "# correlação categórica\n",
    "def cramer_coeficiente(coluna1, coluna2):\n",
    "    tabela_cruzada = pd.crosstab(coluna1, coluna2)\n",
    "    tabela_cruzada = np.array(tabela_cruzada)\n",
    "    chi2 = chi2_contingency(tabela_cruzada)[0]\n",
    "    soma = np.sum(tabela_cruzada)\n",
    "    mini = min(tabela_cruzada.shape) - 1\n",
    "    cramer = np.sqrt(chi2/(soma*mini))\n",
    "    return cramer"
   ]
  },
  {
   "cell_type": "code",
   "execution_count": 244,
   "id": "a776a27c",
   "metadata": {},
   "outputs": [
    {
     "data": {
      "text/plain": [
       "0.04499106580480143"
      ]
     },
     "execution_count": 244,
     "metadata": {},
     "output_type": "execute_result"
    }
   ],
   "source": [
    "cramer_coeficiente(dados['COR/RACA/ETNIA'], dados['NIVEL DE ENSINO'])"
   ]
  },
  {
   "cell_type": "code",
   "execution_count": 245,
   "id": "79c47818",
   "metadata": {},
   "outputs": [
    {
     "data": {
      "text/plain": [
       "0.076119232802818"
      ]
     },
     "execution_count": 245,
     "metadata": {},
     "output_type": "execute_result"
    }
   ],
   "source": [
    "cramer_coeficiente(dados['GENERO'], dados['NIVEL DE ENSINO'])"
   ]
  },
  {
   "cell_type": "markdown",
   "id": "9a73efd2",
   "metadata": {},
   "source": [
    "## salvando os dados"
   ]
  },
  {
   "cell_type": "code",
   "execution_count": 246,
   "id": "f30df019",
   "metadata": {},
   "outputs": [],
   "source": [
    "# Salvar o arquivo CSV em um caminho relativo\n",
    "dados.to_csv('arquivos_conteudo/analise_dados.csv', index=False)"
   ]
  },
  {
   "cell_type": "markdown",
   "id": "6837811a",
   "metadata": {},
   "source": [
    "---"
   ]
  },
  {
   "cell_type": "markdown",
   "id": "3453f1f7",
   "metadata": {},
   "source": [
    "# Módulo 6 - Base de dados"
   ]
  },
  {
   "cell_type": "code",
   "execution_count": 247,
   "id": "6ffd80cd",
   "metadata": {},
   "outputs": [],
   "source": [
    "import  sqlite3"
   ]
  },
  {
   "cell_type": "markdown",
   "id": "af867e70",
   "metadata": {},
   "source": [
    "## Conexão com o banco de dados"
   ]
  },
  {
   "cell_type": "code",
   "execution_count": 248,
   "id": "ba57b628",
   "metadata": {},
   "outputs": [],
   "source": [
    "conexao = sqlite3.connect('Modulo_6\\status_brasil')"
   ]
  },
  {
   "cell_type": "markdown",
   "id": "87f40dd5",
   "metadata": {},
   "source": [
    "## queries"
   ]
  },
  {
   "cell_type": "code",
   "execution_count": 249,
   "id": "83994181",
   "metadata": {},
   "outputs": [],
   "source": [
    "query = \"SELECT * FROM Municipios_Brasileiros WHERE Cidade='Itaquaquecetuba' \""
   ]
  },
  {
   "cell_type": "code",
   "execution_count": 250,
   "id": "74384b93",
   "metadata": {},
   "outputs": [
    {
     "data": {
      "text/html": [
       "<div>\n",
       "<style scoped>\n",
       "    .dataframe tbody tr th:only-of-type {\n",
       "        vertical-align: middle;\n",
       "    }\n",
       "\n",
       "    .dataframe tbody tr th {\n",
       "        vertical-align: top;\n",
       "    }\n",
       "\n",
       "    .dataframe thead th {\n",
       "        text-align: right;\n",
       "    }\n",
       "</style>\n",
       "<table border=\"1\" class=\"dataframe\">\n",
       "  <thead>\n",
       "    <tr style=\"text-align: right;\">\n",
       "      <th></th>\n",
       "      <th>Cidade</th>\n",
       "      <th>Estado</th>\n",
       "      <th>Regiao</th>\n",
       "      <th>Municipio_ID</th>\n",
       "    </tr>\n",
       "  </thead>\n",
       "  <tbody>\n",
       "    <tr>\n",
       "      <th>0</th>\n",
       "      <td>Itaquaquecetuba</td>\n",
       "      <td>SP</td>\n",
       "      <td>Sudeste</td>\n",
       "      <td>5043</td>\n",
       "    </tr>\n",
       "  </tbody>\n",
       "</table>\n",
       "</div>"
      ],
      "text/plain": [
       "            Cidade Estado   Regiao  Municipio_ID\n",
       "0  Itaquaquecetuba     SP  Sudeste          5043"
      ]
     },
     "execution_count": 250,
     "metadata": {},
     "output_type": "execute_result"
    }
   ],
   "source": [
    "pd.read_sql(query, con=conexao)"
   ]
  },
  {
   "cell_type": "code",
   "execution_count": 251,
   "id": "81714256",
   "metadata": {},
   "outputs": [],
   "source": [
    "query = '''\n",
    "SELECT municipios_brasileiros.Estado, AVG(Municipios_Status.renda) \n",
    "FROM municipios_brasileiros  \n",
    "INNER JOIN Municipios_Status ON municipios_brasileiros.municipio_ID = Municipios_Status.municipio_ID\n",
    "GROUP BY municipios_brasileiros.Estado;\n",
    "'''"
   ]
  },
  {
   "cell_type": "code",
   "execution_count": 252,
   "id": "688eec5b",
   "metadata": {},
   "outputs": [
    {
     "data": {
      "text/html": [
       "<div>\n",
       "<style scoped>\n",
       "    .dataframe tbody tr th:only-of-type {\n",
       "        vertical-align: middle;\n",
       "    }\n",
       "\n",
       "    .dataframe tbody tr th {\n",
       "        vertical-align: top;\n",
       "    }\n",
       "\n",
       "    .dataframe thead th {\n",
       "        text-align: right;\n",
       "    }\n",
       "</style>\n",
       "<table border=\"1\" class=\"dataframe\">\n",
       "  <thead>\n",
       "    <tr style=\"text-align: right;\">\n",
       "      <th></th>\n",
       "      <th>Estado</th>\n",
       "      <th>AVG(Municipios_Status.renda)</th>\n",
       "    </tr>\n",
       "  </thead>\n",
       "  <tbody>\n",
       "    <tr>\n",
       "      <th>0</th>\n",
       "      <td>AC</td>\n",
       "      <td>0.585455</td>\n",
       "    </tr>\n",
       "    <tr>\n",
       "      <th>1</th>\n",
       "      <td>AL</td>\n",
       "      <td>0.548363</td>\n",
       "    </tr>\n",
       "    <tr>\n",
       "      <th>2</th>\n",
       "      <td>AM</td>\n",
       "      <td>0.545113</td>\n",
       "    </tr>\n",
       "    <tr>\n",
       "      <th>3</th>\n",
       "      <td>AP</td>\n",
       "      <td>0.618875</td>\n",
       "    </tr>\n",
       "    <tr>\n",
       "      <th>4</th>\n",
       "      <td>BA</td>\n",
       "      <td>0.574805</td>\n",
       "    </tr>\n",
       "    <tr>\n",
       "      <th>5</th>\n",
       "      <td>CE</td>\n",
       "      <td>0.559293</td>\n",
       "    </tr>\n",
       "    <tr>\n",
       "      <th>6</th>\n",
       "      <td>DF</td>\n",
       "      <td>0.863000</td>\n",
       "    </tr>\n",
       "    <tr>\n",
       "      <th>7</th>\n",
       "      <td>ES</td>\n",
       "      <td>0.680628</td>\n",
       "    </tr>\n",
       "    <tr>\n",
       "      <th>8</th>\n",
       "      <td>GO</td>\n",
       "      <td>0.683980</td>\n",
       "    </tr>\n",
       "    <tr>\n",
       "      <th>9</th>\n",
       "      <td>MA</td>\n",
       "      <td>0.531664</td>\n",
       "    </tr>\n",
       "    <tr>\n",
       "      <th>10</th>\n",
       "      <td>MG</td>\n",
       "      <td>0.652008</td>\n",
       "    </tr>\n",
       "    <tr>\n",
       "      <th>11</th>\n",
       "      <td>MS</td>\n",
       "      <td>0.687846</td>\n",
       "    </tr>\n",
       "    <tr>\n",
       "      <th>12</th>\n",
       "      <td>MT</td>\n",
       "      <td>0.682149</td>\n",
       "    </tr>\n",
       "    <tr>\n",
       "      <th>13</th>\n",
       "      <td>PA</td>\n",
       "      <td>0.572357</td>\n",
       "    </tr>\n",
       "    <tr>\n",
       "      <th>14</th>\n",
       "      <td>PB</td>\n",
       "      <td>0.564423</td>\n",
       "    </tr>\n",
       "    <tr>\n",
       "      <th>15</th>\n",
       "      <td>PE</td>\n",
       "      <td>0.574378</td>\n",
       "    </tr>\n",
       "    <tr>\n",
       "      <th>16</th>\n",
       "      <td>PI</td>\n",
       "      <td>0.546813</td>\n",
       "    </tr>\n",
       "    <tr>\n",
       "      <th>17</th>\n",
       "      <td>PR</td>\n",
       "      <td>0.691915</td>\n",
       "    </tr>\n",
       "    <tr>\n",
       "      <th>18</th>\n",
       "      <td>RJ</td>\n",
       "      <td>0.704796</td>\n",
       "    </tr>\n",
       "    <tr>\n",
       "      <th>19</th>\n",
       "      <td>RN</td>\n",
       "      <td>0.580183</td>\n",
       "    </tr>\n",
       "    <tr>\n",
       "      <th>20</th>\n",
       "      <td>RO</td>\n",
       "      <td>0.658173</td>\n",
       "    </tr>\n",
       "    <tr>\n",
       "      <th>21</th>\n",
       "      <td>RR</td>\n",
       "      <td>0.577867</td>\n",
       "    </tr>\n",
       "    <tr>\n",
       "      <th>22</th>\n",
       "      <td>RS</td>\n",
       "      <td>0.722115</td>\n",
       "    </tr>\n",
       "    <tr>\n",
       "      <th>23</th>\n",
       "      <td>SC</td>\n",
       "      <td>0.728038</td>\n",
       "    </tr>\n",
       "    <tr>\n",
       "      <th>24</th>\n",
       "      <td>SE</td>\n",
       "      <td>0.577147</td>\n",
       "    </tr>\n",
       "    <tr>\n",
       "      <th>25</th>\n",
       "      <td>SP</td>\n",
       "      <td>0.716571</td>\n",
       "    </tr>\n",
       "    <tr>\n",
       "      <th>26</th>\n",
       "      <td>TO</td>\n",
       "      <td>0.610543</td>\n",
       "    </tr>\n",
       "  </tbody>\n",
       "</table>\n",
       "</div>"
      ],
      "text/plain": [
       "   Estado  AVG(Municipios_Status.renda)\n",
       "0      AC                      0.585455\n",
       "1      AL                      0.548363\n",
       "2      AM                      0.545113\n",
       "3      AP                      0.618875\n",
       "4      BA                      0.574805\n",
       "5      CE                      0.559293\n",
       "6      DF                      0.863000\n",
       "7      ES                      0.680628\n",
       "8      GO                      0.683980\n",
       "9      MA                      0.531664\n",
       "10     MG                      0.652008\n",
       "11     MS                      0.687846\n",
       "12     MT                      0.682149\n",
       "13     PA                      0.572357\n",
       "14     PB                      0.564423\n",
       "15     PE                      0.574378\n",
       "16     PI                      0.546813\n",
       "17     PR                      0.691915\n",
       "18     RJ                      0.704796\n",
       "19     RN                      0.580183\n",
       "20     RO                      0.658173\n",
       "21     RR                      0.577867\n",
       "22     RS                      0.722115\n",
       "23     SC                      0.728038\n",
       "24     SE                      0.577147\n",
       "25     SP                      0.716571\n",
       "26     TO                      0.610543"
      ]
     },
     "execution_count": 252,
     "metadata": {},
     "output_type": "execute_result"
    }
   ],
   "source": [
    "pd.read_sql(query, con=conexao)"
   ]
  },
  {
   "cell_type": "markdown",
   "id": "cfe1f640",
   "metadata": {},
   "source": [
    "## Importando dados CSV"
   ]
  },
  {
   "cell_type": "code",
   "execution_count": 253,
   "id": "b2742887",
   "metadata": {},
   "outputs": [],
   "source": [
    "dados = pd.read_csv('arquivos_conteudo/analise_dados.csv')"
   ]
  },
  {
   "cell_type": "code",
   "execution_count": 254,
   "id": "31e2aa5b",
   "metadata": {},
   "outputs": [],
   "source": [
    "lista_estados = list(dados['UF ONDE MORA'].unique())"
   ]
  },
  {
   "cell_type": "markdown",
   "id": "822c286b",
   "metadata": {},
   "source": [
    "## fazendo uma query usando os dados do csv e do banco de dados\n"
   ]
  },
  {
   "cell_type": "code",
   "execution_count": 255,
   "id": "4644984b",
   "metadata": {},
   "outputs": [],
   "source": [
    "query = '''\n",
    "SELECT municipios_brasileiros.Estado, AVG(Municipios_Status.renda) \n",
    "FROM municipios_brasileiros  \n",
    "INNER JOIN Municipios_Status ON municipios_brasileiros.municipio_ID = Municipios_Status.municipio_ID\n",
    "WHERE municipios_brasileiros.Estado IN ({})\n",
    "GROUP BY municipios_brasileiros.Estado;\n",
    "'''.format(', '.join(['?' for _ in lista_estados]))"
   ]
  },
  {
   "cell_type": "code",
   "execution_count": 256,
   "id": "9d41e4af",
   "metadata": {},
   "outputs": [],
   "source": [
    "estados_renda = pd.read_sql(query, con=conexao, params = lista_estados)"
   ]
  },
  {
   "cell_type": "markdown",
   "id": "1dbba8a5",
   "metadata": {},
   "source": [
    "## Merge"
   ]
  },
  {
   "cell_type": "code",
   "execution_count": 257,
   "id": "a19e9e17",
   "metadata": {},
   "outputs": [],
   "source": [
    "dados.rename(columns={'UF ONDE MORA': 'Estado'}, inplace = True)"
   ]
  },
  {
   "cell_type": "code",
   "execution_count": 258,
   "id": "dd665926",
   "metadata": {},
   "outputs": [],
   "source": [
    "dados = dados.merge(estados_renda, on = 'Estado', how= 'left')"
   ]
  },
  {
   "cell_type": "markdown",
   "id": "b48723c8",
   "metadata": {},
   "source": [
    "## Correlação"
   ]
  },
  {
   "cell_type": "code",
   "execution_count": 259,
   "id": "9fb17ece",
   "metadata": {},
   "outputs": [
    {
     "data": {
      "text/plain": [
       "0.12083384881429408"
      ]
     },
     "execution_count": 259,
     "metadata": {},
     "output_type": "execute_result"
    }
   ],
   "source": [
    "correlacao_renda_salario = dados['SALARIO'].corr(dados['AVG(Municipios_Status.renda)'])\n",
    "correlacao_renda_salario"
   ]
  },
  {
   "cell_type": "markdown",
   "id": "f1cdee0b",
   "metadata": {},
   "source": [
    "## Atividade\n",
    "Faça a mesma análise utilizando o índice de educação. Existe alguma correlação com salário?\n"
   ]
  },
  {
   "cell_type": "code",
   "execution_count": 260,
   "id": "926a6ab8",
   "metadata": {},
   "outputs": [],
   "source": [
    "query = '''\n",
    "SELECT Municipios_Brasileiros.Estado, AVG(Municipios_Status.Educacao) AS Status_Educacao FROM Municipios_Brasileiros                   \n",
    "INNER JOIN Municipios_Status ON Municipios_Brasileiros.Municipio_ID = Municipios_Status.Municipio_ID                  \n",
    "WHERE Municipios_Brasileiros.Estado IN ({})                  \n",
    "GROUP BY Municipios_Brasileiros.Estado\n",
    "ORDER BY Status_Educacao'''.format(','.join (['?' for _ in lista_estados]))\n"
   ]
  },
  {
   "cell_type": "code",
   "execution_count": 261,
   "id": "11cd3f97",
   "metadata": {},
   "outputs": [
    {
     "data": {
      "text/html": [
       "<div>\n",
       "<style scoped>\n",
       "    .dataframe tbody tr th:only-of-type {\n",
       "        vertical-align: middle;\n",
       "    }\n",
       "\n",
       "    .dataframe tbody tr th {\n",
       "        vertical-align: top;\n",
       "    }\n",
       "\n",
       "    .dataframe thead th {\n",
       "        text-align: right;\n",
       "    }\n",
       "</style>\n",
       "<table border=\"1\" class=\"dataframe\">\n",
       "  <thead>\n",
       "    <tr style=\"text-align: right;\">\n",
       "      <th></th>\n",
       "      <th>Estado</th>\n",
       "      <th>Status_Educacao</th>\n",
       "    </tr>\n",
       "  </thead>\n",
       "  <tbody>\n",
       "    <tr>\n",
       "      <th>0</th>\n",
       "      <td>AM</td>\n",
       "      <td>0.436935</td>\n",
       "    </tr>\n",
       "    <tr>\n",
       "      <th>1</th>\n",
       "      <td>AL</td>\n",
       "      <td>0.442745</td>\n",
       "    </tr>\n",
       "    <tr>\n",
       "      <th>2</th>\n",
       "      <td>PA</td>\n",
       "      <td>0.448664</td>\n",
       "    </tr>\n",
       "    <tr>\n",
       "      <th>3</th>\n",
       "      <td>PI</td>\n",
       "      <td>0.456692</td>\n",
       "    </tr>\n",
       "    <tr>\n",
       "      <th>4</th>\n",
       "      <td>PB</td>\n",
       "      <td>0.477788</td>\n",
       "    </tr>\n",
       "    <tr>\n",
       "      <th>5</th>\n",
       "      <td>BA</td>\n",
       "      <td>0.481942</td>\n",
       "    </tr>\n",
       "    <tr>\n",
       "      <th>6</th>\n",
       "      <td>MA</td>\n",
       "      <td>0.488622</td>\n",
       "    </tr>\n",
       "    <tr>\n",
       "      <th>7</th>\n",
       "      <td>SE</td>\n",
       "      <td>0.489733</td>\n",
       "    </tr>\n",
       "    <tr>\n",
       "      <th>8</th>\n",
       "      <td>PE</td>\n",
       "      <td>0.490557</td>\n",
       "    </tr>\n",
       "    <tr>\n",
       "      <th>9</th>\n",
       "      <td>RN</td>\n",
       "      <td>0.516506</td>\n",
       "    </tr>\n",
       "    <tr>\n",
       "      <th>10</th>\n",
       "      <td>CE</td>\n",
       "      <td>0.552120</td>\n",
       "    </tr>\n",
       "    <tr>\n",
       "      <th>11</th>\n",
       "      <td>MG</td>\n",
       "      <td>0.556862</td>\n",
       "    </tr>\n",
       "    <tr>\n",
       "      <th>12</th>\n",
       "      <td>MS</td>\n",
       "      <td>0.557410</td>\n",
       "    </tr>\n",
       "    <tr>\n",
       "      <th>13</th>\n",
       "      <td>MT</td>\n",
       "      <td>0.576993</td>\n",
       "    </tr>\n",
       "    <tr>\n",
       "      <th>14</th>\n",
       "      <td>ES</td>\n",
       "      <td>0.591359</td>\n",
       "    </tr>\n",
       "    <tr>\n",
       "      <th>15</th>\n",
       "      <td>GO</td>\n",
       "      <td>0.596167</td>\n",
       "    </tr>\n",
       "    <tr>\n",
       "      <th>16</th>\n",
       "      <td>RS</td>\n",
       "      <td>0.600714</td>\n",
       "    </tr>\n",
       "    <tr>\n",
       "      <th>17</th>\n",
       "      <td>PR</td>\n",
       "      <td>0.610985</td>\n",
       "    </tr>\n",
       "    <tr>\n",
       "      <th>18</th>\n",
       "      <td>RJ</td>\n",
       "      <td>0.620075</td>\n",
       "    </tr>\n",
       "    <tr>\n",
       "      <th>19</th>\n",
       "      <td>SC</td>\n",
       "      <td>0.636522</td>\n",
       "    </tr>\n",
       "    <tr>\n",
       "      <th>20</th>\n",
       "      <td>SP</td>\n",
       "      <td>0.676498</td>\n",
       "    </tr>\n",
       "    <tr>\n",
       "      <th>21</th>\n",
       "      <td>DF</td>\n",
       "      <td>0.742000</td>\n",
       "    </tr>\n",
       "  </tbody>\n",
       "</table>\n",
       "</div>"
      ],
      "text/plain": [
       "   Estado  Status_Educacao\n",
       "0      AM         0.436935\n",
       "1      AL         0.442745\n",
       "2      PA         0.448664\n",
       "3      PI         0.456692\n",
       "4      PB         0.477788\n",
       "5      BA         0.481942\n",
       "6      MA         0.488622\n",
       "7      SE         0.489733\n",
       "8      PE         0.490557\n",
       "9      RN         0.516506\n",
       "10     CE         0.552120\n",
       "11     MG         0.556862\n",
       "12     MS         0.557410\n",
       "13     MT         0.576993\n",
       "14     ES         0.591359\n",
       "15     GO         0.596167\n",
       "16     RS         0.600714\n",
       "17     PR         0.610985\n",
       "18     RJ         0.620075\n",
       "19     SC         0.636522\n",
       "20     SP         0.676498\n",
       "21     DF         0.742000"
      ]
     },
     "execution_count": 261,
     "metadata": {},
     "output_type": "execute_result"
    }
   ],
   "source": [
    "estados_educacao = pd.read_sql(query, con=conexao, params=lista_estados)\n",
    "estados_educacao"
   ]
  },
  {
   "cell_type": "code",
   "execution_count": 262,
   "id": "b5961aa0",
   "metadata": {},
   "outputs": [],
   "source": [
    "dados = dados.merge(estados_educacao, on='Estado', how='left')"
   ]
  },
  {
   "cell_type": "code",
   "execution_count": 263,
   "id": "c66e01cb",
   "metadata": {},
   "outputs": [
    {
     "data": {
      "text/plain": [
       "0.1555802028826874"
      ]
     },
     "execution_count": 263,
     "metadata": {},
     "output_type": "execute_result"
    }
   ],
   "source": [
    "#Calculando a Correlação de Salário e Educação\n",
    "correlacao_educacao_salario = dados['SALARIO'].corr(dados['Status_Educacao'])\n",
    "correlacao_educacao_salario"
   ]
  },
  {
   "cell_type": "markdown",
   "id": "9fe1f52c",
   "metadata": {},
   "source": [
    "----"
   ]
  },
  {
   "cell_type": "markdown",
   "id": "c562cb47",
   "metadata": {},
   "source": [
    "# Módulo 7 - Visualização de dados"
   ]
  },
  {
   "cell_type": "markdown",
   "id": "d0d7fa42",
   "metadata": {},
   "source": [
    "## Matplotlib"
   ]
  },
  {
   "cell_type": "code",
   "execution_count": 264,
   "id": "8d0608d4",
   "metadata": {},
   "outputs": [],
   "source": [
    "# importação da biblioteca de criação de gráficos\n",
    "import matplotlib.pyplot as plt"
   ]
  },
  {
   "cell_type": "markdown",
   "id": "78fa0280",
   "metadata": {},
   "source": [
    "### gráfico de barras - Gêneros"
   ]
  },
  {
   "cell_type": "code",
   "execution_count": 266,
   "id": "62b7549a",
   "metadata": {},
   "outputs": [],
   "source": [
    "genero_counts = dados['GENERO'].value_counts()"
   ]
  },
  {
   "cell_type": "code",
   "execution_count": 268,
   "id": "a9692697",
   "metadata": {},
   "outputs": [
    {
     "data": {
      "image/png": "[encoded data removed]",
      "text/plain": [
       "<Figure size 640x480 with 1 Axes>"
      ]
     },
     "metadata": {},
     "output_type": "display_data"
    }
   ],
   "source": [
    "plt.figure()\n",
    "plt.bar(height = genero_counts.values, x = genero_counts.index)\n",
    "plt.title('Quantidade de Pessoa por Gênero na Área de Dados')\n",
    "plt.xlabel('Gênero')\n",
    "plt.ylabel('Contagem')\n",
    "plt.show()"
   ]
  },
  {
   "cell_type": "markdown",
   "id": "a5bf2e44",
   "metadata": {},
   "source": [
    "### Gráfico de Linha e Ponto - Média de Salário por Idade"
   ]
  },
  {
   "cell_type": "code",
   "execution_count": 273,
   "id": "279eb18b",
   "metadata": {},
   "outputs": [],
   "source": [
    "salario_por_idade = dados.groupby('IDADE')['SALARIO'].mean()"
   ]
  },
  {
   "cell_type": "code",
   "execution_count": 275,
   "id": "7254995f",
   "metadata": {},
   "outputs": [
    {
     "data": {
      "image/png": "[encoded data removed]",
      "text/plain": [
       "<Figure size 640x480 with 1 Axes>"
      ]
     },
     "metadata": {},
     "output_type": "display_data"
    }
   ],
   "source": [
    "plt.figure()\n",
    "plt.plot(salario_por_idade.index, salario_por_idade.values, marker = 'o', linestyle= '--')\n",
    "plt.title('Média de Salário por Idade')\n",
    "plt.xlabel('Idade')\n",
    "plt.ylabel('Média de Salário')\n",
    "plt.grid(True)\n",
    "plt.show()"
   ]
  },
  {
   "cell_type": "markdown",
   "id": "7d6ebfaa",
   "metadata": {},
   "source": [
    "### Dispersão - Salário Por Idade"
   ]
  },
  {
   "cell_type": "code",
   "execution_count": 281,
   "id": "2a33600e",
   "metadata": {},
   "outputs": [
    {
     "data": {
      "image/png": "[encoded data removed]",
      "text/plain": [
       "<Figure size 1500x500 with 1 Axes>"
      ]
     },
     "metadata": {},
     "output_type": "display_data"
    }
   ],
   "source": [
    "plt.figure(figsize=(15,5))\n",
    "plt.scatter(dados['IDADE'], dados['SALARIO'], alpha=0.5)\n",
    "plt.xlabel('Idade')\n",
    "plt.ylabel('Salário')\n",
    "plt.title('Dispersão de salário por idade')\n",
    "plt.grid(True)\n",
    "plt.show()"
   ]
  },
  {
   "cell_type": "markdown",
   "id": "e2a7608a",
   "metadata": {},
   "source": [
    "## Seaborn"
   ]
  },
  {
   "cell_type": "code",
   "execution_count": 269,
   "id": "bd35bc8a",
   "metadata": {},
   "outputs": [],
   "source": [
    "import seaborn as sns"
   ]
  },
  {
   "cell_type": "markdown",
   "id": "38785d78",
   "metadata": {},
   "source": [
    "### Gráfico de Barra - Gênero"
   ]
  },
  {
   "cell_type": "code",
   "execution_count": null,
   "id": "ad0ab01d",
   "metadata": {},
   "outputs": [
    {
     "name": "stderr",
     "output_type": "stream",
     "text": [
      "C:\\Users\\Amanda Rodrigues\\AppData\\Local\\Temp\\ipykernel_12496\\1932535148.py:3: FutureWarning: \n",
      "\n",
      "Passing `palette` without assigning `hue` is deprecated and will be removed in v0.14.0. Assign the `x` variable to `hue` and set `legend=False` for the same effect.\n",
      "\n",
      "  sns.countplot(data = dados, x = 'GENERO', palette = 'pastel' )\n"
     ]
    },
    {
     "data": {
      "image/png": "[encoded data removed]",
      "text/plain": [
       "<Figure size 640x480 with 1 Axes>"
      ]
     },
     "metadata": {},
     "output_type": "display_data"
    }
   ],
   "source": [
    "plt.figure()\n",
    "plt.grid(True)\n",
    "sns.countplot(data = dados, x = 'GENERO', palette = 'pastel' )\n",
    "plt.title('Quantidade de Pessoa por Gênero na Área de Dados')\n",
    "plt.xlabel('Gênero')\n",
    "plt.ylabel('Contagem')\n",
    "plt.show()"
   ]
  },
  {
   "cell_type": "markdown",
   "id": "12d79073",
   "metadata": {},
   "source": [
    "## Plotly"
   ]
  },
  {
   "cell_type": "code",
   "execution_count": null,
   "id": "e2932809",
   "metadata": {},
   "outputs": [
    {
     "name": "stdout",
     "output_type": "stream",
     "text": [
      "Collecting plotly\n",
      "  Downloading plotly-6.0.1-py3-none-any.whl.metadata (6.7 kB)\n",
      "Collecting narwhals>=1.15.1 (from plotly)\n",
      "  Downloading narwhals-1.39.0-py3-none-any.whl.metadata (11 kB)\n",
      "Requirement already satisfied: packaging in c:\\users\\amanda rodrigues\\appdata\\local\\packages\\pythonsoftwarefoundation.python.3.11_qbz5n2kfra8p0\\localcache\\local-packages\\python311\\site-packages (from plotly) (24.0)\n",
      "Downloading plotly-6.0.1-py3-none-any.whl (14.8 MB)\n",
      "   ---------------------------------------- 0.0/14.8 MB ? eta -:--:--\n",
      "   ---- ----------------------------------- 1.8/14.8 MB 11.2 MB/s eta 0:00:02\n",
      "   -------- ------------------------------- 3.1/14.8 MB 8.8 MB/s eta 0:00:02\n",
      "   ------------- -------------------------- 5.0/14.8 MB 8.2 MB/s eta 0:00:02\n",
      "   ------------------ --------------------- 6.8/14.8 MB 8.4 MB/s eta 0:00:01\n",
      "   ---------------------- ----------------- 8.4/14.8 MB 8.3 MB/s eta 0:00:01\n",
      "   ---------------------------- ----------- 10.5/14.8 MB 8.6 MB/s eta 0:00:01\n",
      "   --------------------------------- ------ 12.6/14.8 MB 8.8 MB/s eta 0:00:01\n",
      "   ---------------------------------------  14.7/14.8 MB 9.0 MB/s eta 0:00:01\n",
      "   ---------------------------------------- 14.8/14.8 MB 8.2 MB/s eta 0:00:00\n",
      "Downloading narwhals-1.39.0-py3-none-any.whl (339 kB)\n",
      "Installing collected packages: narwhals, plotly\n",
      "Successfully installed narwhals-1.39.0 plotly-6.0.1\n"
     ]
    },
    {
     "name": "stderr",
     "output_type": "stream",
     "text": [
      "\n",
      "[notice] A new release of pip is available: 25.0.1 -> 25.1.1\n",
      "[notice] To update, run: C:\\Users\\Amanda Rodrigues\\AppData\\Local\\Microsoft\\WindowsApps\\PythonSoftwareFoundation.Python.3.11_qbz5n2kfra8p0\\python.exe -m pip install --upgrade pip\n"
     ]
    }
   ],
   "source": [
    "#!pip install plotly\n",
    "import plotly.express as px"
   ]
  },
  {
   "cell_type": "markdown",
   "id": "5de25b54",
   "metadata": {},
   "source": [
    "### Gráfico de Linha e Ponto - Média de Salário por Idade"
   ]
  },
  {
   "cell_type": "code",
   "execution_count": 279,
   "id": "094265c8",
   "metadata": {},
   "outputs": [],
   "source": [
    "fig = px.line(\n",
    "    salario_por_idade.reset_index(),\n",
    "    x='IDADE',\n",
    "    y='SALARIO',\n",
    "    title='Média de Salário por Idade',\n",
    "    markers=True\n",
    ")"
   ]
  },
  {
   "cell_type": "code",
   "execution_count": 280,
   "id": "3f1cb410",
   "metadata": {},
   "outputs": [
    {
     "data": {
      "application/vnd.plotly.v1+json": {
       "config": {
        "plotlyServerURL": "https://plot.ly"
       },
       "data": [
        {
         "hovertemplate": "IDADE=%{x}<br>SALARIO=%{y}<extra></extra>",
         "legendgroup": "",
         "line": {
          "color": "#636efa",
          "dash": "solid"
         },
         "marker": {
          "symbol": "circle"
         },
         "mode": "lines+markers",
         "name": "",
         "orientation": "v",
         "showlegend": false,
         "type": "scatter",
         "x": {
          "bdata": "AAAAAAAAMkAAAAAAAAAzQAAAAAAAADRAS5MmTZo0NEAAAAAAAAA1QAAAAAAAADZAAAAAAAAAN0AAAAAAAAA4QAAAAAAAADlAAAAAAAAAOkAAAAAAAAA7QAAAAAAAADxAAAAAAAAAPUAAAAAAAAA+QAAAAAAAAD9AAAAAAAAAQEAAAAAAAIBAQAAAAAAAAEFAAAAAAACAQUAAAAAAAABCQAAAAAAAgEJAAAAAAAAAQ0AAAAAAAIBDQAAAAAAAAERAAAAAAACAREAAAAAAAABFQAAAAAAAgEVAAAAAAAAARkAAAAAAAIBGQAAAAAAAAEdAAAAAAACAR0AAAAAAAABIQAAAAAAAgEhAAAAAAAAASUAAAAAAAIBJQAAAAAAAAEpAAAAAAACASkAAAAAAAABLQA==",
          "dtype": "f8"
         },
         "xaxis": "x",
         "y": {
          "bdata": "xU7sxE6GsEBddNFFl6exQBdddNFFjLNAAAAAAACgq0C4fMu3vOKxQO0ltJewKrFAg1ZfKmjitUDH+tBYnwe4QNflHXBkwL1AfuZ7OBIUvkBFjZECtxbAQOsHHRX4BMNAeYTqM22pwkCR9OXSNCbEQNIB+2r/asNAtz/IUJktxUD7q7/6W6TGQJ18dPJRA8hAoixkLOxJyECgXl63+/XHQJW8NaHDoshA5hetyFz1ykCnLmSciv7JQKO6MzAEWs1AwzAMw3CFykBoL6G9hAzHQLsdRbvdBsxAlEIplOKkzEAkmwk8t3PPQGuttdbaRMdAAAAAAATKxUBu27Zt2+zHQAAAAAAAbsxATWGcTQG+zkAzMzMz84jBQM3MzMy8AcdAAAAAAAA9w0AGnHEtEqbKQA==",
          "dtype": "f8"
         },
         "yaxis": "y"
        }
       ],
       "layout": {
        "legend": {
         "tracegroupgap": 0
        },
        "template": {
         "data": {
          "bar": [
           {
            "error_x": {
             "color": "#2a3f5f"
            },
            "error_y": {
             "color": "#2a3f5f"
            },
            "marker": {
             "line": {
              "color": "#E5ECF6",
              "width": 0.5
             },
             "pattern": {
              "fillmode": "overlay",
              "size": 10,
              "solidity": 0.2
             }
            },
            "type": "bar"
           }
          ],
          "barpolar": [
           {
            "marker": {
             "line": {
              "color": "#E5ECF6",
              "width": 0.5
             },
             "pattern": {
              "fillmode": "overlay",
              "size": 10,
              "solidity": 0.2
             }
            },
            "type": "barpolar"
           }
          ],
          "carpet": [
           {
            "aaxis": {
             "endlinecolor": "#2a3f5f",
             "gridcolor": "white",
             "linecolor": "white",
             "minorgridcolor": "white",
             "startlinecolor": "#2a3f5f"
            },
            "baxis": {
             "endlinecolor": "#2a3f5f",
             "gridcolor": "white",
             "linecolor": "white",
             "minorgridcolor": "white",
             "startlinecolor": "#2a3f5f"
            },
            "type": "carpet"
           }
          ],
          "choropleth": [
           {
            "colorbar": {
             "outlinewidth": 0,
             "ticks": ""
            },
            "type": "choropleth"
           }
          ],
          "contour": [
           {
            "colorbar": {
             "outlinewidth": 0,
             "ticks": ""
            },
            "colorscale": [
             [
              0,
              "#0d0887"
             ],
             [
              0.1111111111111111,
              "#46039f"
             ],
             [
              0.2222222222222222,
              "#7201a8"
             ],
             [
              0.3333333333333333,
              "#9c179e"
             ],
             [
              0.4444444444444444,
              "#bd3786"
             ],
             [
              0.5555555555555556,
              "#d8576b"
             ],
             [
              0.6666666666666666,
              "#ed7953"
             ],
             [
              0.7777777777777778,
              "#fb9f3a"
             ],
             [
              0.8888888888888888,
              "#fdca26"
             ],
             [
              1,
              "#f0f921"
             ]
            ],
            "type": "contour"
           }
          ],
          "contourcarpet": [
           {
            "colorbar": {
             "outlinewidth": 0,
             "ticks": ""
            },
            "type": "contourcarpet"
           }
          ],
          "heatmap": [
           {
            "colorbar": {
             "outlinewidth": 0,
             "ticks": ""
            },
            "colorscale": [
             [
              0,
              "#0d0887"
             ],
             [
              0.1111111111111111,
              "#46039f"
             ],
             [
              0.2222222222222222,
              "#7201a8"
             ],
             [
              0.3333333333333333,
              "#9c179e"
             ],
             [
              0.4444444444444444,
              "#bd3786"
             ],
             [
              0.5555555555555556,
              "#d8576b"
             ],
             [
              0.6666666666666666,
              "#ed7953"
             ],
             [
              0.7777777777777778,
              "#fb9f3a"
             ],
             [
              0.8888888888888888,
              "#fdca26"
             ],
             [
              1,
              "#f0f921"
             ]
            ],
            "type": "heatmap"
           }
          ],
          "histogram": [
           {
            "marker": {
             "pattern": {
              "fillmode": "overlay",
              "size": 10,
              "solidity": 0.2
             }
            },
            "type": "histogram"
           }
          ],
          "histogram2d": [
           {
            "colorbar": {
             "outlinewidth": 0,
             "ticks": ""
            },
            "colorscale": [
             [
              0,
              "#0d0887"
             ],
             [
              0.1111111111111111,
              "#46039f"
             ],
             [
              0.2222222222222222,
              "#7201a8"
             ],
             [
              0.3333333333333333,
              "#9c179e"
             ],
             [
              0.4444444444444444,
              "#bd3786"
             ],
             [
              0.5555555555555556,
              "#d8576b"
             ],
             [
              0.6666666666666666,
              "#ed7953"
             ],
             [
              0.7777777777777778,
              "#fb9f3a"
             ],
             [
              0.8888888888888888,
              "#fdca26"
             ],
             [
              1,
              "#f0f921"
             ]
            ],
            "type": "histogram2d"
           }
          ],
          "histogram2dcontour": [
           {
            "colorbar": {
             "outlinewidth": 0,
             "ticks": ""
            },
            "colorscale": [
             [
              0,
              "#0d0887"
             ],
             [
              0.1111111111111111,
              "#46039f"
             ],
             [
              0.2222222222222222,
              "#7201a8"
             ],
             [
              0.3333333333333333,
              "#9c179e"
             ],
             [
              0.4444444444444444,
              "#bd3786"
             ],
             [
              0.5555555555555556,
              "#d8576b"
             ],
             [
              0.6666666666666666,
              "#ed7953"
             ],
             [
              0.7777777777777778,
              "#fb9f3a"
             ],
             [
              0.8888888888888888,
              "#fdca26"
             ],
             [
              1,
              "#f0f921"
             ]
            ],
            "type": "histogram2dcontour"
           }
          ],
          "mesh3d": [
           {
            "colorbar": {
             "outlinewidth": 0,
             "ticks": ""
            },
            "type": "mesh3d"
           }
          ],
          "parcoords": [
           {
            "line": {
             "colorbar": {
              "outlinewidth": 0,
              "ticks": ""
             }
            },
            "type": "parcoords"
           }
          ],
          "pie": [
           {
            "automargin": true,
            "type": "pie"
           }
          ],
          "scatter": [
           {
            "fillpattern": {
             "fillmode": "overlay",
             "size": 10,
             "solidity": 0.2
            },
            "type": "scatter"
           }
          ],
          "scatter3d": [
           {
            "line": {
             "colorbar": {
              "outlinewidth": 0,
              "ticks": ""
             }
            },
            "marker": {
             "colorbar": {
              "outlinewidth": 0,
              "ticks": ""
             }
            },
            "type": "scatter3d"
           }
          ],
          "scattercarpet": [
           {
            "marker": {
             "colorbar": {
              "outlinewidth": 0,
              "ticks": ""
             }
            },
            "type": "scattercarpet"
           }
          ],
          "scattergeo": [
           {
            "marker": {
             "colorbar": {
              "outlinewidth": 0,
              "ticks": ""
             }
            },
            "type": "scattergeo"
           }
          ],
          "scattergl": [
           {
            "marker": {
             "colorbar": {
              "outlinewidth": 0,
              "ticks": ""
             }
            },
            "type": "scattergl"
           }
          ],
          "scattermap": [
           {
            "marker": {
             "colorbar": {
              "outlinewidth": 0,
              "ticks": ""
             }
            },
            "type": "scattermap"
           }
          ],
          "scattermapbox": [
           {
            "marker": {
             "colorbar": {
              "outlinewidth": 0,
              "ticks": ""
             }
            },
            "type": "scattermapbox"
           }
          ],
          "scatterpolar": [
           {
            "marker": {
             "colorbar": {
              "outlinewidth": 0,
              "ticks": ""
             }
            },
            "type": "scatterpolar"
           }
          ],
          "scatterpolargl": [
           {
            "marker": {
             "colorbar": {
              "outlinewidth": 0,
              "ticks": ""
             }
            },
            "type": "scatterpolargl"
           }
          ],
          "scatterternary": [
           {
            "marker": {
             "colorbar": {
              "outlinewidth": 0,
              "ticks": ""
             }
            },
            "type": "scatterternary"
           }
          ],
          "surface": [
           {
            "colorbar": {
             "outlinewidth": 0,
             "ticks": ""
            },
            "colorscale": [
             [
              0,
              "#0d0887"
             ],
             [
              0.1111111111111111,
              "#46039f"
             ],
             [
              0.2222222222222222,
              "#7201a8"
             ],
             [
              0.3333333333333333,
              "#9c179e"
             ],
             [
              0.4444444444444444,
              "#bd3786"
             ],
             [
              0.5555555555555556,
              "#d8576b"
             ],
             [
              0.6666666666666666,
              "#ed7953"
             ],
             [
              0.7777777777777778,
              "#fb9f3a"
             ],
             [
              0.8888888888888888,
              "#fdca26"
             ],
             [
              1,
              "#f0f921"
             ]
            ],
            "type": "surface"
           }
          ],
          "table": [
           {
            "cells": {
             "fill": {
              "color": "#EBF0F8"
             },
             "line": {
              "color": "white"
             }
            },
            "header": {
             "fill": {
              "color": "#C8D4E3"
             },
             "line": {
              "color": "white"
             }
            },
            "type": "table"
           }
          ]
         },
         "layout": {
          "annotationdefaults": {
           "arrowcolor": "#2a3f5f",
           "arrowhead": 0,
           "arrowwidth": 1
          },
          "autotypenumbers": "strict",
          "coloraxis": {
           "colorbar": {
            "outlinewidth": 0,
            "ticks": ""
           }
          },
          "colorscale": {
           "diverging": [
            [
             0,
             "#8e0152"
            ],
            [
             0.1,
             "#c51b7d"
            ],
            [
             0.2,
             "#de77ae"
            ],
            [
             0.3,
             "#f1b6da"
            ],
            [
             0.4,
             "#fde0ef"
            ],
            [
             0.5,
             "#f7f7f7"
            ],
            [
             0.6,
             "#e6f5d0"
            ],
            [
             0.7,
             "#b8e186"
            ],
            [
             0.8,
             "#7fbc41"
            ],
            [
             0.9,
             "#4d9221"
            ],
            [
             1,
             "#276419"
            ]
           ],
           "sequential": [
            [
             0,
             "#0d0887"
            ],
            [
             0.1111111111111111,
             "#46039f"
            ],
            [
             0.2222222222222222,
             "#7201a8"
            ],
            [
             0.3333333333333333,
             "#9c179e"
            ],
            [
             0.4444444444444444,
             "#bd3786"
            ],
            [
             0.5555555555555556,
             "#d8576b"
            ],
            [
             0.6666666666666666,
             "#ed7953"
            ],
            [
             0.7777777777777778,
             "#fb9f3a"
            ],
            [
             0.8888888888888888,
             "#fdca26"
            ],
            [
             1,
             "#f0f921"
            ]
           ],
           "sequentialminus": [
            [
             0,
             "#0d0887"
            ],
            [
             0.1111111111111111,
             "#46039f"
            ],
            [
             0.2222222222222222,
             "#7201a8"
            ],
            [
             0.3333333333333333,
             "#9c179e"
            ],
            [
             0.4444444444444444,
             "#bd3786"
            ],
            [
             0.5555555555555556,
             "#d8576b"
            ],
            [
             0.6666666666666666,
             "#ed7953"
            ],
            [
             0.7777777777777778,
             "#fb9f3a"
            ],
            [
             0.8888888888888888,
             "#fdca26"
            ],
            [
             1,
             "#f0f921"
            ]
           ]
          },
          "colorway": [
           "#636efa",
           "#EF553B",
           "#00cc96",
           "#ab63fa",
           "#FFA15A",
           "#19d3f3",
           "#FF6692",
           "#B6E880",
           "#FF97FF",
           "#FECB52"
          ],
          "font": {
           "color": "#2a3f5f"
          },
          "geo": {
           "bgcolor": "white",
           "lakecolor": "white",
           "landcolor": "#E5ECF6",
           "showlakes": true,
           "showland": true,
           "subunitcolor": "white"
          },
          "hoverlabel": {
           "align": "left"
          },
          "hovermode": "closest",
          "mapbox": {
           "style": "light"
          },
          "paper_bgcolor": "white",
          "plot_bgcolor": "#E5ECF6",
          "polar": {
           "angularaxis": {
            "gridcolor": "white",
            "linecolor": "white",
            "ticks": ""
           },
           "bgcolor": "#E5ECF6",
           "radialaxis": {
            "gridcolor": "white",
            "linecolor": "white",
            "ticks": ""
           }
          },
          "scene": {
           "xaxis": {
            "backgroundcolor": "#E5ECF6",
            "gridcolor": "white",
            "gridwidth": 2,
            "linecolor": "white",
            "showbackground": true,
            "ticks": "",
            "zerolinecolor": "white"
           },
           "yaxis": {
            "backgroundcolor": "#E5ECF6",
            "gridcolor": "white",
            "gridwidth": 2,
            "linecolor": "white",
            "showbackground": true,
            "ticks": "",
            "zerolinecolor": "white"
           },
           "zaxis": {
            "backgroundcolor": "#E5ECF6",
            "gridcolor": "white",
            "gridwidth": 2,
            "linecolor": "white",
            "showbackground": true,
            "ticks": "",
            "zerolinecolor": "white"
           }
          },
          "shapedefaults": {
           "line": {
            "color": "#2a3f5f"
           }
          },
          "ternary": {
           "aaxis": {
            "gridcolor": "white",
            "linecolor": "white",
            "ticks": ""
           },
           "baxis": {
            "gridcolor": "white",
            "linecolor": "white",
            "ticks": ""
           },
           "bgcolor": "#E5ECF6",
           "caxis": {
            "gridcolor": "white",
            "linecolor": "white",
            "ticks": ""
           }
          },
          "title": {
           "x": 0.05
          },
          "xaxis": {
           "automargin": true,
           "gridcolor": "white",
           "linecolor": "white",
           "ticks": "",
           "title": {
            "standoff": 15
           },
           "zerolinecolor": "white",
           "zerolinewidth": 2
          },
          "yaxis": {
           "automargin": true,
           "gridcolor": "white",
           "linecolor": "white",
           "ticks": "",
           "title": {
            "standoff": 15
           },
           "zerolinecolor": "white",
           "zerolinewidth": 2
          }
         }
        },
        "title": {
         "text": "Média de Salário por Idade"
        },
        "xaxis": {
         "anchor": "y",
         "domain": [
          0,
          1
         ],
         "title": {
          "text": "IDADE"
         }
        },
        "yaxis": {
         "anchor": "x",
         "domain": [
          0,
          1
         ],
         "title": {
          "text": "SALARIO"
         }
        }
       }
      }
     },
     "metadata": {},
     "output_type": "display_data"
    }
   ],
   "source": [
    "fig.show()"
   ]
  },
  {
   "cell_type": "markdown",
   "id": "ab99e0ce",
   "metadata": {},
   "source": [
    "### Dispersão - Salário Por Idade"
   ]
  },
  {
   "cell_type": "code",
   "execution_count": 282,
   "id": "563d8f3f",
   "metadata": {},
   "outputs": [
    {
     "data": {
      "application/vnd.plotly.v1+json": {
       "config": {
        "plotlyServerURL": "https://plot.ly"
       },
       "data": [
        {
         "hovertemplate": "IDADE=%{x}<br>SALARIO=%{y}<extra></extra>",
         "legendgroup": "",
         "marker": {
          "color": "#636efa",
          "symbol": "circle"
         },
         "mode": "markers",
         "name": "",
         "showlegend": false,
         "type": "scattergl",
         "x": {
          "bdata": "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",
          "dtype": "f8"
         },
         "xaxis": "x",
         "y": {
          "bdata": "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",
          "dtype": "f8"
         },
         "yaxis": "y"
        }
       ],
       "layout": {
        "legend": {
         "tracegroupgap": 0
        },
        "template": {
         "data": {
          "bar": [
           {
            "error_x": {
             "color": "#2a3f5f"
            },
            "error_y": {
             "color": "#2a3f5f"
            },
            "marker": {
             "line": {
              "color": "#E5ECF6",
              "width": 0.5
             },
             "pattern": {
              "fillmode": "overlay",
              "size": 10,
              "solidity": 0.2
             }
            },
            "type": "bar"
           }
          ],
          "barpolar": [
           {
            "marker": {
             "line": {
              "color": "#E5ECF6",
              "width": 0.5
             },
             "pattern": {
              "fillmode": "overlay",
              "size": 10,
              "solidity": 0.2
             }
            },
            "type": "barpolar"
           }
          ],
          "carpet": [
           {
            "aaxis": {
             "endlinecolor": "#2a3f5f",
             "gridcolor": "white",
             "linecolor": "white",
             "minorgridcolor": "white",
             "startlinecolor": "#2a3f5f"
            },
            "baxis": {
             "endlinecolor": "#2a3f5f",
             "gridcolor": "white",
             "linecolor": "white",
             "minorgridcolor": "white",
             "startlinecolor": "#2a3f5f"
            },
            "type": "carpet"
           }
          ],
          "choropleth": [
           {
            "colorbar": {
             "outlinewidth": 0,
             "ticks": ""
            },
            "type": "choropleth"
           }
          ],
          "contour": [
           {
            "colorbar": {
             "outlinewidth": 0,
             "ticks": ""
            },
            "colorscale": [
             [
              0,
              "#0d0887"
             ],
             [
              0.1111111111111111,
              "#46039f"
             ],
             [
              0.2222222222222222,
              "#7201a8"
             ],
             [
              0.3333333333333333,
              "#9c179e"
             ],
             [
              0.4444444444444444,
              "#bd3786"
             ],
             [
              0.5555555555555556,
              "#d8576b"
             ],
             [
              0.6666666666666666,
              "#ed7953"
             ],
             [
              0.7777777777777778,
              "#fb9f3a"
             ],
             [
              0.8888888888888888,
              "#fdca26"
             ],
             [
              1,
              "#f0f921"
             ]
            ],
            "type": "contour"
           }
          ],
          "contourcarpet": [
           {
            "colorbar": {
             "outlinewidth": 0,
             "ticks": ""
            },
            "type": "contourcarpet"
           }
          ],
          "heatmap": [
           {
            "colorbar": {
             "outlinewidth": 0,
             "ticks": ""
            },
            "colorscale": [
             [
              0,
              "#0d0887"
             ],
             [
              0.1111111111111111,
              "#46039f"
             ],
             [
              0.2222222222222222,
              "#7201a8"
             ],
             [
              0.3333333333333333,
              "#9c179e"
             ],
             [
              0.4444444444444444,
              "#bd3786"
             ],
             [
              0.5555555555555556,
              "#d8576b"
             ],
             [
              0.6666666666666666,
              "#ed7953"
             ],
             [
              0.7777777777777778,
              "#fb9f3a"
             ],
             [
              0.8888888888888888,
              "#fdca26"
             ],
             [
              1,
              "#f0f921"
             ]
            ],
            "type": "heatmap"
           }
          ],
          "histogram": [
           {
            "marker": {
             "pattern": {
              "fillmode": "overlay",
              "size": 10,
              "solidity": 0.2
             }
            },
            "type": "histogram"
           }
          ],
          "histogram2d": [
           {
            "colorbar": {
             "outlinewidth": 0,
             "ticks": ""
            },
            "colorscale": [
             [
              0,
              "#0d0887"
             ],
             [
              0.1111111111111111,
              "#46039f"
             ],
             [
              0.2222222222222222,
              "#7201a8"
             ],
             [
              0.3333333333333333,
              "#9c179e"
             ],
             [
              0.4444444444444444,
              "#bd3786"
             ],
             [
              0.5555555555555556,
              "#d8576b"
             ],
             [
              0.6666666666666666,
              "#ed7953"
             ],
             [
              0.7777777777777778,
              "#fb9f3a"
             ],
             [
              0.8888888888888888,
              "#fdca26"
             ],
             [
              1,
              "#f0f921"
             ]
            ],
            "type": "histogram2d"
           }
          ],
          "histogram2dcontour": [
           {
            "colorbar": {
             "outlinewidth": 0,
             "ticks": ""
            },
            "colorscale": [
             [
              0,
              "#0d0887"
             ],
             [
              0.1111111111111111,
              "#46039f"
             ],
             [
              0.2222222222222222,
              "#7201a8"
             ],
             [
              0.3333333333333333,
              "#9c179e"
             ],
             [
              0.4444444444444444,
              "#bd3786"
             ],
             [
              0.5555555555555556,
              "#d8576b"
             ],
             [
              0.6666666666666666,
              "#ed7953"
             ],
             [
              0.7777777777777778,
              "#fb9f3a"
             ],
             [
              0.8888888888888888,
              "#fdca26"
             ],
             [
              1,
              "#f0f921"
             ]
            ],
            "type": "histogram2dcontour"
           }
          ],
          "mesh3d": [
           {
            "colorbar": {
             "outlinewidth": 0,
             "ticks": ""
            },
            "type": "mesh3d"
           }
          ],
          "parcoords": [
           {
            "line": {
             "colorbar": {
              "outlinewidth": 0,
              "ticks": ""
             }
            },
            "type": "parcoords"
           }
          ],
          "pie": [
           {
            "automargin": true,
            "type": "pie"
           }
          ],
          "scatter": [
           {
            "fillpattern": {
             "fillmode": "overlay",
             "size": 10,
             "solidity": 0.2
            },
            "type": "scatter"
           }
          ],
          "scatter3d": [
           {
            "line": {
             "colorbar": {
              "outlinewidth": 0,
              "ticks": ""
             }
            },
            "marker": {
             "colorbar": {
              "outlinewidth": 0,
              "ticks": ""
             }
            },
            "type": "scatter3d"
           }
          ],
          "scattercarpet": [
           {
            "marker": {
             "colorbar": {
              "outlinewidth": 0,
              "ticks": ""
             }
            },
            "type": "scattercarpet"
           }
          ],
          "scattergeo": [
           {
            "marker": {
             "colorbar": {
              "outlinewidth": 0,
              "ticks": ""
             }
            },
            "type": "scattergeo"
           }
          ],
          "scattergl": [
           {
            "marker": {
             "colorbar": {
              "outlinewidth": 0,
              "ticks": ""
             }
            },
            "type": "scattergl"
           }
          ],
          "scattermap": [
           {
            "marker": {
             "colorbar": {
              "outlinewidth": 0,
              "ticks": ""
             }
            },
            "type": "scattermap"
           }
          ],
          "scattermapbox": [
           {
            "marker": {
             "colorbar": {
              "outlinewidth": 0,
              "ticks": ""
             }
            },
            "type": "scattermapbox"
           }
          ],
          "scatterpolar": [
           {
            "marker": {
             "colorbar": {
              "outlinewidth": 0,
              "ticks": ""
             }
            },
            "type": "scatterpolar"
           }
          ],
          "scatterpolargl": [
           {
            "marker": {
             "colorbar": {
              "outlinewidth": 0,
              "ticks": ""
             }
            },
            "type": "scatterpolargl"
           }
          ],
          "scatterternary": [
           {
            "marker": {
             "colorbar": {
              "outlinewidth": 0,
              "ticks": ""
             }
            },
            "type": "scatterternary"
           }
          ],
          "surface": [
           {
            "colorbar": {
             "outlinewidth": 0,
             "ticks": ""
            },
            "colorscale": [
             [
              0,
              "#0d0887"
             ],
             [
              0.1111111111111111,
              "#46039f"
             ],
             [
              0.2222222222222222,
              "#7201a8"
             ],
             [
              0.3333333333333333,
              "#9c179e"
             ],
             [
              0.4444444444444444,
              "#bd3786"
             ],
             [
              0.5555555555555556,
              "#d8576b"
             ],
             [
              0.6666666666666666,
              "#ed7953"
             ],
             [
              0.7777777777777778,
              "#fb9f3a"
             ],
             [
              0.8888888888888888,
              "#fdca26"
             ],
             [
              1,
              "#f0f921"
             ]
            ],
            "type": "surface"
           }
          ],
          "table": [
           {
            "cells": {
             "fill": {
              "color": "#EBF0F8"
             },
             "line": {
              "color": "white"
             }
            },
            "header": {
             "fill": {
              "color": "#C8D4E3"
             },
             "line": {
              "color": "white"
             }
            },
            "type": "table"
           }
          ]
         },
         "layout": {
          "annotationdefaults": {
           "arrowcolor": "#2a3f5f",
           "arrowhead": 0,
           "arrowwidth": 1
          },
          "autotypenumbers": "strict",
          "coloraxis": {
           "colorbar": {
            "outlinewidth": 0,
            "ticks": ""
           }
          },
          "colorscale": {
           "diverging": [
            [
             0,
             "#8e0152"
            ],
            [
             0.1,
             "#c51b7d"
            ],
            [
             0.2,
             "#de77ae"
            ],
            [
             0.3,
             "#f1b6da"
            ],
            [
             0.4,
             "#fde0ef"
            ],
            [
             0.5,
             "#f7f7f7"
            ],
            [
             0.6,
             "#e6f5d0"
            ],
            [
             0.7,
             "#b8e186"
            ],
            [
             0.8,
             "#7fbc41"
            ],
            [
             0.9,
             "#4d9221"
            ],
            [
             1,
             "#276419"
            ]
           ],
           "sequential": [
            [
             0,
             "#0d0887"
            ],
            [
             0.1111111111111111,
             "#46039f"
            ],
            [
             0.2222222222222222,
             "#7201a8"
            ],
            [
             0.3333333333333333,
             "#9c179e"
            ],
            [
             0.4444444444444444,
             "#bd3786"
            ],
            [
             0.5555555555555556,
             "#d8576b"
            ],
            [
             0.6666666666666666,
             "#ed7953"
            ],
            [
             0.7777777777777778,
             "#fb9f3a"
            ],
            [
             0.8888888888888888,
             "#fdca26"
            ],
            [
             1,
             "#f0f921"
            ]
           ],
           "sequentialminus": [
            [
             0,
             "#0d0887"
            ],
            [
             0.1111111111111111,
             "#46039f"
            ],
            [
             0.2222222222222222,
             "#7201a8"
            ],
            [
             0.3333333333333333,
             "#9c179e"
            ],
            [
             0.4444444444444444,
             "#bd3786"
            ],
            [
             0.5555555555555556,
             "#d8576b"
            ],
            [
             0.6666666666666666,
             "#ed7953"
            ],
            [
             0.7777777777777778,
             "#fb9f3a"
            ],
            [
             0.8888888888888888,
             "#fdca26"
            ],
            [
             1,
             "#f0f921"
            ]
           ]
          },
          "colorway": [
           "#636efa",
           "#EF553B",
           "#00cc96",
           "#ab63fa",
           "#FFA15A",
           "#19d3f3",
           "#FF6692",
           "#B6E880",
           "#FF97FF",
           "#FECB52"
          ],
          "font": {
           "color": "#2a3f5f"
          },
          "geo": {
           "bgcolor": "white",
           "lakecolor": "white",
           "landcolor": "#E5ECF6",
           "showlakes": true,
           "showland": true,
           "subunitcolor": "white"
          },
          "hoverlabel": {
           "align": "left"
          },
          "hovermode": "closest",
          "mapbox": {
           "style": "light"
          },
          "paper_bgcolor": "white",
          "plot_bgcolor": "#E5ECF6",
          "polar": {
           "angularaxis": {
            "gridcolor": "white",
            "linecolor": "white",
            "ticks": ""
           },
           "bgcolor": "#E5ECF6",
           "radialaxis": {
            "gridcolor": "white",
            "linecolor": "white",
            "ticks": ""
           }
          },
          "scene": {
           "xaxis": {
            "backgroundcolor": "#E5ECF6",
            "gridcolor": "white",
            "gridwidth": 2,
            "linecolor": "white",
            "showbackground": true,
            "ticks": "",
            "zerolinecolor": "white"
           },
           "yaxis": {
            "backgroundcolor": "#E5ECF6",
            "gridcolor": "white",
            "gridwidth": 2,
            "linecolor": "white",
            "showbackground": true,
            "ticks": "",
            "zerolinecolor": "white"
           },
           "zaxis": {
            "backgroundcolor": "#E5ECF6",
            "gridcolor": "white",
            "gridwidth": 2,
            "linecolor": "white",
            "showbackground": true,
            "ticks": "",
            "zerolinecolor": "white"
           }
          },
          "shapedefaults": {
           "line": {
            "color": "#2a3f5f"
           }
          },
          "ternary": {
           "aaxis": {
            "gridcolor": "white",
            "linecolor": "white",
            "ticks": ""
           },
           "baxis": {
            "gridcolor": "white",
            "linecolor": "white",
            "ticks": ""
           },
           "bgcolor": "#E5ECF6",
           "caxis": {
            "gridcolor": "white",
            "linecolor": "white",
            "ticks": ""
           }
          },
          "title": {
           "x": 0.05
          },
          "xaxis": {
           "automargin": true,
           "gridcolor": "white",
           "linecolor": "white",
           "ticks": "",
           "title": {
            "standoff": 15
           },
           "zerolinecolor": "white",
           "zerolinewidth": 2
          },
          "yaxis": {
           "automargin": true,
           "gridcolor": "white",
           "linecolor": "white",
           "ticks": "",
           "title": {
            "standoff": 15
           },
           "zerolinecolor": "white",
           "zerolinewidth": 2
          }
         }
        },
        "title": {
         "text": "Dispersão de salário por idade"
        },
        "xaxis": {
         "anchor": "y",
         "domain": [
          0,
          1
         ],
         "title": {
          "text": "IDADE"
         }
        },
        "yaxis": {
         "anchor": "x",
         "domain": [
          0,
          1
         ],
         "title": {
          "text": "SALARIO"
         }
        }
       }
      }
     },
     "metadata": {},
     "output_type": "display_data"
    }
   ],
   "source": [
    "fig = px.scatter(dados, x='IDADE', y='SALARIO', title='Dispersão de salário por idade')\n",
    "fig.show()"
   ]
  },
  {
   "cell_type": "markdown",
   "id": "c1f59ec6",
   "metadata": {},
   "source": [
    "# Módulo 8 - Introdução ao Aprendizado de Máquina"
   ]
  },
  {
   "cell_type": "markdown",
   "id": "245fd961",
   "metadata": {},
   "source": []
  }
 ],
 "metadata": {
  "kernelspec": {
   "display_name": "Python 3",
   "language": "python",
   "name": "python3"
  },
  "language_info": {
   "codemirror_mode": {
    "name": "ipython",
    "version": 3
   },
   "file_extension": ".py",
   "mimetype": "text/x-python",
   "name": "python",
   "nbconvert_exporter": "python",
   "pygments_lexer": "ipython3",
   "version": "3.11.9"
  }
 },
 "nbformat": 4,
 "nbformat_minor": 5
}
