{
 "cells": [
  {
   "cell_type": "markdown",
   "id": "d83e3e78",
   "metadata": {},
   "source": [
    "## Exercício de Revisão | Funções\n",
    "\n",
    "Baixe o arquivo licitacoes.csv e verifique quantas licitações estão com a “Situação Licitação” igual a “Encerrado”. "
   ]
  },
  {
   "cell_type": "code",
   "execution_count": 1,
   "id": "522f2ae0",
   "metadata": {},
   "outputs": [],
   "source": [
    "import pandas as pd"
   ]
  },
  {
   "cell_type": "code",
   "execution_count": 2,
   "id": "5d4dd5dc",
   "metadata": {},
   "outputs": [
    {
     "name": "stdout",
     "output_type": "stream",
     "text": [
      "{'encoding': 'ISO-8859-1', 'confidence': 0.73, 'language': ''}\n"
     ]
    }
   ],
   "source": [
    "# detectar a codificação\n",
    "#!pip install chardet\n",
    "import chardet\n",
    "\n",
    "# Lê uma amostra do arquivo (em modo binário)\n",
    "with open('licitacoes.csv', 'rb') as f:\n",
    "    resultado = chardet.detect(f.read(10000))  # Lê os primeiros 10 mil bytes\n",
    "\n",
    "print(resultado)"
   ]
  },
  {
   "cell_type": "code",
   "execution_count": 3,
   "id": "846feba6",
   "metadata": {},
   "outputs": [],
   "source": [
    "licitacoes = pd.read_csv('licitacoes.csv', encoding='ISO-8859-1', sep=';')"
   ]
  },
  {
   "cell_type": "code",
   "execution_count": 4,
   "id": "6983b6b7",
   "metadata": {},
   "outputs": [],
   "source": [
    "qtd_encerrado = len(licitacoes[licitacoes['Situação Licitação']=='Encerrado'])"
   ]
  },
  {
   "cell_type": "code",
   "execution_count": 5,
   "id": "06ff4cbc",
   "metadata": {},
   "outputs": [
    {
     "name": "stdout",
     "output_type": "stream",
     "text": [
      "Tem 9016 licitações encerradas\n"
     ]
    }
   ],
   "source": [
    "print('Tem ',qtd_encerrado,' licitações encerradas', sep='')"
   ]
  },
  {
   "cell_type": "code",
   "execution_count": 6,
   "id": "90428b46",
   "metadata": {},
   "outputs": [
    {
     "data": {
      "text/plain": [
       "Situação Licitação\n",
       "Encerrado                         9016\n",
       "Publicado                         3709\n",
       "Evento de Resultado de Julgame    1922\n",
       "Retificação                        127\n",
       "Evento de Alteração Publicad        93\n",
       "Evento de Suspensão Publicado       72\n",
       "Anulação                            67\n",
       "Revogação                           63\n",
       "Divulgado                           55\n",
       "Evento de Adiamento Publicado       46\n",
       "Evento de Retificação Public        45\n",
       "Evento de Revogação Publicad        40\n",
       "Evento de Alteração de Resul        37\n",
       "Evento de Anulação Publicado        18\n",
       "Evento de Retificação Divulg         7\n",
       "Inválido                             4\n",
       "Evento de Habilitação Public         4\n",
       "Evento de Alteração Divulgad         4\n",
       "Evento de Reabertura de Prazo        4\n",
       "Evento de Adiamento Divulgado        3\n",
       "Name: count, dtype: int64"
      ]
     },
     "execution_count": 6,
     "metadata": {},
     "output_type": "execute_result"
    }
   ],
   "source": [
    "licitacoes['Situação Licitação'].value_counts()"
   ]
  }
 ],
 "metadata": {
  "kernelspec": {
   "display_name": "Python 3",
   "language": "python",
   "name": "python3"
  },
  "language_info": {
   "codemirror_mode": {
    "name": "ipython",
    "version": 3
   },
   "file_extension": ".py",
   "mimetype": "text/x-python",
   "name": "python",
   "nbconvert_exporter": "python",
   "pygments_lexer": "ipython3",
   "version": "3.11.9"
  }
 },
 "nbformat": 4,
 "nbformat_minor": 5
}
