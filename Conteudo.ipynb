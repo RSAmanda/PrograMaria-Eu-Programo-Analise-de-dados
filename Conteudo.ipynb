{
 "cells": [
  {
   "cell_type": "markdown",
   "id": "502bd109",
   "metadata": {},
   "source": [
    "# Introdução:\n",
    "\n",
    "Neste notebook, iremos explorar os dados coletados na pesquisa anual do Datahackers de 2022. A pesquisa de Datahackers é uma fonte valiosa de informações sobre o mercado de trabalho na área de tecnologia da informação (TI) no Brasil, abordando uma ampla gama de tópicos relevantes ára profissionais, empresas e instituições de ensino.\n",
    "\n",
    "A importância dessa pesquisa não pode ser subestimada, pois fornece insights cruciais sobre tendências, demandas e desagios enfrentados pelos profissionais de TI no Brasil. Além disso, a pesquisa contribui significativamente para o debate sobre diversidade no setor, incluindo questões de gênero, raça e outros aspectos relacionados à inclusão\n",
    "\n",
    "O objetivo desta análise de dados é duplo: em primeiro lugar, buscamos aprender e praticar técnicas de análise de dados utilizando Python e bibliotecas como pandas, matplotlib e seaborn. Em segundo lugar, pretendemos extrair insights importantes sobre o mercado de trabalho na área de TI, identificando padrões, tendências e correlações nos dados coletados.\n",
    "\n",
    "Além de explorar aspectos como salários, níveis de escolaridade e tecnologias mais utilizadas, daremos um foco especial ao debate de diversidade, investigando questões de representatividade de gênero e raça no campo da tecnologia.\n",
    "\n",
    "Vamos começar nossa jornada de exploração dos dados e descobertas!"
   ]
  },
  {
   "cell_type": "markdown",
   "id": "f67aab59",
   "metadata": {},
   "source": [
    "---"
   ]
  },
  {
   "cell_type": "markdown",
   "id": "d2048675",
   "metadata": {},
   "source": [
    "# Módulo 3 - Primeira Análise"
   ]
  },
  {
   "cell_type": "code",
   "execution_count": 392,
   "id": "2d8e720f",
   "metadata": {},
   "outputs": [],
   "source": [
    "# importando bibliotecas\n",
    "import pandas as pd\n",
    "#!pip install openpyxl"
   ]
  },
  {
   "cell_type": "code",
   "execution_count": 393,
   "id": "62e11330",
   "metadata": {},
   "outputs": [],
   "source": [
    "# Importando os dados\n",
    "dados = pd.read_excel('arquivos_conteudo/planilha_modulo3.xlsx', engine=\"openpyxl\")"
   ]
  },
  {
   "cell_type": "markdown",
   "id": "24f2f685",
   "metadata": {},
   "source": [
    "## Analisando brevemente a importação dos dados"
   ]
  },
  {
   "cell_type": "code",
   "execution_count": 394,
   "id": "f5bc1802",
   "metadata": {},
   "outputs": [
    {
     "name": "stdout",
     "output_type": "stream",
     "text": [
      "<class 'pandas.core.frame.DataFrame'>\n",
      "RangeIndex: 4271 entries, 0 to 4270\n",
      "Data columns (total 28 columns):\n",
      " #   Column                                                                                                                     Non-Null Count  Dtype  \n",
      "---  ------                                                                                                                     --------------  -----  \n",
      " 0   Unnamed: 0                                                                                                                 4271 non-null   int64  \n",
      " 1   ID                                                                                                                         4271 non-null   object \n",
      " 2   IDADE                                                                                                                      4197 non-null   float64\n",
      " 3   FAIXA IDADE                                                                                                                4271 non-null   object \n",
      " 4   GENERO                                                                                                                     4262 non-null   object \n",
      " 5   COR/RACA/ETNIA                                                                                                             4271 non-null   object \n",
      " 6   PCD                                                                                                                        4271 non-null   object \n",
      " 7   EXPERIENCIA_PROFISSIONAL_PREJUDICADA                                                                                       2190 non-null   object \n",
      " 8   ASPECTOS_PREJUDICADOS                                                                                                      837 non-null    object \n",
      " 9   VIVE_NO_BRASIL                                                                                                             4271 non-null   bool   \n",
      " 10  ESTADO ONDE MORA                                                                                                           4156 non-null   object \n",
      " 11  UF ONDE MORA                                                                                                               4156 non-null   object \n",
      " 12  REGIAO ONDE MORA                                                                                                           4171 non-null   object \n",
      " 13  MUDOU DE ESTADO?                                                                                                           4171 non-null   float64\n",
      " 14  REGIAO DE ORIGEM                                                                                                           772 non-null    object \n",
      " 15  NIVEL DE ENSINO                                                                                                            4271 non-null   object \n",
      " 16  ÁREA DE FORMAÇÃO                                                                                                           4149 non-null   object \n",
      " 17  QUAL SUA SITUAÇÃO ATUAL DE TRABALHO?                                                                                       4271 non-null   object \n",
      " 18  SETOR                                                                                                                      3694 non-null   object \n",
      " 19  NUMERO DE FUNCIONARIOS                                                                                                     3694 non-null   object \n",
      " 20  GESTOR?                                                                                                                    3694 non-null   float64\n",
      " 21  CARGO COMO GESTOR                                                                                                          713 non-null    object \n",
      " 22  CARGO ATUAL                                                                                                                2981 non-null   object \n",
      " 23  NIVEL                                                                                                                      2981 non-null   object \n",
      " 24  FAIXA SALARIAL                                                                                                             3694 non-null   object \n",
      " 25  QUANTO TEMPO DE EXPERIÊNCIA NA ÁREA DE DADOS VOCÊ TEM?                                                                     3694 non-null   object \n",
      " 26  QUANTO TEMPO DE EXPERIÊNCIA NA ÁREA DE TI/ENGENHARIA DE SOFTWARE VOCÊ TEVE ANTES DE COMEÇAR A TRABALHAR NA ÁREA DE DADOS?  3694 non-null   object \n",
      " 27  SALARIO                                                                                                                    3694 non-null   float64\n",
      "dtypes: bool(1), float64(4), int64(1), object(22)\n",
      "memory usage: 905.2+ KB\n"
     ]
    }
   ],
   "source": [
    "dados.info()"
   ]
  },
  {
   "cell_type": "code",
   "execution_count": 395,
   "id": "0fedbf0d",
   "metadata": {},
   "outputs": [
    {
     "data": {
      "text/html": [
       "<div>\n",
       "<style scoped>\n",
       "    .dataframe tbody tr th:only-of-type {\n",
       "        vertical-align: middle;\n",
       "    }\n",
       "\n",
       "    .dataframe tbody tr th {\n",
       "        vertical-align: top;\n",
       "    }\n",
       "\n",
       "    .dataframe thead th {\n",
       "        text-align: right;\n",
       "    }\n",
       "</style>\n",
       "<table border=\"1\" class=\"dataframe\">\n",
       "  <thead>\n",
       "    <tr style=\"text-align: right;\">\n",
       "      <th></th>\n",
       "      <th>Unnamed: 0</th>\n",
       "      <th>IDADE</th>\n",
       "      <th>MUDOU DE ESTADO?</th>\n",
       "      <th>GESTOR?</th>\n",
       "      <th>SALARIO</th>\n",
       "    </tr>\n",
       "  </thead>\n",
       "  <tbody>\n",
       "    <tr>\n",
       "      <th>count</th>\n",
       "      <td>4271.000000</td>\n",
       "      <td>4197.000000</td>\n",
       "      <td>4171.000000</td>\n",
       "      <td>3694.000000</td>\n",
       "      <td>3694.000000</td>\n",
       "    </tr>\n",
       "    <tr>\n",
       "      <th>mean</th>\n",
       "      <td>2135.000000</td>\n",
       "      <td>31.169168</td>\n",
       "      <td>0.806281</td>\n",
       "      <td>0.193016</td>\n",
       "      <td>10969.266919</td>\n",
       "    </tr>\n",
       "    <tr>\n",
       "      <th>std</th>\n",
       "      <td>1233.075829</td>\n",
       "      <td>6.902803</td>\n",
       "      <td>0.395258</td>\n",
       "      <td>0.394719</td>\n",
       "      <td>19419.753189</td>\n",
       "    </tr>\n",
       "    <tr>\n",
       "      <th>min</th>\n",
       "      <td>0.000000</td>\n",
       "      <td>18.000000</td>\n",
       "      <td>0.000000</td>\n",
       "      <td>0.000000</td>\n",
       "      <td>35.000000</td>\n",
       "    </tr>\n",
       "    <tr>\n",
       "      <th>25%</th>\n",
       "      <td>1067.500000</td>\n",
       "      <td>26.000000</td>\n",
       "      <td>1.000000</td>\n",
       "      <td>0.000000</td>\n",
       "      <td>4269.500000</td>\n",
       "    </tr>\n",
       "    <tr>\n",
       "      <th>50%</th>\n",
       "      <td>2135.000000</td>\n",
       "      <td>30.000000</td>\n",
       "      <td>1.000000</td>\n",
       "      <td>0.000000</td>\n",
       "      <td>7625.500000</td>\n",
       "    </tr>\n",
       "    <tr>\n",
       "      <th>75%</th>\n",
       "      <td>3202.500000</td>\n",
       "      <td>35.000000</td>\n",
       "      <td>1.000000</td>\n",
       "      <td>0.000000</td>\n",
       "      <td>12778.500000</td>\n",
       "    </tr>\n",
       "    <tr>\n",
       "      <th>max</th>\n",
       "      <td>4270.000000</td>\n",
       "      <td>54.000000</td>\n",
       "      <td>1.000000</td>\n",
       "      <td>1.000000</td>\n",
       "      <td>485191.000000</td>\n",
       "    </tr>\n",
       "  </tbody>\n",
       "</table>\n",
       "</div>"
      ],
      "text/plain": [
       "        Unnamed: 0        IDADE  MUDOU DE ESTADO?      GESTOR?        SALARIO\n",
       "count  4271.000000  4197.000000       4171.000000  3694.000000    3694.000000\n",
       "mean   2135.000000    31.169168          0.806281     0.193016   10969.266919\n",
       "std    1233.075829     6.902803          0.395258     0.394719   19419.753189\n",
       "min       0.000000    18.000000          0.000000     0.000000      35.000000\n",
       "25%    1067.500000    26.000000          1.000000     0.000000    4269.500000\n",
       "50%    2135.000000    30.000000          1.000000     0.000000    7625.500000\n",
       "75%    3202.500000    35.000000          1.000000     0.000000   12778.500000\n",
       "max    4270.000000    54.000000          1.000000     1.000000  485191.000000"
      ]
     },
     "execution_count": 395,
     "metadata": {},
     "output_type": "execute_result"
    }
   ],
   "source": [
    "dados.describe()"
   ]
  },
  {
   "cell_type": "markdown",
   "id": "42634056",
   "metadata": {},
   "source": [
    "## Análise dos dados"
   ]
  },
  {
   "cell_type": "markdown",
   "id": "b902414f",
   "metadata": {},
   "source": [
    "Análise de gêneros:"
   ]
  },
  {
   "cell_type": "code",
   "execution_count": 396,
   "id": "a1c50718",
   "metadata": {},
   "outputs": [
    {
     "data": {
      "text/plain": [
       "array(['Masculino', 'Feminino', nan, 'Prefiro não informar'], dtype=object)"
      ]
     },
     "execution_count": 396,
     "metadata": {},
     "output_type": "execute_result"
    }
   ],
   "source": [
    "#opções disponíveis na coluna GENERO\n",
    "dados['GENERO'].unique()"
   ]
  },
  {
   "cell_type": "code",
   "execution_count": 397,
   "id": "fca0da24",
   "metadata": {},
   "outputs": [],
   "source": [
    "qtd_fem = len(dados[dados['GENERO']=='Feminino'])\n",
    "qtd_mas = len(dados[dados['GENERO']=='Masculino'])\n",
    "qtd_pni = len(dados[dados['GENERO']=='Prefiro não informar'])\n",
    "qtd_tot = len(dados)\n"
   ]
  },
  {
   "cell_type": "code",
   "execution_count": 398,
   "id": "490e00ca",
   "metadata": {},
   "outputs": [
    {
     "name": "stdout",
     "output_type": "stream",
     "text": [
      "Em um total de  4271 respostas, temos 1056 que assinalaram Feminino 3194 que assinalaram Masculino, 12 que preferiram não informar e 9 que deixaram o campo em branco.\n"
     ]
    }
   ],
   "source": [
    "print('Em um total de ', qtd_tot, 'respostas, temos', qtd_fem, 'que assinalaram Feminino', qtd_mas, 'que assinalaram Masculino,', qtd_pni, 'que preferiram não informar e', qtd_tot - qtd_fem - qtd_mas - qtd_pni, 'que deixaram o campo em branco.')"
   ]
  },
  {
   "cell_type": "markdown",
   "id": "191549fa",
   "metadata": {},
   "source": [
    "## Atividade\n",
    "📌 Que tal fazer um filtro para identificar pessoas que se declararam amarelas e outro de pessoas abaixo de 40 anos? E melhor, um filtro que misture ambos?😉   "
   ]
  },
  {
   "cell_type": "code",
   "execution_count": 399,
   "id": "acc80679",
   "metadata": {},
   "outputs": [],
   "source": [
    "# filtro das pessoas amarelas\n",
    "amarelas = dados['COR/RACA/ETNIA']=='Amarela'"
   ]
  },
  {
   "cell_type": "code",
   "execution_count": 400,
   "id": "4dc3a8b5",
   "metadata": {},
   "outputs": [
    {
     "data": {
      "text/html": [
       "<div>\n",
       "<style scoped>\n",
       "    .dataframe tbody tr th:only-of-type {\n",
       "        vertical-align: middle;\n",
       "    }\n",
       "\n",
       "    .dataframe tbody tr th {\n",
       "        vertical-align: top;\n",
       "    }\n",
       "\n",
       "    .dataframe thead th {\n",
       "        text-align: right;\n",
       "    }\n",
       "</style>\n",
       "<table border=\"1\" class=\"dataframe\">\n",
       "  <thead>\n",
       "    <tr style=\"text-align: right;\">\n",
       "      <th></th>\n",
       "      <th>Unnamed: 0</th>\n",
       "      <th>ID</th>\n",
       "      <th>IDADE</th>\n",
       "      <th>FAIXA IDADE</th>\n",
       "      <th>GENERO</th>\n",
       "      <th>COR/RACA/ETNIA</th>\n",
       "      <th>PCD</th>\n",
       "      <th>EXPERIENCIA_PROFISSIONAL_PREJUDICADA</th>\n",
       "      <th>ASPECTOS_PREJUDICADOS</th>\n",
       "      <th>VIVE_NO_BRASIL</th>\n",
       "      <th>...</th>\n",
       "      <th>SETOR</th>\n",
       "      <th>NUMERO DE FUNCIONARIOS</th>\n",
       "      <th>GESTOR?</th>\n",
       "      <th>CARGO COMO GESTOR</th>\n",
       "      <th>CARGO ATUAL</th>\n",
       "      <th>NIVEL</th>\n",
       "      <th>FAIXA SALARIAL</th>\n",
       "      <th>QUANTO TEMPO DE EXPERIÊNCIA NA ÁREA DE DADOS VOCÊ TEM?</th>\n",
       "      <th>QUANTO TEMPO DE EXPERIÊNCIA NA ÁREA DE TI/ENGENHARIA DE SOFTWARE VOCÊ TEVE ANTES DE COMEÇAR A TRABALHAR NA ÁREA DE DADOS?</th>\n",
       "      <th>SALARIO</th>\n",
       "    </tr>\n",
       "  </thead>\n",
       "  <tbody>\n",
       "    <tr>\n",
       "      <th>13</th>\n",
       "      <td>13</td>\n",
       "      <td>zwh83jpy6x40b95xigsr2zwh83jpflu3</td>\n",
       "      <td>24.0</td>\n",
       "      <td>22-24</td>\n",
       "      <td>Masculino</td>\n",
       "      <td>Amarela</td>\n",
       "      <td>Não</td>\n",
       "      <td>Não acredito que minha experiência profissiona...</td>\n",
       "      <td>NaN</td>\n",
       "      <td>True</td>\n",
       "      <td>...</td>\n",
       "      <td>Finanças ou Bancos</td>\n",
       "      <td>Acima de 3.000</td>\n",
       "      <td>0.0</td>\n",
       "      <td>NaN</td>\n",
       "      <td>Analista de Negócios/Business Analyst</td>\n",
       "      <td>Júnior</td>\n",
       "      <td>de R$ 4.001/mês a R$ 6.000/mês</td>\n",
       "      <td>de 1 a 2 anos</td>\n",
       "      <td>Menos de 1 ano</td>\n",
       "      <td>5296.0</td>\n",
       "    </tr>\n",
       "    <tr>\n",
       "      <th>85</th>\n",
       "      <td>85</td>\n",
       "      <td>zfeuk2m9jozahicujlla8zfeuk2g7apj</td>\n",
       "      <td>29.0</td>\n",
       "      <td>25-29</td>\n",
       "      <td>Feminino</td>\n",
       "      <td>Amarela</td>\n",
       "      <td>Não</td>\n",
       "      <td>Não acredito que minha experiência profissiona...</td>\n",
       "      <td>NaN</td>\n",
       "      <td>True</td>\n",
       "      <td>...</td>\n",
       "      <td>NaN</td>\n",
       "      <td>NaN</td>\n",
       "      <td>NaN</td>\n",
       "      <td>NaN</td>\n",
       "      <td>NaN</td>\n",
       "      <td>NaN</td>\n",
       "      <td>NaN</td>\n",
       "      <td>NaN</td>\n",
       "      <td>NaN</td>\n",
       "      <td>NaN</td>\n",
       "    </tr>\n",
       "    <tr>\n",
       "      <th>97</th>\n",
       "      <td>97</td>\n",
       "      <td>zbukfwxvpwlk6loglm0zbukfwx6bvyb6</td>\n",
       "      <td>40.0</td>\n",
       "      <td>40-44</td>\n",
       "      <td>Masculino</td>\n",
       "      <td>Amarela</td>\n",
       "      <td>Não</td>\n",
       "      <td>Não acredito que minha experiência profissiona...</td>\n",
       "      <td>NaN</td>\n",
       "      <td>True</td>\n",
       "      <td>...</td>\n",
       "      <td>Varejo</td>\n",
       "      <td>Acima de 3.000</td>\n",
       "      <td>0.0</td>\n",
       "      <td>NaN</td>\n",
       "      <td>Analista de BI/BI Analyst</td>\n",
       "      <td>Sênior</td>\n",
       "      <td>de R$ 8.001/mês a R$ 12.000/mês</td>\n",
       "      <td>de 4 a 6 anos</td>\n",
       "      <td>Mais de 10 anos</td>\n",
       "      <td>11388.0</td>\n",
       "    </tr>\n",
       "  </tbody>\n",
       "</table>\n",
       "<p>3 rows × 28 columns</p>\n",
       "</div>"
      ],
      "text/plain": [
       "    Unnamed: 0                                ID  IDADE FAIXA IDADE  \\\n",
       "13          13  zwh83jpy6x40b95xigsr2zwh83jpflu3   24.0       22-24   \n",
       "85          85  zfeuk2m9jozahicujlla8zfeuk2g7apj   29.0       25-29   \n",
       "97          97  zbukfwxvpwlk6loglm0zbukfwx6bvyb6   40.0       40-44   \n",
       "\n",
       "       GENERO COR/RACA/ETNIA  PCD  \\\n",
       "13  Masculino        Amarela  Não   \n",
       "85   Feminino        Amarela  Não   \n",
       "97  Masculino        Amarela  Não   \n",
       "\n",
       "                 EXPERIENCIA_PROFISSIONAL_PREJUDICADA ASPECTOS_PREJUDICADOS  \\\n",
       "13  Não acredito que minha experiência profissiona...                   NaN   \n",
       "85  Não acredito que minha experiência profissiona...                   NaN   \n",
       "97  Não acredito que minha experiência profissiona...                   NaN   \n",
       "\n",
       "    VIVE_NO_BRASIL  ...               SETOR NUMERO DE FUNCIONARIOS GESTOR?  \\\n",
       "13            True  ...  Finanças ou Bancos         Acima de 3.000     0.0   \n",
       "85            True  ...                 NaN                    NaN     NaN   \n",
       "97            True  ...              Varejo         Acima de 3.000     0.0   \n",
       "\n",
       "    CARGO COMO GESTOR                            CARGO ATUAL   NIVEL  \\\n",
       "13                NaN  Analista de Negócios/Business Analyst  Júnior   \n",
       "85                NaN                                    NaN     NaN   \n",
       "97                NaN              Analista de BI/BI Analyst  Sênior   \n",
       "\n",
       "                     FAIXA SALARIAL  \\\n",
       "13   de R$ 4.001/mês a R$ 6.000/mês   \n",
       "85                              NaN   \n",
       "97  de R$ 8.001/mês a R$ 12.000/mês   \n",
       "\n",
       "   QUANTO TEMPO DE EXPERIÊNCIA NA ÁREA DE DADOS VOCÊ TEM?  \\\n",
       "13                                      de 1 a 2 anos       \n",
       "85                                                NaN       \n",
       "97                                      de 4 a 6 anos       \n",
       "\n",
       "   QUANTO TEMPO DE EXPERIÊNCIA NA ÁREA DE TI/ENGENHARIA DE SOFTWARE VOCÊ TEVE ANTES DE COMEÇAR A TRABALHAR NA ÁREA DE DADOS?  \\\n",
       "13                                     Menos de 1 ano                                                                          \n",
       "85                                                NaN                                                                          \n",
       "97                                    Mais de 10 anos                                                                          \n",
       "\n",
       "    SALARIO  \n",
       "13   5296.0  \n",
       "85      NaN  \n",
       "97  11388.0  \n",
       "\n",
       "[3 rows x 28 columns]"
      ]
     },
     "execution_count": 400,
     "metadata": {},
     "output_type": "execute_result"
    }
   ],
   "source": [
    "# dados apenas das pessoas amarelas\n",
    "dados[amarelas].head(3)"
   ]
  },
  {
   "cell_type": "code",
   "execution_count": 401,
   "id": "296f9240",
   "metadata": {},
   "outputs": [],
   "source": [
    "# filtro das pessoas menores ou igual a 40 anos\n",
    "le40 = dados['IDADE']<= 40"
   ]
  },
  {
   "cell_type": "code",
   "execution_count": 402,
   "id": "f904130b",
   "metadata": {},
   "outputs": [
    {
     "data": {
      "text/html": [
       "<div>\n",
       "<style scoped>\n",
       "    .dataframe tbody tr th:only-of-type {\n",
       "        vertical-align: middle;\n",
       "    }\n",
       "\n",
       "    .dataframe tbody tr th {\n",
       "        vertical-align: top;\n",
       "    }\n",
       "\n",
       "    .dataframe thead th {\n",
       "        text-align: right;\n",
       "    }\n",
       "</style>\n",
       "<table border=\"1\" class=\"dataframe\">\n",
       "  <thead>\n",
       "    <tr style=\"text-align: right;\">\n",
       "      <th></th>\n",
       "      <th>Unnamed: 0</th>\n",
       "      <th>ID</th>\n",
       "      <th>IDADE</th>\n",
       "      <th>FAIXA IDADE</th>\n",
       "      <th>GENERO</th>\n",
       "      <th>COR/RACA/ETNIA</th>\n",
       "      <th>PCD</th>\n",
       "      <th>EXPERIENCIA_PROFISSIONAL_PREJUDICADA</th>\n",
       "      <th>ASPECTOS_PREJUDICADOS</th>\n",
       "      <th>VIVE_NO_BRASIL</th>\n",
       "      <th>...</th>\n",
       "      <th>SETOR</th>\n",
       "      <th>NUMERO DE FUNCIONARIOS</th>\n",
       "      <th>GESTOR?</th>\n",
       "      <th>CARGO COMO GESTOR</th>\n",
       "      <th>CARGO ATUAL</th>\n",
       "      <th>NIVEL</th>\n",
       "      <th>FAIXA SALARIAL</th>\n",
       "      <th>QUANTO TEMPO DE EXPERIÊNCIA NA ÁREA DE DADOS VOCÊ TEM?</th>\n",
       "      <th>QUANTO TEMPO DE EXPERIÊNCIA NA ÁREA DE TI/ENGENHARIA DE SOFTWARE VOCÊ TEVE ANTES DE COMEÇAR A TRABALHAR NA ÁREA DE DADOS?</th>\n",
       "      <th>SALARIO</th>\n",
       "    </tr>\n",
       "  </thead>\n",
       "  <tbody>\n",
       "    <tr>\n",
       "      <th>0</th>\n",
       "      <td>0</td>\n",
       "      <td>zzqzz3l9ily8nuo2m7wyzzqzz3w48o96</td>\n",
       "      <td>39.0</td>\n",
       "      <td>35-39</td>\n",
       "      <td>Masculino</td>\n",
       "      <td>Parda</td>\n",
       "      <td>Não</td>\n",
       "      <td>Não acredito que minha experiência profissiona...</td>\n",
       "      <td>NaN</td>\n",
       "      <td>True</td>\n",
       "      <td>...</td>\n",
       "      <td>Setor Público</td>\n",
       "      <td>Acima de 3.000</td>\n",
       "      <td>0.0</td>\n",
       "      <td>NaN</td>\n",
       "      <td>DBA/Administrador de Banco de Dados</td>\n",
       "      <td>Júnior</td>\n",
       "      <td>de R$ 8.001/mês a R$ 12.000/mês</td>\n",
       "      <td>de 1 a 2 anos</td>\n",
       "      <td>de 7 a 10 anos</td>\n",
       "      <td>11194.0</td>\n",
       "    </tr>\n",
       "    <tr>\n",
       "      <th>1</th>\n",
       "      <td>1</td>\n",
       "      <td>zzls2oftfn9law393oezzls2ofhvfpzd</td>\n",
       "      <td>32.0</td>\n",
       "      <td>30-34</td>\n",
       "      <td>Masculino</td>\n",
       "      <td>Parda</td>\n",
       "      <td>Não</td>\n",
       "      <td>Sim, acredito que a minha a experiência profis...</td>\n",
       "      <td>Aprovação em processos seletivos/entrevistas</td>\n",
       "      <td>True</td>\n",
       "      <td>...</td>\n",
       "      <td>Outra Opção</td>\n",
       "      <td>Acima de 3.000</td>\n",
       "      <td>1.0</td>\n",
       "      <td>Supervisor/Coordenador</td>\n",
       "      <td>NaN</td>\n",
       "      <td>NaN</td>\n",
       "      <td>de R$ 4.001/mês a R$ 6.000/mês</td>\n",
       "      <td>de 3 a 4 anos</td>\n",
       "      <td>Menos de 1 ano</td>\n",
       "      <td>4695.0</td>\n",
       "    </tr>\n",
       "    <tr>\n",
       "      <th>3</th>\n",
       "      <td>3</td>\n",
       "      <td>zzbqh3uy7yk7k9qmkzzbqtb4s9faqspl</td>\n",
       "      <td>27.0</td>\n",
       "      <td>25-29</td>\n",
       "      <td>Masculino</td>\n",
       "      <td>Branca</td>\n",
       "      <td>Não</td>\n",
       "      <td>NaN</td>\n",
       "      <td>NaN</td>\n",
       "      <td>True</td>\n",
       "      <td>...</td>\n",
       "      <td>Setor Automotivo</td>\n",
       "      <td>Acima de 3.000</td>\n",
       "      <td>0.0</td>\n",
       "      <td>NaN</td>\n",
       "      <td>Cientista de Dados/Data Scientist</td>\n",
       "      <td>Sênior</td>\n",
       "      <td>de R$ 12.001/mês a R$ 16.000/mês</td>\n",
       "      <td>de 4 a 6 anos</td>\n",
       "      <td>Não tive experiência na área de TI/Engenharia ...</td>\n",
       "      <td>15463.0</td>\n",
       "    </tr>\n",
       "  </tbody>\n",
       "</table>\n",
       "<p>3 rows × 28 columns</p>\n",
       "</div>"
      ],
      "text/plain": [
       "   Unnamed: 0                                ID  IDADE FAIXA IDADE     GENERO  \\\n",
       "0           0  zzqzz3l9ily8nuo2m7wyzzqzz3w48o96   39.0       35-39  Masculino   \n",
       "1           1  zzls2oftfn9law393oezzls2ofhvfpzd   32.0       30-34  Masculino   \n",
       "3           3  zzbqh3uy7yk7k9qmkzzbqtb4s9faqspl   27.0       25-29  Masculino   \n",
       "\n",
       "  COR/RACA/ETNIA  PCD               EXPERIENCIA_PROFISSIONAL_PREJUDICADA  \\\n",
       "0          Parda  Não  Não acredito que minha experiência profissiona...   \n",
       "1          Parda  Não  Sim, acredito que a minha a experiência profis...   \n",
       "3         Branca  Não                                                NaN   \n",
       "\n",
       "                          ASPECTOS_PREJUDICADOS  VIVE_NO_BRASIL  ...  \\\n",
       "0                                           NaN            True  ...   \n",
       "1  Aprovação em processos seletivos/entrevistas            True  ...   \n",
       "3                                           NaN            True  ...   \n",
       "\n",
       "              SETOR NUMERO DE FUNCIONARIOS GESTOR?       CARGO COMO GESTOR  \\\n",
       "0     Setor Público         Acima de 3.000     0.0                     NaN   \n",
       "1       Outra Opção         Acima de 3.000     1.0  Supervisor/Coordenador   \n",
       "3  Setor Automotivo         Acima de 3.000     0.0                     NaN   \n",
       "\n",
       "                           CARGO ATUAL   NIVEL  \\\n",
       "0  DBA/Administrador de Banco de Dados  Júnior   \n",
       "1                                  NaN     NaN   \n",
       "3    Cientista de Dados/Data Scientist  Sênior   \n",
       "\n",
       "                     FAIXA SALARIAL  \\\n",
       "0   de R$ 8.001/mês a R$ 12.000/mês   \n",
       "1    de R$ 4.001/mês a R$ 6.000/mês   \n",
       "3  de R$ 12.001/mês a R$ 16.000/mês   \n",
       "\n",
       "  QUANTO TEMPO DE EXPERIÊNCIA NA ÁREA DE DADOS VOCÊ TEM?  \\\n",
       "0                                      de 1 a 2 anos       \n",
       "1                                      de 3 a 4 anos       \n",
       "3                                      de 4 a 6 anos       \n",
       "\n",
       "  QUANTO TEMPO DE EXPERIÊNCIA NA ÁREA DE TI/ENGENHARIA DE SOFTWARE VOCÊ TEVE ANTES DE COMEÇAR A TRABALHAR NA ÁREA DE DADOS?  \\\n",
       "0                                     de 7 a 10 anos                                                                          \n",
       "1                                     Menos de 1 ano                                                                          \n",
       "3  Não tive experiência na área de TI/Engenharia ...                                                                          \n",
       "\n",
       "   SALARIO  \n",
       "0  11194.0  \n",
       "1   4695.0  \n",
       "3  15463.0  \n",
       "\n",
       "[3 rows x 28 columns]"
      ]
     },
     "execution_count": 402,
     "metadata": {},
     "output_type": "execute_result"
    }
   ],
   "source": [
    "# dados apenas das pessoas com 40 anos ou menos\n",
    "dados[le40].head(3)"
   ]
  },
  {
   "cell_type": "code",
   "execution_count": 403,
   "id": "2d955f42",
   "metadata": {},
   "outputs": [
    {
     "data": {
      "text/html": [
       "<div>\n",
       "<style scoped>\n",
       "    .dataframe tbody tr th:only-of-type {\n",
       "        vertical-align: middle;\n",
       "    }\n",
       "\n",
       "    .dataframe tbody tr th {\n",
       "        vertical-align: top;\n",
       "    }\n",
       "\n",
       "    .dataframe thead th {\n",
       "        text-align: right;\n",
       "    }\n",
       "</style>\n",
       "<table border=\"1\" class=\"dataframe\">\n",
       "  <thead>\n",
       "    <tr style=\"text-align: right;\">\n",
       "      <th></th>\n",
       "      <th>Unnamed: 0</th>\n",
       "      <th>ID</th>\n",
       "      <th>IDADE</th>\n",
       "      <th>FAIXA IDADE</th>\n",
       "      <th>GENERO</th>\n",
       "      <th>COR/RACA/ETNIA</th>\n",
       "      <th>PCD</th>\n",
       "      <th>EXPERIENCIA_PROFISSIONAL_PREJUDICADA</th>\n",
       "      <th>ASPECTOS_PREJUDICADOS</th>\n",
       "      <th>VIVE_NO_BRASIL</th>\n",
       "      <th>...</th>\n",
       "      <th>SETOR</th>\n",
       "      <th>NUMERO DE FUNCIONARIOS</th>\n",
       "      <th>GESTOR?</th>\n",
       "      <th>CARGO COMO GESTOR</th>\n",
       "      <th>CARGO ATUAL</th>\n",
       "      <th>NIVEL</th>\n",
       "      <th>FAIXA SALARIAL</th>\n",
       "      <th>QUANTO TEMPO DE EXPERIÊNCIA NA ÁREA DE DADOS VOCÊ TEM?</th>\n",
       "      <th>QUANTO TEMPO DE EXPERIÊNCIA NA ÁREA DE TI/ENGENHARIA DE SOFTWARE VOCÊ TEVE ANTES DE COMEÇAR A TRABALHAR NA ÁREA DE DADOS?</th>\n",
       "      <th>SALARIO</th>\n",
       "    </tr>\n",
       "  </thead>\n",
       "  <tbody>\n",
       "    <tr>\n",
       "      <th>13</th>\n",
       "      <td>13</td>\n",
       "      <td>zwh83jpy6x40b95xigsr2zwh83jpflu3</td>\n",
       "      <td>24.0</td>\n",
       "      <td>22-24</td>\n",
       "      <td>Masculino</td>\n",
       "      <td>Amarela</td>\n",
       "      <td>Não</td>\n",
       "      <td>Não acredito que minha experiência profissiona...</td>\n",
       "      <td>NaN</td>\n",
       "      <td>True</td>\n",
       "      <td>...</td>\n",
       "      <td>Finanças ou Bancos</td>\n",
       "      <td>Acima de 3.000</td>\n",
       "      <td>0.0</td>\n",
       "      <td>NaN</td>\n",
       "      <td>Analista de Negócios/Business Analyst</td>\n",
       "      <td>Júnior</td>\n",
       "      <td>de R$ 4.001/mês a R$ 6.000/mês</td>\n",
       "      <td>de 1 a 2 anos</td>\n",
       "      <td>Menos de 1 ano</td>\n",
       "      <td>5296.0</td>\n",
       "    </tr>\n",
       "    <tr>\n",
       "      <th>85</th>\n",
       "      <td>85</td>\n",
       "      <td>zfeuk2m9jozahicujlla8zfeuk2g7apj</td>\n",
       "      <td>29.0</td>\n",
       "      <td>25-29</td>\n",
       "      <td>Feminino</td>\n",
       "      <td>Amarela</td>\n",
       "      <td>Não</td>\n",
       "      <td>Não acredito que minha experiência profissiona...</td>\n",
       "      <td>NaN</td>\n",
       "      <td>True</td>\n",
       "      <td>...</td>\n",
       "      <td>NaN</td>\n",
       "      <td>NaN</td>\n",
       "      <td>NaN</td>\n",
       "      <td>NaN</td>\n",
       "      <td>NaN</td>\n",
       "      <td>NaN</td>\n",
       "      <td>NaN</td>\n",
       "      <td>NaN</td>\n",
       "      <td>NaN</td>\n",
       "      <td>NaN</td>\n",
       "    </tr>\n",
       "    <tr>\n",
       "      <th>97</th>\n",
       "      <td>97</td>\n",
       "      <td>zbukfwxvpwlk6loglm0zbukfwx6bvyb6</td>\n",
       "      <td>40.0</td>\n",
       "      <td>40-44</td>\n",
       "      <td>Masculino</td>\n",
       "      <td>Amarela</td>\n",
       "      <td>Não</td>\n",
       "      <td>Não acredito que minha experiência profissiona...</td>\n",
       "      <td>NaN</td>\n",
       "      <td>True</td>\n",
       "      <td>...</td>\n",
       "      <td>Varejo</td>\n",
       "      <td>Acima de 3.000</td>\n",
       "      <td>0.0</td>\n",
       "      <td>NaN</td>\n",
       "      <td>Analista de BI/BI Analyst</td>\n",
       "      <td>Sênior</td>\n",
       "      <td>de R$ 8.001/mês a R$ 12.000/mês</td>\n",
       "      <td>de 4 a 6 anos</td>\n",
       "      <td>Mais de 10 anos</td>\n",
       "      <td>11388.0</td>\n",
       "    </tr>\n",
       "    <tr>\n",
       "      <th>159</th>\n",
       "      <td>159</td>\n",
       "      <td>ytrnz3zyvn791t3dum1ytrnz3zp22tmk</td>\n",
       "      <td>37.0</td>\n",
       "      <td>35-39</td>\n",
       "      <td>Feminino</td>\n",
       "      <td>Amarela</td>\n",
       "      <td>Não</td>\n",
       "      <td>Sim, acredito que a minha a experiência profis...</td>\n",
       "      <td>Oportunidades de progressão de carreira, Aprov...</td>\n",
       "      <td>True</td>\n",
       "      <td>...</td>\n",
       "      <td>Tecnologia/Fábrica de Software</td>\n",
       "      <td>de 101 a 500</td>\n",
       "      <td>0.0</td>\n",
       "      <td>NaN</td>\n",
       "      <td>Engenheiro de Dados/Arquiteto de Dados/Data En...</td>\n",
       "      <td>Pleno</td>\n",
       "      <td>de R$ 8.001/mês a R$ 12.000/mês</td>\n",
       "      <td>de 1 a 2 anos</td>\n",
       "      <td>de 7 a 10 anos</td>\n",
       "      <td>10628.0</td>\n",
       "    </tr>\n",
       "    <tr>\n",
       "      <th>170</th>\n",
       "      <td>170</td>\n",
       "      <td>yri3z491ejizlpj9ylu2k3jyri3z4915</td>\n",
       "      <td>34.0</td>\n",
       "      <td>30-34</td>\n",
       "      <td>Masculino</td>\n",
       "      <td>Amarela</td>\n",
       "      <td>Não</td>\n",
       "      <td>Não acredito que minha experiência profissiona...</td>\n",
       "      <td>NaN</td>\n",
       "      <td>True</td>\n",
       "      <td>...</td>\n",
       "      <td>Varejo</td>\n",
       "      <td>Acima de 3.000</td>\n",
       "      <td>1.0</td>\n",
       "      <td>Gerente/Head</td>\n",
       "      <td>NaN</td>\n",
       "      <td>NaN</td>\n",
       "      <td>de R$ 16.001/mês a R$ 20.000/mês</td>\n",
       "      <td>de 3 a 4 anos</td>\n",
       "      <td>Não tive experiência na área de TI/Engenharia ...</td>\n",
       "      <td>16650.0</td>\n",
       "    </tr>\n",
       "    <tr>\n",
       "      <th>...</th>\n",
       "      <td>...</td>\n",
       "      <td>...</td>\n",
       "      <td>...</td>\n",
       "      <td>...</td>\n",
       "      <td>...</td>\n",
       "      <td>...</td>\n",
       "      <td>...</td>\n",
       "      <td>...</td>\n",
       "      <td>...</td>\n",
       "      <td>...</td>\n",
       "      <td>...</td>\n",
       "      <td>...</td>\n",
       "      <td>...</td>\n",
       "      <td>...</td>\n",
       "      <td>...</td>\n",
       "      <td>...</td>\n",
       "      <td>...</td>\n",
       "      <td>...</td>\n",
       "      <td>...</td>\n",
       "      <td>...</td>\n",
       "      <td>...</td>\n",
       "    </tr>\n",
       "    <tr>\n",
       "      <th>3947</th>\n",
       "      <td>3947</td>\n",
       "      <td>2tnsh0gxdu3aq4z2d2tnsh0hk15brx7q</td>\n",
       "      <td>31.0</td>\n",
       "      <td>30-34</td>\n",
       "      <td>Feminino</td>\n",
       "      <td>Amarela</td>\n",
       "      <td>Não</td>\n",
       "      <td>Sim, acredito que a minha a experiência profis...</td>\n",
       "      <td>Quantidade de oportunidades de emprego/vagas r...</td>\n",
       "      <td>False</td>\n",
       "      <td>...</td>\n",
       "      <td>Tecnologia/Fábrica de Software</td>\n",
       "      <td>Acima de 3.000</td>\n",
       "      <td>1.0</td>\n",
       "      <td>Supervisor/Coordenador</td>\n",
       "      <td>NaN</td>\n",
       "      <td>NaN</td>\n",
       "      <td>de R$ 25.001/mês a R$ 30.000/mês</td>\n",
       "      <td>de 1 a 2 anos</td>\n",
       "      <td>Não tive experiência na área de TI/Engenharia ...</td>\n",
       "      <td>29408.0</td>\n",
       "    </tr>\n",
       "    <tr>\n",
       "      <th>4058</th>\n",
       "      <td>4058</td>\n",
       "      <td>1t3ndwx8j50k0bz1t3ndwxdpwyg17c2k</td>\n",
       "      <td>27.0</td>\n",
       "      <td>25-29</td>\n",
       "      <td>Feminino</td>\n",
       "      <td>Amarela</td>\n",
       "      <td>Não</td>\n",
       "      <td>Sim, acredito que a minha a experiência profis...</td>\n",
       "      <td>Nível de cobrança no trabalho / Stress no trab...</td>\n",
       "      <td>True</td>\n",
       "      <td>...</td>\n",
       "      <td>Tecnologia/Fábrica de Software</td>\n",
       "      <td>Acima de 3.000</td>\n",
       "      <td>0.0</td>\n",
       "      <td>NaN</td>\n",
       "      <td>Cientista de Dados/Data Scientist</td>\n",
       "      <td>Sênior</td>\n",
       "      <td>de R$ 12.001/mês a R$ 16.000/mês</td>\n",
       "      <td>de 4 a 6 anos</td>\n",
       "      <td>Não tive experiência na área de TI/Engenharia ...</td>\n",
       "      <td>14175.0</td>\n",
       "    </tr>\n",
       "    <tr>\n",
       "      <th>4176</th>\n",
       "      <td>4176</td>\n",
       "      <td>0qpa64gqpieg60xpygnajt70qpa64g1a</td>\n",
       "      <td>27.0</td>\n",
       "      <td>25-29</td>\n",
       "      <td>Feminino</td>\n",
       "      <td>Amarela</td>\n",
       "      <td>Não</td>\n",
       "      <td>Não acredito que minha experiência profissiona...</td>\n",
       "      <td>NaN</td>\n",
       "      <td>True</td>\n",
       "      <td>...</td>\n",
       "      <td>NaN</td>\n",
       "      <td>NaN</td>\n",
       "      <td>NaN</td>\n",
       "      <td>NaN</td>\n",
       "      <td>NaN</td>\n",
       "      <td>NaN</td>\n",
       "      <td>NaN</td>\n",
       "      <td>NaN</td>\n",
       "      <td>NaN</td>\n",
       "      <td>NaN</td>\n",
       "    </tr>\n",
       "    <tr>\n",
       "      <th>4207</th>\n",
       "      <td>4207</td>\n",
       "      <td>0ibb8fj9qrwpswfqiil0ibb89e3e4hz3</td>\n",
       "      <td>30.0</td>\n",
       "      <td>30-34</td>\n",
       "      <td>Feminino</td>\n",
       "      <td>Amarela</td>\n",
       "      <td>Não</td>\n",
       "      <td>Sim, acredito que a minha a experiência profis...</td>\n",
       "      <td>Oportunidades de progressão de carreira, Veloc...</td>\n",
       "      <td>True</td>\n",
       "      <td>...</td>\n",
       "      <td>Área de Consultoria</td>\n",
       "      <td>de 501 a 1.000</td>\n",
       "      <td>0.0</td>\n",
       "      <td>NaN</td>\n",
       "      <td>Cientista de Dados/Data Scientist</td>\n",
       "      <td>Sênior</td>\n",
       "      <td>de R$ 16.001/mês a R$ 20.000/mês</td>\n",
       "      <td>de 4 a 6 anos</td>\n",
       "      <td>de 5 a 6 anos</td>\n",
       "      <td>16298.0</td>\n",
       "    </tr>\n",
       "    <tr>\n",
       "      <th>4262</th>\n",
       "      <td>4262</td>\n",
       "      <td>02vlm03c29g3fcys8tj06102vlm0983h</td>\n",
       "      <td>31.0</td>\n",
       "      <td>30-34</td>\n",
       "      <td>Masculino</td>\n",
       "      <td>Amarela</td>\n",
       "      <td>Não</td>\n",
       "      <td>Não acredito que minha experiência profissiona...</td>\n",
       "      <td>NaN</td>\n",
       "      <td>True</td>\n",
       "      <td>...</td>\n",
       "      <td>Tecnologia/Fábrica de Software</td>\n",
       "      <td>de 501 a 1.000</td>\n",
       "      <td>1.0</td>\n",
       "      <td>Team Leader/Tech Leader</td>\n",
       "      <td>NaN</td>\n",
       "      <td>NaN</td>\n",
       "      <td>de R$ 16.001/mês a R$ 20.000/mês</td>\n",
       "      <td>de 3 a 4 anos</td>\n",
       "      <td>de 3 a 4 anos</td>\n",
       "      <td>18402.0</td>\n",
       "    </tr>\n",
       "  </tbody>\n",
       "</table>\n",
       "<p>103 rows × 28 columns</p>\n",
       "</div>"
      ],
      "text/plain": [
       "      Unnamed: 0                                ID  IDADE FAIXA IDADE  \\\n",
       "13            13  zwh83jpy6x40b95xigsr2zwh83jpflu3   24.0       22-24   \n",
       "85            85  zfeuk2m9jozahicujlla8zfeuk2g7apj   29.0       25-29   \n",
       "97            97  zbukfwxvpwlk6loglm0zbukfwx6bvyb6   40.0       40-44   \n",
       "159          159  ytrnz3zyvn791t3dum1ytrnz3zp22tmk   37.0       35-39   \n",
       "170          170  yri3z491ejizlpj9ylu2k3jyri3z4915   34.0       30-34   \n",
       "...          ...                               ...    ...         ...   \n",
       "3947        3947  2tnsh0gxdu3aq4z2d2tnsh0hk15brx7q   31.0       30-34   \n",
       "4058        4058  1t3ndwx8j50k0bz1t3ndwxdpwyg17c2k   27.0       25-29   \n",
       "4176        4176  0qpa64gqpieg60xpygnajt70qpa64g1a   27.0       25-29   \n",
       "4207        4207  0ibb8fj9qrwpswfqiil0ibb89e3e4hz3   30.0       30-34   \n",
       "4262        4262  02vlm03c29g3fcys8tj06102vlm0983h   31.0       30-34   \n",
       "\n",
       "         GENERO COR/RACA/ETNIA  PCD  \\\n",
       "13    Masculino        Amarela  Não   \n",
       "85     Feminino        Amarela  Não   \n",
       "97    Masculino        Amarela  Não   \n",
       "159    Feminino        Amarela  Não   \n",
       "170   Masculino        Amarela  Não   \n",
       "...         ...            ...  ...   \n",
       "3947   Feminino        Amarela  Não   \n",
       "4058   Feminino        Amarela  Não   \n",
       "4176   Feminino        Amarela  Não   \n",
       "4207   Feminino        Amarela  Não   \n",
       "4262  Masculino        Amarela  Não   \n",
       "\n",
       "                   EXPERIENCIA_PROFISSIONAL_PREJUDICADA  \\\n",
       "13    Não acredito que minha experiência profissiona...   \n",
       "85    Não acredito que minha experiência profissiona...   \n",
       "97    Não acredito que minha experiência profissiona...   \n",
       "159   Sim, acredito que a minha a experiência profis...   \n",
       "170   Não acredito que minha experiência profissiona...   \n",
       "...                                                 ...   \n",
       "3947  Sim, acredito que a minha a experiência profis...   \n",
       "4058  Sim, acredito que a minha a experiência profis...   \n",
       "4176  Não acredito que minha experiência profissiona...   \n",
       "4207  Sim, acredito que a minha a experiência profis...   \n",
       "4262  Não acredito que minha experiência profissiona...   \n",
       "\n",
       "                                  ASPECTOS_PREJUDICADOS  VIVE_NO_BRASIL  ...  \\\n",
       "13                                                  NaN            True  ...   \n",
       "85                                                  NaN            True  ...   \n",
       "97                                                  NaN            True  ...   \n",
       "159   Oportunidades de progressão de carreira, Aprov...            True  ...   \n",
       "170                                                 NaN            True  ...   \n",
       "...                                                 ...             ...  ...   \n",
       "3947  Quantidade de oportunidades de emprego/vagas r...           False  ...   \n",
       "4058  Nível de cobrança no trabalho / Stress no trab...            True  ...   \n",
       "4176                                                NaN            True  ...   \n",
       "4207  Oportunidades de progressão de carreira, Veloc...            True  ...   \n",
       "4262                                                NaN            True  ...   \n",
       "\n",
       "                               SETOR NUMERO DE FUNCIONARIOS GESTOR?  \\\n",
       "13                Finanças ou Bancos         Acima de 3.000     0.0   \n",
       "85                               NaN                    NaN     NaN   \n",
       "97                            Varejo         Acima de 3.000     0.0   \n",
       "159   Tecnologia/Fábrica de Software           de 101 a 500     0.0   \n",
       "170                           Varejo         Acima de 3.000     1.0   \n",
       "...                              ...                    ...     ...   \n",
       "3947  Tecnologia/Fábrica de Software         Acima de 3.000     1.0   \n",
       "4058  Tecnologia/Fábrica de Software         Acima de 3.000     0.0   \n",
       "4176                             NaN                    NaN     NaN   \n",
       "4207             Área de Consultoria         de 501 a 1.000     0.0   \n",
       "4262  Tecnologia/Fábrica de Software         de 501 a 1.000     1.0   \n",
       "\n",
       "            CARGO COMO GESTOR  \\\n",
       "13                        NaN   \n",
       "85                        NaN   \n",
       "97                        NaN   \n",
       "159                       NaN   \n",
       "170              Gerente/Head   \n",
       "...                       ...   \n",
       "3947   Supervisor/Coordenador   \n",
       "4058                      NaN   \n",
       "4176                      NaN   \n",
       "4207                      NaN   \n",
       "4262  Team Leader/Tech Leader   \n",
       "\n",
       "                                            CARGO ATUAL   NIVEL  \\\n",
       "13                Analista de Negócios/Business Analyst  Júnior   \n",
       "85                                                  NaN     NaN   \n",
       "97                            Analista de BI/BI Analyst  Sênior   \n",
       "159   Engenheiro de Dados/Arquiteto de Dados/Data En...   Pleno   \n",
       "170                                                 NaN     NaN   \n",
       "...                                                 ...     ...   \n",
       "3947                                                NaN     NaN   \n",
       "4058                  Cientista de Dados/Data Scientist  Sênior   \n",
       "4176                                                NaN     NaN   \n",
       "4207                  Cientista de Dados/Data Scientist  Sênior   \n",
       "4262                                                NaN     NaN   \n",
       "\n",
       "                        FAIXA SALARIAL  \\\n",
       "13      de R$ 4.001/mês a R$ 6.000/mês   \n",
       "85                                 NaN   \n",
       "97     de R$ 8.001/mês a R$ 12.000/mês   \n",
       "159    de R$ 8.001/mês a R$ 12.000/mês   \n",
       "170   de R$ 16.001/mês a R$ 20.000/mês   \n",
       "...                                ...   \n",
       "3947  de R$ 25.001/mês a R$ 30.000/mês   \n",
       "4058  de R$ 12.001/mês a R$ 16.000/mês   \n",
       "4176                               NaN   \n",
       "4207  de R$ 16.001/mês a R$ 20.000/mês   \n",
       "4262  de R$ 16.001/mês a R$ 20.000/mês   \n",
       "\n",
       "     QUANTO TEMPO DE EXPERIÊNCIA NA ÁREA DE DADOS VOCÊ TEM?  \\\n",
       "13                                        de 1 a 2 anos       \n",
       "85                                                  NaN       \n",
       "97                                        de 4 a 6 anos       \n",
       "159                                       de 1 a 2 anos       \n",
       "170                                       de 3 a 4 anos       \n",
       "...                                                 ...       \n",
       "3947                                      de 1 a 2 anos       \n",
       "4058                                      de 4 a 6 anos       \n",
       "4176                                                NaN       \n",
       "4207                                      de 4 a 6 anos       \n",
       "4262                                      de 3 a 4 anos       \n",
       "\n",
       "     QUANTO TEMPO DE EXPERIÊNCIA NA ÁREA DE TI/ENGENHARIA DE SOFTWARE VOCÊ TEVE ANTES DE COMEÇAR A TRABALHAR NA ÁREA DE DADOS?  \\\n",
       "13                                       Menos de 1 ano                                                                          \n",
       "85                                                  NaN                                                                          \n",
       "97                                      Mais de 10 anos                                                                          \n",
       "159                                      de 7 a 10 anos                                                                          \n",
       "170   Não tive experiência na área de TI/Engenharia ...                                                                          \n",
       "...                                                 ...                                                                          \n",
       "3947  Não tive experiência na área de TI/Engenharia ...                                                                          \n",
       "4058  Não tive experiência na área de TI/Engenharia ...                                                                          \n",
       "4176                                                NaN                                                                          \n",
       "4207                                      de 5 a 6 anos                                                                          \n",
       "4262                                      de 3 a 4 anos                                                                          \n",
       "\n",
       "      SALARIO  \n",
       "13     5296.0  \n",
       "85        NaN  \n",
       "97    11388.0  \n",
       "159   10628.0  \n",
       "170   16650.0  \n",
       "...       ...  \n",
       "3947  29408.0  \n",
       "4058  14175.0  \n",
       "4176      NaN  \n",
       "4207  16298.0  \n",
       "4262  18402.0  \n",
       "\n",
       "[103 rows x 28 columns]"
      ]
     },
     "execution_count": 403,
     "metadata": {},
     "output_type": "execute_result"
    }
   ],
   "source": [
    "# dados com os filtros combinados\n",
    "dados[amarelas & le40]"
   ]
  },
  {
   "cell_type": "markdown",
   "id": "41f307d0",
   "metadata": {},
   "source": [
    "------------------\n"
   ]
  },
  {
   "cell_type": "markdown",
   "id": "64221f9b",
   "metadata": {},
   "source": [
    "## Agrupamento"
   ]
  },
  {
   "cell_type": "markdown",
   "id": "6ab3e0e2",
   "metadata": {},
   "source": [
    "### GroupBy"
   ]
  },
  {
   "cell_type": "code",
   "execution_count": 404,
   "id": "3dbb405d",
   "metadata": {},
   "outputs": [
    {
     "data": {
      "text/plain": [
       "GENERO\n",
       "Feminino                1055\n",
       "Masculino               3194\n",
       "Prefiro não informar      12\n",
       "Name: ID, dtype: int64"
      ]
     },
     "execution_count": 404,
     "metadata": {},
     "output_type": "execute_result"
    }
   ],
   "source": [
    "dados.groupby('GENERO')['ID'].nunique()"
   ]
  },
  {
   "cell_type": "code",
   "execution_count": 405,
   "id": "4187afdf",
   "metadata": {},
   "outputs": [
    {
     "data": {
      "text/plain": [
       "GENERO\n",
       "Feminino                1055\n",
       "Masculino               3194\n",
       "Prefiro não informar      12\n",
       "NaN                        9\n",
       "Name: ID, dtype: int64"
      ]
     },
     "execution_count": 405,
     "metadata": {},
     "output_type": "execute_result"
    }
   ],
   "source": [
    "dados.groupby('GENERO', dropna=False)['ID'].nunique()"
   ]
  },
  {
   "cell_type": "markdown",
   "id": "c8f79de1",
   "metadata": {},
   "source": [
    "### Value Counts"
   ]
  },
  {
   "cell_type": "code",
   "execution_count": 406,
   "id": "abf184d0",
   "metadata": {},
   "outputs": [
    {
     "data": {
      "text/plain": [
       "GENERO\n",
       "Masculino               3194\n",
       "Feminino                1056\n",
       "Prefiro não informar      12\n",
       "NaN                        9\n",
       "Name: count, dtype: int64"
      ]
     },
     "execution_count": 406,
     "metadata": {},
     "output_type": "execute_result"
    }
   ],
   "source": [
    "dados['GENERO'].value_counts(dropna = False)"
   ]
  },
  {
   "cell_type": "markdown",
   "id": "bfbeeeb2",
   "metadata": {},
   "source": [
    "- Use .value_counts() quando quiser frequência simples.\n",
    "\n",
    "- Use .groupby(...).nunique() quando quiser contar quantos indivíduos únicos (ou outra coluna única) tem por categoria.\n",
    "\n",
    "Ou seja, tem uma pessoa marcada como \"Feminino\" com um ID duplicado — por isso aparece 1056 vezes, mas só 1055 IDs diferentes."
   ]
  },
  {
   "cell_type": "code",
   "execution_count": 407,
   "id": "b7998e9a",
   "metadata": {},
   "outputs": [
    {
     "data": {
      "text/plain": [
       "NIVEL\n",
       "Sênior    525\n",
       "Pleno     408\n",
       "Júnior    274\n",
       "Name: count, dtype: int64"
      ]
     },
     "execution_count": 407,
     "metadata": {},
     "output_type": "execute_result"
    }
   ],
   "source": [
    "dados[dados['IDADE']>30]['NIVEL'].value_counts()"
   ]
  },
  {
   "cell_type": "code",
   "execution_count": 408,
   "id": "2d717a9c",
   "metadata": {},
   "outputs": [
    {
     "data": {
      "text/plain": [
       "NIVEL\n",
       "Pleno     117\n",
       "Sênior    114\n",
       "Júnior     96\n",
       "Name: count, dtype: int64"
      ]
     },
     "execution_count": 408,
     "metadata": {},
     "output_type": "execute_result"
    }
   ],
   "source": [
    "dados[(dados['IDADE']>30) & (dados['GENERO']== 'Feminino')]['NIVEL'].value_counts()"
   ]
  },
  {
   "cell_type": "markdown",
   "id": "186b2636",
   "metadata": {},
   "source": [
    "### Pivot Table = Tabela Dinâmica"
   ]
  },
  {
   "cell_type": "code",
   "execution_count": 409,
   "id": "11f237f2",
   "metadata": {},
   "outputs": [
    {
     "data": {
      "text/html": [
       "<div>\n",
       "<style scoped>\n",
       "    .dataframe tbody tr th:only-of-type {\n",
       "        vertical-align: middle;\n",
       "    }\n",
       "\n",
       "    .dataframe tbody tr th {\n",
       "        vertical-align: top;\n",
       "    }\n",
       "\n",
       "    .dataframe thead tr th {\n",
       "        text-align: left;\n",
       "    }\n",
       "\n",
       "    .dataframe thead tr:last-of-type th {\n",
       "        text-align: right;\n",
       "    }\n",
       "</style>\n",
       "<table border=\"1\" class=\"dataframe\">\n",
       "  <thead>\n",
       "    <tr>\n",
       "      <th></th>\n",
       "      <th colspan=\"2\" halign=\"left\">ID</th>\n",
       "    </tr>\n",
       "    <tr>\n",
       "      <th>GESTOR?</th>\n",
       "      <th>0.0</th>\n",
       "      <th>1.0</th>\n",
       "    </tr>\n",
       "    <tr>\n",
       "      <th>GENERO</th>\n",
       "      <th></th>\n",
       "      <th></th>\n",
       "    </tr>\n",
       "  </thead>\n",
       "  <tbody>\n",
       "    <tr>\n",
       "      <th>Feminino</th>\n",
       "      <td>754</td>\n",
       "      <td>132</td>\n",
       "    </tr>\n",
       "    <tr>\n",
       "      <th>Masculino</th>\n",
       "      <td>2212</td>\n",
       "      <td>578</td>\n",
       "    </tr>\n",
       "    <tr>\n",
       "      <th>Prefiro não informar</th>\n",
       "      <td>9</td>\n",
       "      <td>2</td>\n",
       "    </tr>\n",
       "  </tbody>\n",
       "</table>\n",
       "</div>"
      ],
      "text/plain": [
       "                        ID     \n",
       "GESTOR?                0.0  1.0\n",
       "GENERO                         \n",
       "Feminino               754  132\n",
       "Masculino             2212  578\n",
       "Prefiro não informar     9    2"
      ]
     },
     "execution_count": 409,
     "metadata": {},
     "output_type": "execute_result"
    }
   ],
   "source": [
    "pd.pivot_table(dados, values = ['ID'], index = ['GENERO'], columns = ['GESTOR?'], aggfunc='count')"
   ]
  },
  {
   "cell_type": "markdown",
   "id": "cdaaae73",
   "metadata": {},
   "source": [
    "-------------------------"
   ]
  },
  {
   "cell_type": "markdown",
   "id": "656f0666",
   "metadata": {},
   "source": [
    "# Módulo 4 - Estatística Básica"
   ]
  },
  {
   "cell_type": "code",
   "execution_count": 410,
   "id": "3cc3e4ac",
   "metadata": {},
   "outputs": [],
   "source": [
    "import numpy as np"
   ]
  },
  {
   "cell_type": "markdown",
   "id": "124f5424",
   "metadata": {},
   "source": [
    "## Média, Mediana, Moda, Desvio Padrão, Máximo e Mínimo"
   ]
  },
  {
   "cell_type": "code",
   "execution_count": 411,
   "id": "22f3c521",
   "metadata": {},
   "outputs": [],
   "source": [
    "media_idade = dados['IDADE'].mean()"
   ]
  },
  {
   "cell_type": "code",
   "execution_count": 412,
   "id": "3f5ff87c",
   "metadata": {},
   "outputs": [],
   "source": [
    "mediana_idade = dados['IDADE'].median()"
   ]
  },
  {
   "cell_type": "code",
   "execution_count": 413,
   "id": "ac7cfd20",
   "metadata": {},
   "outputs": [],
   "source": [
    "moda_idade = dados[\"IDADE\"].mode()"
   ]
  },
  {
   "cell_type": "code",
   "execution_count": 414,
   "id": "e2824187",
   "metadata": {},
   "outputs": [],
   "source": [
    "desvio_padrao_idade = dados[\"IDADE\"].std()"
   ]
  },
  {
   "cell_type": "code",
   "execution_count": 415,
   "id": "7ef8d775",
   "metadata": {},
   "outputs": [],
   "source": [
    "min_idade = dados[\"IDADE\"].min()"
   ]
  },
  {
   "cell_type": "code",
   "execution_count": 416,
   "id": "5f795c1d",
   "metadata": {},
   "outputs": [],
   "source": [
    "max_idade = dados[\"IDADE\"].max()"
   ]
  },
  {
   "cell_type": "code",
   "execution_count": 417,
   "id": "17715bb2",
   "metadata": {},
   "outputs": [
    {
     "name": "stdout",
     "output_type": "stream",
     "text": [
      "Análise das Idades\n",
      "MÉDIA         31.0\n",
      "MEDIANA       30.0\n",
      "MODA          0    27.0\n",
      "Name: IDADE, dtype: float64\n",
      "DESVIO PADRÃO 7.0\n",
      "MÁXIMO        54.0\n",
      "MÍNIMO        18.0\n"
     ]
    }
   ],
   "source": [
    "print('Análise das Idades')\n",
    "print('MÉDIA        ', media_idade.round())\n",
    "print('MEDIANA      ', mediana_idade.round())\n",
    "print('MODA         ', moda_idade)\n",
    "print('DESVIO PADRÃO', desvio_padrao_idade.round())\n",
    "print('MÁXIMO       ', max_idade.round())\n",
    "print('MÍNIMO       ', min_idade.round())"
   ]
  },
  {
   "cell_type": "code",
   "execution_count": 418,
   "id": "4f0ede7f",
   "metadata": {},
   "outputs": [
    {
     "data": {
      "text/html": [
       "<div>\n",
       "<style scoped>\n",
       "    .dataframe tbody tr th:only-of-type {\n",
       "        vertical-align: middle;\n",
       "    }\n",
       "\n",
       "    .dataframe tbody tr th {\n",
       "        vertical-align: top;\n",
       "    }\n",
       "\n",
       "    .dataframe thead tr th {\n",
       "        text-align: left;\n",
       "    }\n",
       "\n",
       "    .dataframe thead tr:last-of-type th {\n",
       "        text-align: right;\n",
       "    }\n",
       "</style>\n",
       "<table border=\"1\" class=\"dataframe\">\n",
       "  <thead>\n",
       "    <tr>\n",
       "      <th></th>\n",
       "      <th colspan=\"3\" halign=\"left\">IDADE</th>\n",
       "    </tr>\n",
       "    <tr>\n",
       "      <th>NIVEL</th>\n",
       "      <th>Júnior</th>\n",
       "      <th>Pleno</th>\n",
       "      <th>Sênior</th>\n",
       "    </tr>\n",
       "    <tr>\n",
       "      <th>GENERO</th>\n",
       "      <th></th>\n",
       "      <th></th>\n",
       "      <th></th>\n",
       "    </tr>\n",
       "  </thead>\n",
       "  <tbody>\n",
       "    <tr>\n",
       "      <th>Feminino</th>\n",
       "      <td>29.32</td>\n",
       "      <td>30.42</td>\n",
       "      <td>33.22</td>\n",
       "    </tr>\n",
       "    <tr>\n",
       "      <th>Masculino</th>\n",
       "      <td>27.46</td>\n",
       "      <td>30.07</td>\n",
       "      <td>33.30</td>\n",
       "    </tr>\n",
       "    <tr>\n",
       "      <th>Prefiro não informar</th>\n",
       "      <td>24.50</td>\n",
       "      <td>27.25</td>\n",
       "      <td>30.00</td>\n",
       "    </tr>\n",
       "  </tbody>\n",
       "</table>\n",
       "</div>"
      ],
      "text/plain": [
       "                      IDADE              \n",
       "NIVEL                Júnior  Pleno Sênior\n",
       "GENERO                                   \n",
       "Feminino              29.32  30.42  33.22\n",
       "Masculino             27.46  30.07  33.30\n",
       "Prefiro não informar  24.50  27.25  30.00"
      ]
     },
     "execution_count": 418,
     "metadata": {},
     "output_type": "execute_result"
    }
   ],
   "source": [
    "pd.pivot_table(dados, values = ['IDADE'], index = ['GENERO'], columns = ['NIVEL'], aggfunc='mean').round(2)"
   ]
  },
  {
   "cell_type": "code",
   "execution_count": 419,
   "id": "32bf634c",
   "metadata": {},
   "outputs": [
    {
     "data": {
      "text/html": [
       "<div>\n",
       "<style scoped>\n",
       "    .dataframe tbody tr th:only-of-type {\n",
       "        vertical-align: middle;\n",
       "    }\n",
       "\n",
       "    .dataframe tbody tr th {\n",
       "        vertical-align: top;\n",
       "    }\n",
       "\n",
       "    .dataframe thead tr th {\n",
       "        text-align: left;\n",
       "    }\n",
       "\n",
       "    .dataframe thead tr:last-of-type th {\n",
       "        text-align: right;\n",
       "    }\n",
       "</style>\n",
       "<table border=\"1\" class=\"dataframe\">\n",
       "  <thead>\n",
       "    <tr>\n",
       "      <th></th>\n",
       "      <th colspan=\"3\" halign=\"left\">SALARIO</th>\n",
       "    </tr>\n",
       "    <tr>\n",
       "      <th>NIVEL</th>\n",
       "      <th>Júnior</th>\n",
       "      <th>Pleno</th>\n",
       "      <th>Sênior</th>\n",
       "    </tr>\n",
       "    <tr>\n",
       "      <th>GENERO</th>\n",
       "      <th></th>\n",
       "      <th></th>\n",
       "      <th></th>\n",
       "    </tr>\n",
       "  </thead>\n",
       "  <tbody>\n",
       "    <tr>\n",
       "      <th>Feminino</th>\n",
       "      <td>4000.81</td>\n",
       "      <td>8039.93</td>\n",
       "      <td>11746.87</td>\n",
       "    </tr>\n",
       "    <tr>\n",
       "      <th>Masculino</th>\n",
       "      <td>3915.25</td>\n",
       "      <td>8469.88</td>\n",
       "      <td>15936.83</td>\n",
       "    </tr>\n",
       "    <tr>\n",
       "      <th>Prefiro não informar</th>\n",
       "      <td>2701.00</td>\n",
       "      <td>8458.75</td>\n",
       "      <td>10174.00</td>\n",
       "    </tr>\n",
       "  </tbody>\n",
       "</table>\n",
       "</div>"
      ],
      "text/plain": [
       "                      SALARIO                   \n",
       "NIVEL                  Júnior    Pleno    Sênior\n",
       "GENERO                                          \n",
       "Feminino              4000.81  8039.93  11746.87\n",
       "Masculino             3915.25  8469.88  15936.83\n",
       "Prefiro não informar  2701.00  8458.75  10174.00"
      ]
     },
     "execution_count": 419,
     "metadata": {},
     "output_type": "execute_result"
    }
   ],
   "source": [
    "pd.pivot_table(dados, values = ['SALARIO'], index = ['GENERO'], columns = ['NIVEL'], aggfunc='mean').round(2)"
   ]
  },
  {
   "cell_type": "markdown",
   "id": "52195ce0",
   "metadata": {},
   "source": [
    "## Dados Faltantes"
   ]
  },
  {
   "cell_type": "markdown",
   "id": "81af84eb",
   "metadata": {},
   "source": [
    "### Gênero"
   ]
  },
  {
   "cell_type": "code",
   "execution_count": 420,
   "id": "ada7f92d",
   "metadata": {},
   "outputs": [
    {
     "data": {
      "text/plain": [
       "GENERO\n",
       "Feminino                1055\n",
       "Masculino               3194\n",
       "Prefiro não informar      12\n",
       "NaN                        9\n",
       "Name: ID, dtype: int64"
      ]
     },
     "execution_count": 420,
     "metadata": {},
     "output_type": "execute_result"
    }
   ],
   "source": [
    "dados.groupby('GENERO', dropna= False)['ID'].nunique()"
   ]
  },
  {
   "cell_type": "markdown",
   "id": "c6a216c4",
   "metadata": {},
   "source": [
    "podemos preencher os nulos por 'Prefiro não informar'"
   ]
  },
  {
   "cell_type": "code",
   "execution_count": 421,
   "id": "368ee60c",
   "metadata": {},
   "outputs": [],
   "source": [
    "dados['GENERO'] = dados['GENERO'].fillna('Prefiro não informar')"
   ]
  },
  {
   "cell_type": "code",
   "execution_count": 422,
   "id": "fce29b6f",
   "metadata": {},
   "outputs": [
    {
     "data": {
      "text/plain": [
       "GENERO\n",
       "Feminino                1055\n",
       "Masculino               3194\n",
       "Prefiro não informar      21\n",
       "Name: ID, dtype: int64"
      ]
     },
     "execution_count": 422,
     "metadata": {},
     "output_type": "execute_result"
    }
   ],
   "source": [
    "dados.groupby('GENERO', dropna= False)['ID'].nunique()"
   ]
  },
  {
   "cell_type": "markdown",
   "id": "590a5dad",
   "metadata": {},
   "source": [
    "### Idade"
   ]
  },
  {
   "cell_type": "code",
   "execution_count": 423,
   "id": "8070f017",
   "metadata": {},
   "outputs": [
    {
     "data": {
      "text/plain": [
       "IDADE\n",
       "False    4197\n",
       "True       74\n",
       "Name: count, dtype: int64"
      ]
     },
     "execution_count": 423,
     "metadata": {},
     "output_type": "execute_result"
    }
   ],
   "source": [
    "dados['IDADE'].isnull().value_counts()"
   ]
  },
  {
   "cell_type": "code",
   "execution_count": 424,
   "id": "b67c0d9c",
   "metadata": {},
   "outputs": [
    {
     "data": {
      "text/plain": [
       "FAIXA IDADE\n",
       "55+      68\n",
       "17-21     6\n",
       "Name: count, dtype: int64"
      ]
     },
     "execution_count": 424,
     "metadata": {},
     "output_type": "execute_result"
    }
   ],
   "source": [
    "dados[dados['IDADE'].isnull()]['FAIXA IDADE'].value_counts()"
   ]
  },
  {
   "cell_type": "markdown",
   "id": "b74c68f4",
   "metadata": {},
   "source": [
    "temos que há pessoas que não registraram a idade, mas registraram a faixa etária.\n",
    "podemos fazer a média da idade preenchida para cada faixa e preencher os dados faltantes com ela"
   ]
  },
  {
   "cell_type": "code",
   "execution_count": 425,
   "id": "e674a768",
   "metadata": {},
   "outputs": [],
   "source": [
    "media_17_21= dados[dados['FAIXA IDADE']== '17-21']['IDADE'].mean()"
   ]
  },
  {
   "cell_type": "code",
   "execution_count": 426,
   "id": "015364c6",
   "metadata": {},
   "outputs": [],
   "source": [
    "dados.loc[(dados['FAIXA IDADE']== '17-21') & (dados['IDADE'].isnull()), 'IDADE'] = media_17_21"
   ]
  },
  {
   "cell_type": "code",
   "execution_count": 427,
   "id": "b98c1e31",
   "metadata": {},
   "outputs": [
    {
     "data": {
      "text/plain": [
       "FAIXA IDADE\n",
       "55+    68\n",
       "Name: count, dtype: int64"
      ]
     },
     "execution_count": 427,
     "metadata": {},
     "output_type": "execute_result"
    }
   ],
   "source": [
    "dados[dados['IDADE'].isnull()]['FAIXA IDADE'].value_counts()"
   ]
  },
  {
   "cell_type": "code",
   "execution_count": 428,
   "id": "3129eef1",
   "metadata": {},
   "outputs": [
    {
     "data": {
      "text/plain": [
       "9      NaN\n",
       "66     NaN\n",
       "96     NaN\n",
       "121    NaN\n",
       "156    NaN\n",
       "        ..\n",
       "4001   NaN\n",
       "4043   NaN\n",
       "4048   NaN\n",
       "4061   NaN\n",
       "4215   NaN\n",
       "Name: IDADE, Length: 68, dtype: float64"
      ]
     },
     "execution_count": 428,
     "metadata": {},
     "output_type": "execute_result"
    }
   ],
   "source": [
    "dados[dados['FAIXA IDADE']== '55+']['IDADE']"
   ]
  },
  {
   "cell_type": "markdown",
   "id": "b0733ac8",
   "metadata": {},
   "source": [
    "\n",
    "Ninguém com mais de 55 anos preencheu sua idade, podemos supor que há um erro no formulário.\n",
    "\n",
    "Um estratégia é preencher esses dados com a média geral"
   ]
  },
  {
   "cell_type": "code",
   "execution_count": 429,
   "id": "81cc4517",
   "metadata": {},
   "outputs": [],
   "source": [
    "media_geral = int(dados['IDADE'].mean().round())"
   ]
  },
  {
   "cell_type": "code",
   "execution_count": 430,
   "id": "2e6da8c2",
   "metadata": {},
   "outputs": [],
   "source": [
    "## substituindo valores\n",
    "dados.loc[(dados['FAIXA IDADE']== '55+') & (dados['IDADE'].isnull()), 'IDADE'] = media_geral"
   ]
  },
  {
   "cell_type": "code",
   "execution_count": 431,
   "id": "c96e7093",
   "metadata": {},
   "outputs": [
    {
     "data": {
      "text/plain": [
       "Series([], Name: count, dtype: int64)"
      ]
     },
     "execution_count": 431,
     "metadata": {},
     "output_type": "execute_result"
    }
   ],
   "source": [
    "# conferindo\n",
    "dados[dados['IDADE'].isnull()]['FAIXA IDADE'].value_counts()"
   ]
  },
  {
   "cell_type": "markdown",
   "id": "2e2c143c",
   "metadata": {},
   "source": [
    "### Salário"
   ]
  },
  {
   "cell_type": "code",
   "execution_count": 432,
   "id": "4bc572ca",
   "metadata": {},
   "outputs": [
    {
     "data": {
      "text/html": [
       "<div>\n",
       "<style scoped>\n",
       "    .dataframe tbody tr th:only-of-type {\n",
       "        vertical-align: middle;\n",
       "    }\n",
       "\n",
       "    .dataframe tbody tr th {\n",
       "        vertical-align: top;\n",
       "    }\n",
       "\n",
       "    .dataframe thead th {\n",
       "        text-align: right;\n",
       "    }\n",
       "</style>\n",
       "<table border=\"1\" class=\"dataframe\">\n",
       "  <thead>\n",
       "    <tr style=\"text-align: right;\">\n",
       "      <th></th>\n",
       "      <th>Unnamed: 0</th>\n",
       "      <th>ID</th>\n",
       "      <th>IDADE</th>\n",
       "      <th>FAIXA IDADE</th>\n",
       "      <th>GENERO</th>\n",
       "      <th>COR/RACA/ETNIA</th>\n",
       "      <th>PCD</th>\n",
       "      <th>EXPERIENCIA_PROFISSIONAL_PREJUDICADA</th>\n",
       "      <th>ASPECTOS_PREJUDICADOS</th>\n",
       "      <th>VIVE_NO_BRASIL</th>\n",
       "      <th>...</th>\n",
       "      <th>SETOR</th>\n",
       "      <th>NUMERO DE FUNCIONARIOS</th>\n",
       "      <th>GESTOR?</th>\n",
       "      <th>CARGO COMO GESTOR</th>\n",
       "      <th>CARGO ATUAL</th>\n",
       "      <th>NIVEL</th>\n",
       "      <th>FAIXA SALARIAL</th>\n",
       "      <th>QUANTO TEMPO DE EXPERIÊNCIA NA ÁREA DE DADOS VOCÊ TEM?</th>\n",
       "      <th>QUANTO TEMPO DE EXPERIÊNCIA NA ÁREA DE TI/ENGENHARIA DE SOFTWARE VOCÊ TEVE ANTES DE COMEÇAR A TRABALHAR NA ÁREA DE DADOS?</th>\n",
       "      <th>SALARIO</th>\n",
       "    </tr>\n",
       "  </thead>\n",
       "  <tbody>\n",
       "    <tr>\n",
       "      <th>12</th>\n",
       "      <td>12</td>\n",
       "      <td>zwr9hqcpg513kaopenzwr9hibaqmldto</td>\n",
       "      <td>31.0</td>\n",
       "      <td>30-34</td>\n",
       "      <td>Masculino</td>\n",
       "      <td>Branca</td>\n",
       "      <td>Não</td>\n",
       "      <td>NaN</td>\n",
       "      <td>NaN</td>\n",
       "      <td>True</td>\n",
       "      <td>...</td>\n",
       "      <td>NaN</td>\n",
       "      <td>NaN</td>\n",
       "      <td>NaN</td>\n",
       "      <td>NaN</td>\n",
       "      <td>NaN</td>\n",
       "      <td>NaN</td>\n",
       "      <td>NaN</td>\n",
       "      <td>NaN</td>\n",
       "      <td>NaN</td>\n",
       "      <td>NaN</td>\n",
       "    </tr>\n",
       "    <tr>\n",
       "      <th>28</th>\n",
       "      <td>28</td>\n",
       "      <td>ztgepgj82o9oix0nztgepq2trcay6gpv</td>\n",
       "      <td>24.0</td>\n",
       "      <td>22-24</td>\n",
       "      <td>Feminino</td>\n",
       "      <td>Parda</td>\n",
       "      <td>Não</td>\n",
       "      <td>Sim, acredito que a minha a experiência profis...</td>\n",
       "      <td>Aprovação em processos seletivos/entrevistas</td>\n",
       "      <td>True</td>\n",
       "      <td>...</td>\n",
       "      <td>NaN</td>\n",
       "      <td>NaN</td>\n",
       "      <td>NaN</td>\n",
       "      <td>NaN</td>\n",
       "      <td>NaN</td>\n",
       "      <td>NaN</td>\n",
       "      <td>NaN</td>\n",
       "      <td>NaN</td>\n",
       "      <td>NaN</td>\n",
       "      <td>NaN</td>\n",
       "    </tr>\n",
       "    <tr>\n",
       "      <th>34</th>\n",
       "      <td>34</td>\n",
       "      <td>zsa9i6njd3e594mw0tvlk4zsa9iw86i9</td>\n",
       "      <td>24.0</td>\n",
       "      <td>22-24</td>\n",
       "      <td>Feminino</td>\n",
       "      <td>Branca</td>\n",
       "      <td>Não</td>\n",
       "      <td>Sim, acredito que a minha a experiência profis...</td>\n",
       "      <td>Quantidade de oportunidades de emprego/vagas r...</td>\n",
       "      <td>True</td>\n",
       "      <td>...</td>\n",
       "      <td>NaN</td>\n",
       "      <td>NaN</td>\n",
       "      <td>NaN</td>\n",
       "      <td>NaN</td>\n",
       "      <td>NaN</td>\n",
       "      <td>NaN</td>\n",
       "      <td>NaN</td>\n",
       "      <td>NaN</td>\n",
       "      <td>NaN</td>\n",
       "      <td>NaN</td>\n",
       "    </tr>\n",
       "    <tr>\n",
       "      <th>39</th>\n",
       "      <td>39</td>\n",
       "      <td>zr4b2vm7dapp3linwqwn7zr4b2vmagqx</td>\n",
       "      <td>32.0</td>\n",
       "      <td>30-34</td>\n",
       "      <td>Masculino</td>\n",
       "      <td>Parda</td>\n",
       "      <td>Não</td>\n",
       "      <td>Não acredito que minha experiência profissiona...</td>\n",
       "      <td>NaN</td>\n",
       "      <td>True</td>\n",
       "      <td>...</td>\n",
       "      <td>NaN</td>\n",
       "      <td>NaN</td>\n",
       "      <td>NaN</td>\n",
       "      <td>NaN</td>\n",
       "      <td>NaN</td>\n",
       "      <td>NaN</td>\n",
       "      <td>NaN</td>\n",
       "      <td>NaN</td>\n",
       "      <td>NaN</td>\n",
       "      <td>NaN</td>\n",
       "    </tr>\n",
       "    <tr>\n",
       "      <th>63</th>\n",
       "      <td>63</td>\n",
       "      <td>zm7o5yquakof0j6zm7vh3o0letznhdvh</td>\n",
       "      <td>26.0</td>\n",
       "      <td>25-29</td>\n",
       "      <td>Masculino</td>\n",
       "      <td>Branca</td>\n",
       "      <td>Não</td>\n",
       "      <td>NaN</td>\n",
       "      <td>NaN</td>\n",
       "      <td>True</td>\n",
       "      <td>...</td>\n",
       "      <td>NaN</td>\n",
       "      <td>NaN</td>\n",
       "      <td>NaN</td>\n",
       "      <td>NaN</td>\n",
       "      <td>NaN</td>\n",
       "      <td>NaN</td>\n",
       "      <td>NaN</td>\n",
       "      <td>NaN</td>\n",
       "      <td>NaN</td>\n",
       "      <td>NaN</td>\n",
       "    </tr>\n",
       "    <tr>\n",
       "      <th>...</th>\n",
       "      <td>...</td>\n",
       "      <td>...</td>\n",
       "      <td>...</td>\n",
       "      <td>...</td>\n",
       "      <td>...</td>\n",
       "      <td>...</td>\n",
       "      <td>...</td>\n",
       "      <td>...</td>\n",
       "      <td>...</td>\n",
       "      <td>...</td>\n",
       "      <td>...</td>\n",
       "      <td>...</td>\n",
       "      <td>...</td>\n",
       "      <td>...</td>\n",
       "      <td>...</td>\n",
       "      <td>...</td>\n",
       "      <td>...</td>\n",
       "      <td>...</td>\n",
       "      <td>...</td>\n",
       "      <td>...</td>\n",
       "      <td>...</td>\n",
       "    </tr>\n",
       "    <tr>\n",
       "      <th>4242</th>\n",
       "      <td>4242</td>\n",
       "      <td>09oxwp6lsdwhw09ox1uobuxa8cq2pzma</td>\n",
       "      <td>26.0</td>\n",
       "      <td>25-29</td>\n",
       "      <td>Masculino</td>\n",
       "      <td>Branca</td>\n",
       "      <td>Não</td>\n",
       "      <td>NaN</td>\n",
       "      <td>NaN</td>\n",
       "      <td>True</td>\n",
       "      <td>...</td>\n",
       "      <td>NaN</td>\n",
       "      <td>NaN</td>\n",
       "      <td>NaN</td>\n",
       "      <td>NaN</td>\n",
       "      <td>NaN</td>\n",
       "      <td>NaN</td>\n",
       "      <td>NaN</td>\n",
       "      <td>NaN</td>\n",
       "      <td>NaN</td>\n",
       "      <td>NaN</td>\n",
       "    </tr>\n",
       "    <tr>\n",
       "      <th>4252</th>\n",
       "      <td>4252</td>\n",
       "      <td>064pe9b1htw7mflhif064pe95dotv6yf</td>\n",
       "      <td>39.0</td>\n",
       "      <td>35-39</td>\n",
       "      <td>Masculino</td>\n",
       "      <td>Parda</td>\n",
       "      <td>Não</td>\n",
       "      <td>Não acredito que minha experiência profissiona...</td>\n",
       "      <td>NaN</td>\n",
       "      <td>True</td>\n",
       "      <td>...</td>\n",
       "      <td>NaN</td>\n",
       "      <td>NaN</td>\n",
       "      <td>NaN</td>\n",
       "      <td>NaN</td>\n",
       "      <td>NaN</td>\n",
       "      <td>NaN</td>\n",
       "      <td>NaN</td>\n",
       "      <td>NaN</td>\n",
       "      <td>NaN</td>\n",
       "      <td>NaN</td>\n",
       "    </tr>\n",
       "    <tr>\n",
       "      <th>4258</th>\n",
       "      <td>4258</td>\n",
       "      <td>03zjgijmnwv9qrlzbr03zjgij1eae1hw</td>\n",
       "      <td>25.0</td>\n",
       "      <td>25-29</td>\n",
       "      <td>Feminino</td>\n",
       "      <td>Branca</td>\n",
       "      <td>Não</td>\n",
       "      <td>Sim, acredito que a minha a experiência profis...</td>\n",
       "      <td>Senioridade das vagas recebidas em relação à s...</td>\n",
       "      <td>True</td>\n",
       "      <td>...</td>\n",
       "      <td>NaN</td>\n",
       "      <td>NaN</td>\n",
       "      <td>NaN</td>\n",
       "      <td>NaN</td>\n",
       "      <td>NaN</td>\n",
       "      <td>NaN</td>\n",
       "      <td>NaN</td>\n",
       "      <td>NaN</td>\n",
       "      <td>NaN</td>\n",
       "      <td>NaN</td>\n",
       "    </tr>\n",
       "    <tr>\n",
       "      <th>4260</th>\n",
       "      <td>4260</td>\n",
       "      <td>03atvow8404tatt2iixjds03atvownkz</td>\n",
       "      <td>36.0</td>\n",
       "      <td>35-39</td>\n",
       "      <td>Masculino</td>\n",
       "      <td>Parda</td>\n",
       "      <td>Não</td>\n",
       "      <td>Não acredito que minha experiência profissiona...</td>\n",
       "      <td>NaN</td>\n",
       "      <td>True</td>\n",
       "      <td>...</td>\n",
       "      <td>NaN</td>\n",
       "      <td>NaN</td>\n",
       "      <td>NaN</td>\n",
       "      <td>NaN</td>\n",
       "      <td>NaN</td>\n",
       "      <td>NaN</td>\n",
       "      <td>NaN</td>\n",
       "      <td>NaN</td>\n",
       "      <td>NaN</td>\n",
       "      <td>NaN</td>\n",
       "    </tr>\n",
       "    <tr>\n",
       "      <th>4261</th>\n",
       "      <td>4261</td>\n",
       "      <td>02xomoejng6c9152kde02xomww412qpg</td>\n",
       "      <td>33.0</td>\n",
       "      <td>30-34</td>\n",
       "      <td>Masculino</td>\n",
       "      <td>Branca</td>\n",
       "      <td>Não</td>\n",
       "      <td>NaN</td>\n",
       "      <td>NaN</td>\n",
       "      <td>True</td>\n",
       "      <td>...</td>\n",
       "      <td>NaN</td>\n",
       "      <td>NaN</td>\n",
       "      <td>NaN</td>\n",
       "      <td>NaN</td>\n",
       "      <td>NaN</td>\n",
       "      <td>NaN</td>\n",
       "      <td>NaN</td>\n",
       "      <td>NaN</td>\n",
       "      <td>NaN</td>\n",
       "      <td>NaN</td>\n",
       "    </tr>\n",
       "  </tbody>\n",
       "</table>\n",
       "<p>577 rows × 28 columns</p>\n",
       "</div>"
      ],
      "text/plain": [
       "      Unnamed: 0                                ID  IDADE FAIXA IDADE  \\\n",
       "12            12  zwr9hqcpg513kaopenzwr9hibaqmldto   31.0       30-34   \n",
       "28            28  ztgepgj82o9oix0nztgepq2trcay6gpv   24.0       22-24   \n",
       "34            34  zsa9i6njd3e594mw0tvlk4zsa9iw86i9   24.0       22-24   \n",
       "39            39  zr4b2vm7dapp3linwqwn7zr4b2vmagqx   32.0       30-34   \n",
       "63            63  zm7o5yquakof0j6zm7vh3o0letznhdvh   26.0       25-29   \n",
       "...          ...                               ...    ...         ...   \n",
       "4242        4242  09oxwp6lsdwhw09ox1uobuxa8cq2pzma   26.0       25-29   \n",
       "4252        4252  064pe9b1htw7mflhif064pe95dotv6yf   39.0       35-39   \n",
       "4258        4258  03zjgijmnwv9qrlzbr03zjgij1eae1hw   25.0       25-29   \n",
       "4260        4260  03atvow8404tatt2iixjds03atvownkz   36.0       35-39   \n",
       "4261        4261  02xomoejng6c9152kde02xomww412qpg   33.0       30-34   \n",
       "\n",
       "         GENERO COR/RACA/ETNIA  PCD  \\\n",
       "12    Masculino         Branca  Não   \n",
       "28     Feminino          Parda  Não   \n",
       "34     Feminino         Branca  Não   \n",
       "39    Masculino          Parda  Não   \n",
       "63    Masculino         Branca  Não   \n",
       "...         ...            ...  ...   \n",
       "4242  Masculino         Branca  Não   \n",
       "4252  Masculino          Parda  Não   \n",
       "4258   Feminino         Branca  Não   \n",
       "4260  Masculino          Parda  Não   \n",
       "4261  Masculino         Branca  Não   \n",
       "\n",
       "                   EXPERIENCIA_PROFISSIONAL_PREJUDICADA  \\\n",
       "12                                                  NaN   \n",
       "28    Sim, acredito que a minha a experiência profis...   \n",
       "34    Sim, acredito que a minha a experiência profis...   \n",
       "39    Não acredito que minha experiência profissiona...   \n",
       "63                                                  NaN   \n",
       "...                                                 ...   \n",
       "4242                                                NaN   \n",
       "4252  Não acredito que minha experiência profissiona...   \n",
       "4258  Sim, acredito que a minha a experiência profis...   \n",
       "4260  Não acredito que minha experiência profissiona...   \n",
       "4261                                                NaN   \n",
       "\n",
       "                                  ASPECTOS_PREJUDICADOS  VIVE_NO_BRASIL  ...  \\\n",
       "12                                                  NaN            True  ...   \n",
       "28         Aprovação em processos seletivos/entrevistas            True  ...   \n",
       "34    Quantidade de oportunidades de emprego/vagas r...            True  ...   \n",
       "39                                                  NaN            True  ...   \n",
       "63                                                  NaN            True  ...   \n",
       "...                                                 ...             ...  ...   \n",
       "4242                                                NaN            True  ...   \n",
       "4252                                                NaN            True  ...   \n",
       "4258  Senioridade das vagas recebidas em relação à s...            True  ...   \n",
       "4260                                                NaN            True  ...   \n",
       "4261                                                NaN            True  ...   \n",
       "\n",
       "     SETOR NUMERO DE FUNCIONARIOS GESTOR?  CARGO COMO GESTOR CARGO ATUAL  \\\n",
       "12     NaN                    NaN     NaN                NaN         NaN   \n",
       "28     NaN                    NaN     NaN                NaN         NaN   \n",
       "34     NaN                    NaN     NaN                NaN         NaN   \n",
       "39     NaN                    NaN     NaN                NaN         NaN   \n",
       "63     NaN                    NaN     NaN                NaN         NaN   \n",
       "...    ...                    ...     ...                ...         ...   \n",
       "4242   NaN                    NaN     NaN                NaN         NaN   \n",
       "4252   NaN                    NaN     NaN                NaN         NaN   \n",
       "4258   NaN                    NaN     NaN                NaN         NaN   \n",
       "4260   NaN                    NaN     NaN                NaN         NaN   \n",
       "4261   NaN                    NaN     NaN                NaN         NaN   \n",
       "\n",
       "     NIVEL FAIXA SALARIAL  \\\n",
       "12     NaN            NaN   \n",
       "28     NaN            NaN   \n",
       "34     NaN            NaN   \n",
       "39     NaN            NaN   \n",
       "63     NaN            NaN   \n",
       "...    ...            ...   \n",
       "4242   NaN            NaN   \n",
       "4252   NaN            NaN   \n",
       "4258   NaN            NaN   \n",
       "4260   NaN            NaN   \n",
       "4261   NaN            NaN   \n",
       "\n",
       "     QUANTO TEMPO DE EXPERIÊNCIA NA ÁREA DE DADOS VOCÊ TEM?  \\\n",
       "12                                                  NaN       \n",
       "28                                                  NaN       \n",
       "34                                                  NaN       \n",
       "39                                                  NaN       \n",
       "63                                                  NaN       \n",
       "...                                                 ...       \n",
       "4242                                                NaN       \n",
       "4252                                                NaN       \n",
       "4258                                                NaN       \n",
       "4260                                                NaN       \n",
       "4261                                                NaN       \n",
       "\n",
       "     QUANTO TEMPO DE EXPERIÊNCIA NA ÁREA DE TI/ENGENHARIA DE SOFTWARE VOCÊ TEVE ANTES DE COMEÇAR A TRABALHAR NA ÁREA DE DADOS?  \\\n",
       "12                                                  NaN                                                                          \n",
       "28                                                  NaN                                                                          \n",
       "34                                                  NaN                                                                          \n",
       "39                                                  NaN                                                                          \n",
       "63                                                  NaN                                                                          \n",
       "...                                                 ...                                                                          \n",
       "4242                                                NaN                                                                          \n",
       "4252                                                NaN                                                                          \n",
       "4258                                                NaN                                                                          \n",
       "4260                                                NaN                                                                          \n",
       "4261                                                NaN                                                                          \n",
       "\n",
       "     SALARIO  \n",
       "12       NaN  \n",
       "28       NaN  \n",
       "34       NaN  \n",
       "39       NaN  \n",
       "63       NaN  \n",
       "...      ...  \n",
       "4242     NaN  \n",
       "4252     NaN  \n",
       "4258     NaN  \n",
       "4260     NaN  \n",
       "4261     NaN  \n",
       "\n",
       "[577 rows x 28 columns]"
      ]
     },
     "execution_count": 432,
     "metadata": {},
     "output_type": "execute_result"
    }
   ],
   "source": [
    "dados[dados['SALARIO'].isnull()]"
   ]
  },
  {
   "cell_type": "code",
   "execution_count": 433,
   "id": "05b04990",
   "metadata": {},
   "outputs": [
    {
     "data": {
      "text/plain": [
       "Series([], Name: count, dtype: int64)"
      ]
     },
     "execution_count": 433,
     "metadata": {},
     "output_type": "execute_result"
    }
   ],
   "source": [
    "dados[dados['SALARIO'].isnull()]['FAIXA SALARIAL'].value_counts()\n",
    "# quem não preencheu salário, também não preencheu faixa salarial"
   ]
  },
  {
   "cell_type": "code",
   "execution_count": 434,
   "id": "c907508a",
   "metadata": {},
   "outputs": [],
   "source": [
    "## completando pela mediana\n",
    "mediana_salario = dados[dados['SALARIO'].notnull()]['SALARIO'].median()"
   ]
  },
  {
   "cell_type": "code",
   "execution_count": 435,
   "id": "50ed224a",
   "metadata": {},
   "outputs": [],
   "source": [
    "dados.loc[dados['SALARIO'].isnull(), 'SALARIO'] = mediana_salario"
   ]
  },
  {
   "cell_type": "markdown",
   "id": "b745658f",
   "metadata": {},
   "source": [
    "## Valores Discrepantes (Outliers)"
   ]
  },
  {
   "cell_type": "code",
   "execution_count": 436,
   "id": "5fc974eb",
   "metadata": {},
   "outputs": [],
   "source": [
    "import matplotlib.pyplot as plt"
   ]
  },
  {
   "cell_type": "code",
   "execution_count": 437,
   "id": "4c89001f",
   "metadata": {},
   "outputs": [
    {
     "data": {
      "text/plain": [
       "{'whiskers': [<matplotlib.lines.Line2D at 0x1ef7f981c90>,\n",
       "  <matplotlib.lines.Line2D at 0x1ef7f981190>],\n",
       " 'caps': [<matplotlib.lines.Line2D at 0x1ef7f982f50>,\n",
       "  <matplotlib.lines.Line2D at 0x1ef7f982b90>],\n",
       " 'boxes': [<matplotlib.lines.Line2D at 0x1ef7f980a10>],\n",
       " 'medians': [<matplotlib.lines.Line2D at 0x1ef7fbfd750>],\n",
       " 'fliers': [<matplotlib.lines.Line2D at 0x1ef7fbfc2d0>],\n",
       " 'means': []}"
      ]
     },
     "execution_count": 437,
     "metadata": {},
     "output_type": "execute_result"
    },
    {
     "data": {
      "image/png": "[encoded data removed]",
      "text/plain": [
       "<Figure size 640x480 with 1 Axes>"
      ]
     },
     "metadata": {},
     "output_type": "display_data"
    }
   ],
   "source": [
    "plt.boxplot(dados['SALARIO'])"
   ]
  },
  {
   "cell_type": "code",
   "execution_count": 438,
   "id": "c7c5f6c9",
   "metadata": {},
   "outputs": [
    {
     "data": {
      "text/plain": [
       "count      4271.000000\n",
       "mean      10517.533482\n",
       "std       18096.210989\n",
       "min          35.000000\n",
       "25%        4751.500000\n",
       "50%        7625.500000\n",
       "75%       11794.500000\n",
       "max      485191.000000\n",
       "Name: SALARIO, dtype: float64"
      ]
     },
     "execution_count": 438,
     "metadata": {},
     "output_type": "execute_result"
    }
   ],
   "source": [
    "dados['SALARIO'].describe()"
   ]
  },
  {
   "cell_type": "code",
   "execution_count": 439,
   "id": "50d66158",
   "metadata": {},
   "outputs": [],
   "source": [
    "Q3 = dados['SALARIO'].quantile(.25)\n",
    "Q1 = dados['SALARIO'].quantile(.75)\n",
    "IQR = Q3 - Q1\n",
    "limSup = Q3 + (1.5*IQR)\n",
    "limInf = Q1 - (1.5*IQR)"
   ]
  },
  {
   "cell_type": "code",
   "execution_count": 440,
   "id": "eacec640",
   "metadata": {},
   "outputs": [
    {
     "data": {
      "text/plain": [
       "FAIXA SALARIAL\n",
       "de R$ 8.001/mês a R$ 12.000/mês     752\n",
       "de R$ 4.001/mês a R$ 6.000/mês      584\n",
       "de R$ 6.001/mês a R$ 8.000/mês      527\n",
       "de R$ 12.001/mês a R$ 16.000/mês    437\n",
       "de R$ 3.001/mês a R$ 4.000/mês      303\n",
       "de R$ 2.001/mês a R$ 3.000/mês      285\n",
       "de R$ 16.001/mês a R$ 20.000/mês    229\n",
       "de R$ 1.001/mês a R$ 2.000/mês      216\n",
       "de R$ 20.001/mês a R$ 25.000/mês    134\n",
       "de R$ 25.001/mês a R$ 30.000/mês     77\n",
       "de R$ 30.001/mês a R$ 40.000/mês     70\n",
       "Acima de R$ 40.001/mês               45\n",
       "Menos de R$ 1.000/mês                35\n",
       "Name: count, dtype: int64"
      ]
     },
     "execution_count": 440,
     "metadata": {},
     "output_type": "execute_result"
    }
   ],
   "source": [
    "dados['FAIXA SALARIAL'].value_counts()"
   ]
  },
  {
   "cell_type": "code",
   "execution_count": 441,
   "id": "3900acca",
   "metadata": {},
   "outputs": [],
   "source": [
    "media_salario = dados['SALARIO'].mean()"
   ]
  },
  {
   "cell_type": "code",
   "execution_count": 442,
   "id": "d67b417e",
   "metadata": {},
   "outputs": [],
   "source": [
    "desvio_salario = dados['SALARIO'].std()"
   ]
  },
  {
   "cell_type": "code",
   "execution_count": 443,
   "id": "3efd8f54",
   "metadata": {},
   "outputs": [],
   "source": [
    "limite_superior = media_salario +3*desvio_salario"
   ]
  },
  {
   "cell_type": "code",
   "execution_count": 444,
   "id": "f4c7b5dc",
   "metadata": {},
   "outputs": [
    {
     "data": {
      "text/plain": [
       "64806.166448975964"
      ]
     },
     "execution_count": 444,
     "metadata": {},
     "output_type": "execute_result"
    }
   ],
   "source": [
    "limite_superior"
   ]
  },
  {
   "cell_type": "code",
   "execution_count": 445,
   "id": "35181d22",
   "metadata": {},
   "outputs": [
    {
     "data": {
      "text/plain": [
       "FAIXA SALARIAL\n",
       "Acima de R$ 40.001/mês              19\n",
       "de R$ 30.001/mês a R$ 40.000/mês     3\n",
       "Name: count, dtype: int64"
      ]
     },
     "execution_count": 445,
     "metadata": {},
     "output_type": "execute_result"
    }
   ],
   "source": [
    "dados[dados['SALARIO']> limite_superior]['FAIXA SALARIAL'].value_counts()"
   ]
  },
  {
   "cell_type": "code",
   "execution_count": 446,
   "id": "b52d398e",
   "metadata": {},
   "outputs": [],
   "source": [
    "media_30_40 = dados[(dados['FAIXA SALARIAL']== 'de R$ 30.001/mês a R$ 40.000/mês')&(dados['SALARIO']<limite_superior)]['SALARIO'].mean()"
   ]
  },
  {
   "cell_type": "code",
   "execution_count": 447,
   "id": "9ad11474",
   "metadata": {},
   "outputs": [],
   "source": [
    "# substituindo os dados discrepante entre 30 e 40k\n",
    "dados.loc[(dados['FAIXA SALARIAL']== 'de R$ 30.001/mês a R$ 40.000/mês')&(dados['SALARIO']>limite_superior), 'SALARIO'] = media_30_40"
   ]
  },
  {
   "cell_type": "code",
   "execution_count": 448,
   "id": "4292ef0c",
   "metadata": {},
   "outputs": [],
   "source": [
    "media_40 = dados[(dados['FAIXA SALARIAL']== 'Acima de R$ 40.001/mês')&(dados['SALARIO']<limite_superior)]['SALARIO'].mean()\n",
    "dados.loc[(dados['FAIXA SALARIAL']== 'Acima de R$ 40.001/mês')&(dados['SALARIO']>limite_superior), 'SALARIO'] = media_40"
   ]
  },
  {
   "cell_type": "code",
   "execution_count": 449,
   "id": "1598dae2",
   "metadata": {},
   "outputs": [
    {
     "data": {
      "text/plain": [
       "Series([], Name: count, dtype: int64)"
      ]
     },
     "execution_count": 449,
     "metadata": {},
     "output_type": "execute_result"
    }
   ],
   "source": [
    "## conferindo se ainda tem dados discrepantes\n",
    "dados[dados['SALARIO']> limite_superior]['FAIXA SALARIAL'].value_counts()"
   ]
  },
  {
   "cell_type": "code",
   "execution_count": 450,
   "id": "9ef8b3e5",
   "metadata": {},
   "outputs": [
    {
     "data": {
      "text/plain": [
       "{'whiskers': [<matplotlib.lines.Line2D at 0x1ef7fb7f810>,\n",
       "  <matplotlib.lines.Line2D at 0x1ef7fb7fc50>],\n",
       " 'caps': [<matplotlib.lines.Line2D at 0x1ef7f8d0dd0>,\n",
       "  <matplotlib.lines.Line2D at 0x1ef7f8d1190>],\n",
       " 'boxes': [<matplotlib.lines.Line2D at 0x1ef59afe3d0>],\n",
       " 'medians': [<matplotlib.lines.Line2D at 0x1ef7f8d1e90>],\n",
       " 'fliers': [<matplotlib.lines.Line2D at 0x1ef7f8d08d0>],\n",
       " 'means': []}"
      ]
     },
     "execution_count": 450,
     "metadata": {},
     "output_type": "execute_result"
    },
    {
     "data": {
      "image/png": "[encoded data removed]",
      "text/plain": [
       "<Figure size 640x480 with 1 Axes>"
      ]
     },
     "metadata": {},
     "output_type": "display_data"
    }
   ],
   "source": [
    "plt.boxplot(dados['SALARIO'])"
   ]
  },
  {
   "cell_type": "markdown",
   "id": "e4fac0ad",
   "metadata": {},
   "source": [
    "## Distribuição Amostral e Intervalo de Confiança"
   ]
  },
  {
   "cell_type": "code",
   "execution_count": 451,
   "id": "a6aa7f8a",
   "metadata": {},
   "outputs": [],
   "source": [
    "salarios = dados['SALARIO']"
   ]
  },
  {
   "cell_type": "code",
   "execution_count": 452,
   "id": "f150c91c",
   "metadata": {},
   "outputs": [
    {
     "data": {
      "text/plain": [
       "9904.390109813306"
      ]
     },
     "execution_count": 452,
     "metadata": {},
     "output_type": "execute_result"
    }
   ],
   "source": [
    "media_amostral = np.mean(salarios)\n",
    "media_amostral"
   ]
  },
  {
   "cell_type": "code",
   "execution_count": 453,
   "id": "e7b35699",
   "metadata": {},
   "outputs": [
    {
     "data": {
      "text/plain": [
       "8306.104872579352"
      ]
     },
     "execution_count": 453,
     "metadata": {},
     "output_type": "execute_result"
    }
   ],
   "source": [
    "desvio_amostral = np.std(salarios)\n",
    "desvio_amostral"
   ]
  },
  {
   "cell_type": "code",
   "execution_count": 454,
   "id": "afff95a4",
   "metadata": {},
   "outputs": [],
   "source": [
    "# confiança de 95%\n",
    "nivel_confianca = 0.95"
   ]
  },
  {
   "cell_type": "code",
   "execution_count": 455,
   "id": "acbe73ce",
   "metadata": {},
   "outputs": [
    {
     "data": {
      "text/plain": [
       "4271"
      ]
     },
     "execution_count": 455,
     "metadata": {},
     "output_type": "execute_result"
    }
   ],
   "source": [
    "tamanho_amostra = len(salarios)\n",
    "tamanho_amostra"
   ]
  },
  {
   "cell_type": "code",
   "execution_count": 456,
   "id": "a9be8168",
   "metadata": {},
   "outputs": [],
   "source": [
    "from scipy import stats"
   ]
  },
  {
   "cell_type": "code",
   "execution_count": 457,
   "id": "52ee7c2b",
   "metadata": {},
   "outputs": [
    {
     "data": {
      "text/plain": [
       "127.11109872023638"
      ]
     },
     "execution_count": 457,
     "metadata": {},
     "output_type": "execute_result"
    }
   ],
   "source": [
    "erro_padrao = stats.sem(salarios) # calcula o erro médio padrão da amostra\n",
    "erro_padrao"
   ]
  },
  {
   "cell_type": "code",
   "execution_count": 458,
   "id": "9c05c5e4",
   "metadata": {},
   "outputs": [],
   "source": [
    "grau_liberdade = tamanho_amostra - 1"
   ]
  },
  {
   "cell_type": "code",
   "execution_count": 459,
   "id": "d27aee61",
   "metadata": {},
   "outputs": [
    {
     "data": {
      "text/plain": [
       "(9655.186295869078, 10153.593923757535)"
      ]
     },
     "execution_count": 459,
     "metadata": {},
     "output_type": "execute_result"
    }
   ],
   "source": [
    "intervalo_confianca = stats.t.interval(nivel_confianca,grau_liberdade, loc = media_amostral, scale= erro_padrao)\n",
    "intervalo_confianca"
   ]
  },
  {
   "cell_type": "markdown",
   "id": "1f21bc1b",
   "metadata": {},
   "source": [
    "com 95% de confiança que a média salarial está entre 9655,19 reais e 10153,60 reais"
   ]
  },
  {
   "cell_type": "code",
   "execution_count": 460,
   "id": "502d272e",
   "metadata": {},
   "outputs": [
    {
     "data": {
      "text/plain": [
       "(9485.83782074697, 10322.942398879646)"
      ]
     },
     "execution_count": 460,
     "metadata": {},
     "output_type": "execute_result"
    }
   ],
   "source": [
    "intervalo_confianca = stats.t.interval(0.999,grau_liberdade, loc = media_amostral, scale= erro_padrao)\n",
    "intervalo_confianca"
   ]
  },
  {
   "cell_type": "code",
   "execution_count": 461,
   "id": "99caa058",
   "metadata": {},
   "outputs": [
    {
     "data": {
      "text/plain": [
       "(9772.631922207403, 10036.14829741921)"
      ]
     },
     "execution_count": 461,
     "metadata": {},
     "output_type": "execute_result"
    }
   ],
   "source": [
    "intervalo_confianca = stats.t.interval(0.70,grau_liberdade, loc = media_amostral, scale= erro_padrao)\n",
    "intervalo_confianca"
   ]
  },
  {
   "cell_type": "markdown",
   "id": "04652319",
   "metadata": {},
   "source": [
    "-----"
   ]
  },
  {
   "cell_type": "markdown",
   "id": "8b784ffd",
   "metadata": {},
   "source": [
    "# Módulo 5 - Mais sobre análises estatísticas em Python"
   ]
  },
  {
   "cell_type": "markdown",
   "id": "6aa7585c",
   "metadata": {},
   "source": [
    "## Featuring engineering"
   ]
  },
  {
   "cell_type": "code",
   "execution_count": 462,
   "id": "d0a78301",
   "metadata": {},
   "outputs": [],
   "source": [
    "def preencher_nivel(gestor, nivel):\n",
    "    if gestor == 1:\n",
    "        return \"Pessoa Gestora\"\n",
    "    else:\n",
    "        return nivel"
   ]
  },
  {
   "cell_type": "code",
   "execution_count": 463,
   "id": "cfe2a88d",
   "metadata": {},
   "outputs": [],
   "source": [
    "dados['NOVO_NIVEL'] = dados.apply(lambda x: preencher_nivel(x['GESTOR?'], x['NIVEL']), axis = 1)"
   ]
  },
  {
   "cell_type": "code",
   "execution_count": 464,
   "id": "9be6057d",
   "metadata": {},
   "outputs": [
    {
     "data": {
      "text/plain": [
       "NOVO_NIVEL\n",
       "Pleno             1060\n",
       "Júnior            1023\n",
       "Sênior             898\n",
       "Pessoa Gestora     713\n",
       "Name: count, dtype: int64"
      ]
     },
     "execution_count": 464,
     "metadata": {},
     "output_type": "execute_result"
    }
   ],
   "source": [
    "dados['NOVO_NIVEL'].value_counts()"
   ]
  },
  {
   "cell_type": "code",
   "execution_count": 465,
   "id": "120a9171",
   "metadata": {},
   "outputs": [],
   "source": [
    "dados = pd.get_dummies(dados, columns= ['NIVEL'])"
   ]
  },
  {
   "cell_type": "code",
   "execution_count": 466,
   "id": "1dfe8042",
   "metadata": {},
   "outputs": [],
   "source": [
    "def determinar_geracao(idade):\n",
    "    if   39 < idade <= 58:\n",
    "        return 'Geração X'\n",
    "    elif 29 < idade <= 39:\n",
    "        return 'Millenial'\n",
    "    elif 13 < idade <= 29:\n",
    "        return 'Geração Z'\n",
    "    else:\n",
    "        return 'Outra Geração'"
   ]
  },
  {
   "cell_type": "code",
   "execution_count": 467,
   "id": "328cbd6b",
   "metadata": {},
   "outputs": [],
   "source": [
    "dados['GERAÇÃO'] = dados['IDADE'].apply(determinar_geracao)"
   ]
  },
  {
   "cell_type": "code",
   "execution_count": 468,
   "id": "6170794b",
   "metadata": {},
   "outputs": [
    {
     "data": {
      "text/plain": [
       "GERAÇÃO\n",
       "Geração Z    1999\n",
       "Millenial    1761\n",
       "Geração X     511\n",
       "Name: count, dtype: int64"
      ]
     },
     "execution_count": 468,
     "metadata": {},
     "output_type": "execute_result"
    }
   ],
   "source": [
    "dados['GERAÇÃO'].value_counts()"
   ]
  },
  {
   "cell_type": "code",
   "execution_count": 469,
   "id": "ef59db0f",
   "metadata": {},
   "outputs": [],
   "source": [
    "dados2 = pd.read_excel('arquivos_conteudo/Planilha_Aula_parte2.xlsx')"
   ]
  },
  {
   "cell_type": "code",
   "execution_count": 470,
   "id": "509eae79",
   "metadata": {},
   "outputs": [
    {
     "data": {
      "text/html": [
       "<div>\n",
       "<style scoped>\n",
       "    .dataframe tbody tr th:only-of-type {\n",
       "        vertical-align: middle;\n",
       "    }\n",
       "\n",
       "    .dataframe tbody tr th {\n",
       "        vertical-align: top;\n",
       "    }\n",
       "\n",
       "    .dataframe thead th {\n",
       "        text-align: right;\n",
       "    }\n",
       "</style>\n",
       "<table border=\"1\" class=\"dataframe\">\n",
       "  <thead>\n",
       "    <tr style=\"text-align: right;\">\n",
       "      <th></th>\n",
       "      <th>ID</th>\n",
       "      <th>Quanto tempo de experiência na área de dados você tem?</th>\n",
       "      <th>Quanto tempo de experiência na área de TI/Engenharia de Software você teve antes de começar a trabalhar na área de dados?</th>\n",
       "      <th>Você está satisfeito na sua empresa atual?</th>\n",
       "      <th>Qual o principal motivo da sua insatisfação com a empresa atual?</th>\n",
       "      <th>Você participou de entrevistas de emprego nos últimos 6 meses?</th>\n",
       "      <th>Você pretende mudar de emprego nos próximos 6 meses?</th>\n",
       "      <th>Quais os principais critérios que você leva em consideração no momento de decidir onde trabalhar?</th>\n",
       "      <th>Atualmente qual a sua forma de trabalho?</th>\n",
       "      <th>Qual a forma de trabalho ideal para você?</th>\n",
       "      <th>Caso sua empresa decida pelo modelo 100% presencial qual será sua atitude?</th>\n",
       "      <th>Sua empresa passu por Layoff em 2022?</th>\n",
       "      <th>Atuacao</th>\n",
       "      <th>Quais das linguagens listadas abaixo você utiliza no trabalho?</th>\n",
       "    </tr>\n",
       "  </thead>\n",
       "  <tbody>\n",
       "    <tr>\n",
       "      <th>0</th>\n",
       "      <td>zzqzz3l9ily8nuo2m7wyzzqzz3w48o96</td>\n",
       "      <td>de 1 a 2 anos</td>\n",
       "      <td>de 7 a 10 anos</td>\n",
       "      <td>True</td>\n",
       "      <td>NaN</td>\n",
       "      <td>Não participei de entrevistas de emprego/proce...</td>\n",
       "      <td>Não estou buscando e não pretendo mudar de emp...</td>\n",
       "      <td>Benefícios</td>\n",
       "      <td>Modelo 100% presencial</td>\n",
       "      <td>Modelo híbrido com dias fixos de trabalho pres...</td>\n",
       "      <td>Vou aceitar e retornar ao modelo 100% presencial</td>\n",
       "      <td>Não ocorreram layoffs/demissões em massa na em...</td>\n",
       "      <td>Engenharia de Dados</td>\n",
       "      <td>SQL</td>\n",
       "    </tr>\n",
       "    <tr>\n",
       "      <th>1</th>\n",
       "      <td>zzls2oftfn9law393oezzls2ofhvfpzd</td>\n",
       "      <td>de 3 a 4 anos</td>\n",
       "      <td>Menos de 1 ano</td>\n",
       "      <td>False</td>\n",
       "      <td>Falta de oportunidade de crescimento no empreg...</td>\n",
       "      <td>Sim, fiz entrevistas mas não fui aprovado</td>\n",
       "      <td>Estou em busca de oportunidades dentro ou fora...</td>\n",
       "      <td>Remuneração/Salário, Plano de carreira e oport...</td>\n",
       "      <td>Modelo 100% presencial</td>\n",
       "      <td>Modelo híbrido flexível (o funcionário tem lib...</td>\n",
       "      <td>Vou aceitar e retornar ao modelo 100% presencial</td>\n",
       "      <td>Não ocorreram layoffs/demissões em massa na em...</td>\n",
       "      <td>Gestor</td>\n",
       "      <td>NaN</td>\n",
       "    </tr>\n",
       "    <tr>\n",
       "      <th>2</th>\n",
       "      <td>zzdwqzfqqp1ypc7ps6m0hzzdwqz292yi</td>\n",
       "      <td>de 3 a 4 anos</td>\n",
       "      <td>Mais de 10 anos</td>\n",
       "      <td>False</td>\n",
       "      <td>Falta de oportunidade de crescimento no empreg...</td>\n",
       "      <td>Não participei de entrevistas de emprego/proce...</td>\n",
       "      <td>Não estou buscando, mas me considero aberto a ...</td>\n",
       "      <td>Remuneração/Salário, Flexibilidade de trabalho...</td>\n",
       "      <td>Modelo híbrido com dias fixos de trabalho pres...</td>\n",
       "      <td>Modelo híbrido flexível (o funcionário tem lib...</td>\n",
       "      <td>Vou procurar outra oportunidade no modelo híbr...</td>\n",
       "      <td>Não ocorreram layoffs/demissões em massa na em...</td>\n",
       "      <td>desenvolve modelos preditivos e algoritmos de...</td>\n",
       "      <td>1</td>\n",
       "    </tr>\n",
       "    <tr>\n",
       "      <th>3</th>\n",
       "      <td>zzbqh3uy7yk7k9qmkzzbqtb4s9faqspl</td>\n",
       "      <td>de 4 a 6 anos</td>\n",
       "      <td>Não tive experiência na área de TI/Engenharia ...</td>\n",
       "      <td>True</td>\n",
       "      <td>NaN</td>\n",
       "      <td>Sim, fui aprovado e mudei de emprego</td>\n",
       "      <td>Não estou buscando, mas me considero aberto a ...</td>\n",
       "      <td>Remuneração/Salário, Flexibilidade de trabalho...</td>\n",
       "      <td>Modelo híbrido flexível (o funcionário tem lib...</td>\n",
       "      <td>Modelo híbrido flexível (o funcionário tem lib...</td>\n",
       "      <td>Vou procurar outra oportunidade no modelo híbr...</td>\n",
       "      <td>Não ocorreram layoffs/demissões em massa na em...</td>\n",
       "      <td>desenvolve modelos preditivos e algoritmos de...</td>\n",
       "      <td>0</td>\n",
       "    </tr>\n",
       "    <tr>\n",
       "      <th>4</th>\n",
       "      <td>zzaf1m95yan929rb94wzzaf1mekhvhpg</td>\n",
       "      <td>Não tenho experiência na área de dados</td>\n",
       "      <td>Mais de 10 anos</td>\n",
       "      <td>False</td>\n",
       "      <td>Falta de oportunidade de crescimento no empreg...</td>\n",
       "      <td>Não participei de entrevistas de emprego/proce...</td>\n",
       "      <td>Não estou buscando, mas me considero aberto a ...</td>\n",
       "      <td>Remuneração/Salário, Oportunidade de aprendiza...</td>\n",
       "      <td>Modelo 100% presencial</td>\n",
       "      <td>Modelo 100% presencial</td>\n",
       "      <td>Vou aceitar e retornar ao modelo 100% presencial</td>\n",
       "      <td>Não ocorreram layoffs/demissões em massa na em...</td>\n",
       "      <td>Outra atuação</td>\n",
       "      <td>SQL</td>\n",
       "    </tr>\n",
       "  </tbody>\n",
       "</table>\n",
       "</div>"
      ],
      "text/plain": [
       "                                 ID  \\\n",
       "0  zzqzz3l9ily8nuo2m7wyzzqzz3w48o96   \n",
       "1  zzls2oftfn9law393oezzls2ofhvfpzd   \n",
       "2  zzdwqzfqqp1ypc7ps6m0hzzdwqz292yi   \n",
       "3  zzbqh3uy7yk7k9qmkzzbqtb4s9faqspl   \n",
       "4  zzaf1m95yan929rb94wzzaf1mekhvhpg   \n",
       "\n",
       "  Quanto tempo de experiência na área de dados você tem?  \\\n",
       "0                                      de 1 a 2 anos       \n",
       "1                                      de 3 a 4 anos       \n",
       "2                                      de 3 a 4 anos       \n",
       "3                                      de 4 a 6 anos       \n",
       "4             Não tenho experiência na área de dados       \n",
       "\n",
       "  Quanto tempo de experiência na área de TI/Engenharia de Software você teve antes de começar a trabalhar na área de dados?  \\\n",
       "0                                     de 7 a 10 anos                                                                          \n",
       "1                                     Menos de 1 ano                                                                          \n",
       "2                                    Mais de 10 anos                                                                          \n",
       "3  Não tive experiência na área de TI/Engenharia ...                                                                          \n",
       "4                                    Mais de 10 anos                                                                          \n",
       "\n",
       "  Você está satisfeito na sua empresa atual?  \\\n",
       "0                                       True   \n",
       "1                                      False   \n",
       "2                                      False   \n",
       "3                                       True   \n",
       "4                                      False   \n",
       "\n",
       "  Qual o principal motivo da sua insatisfação com a empresa atual?  \\\n",
       "0                                                NaN                 \n",
       "1  Falta de oportunidade de crescimento no empreg...                 \n",
       "2  Falta de oportunidade de crescimento no empreg...                 \n",
       "3                                                NaN                 \n",
       "4  Falta de oportunidade de crescimento no empreg...                 \n",
       "\n",
       "  Você participou de entrevistas de emprego nos últimos 6 meses?  \\\n",
       "0  Não participei de entrevistas de emprego/proce...               \n",
       "1          Sim, fiz entrevistas mas não fui aprovado               \n",
       "2  Não participei de entrevistas de emprego/proce...               \n",
       "3               Sim, fui aprovado e mudei de emprego               \n",
       "4  Não participei de entrevistas de emprego/proce...               \n",
       "\n",
       "  Você pretende mudar de emprego nos próximos 6 meses?  \\\n",
       "0  Não estou buscando e não pretendo mudar de emp...     \n",
       "1  Estou em busca de oportunidades dentro ou fora...     \n",
       "2  Não estou buscando, mas me considero aberto a ...     \n",
       "3  Não estou buscando, mas me considero aberto a ...     \n",
       "4  Não estou buscando, mas me considero aberto a ...     \n",
       "\n",
       "  Quais os principais critérios que você leva em consideração no momento de decidir onde trabalhar?  \\\n",
       "0                                         Benefícios                                                  \n",
       "1  Remuneração/Salário, Plano de carreira e oport...                                                  \n",
       "2  Remuneração/Salário, Flexibilidade de trabalho...                                                  \n",
       "3  Remuneração/Salário, Flexibilidade de trabalho...                                                  \n",
       "4  Remuneração/Salário, Oportunidade de aprendiza...                                                  \n",
       "\n",
       "            Atualmente qual a sua forma de trabalho?  \\\n",
       "0                             Modelo 100% presencial   \n",
       "1                             Modelo 100% presencial   \n",
       "2  Modelo híbrido com dias fixos de trabalho pres...   \n",
       "3  Modelo híbrido flexível (o funcionário tem lib...   \n",
       "4                             Modelo 100% presencial   \n",
       "\n",
       "           Qual a forma de trabalho ideal para você?  \\\n",
       "0  Modelo híbrido com dias fixos de trabalho pres...   \n",
       "1  Modelo híbrido flexível (o funcionário tem lib...   \n",
       "2  Modelo híbrido flexível (o funcionário tem lib...   \n",
       "3  Modelo híbrido flexível (o funcionário tem lib...   \n",
       "4                             Modelo 100% presencial   \n",
       "\n",
       "  Caso sua empresa decida pelo modelo 100% presencial qual será sua atitude?  \\\n",
       "0   Vou aceitar e retornar ao modelo 100% presencial                           \n",
       "1   Vou aceitar e retornar ao modelo 100% presencial                           \n",
       "2  Vou procurar outra oportunidade no modelo híbr...                           \n",
       "3  Vou procurar outra oportunidade no modelo híbr...                           \n",
       "4   Vou aceitar e retornar ao modelo 100% presencial                           \n",
       "\n",
       "               Sua empresa passu por Layoff em 2022?  \\\n",
       "0  Não ocorreram layoffs/demissões em massa na em...   \n",
       "1  Não ocorreram layoffs/demissões em massa na em...   \n",
       "2  Não ocorreram layoffs/demissões em massa na em...   \n",
       "3  Não ocorreram layoffs/demissões em massa na em...   \n",
       "4  Não ocorreram layoffs/demissões em massa na em...   \n",
       "\n",
       "                                             Atuacao  \\\n",
       "0                                Engenharia de Dados   \n",
       "1                                             Gestor   \n",
       "2   desenvolve modelos preditivos e algoritmos de...   \n",
       "3   desenvolve modelos preditivos e algoritmos de...   \n",
       "4                                      Outra atuação   \n",
       "\n",
       "  Quais das linguagens listadas abaixo você utiliza no trabalho?  \n",
       "0                                                SQL              \n",
       "1                                                NaN              \n",
       "2                                                  1              \n",
       "3                                                  0              \n",
       "4                                                SQL              "
      ]
     },
     "execution_count": 470,
     "metadata": {},
     "output_type": "execute_result"
    }
   ],
   "source": [
    "dados2.head()"
   ]
  },
  {
   "cell_type": "markdown",
   "id": "31eb5a2c",
   "metadata": {},
   "source": [
    "## Merge"
   ]
  },
  {
   "cell_type": "code",
   "execution_count": 471,
   "id": "5b0bf7fa",
   "metadata": {},
   "outputs": [],
   "source": [
    "dados = dados.merge(dados2, on = 'ID', how = 'left')"
   ]
  },
  {
   "cell_type": "code",
   "execution_count": 472,
   "id": "08e8d277",
   "metadata": {},
   "outputs": [
    {
     "data": {
      "text/html": [
       "<div>\n",
       "<style scoped>\n",
       "    .dataframe tbody tr th:only-of-type {\n",
       "        vertical-align: middle;\n",
       "    }\n",
       "\n",
       "    .dataframe tbody tr th {\n",
       "        vertical-align: top;\n",
       "    }\n",
       "\n",
       "    .dataframe thead th {\n",
       "        text-align: right;\n",
       "    }\n",
       "</style>\n",
       "<table border=\"1\" class=\"dataframe\">\n",
       "  <thead>\n",
       "    <tr style=\"text-align: right;\">\n",
       "      <th></th>\n",
       "      <th>Unnamed: 0</th>\n",
       "      <th>ID</th>\n",
       "      <th>IDADE</th>\n",
       "      <th>FAIXA IDADE</th>\n",
       "      <th>GENERO</th>\n",
       "      <th>COR/RACA/ETNIA</th>\n",
       "      <th>PCD</th>\n",
       "      <th>EXPERIENCIA_PROFISSIONAL_PREJUDICADA</th>\n",
       "      <th>ASPECTOS_PREJUDICADOS</th>\n",
       "      <th>VIVE_NO_BRASIL</th>\n",
       "      <th>...</th>\n",
       "      <th>Qual o principal motivo da sua insatisfação com a empresa atual?</th>\n",
       "      <th>Você participou de entrevistas de emprego nos últimos 6 meses?</th>\n",
       "      <th>Você pretende mudar de emprego nos próximos 6 meses?</th>\n",
       "      <th>Quais os principais critérios que você leva em consideração no momento de decidir onde trabalhar?</th>\n",
       "      <th>Atualmente qual a sua forma de trabalho?</th>\n",
       "      <th>Qual a forma de trabalho ideal para você?</th>\n",
       "      <th>Caso sua empresa decida pelo modelo 100% presencial qual será sua atitude?</th>\n",
       "      <th>Sua empresa passu por Layoff em 2022?</th>\n",
       "      <th>Atuacao</th>\n",
       "      <th>Quais das linguagens listadas abaixo você utiliza no trabalho?</th>\n",
       "    </tr>\n",
       "  </thead>\n",
       "  <tbody>\n",
       "    <tr>\n",
       "      <th>0</th>\n",
       "      <td>0</td>\n",
       "      <td>zzqzz3l9ily8nuo2m7wyzzqzz3w48o96</td>\n",
       "      <td>39.0</td>\n",
       "      <td>35-39</td>\n",
       "      <td>Masculino</td>\n",
       "      <td>Parda</td>\n",
       "      <td>Não</td>\n",
       "      <td>Não acredito que minha experiência profissiona...</td>\n",
       "      <td>NaN</td>\n",
       "      <td>True</td>\n",
       "      <td>...</td>\n",
       "      <td>NaN</td>\n",
       "      <td>Não participei de entrevistas de emprego/proce...</td>\n",
       "      <td>Não estou buscando e não pretendo mudar de emp...</td>\n",
       "      <td>Benefícios</td>\n",
       "      <td>Modelo 100% presencial</td>\n",
       "      <td>Modelo híbrido com dias fixos de trabalho pres...</td>\n",
       "      <td>Vou aceitar e retornar ao modelo 100% presencial</td>\n",
       "      <td>Não ocorreram layoffs/demissões em massa na em...</td>\n",
       "      <td>Engenharia de Dados</td>\n",
       "      <td>SQL</td>\n",
       "    </tr>\n",
       "    <tr>\n",
       "      <th>1</th>\n",
       "      <td>1</td>\n",
       "      <td>zzls2oftfn9law393oezzls2ofhvfpzd</td>\n",
       "      <td>32.0</td>\n",
       "      <td>30-34</td>\n",
       "      <td>Masculino</td>\n",
       "      <td>Parda</td>\n",
       "      <td>Não</td>\n",
       "      <td>Sim, acredito que a minha a experiência profis...</td>\n",
       "      <td>Aprovação em processos seletivos/entrevistas</td>\n",
       "      <td>True</td>\n",
       "      <td>...</td>\n",
       "      <td>Falta de oportunidade de crescimento no empreg...</td>\n",
       "      <td>Sim, fiz entrevistas mas não fui aprovado</td>\n",
       "      <td>Estou em busca de oportunidades dentro ou fora...</td>\n",
       "      <td>Remuneração/Salário, Plano de carreira e oport...</td>\n",
       "      <td>Modelo 100% presencial</td>\n",
       "      <td>Modelo híbrido flexível (o funcionário tem lib...</td>\n",
       "      <td>Vou aceitar e retornar ao modelo 100% presencial</td>\n",
       "      <td>Não ocorreram layoffs/demissões em massa na em...</td>\n",
       "      <td>Gestor</td>\n",
       "      <td>NaN</td>\n",
       "    </tr>\n",
       "    <tr>\n",
       "      <th>2</th>\n",
       "      <td>2</td>\n",
       "      <td>zzdwqzfqqp1ypc7ps6m0hzzdwqz292yi</td>\n",
       "      <td>53.0</td>\n",
       "      <td>50-54</td>\n",
       "      <td>Masculino</td>\n",
       "      <td>Branca</td>\n",
       "      <td>Não</td>\n",
       "      <td>NaN</td>\n",
       "      <td>NaN</td>\n",
       "      <td>True</td>\n",
       "      <td>...</td>\n",
       "      <td>Falta de oportunidade de crescimento no empreg...</td>\n",
       "      <td>Não participei de entrevistas de emprego/proce...</td>\n",
       "      <td>Não estou buscando, mas me considero aberto a ...</td>\n",
       "      <td>Remuneração/Salário, Flexibilidade de trabalho...</td>\n",
       "      <td>Modelo híbrido com dias fixos de trabalho pres...</td>\n",
       "      <td>Modelo híbrido flexível (o funcionário tem lib...</td>\n",
       "      <td>Vou procurar outra oportunidade no modelo híbr...</td>\n",
       "      <td>Não ocorreram layoffs/demissões em massa na em...</td>\n",
       "      <td>desenvolve modelos preditivos e algoritmos de...</td>\n",
       "      <td>1</td>\n",
       "    </tr>\n",
       "  </tbody>\n",
       "</table>\n",
       "<p>3 rows × 45 columns</p>\n",
       "</div>"
      ],
      "text/plain": [
       "   Unnamed: 0                                ID  IDADE FAIXA IDADE     GENERO  \\\n",
       "0           0  zzqzz3l9ily8nuo2m7wyzzqzz3w48o96   39.0       35-39  Masculino   \n",
       "1           1  zzls2oftfn9law393oezzls2ofhvfpzd   32.0       30-34  Masculino   \n",
       "2           2  zzdwqzfqqp1ypc7ps6m0hzzdwqz292yi   53.0       50-54  Masculino   \n",
       "\n",
       "  COR/RACA/ETNIA  PCD               EXPERIENCIA_PROFISSIONAL_PREJUDICADA  \\\n",
       "0          Parda  Não  Não acredito que minha experiência profissiona...   \n",
       "1          Parda  Não  Sim, acredito que a minha a experiência profis...   \n",
       "2         Branca  Não                                                NaN   \n",
       "\n",
       "                          ASPECTOS_PREJUDICADOS  VIVE_NO_BRASIL  ...  \\\n",
       "0                                           NaN            True  ...   \n",
       "1  Aprovação em processos seletivos/entrevistas            True  ...   \n",
       "2                                           NaN            True  ...   \n",
       "\n",
       "  Qual o principal motivo da sua insatisfação com a empresa atual?  \\\n",
       "0                                                NaN                 \n",
       "1  Falta de oportunidade de crescimento no empreg...                 \n",
       "2  Falta de oportunidade de crescimento no empreg...                 \n",
       "\n",
       "  Você participou de entrevistas de emprego nos últimos 6 meses?  \\\n",
       "0  Não participei de entrevistas de emprego/proce...               \n",
       "1          Sim, fiz entrevistas mas não fui aprovado               \n",
       "2  Não participei de entrevistas de emprego/proce...               \n",
       "\n",
       "  Você pretende mudar de emprego nos próximos 6 meses?  \\\n",
       "0  Não estou buscando e não pretendo mudar de emp...     \n",
       "1  Estou em busca de oportunidades dentro ou fora...     \n",
       "2  Não estou buscando, mas me considero aberto a ...     \n",
       "\n",
       "   Quais os principais critérios que você leva em consideração no momento de decidir onde trabalhar?  \\\n",
       "0                                         Benefícios                                                   \n",
       "1  Remuneração/Salário, Plano de carreira e oport...                                                   \n",
       "2  Remuneração/Salário, Flexibilidade de trabalho...                                                   \n",
       "\n",
       "            Atualmente qual a sua forma de trabalho?  \\\n",
       "0                             Modelo 100% presencial   \n",
       "1                             Modelo 100% presencial   \n",
       "2  Modelo híbrido com dias fixos de trabalho pres...   \n",
       "\n",
       "           Qual a forma de trabalho ideal para você?  \\\n",
       "0  Modelo híbrido com dias fixos de trabalho pres...   \n",
       "1  Modelo híbrido flexível (o funcionário tem lib...   \n",
       "2  Modelo híbrido flexível (o funcionário tem lib...   \n",
       "\n",
       "  Caso sua empresa decida pelo modelo 100% presencial qual será sua atitude?  \\\n",
       "0   Vou aceitar e retornar ao modelo 100% presencial                           \n",
       "1   Vou aceitar e retornar ao modelo 100% presencial                           \n",
       "2  Vou procurar outra oportunidade no modelo híbr...                           \n",
       "\n",
       "               Sua empresa passu por Layoff em 2022?  \\\n",
       "0  Não ocorreram layoffs/demissões em massa na em...   \n",
       "1  Não ocorreram layoffs/demissões em massa na em...   \n",
       "2  Não ocorreram layoffs/demissões em massa na em...   \n",
       "\n",
       "                                             Atuacao  \\\n",
       "0                                Engenharia de Dados   \n",
       "1                                             Gestor   \n",
       "2   desenvolve modelos preditivos e algoritmos de...   \n",
       "\n",
       "  Quais das linguagens listadas abaixo você utiliza no trabalho?  \n",
       "0                                                SQL              \n",
       "1                                                NaN              \n",
       "2                                                  1              \n",
       "\n",
       "[3 rows x 45 columns]"
      ]
     },
     "execution_count": 472,
     "metadata": {},
     "output_type": "execute_result"
    }
   ],
   "source": [
    "dados.head(3)"
   ]
  },
  {
   "cell_type": "code",
   "execution_count": 473,
   "id": "564926a7",
   "metadata": {},
   "outputs": [
    {
     "data": {
      "text/plain": [
       "Index(['Unnamed: 0', 'ID', 'IDADE', 'FAIXA IDADE', 'GENERO', 'COR/RACA/ETNIA',\n",
       "       'PCD', 'EXPERIENCIA_PROFISSIONAL_PREJUDICADA', 'ASPECTOS_PREJUDICADOS',\n",
       "       'VIVE_NO_BRASIL', 'ESTADO ONDE MORA', 'UF ONDE MORA',\n",
       "       'REGIAO ONDE MORA', 'MUDOU DE ESTADO?', 'REGIAO DE ORIGEM',\n",
       "       'NIVEL DE ENSINO', 'ÁREA DE FORMAÇÃO',\n",
       "       'QUAL SUA SITUAÇÃO ATUAL DE TRABALHO?', 'SETOR',\n",
       "       'NUMERO DE FUNCIONARIOS', 'GESTOR?', 'CARGO COMO GESTOR', 'CARGO ATUAL',\n",
       "       'FAIXA SALARIAL',\n",
       "       'QUANTO TEMPO DE EXPERIÊNCIA NA ÁREA DE DADOS VOCÊ TEM?',\n",
       "       'QUANTO TEMPO DE EXPERIÊNCIA NA ÁREA DE TI/ENGENHARIA DE SOFTWARE VOCÊ TEVE ANTES DE COMEÇAR A TRABALHAR NA ÁREA DE DADOS?',\n",
       "       'SALARIO', 'NOVO_NIVEL', 'NIVEL_Júnior', 'NIVEL_Pleno', 'NIVEL_Sênior',\n",
       "       'GERAÇÃO', 'Quanto tempo de experiência na área de dados você tem?',\n",
       "       'Quanto tempo de experiência na área de TI/Engenharia de Software você teve antes de começar a trabalhar na área de dados?',\n",
       "       'Você está satisfeito na sua empresa atual?',\n",
       "       'Qual o principal motivo da sua insatisfação com a empresa atual?',\n",
       "       'Você participou de entrevistas de emprego nos últimos 6 meses?',\n",
       "       'Você pretende mudar de emprego nos próximos 6 meses?',\n",
       "       'Quais os principais critérios que você leva em consideração no momento de decidir onde trabalhar?',\n",
       "       'Atualmente qual a sua forma de trabalho?',\n",
       "       'Qual a forma de trabalho ideal para você?',\n",
       "       'Caso sua empresa decida pelo modelo 100% presencial qual será sua atitude?',\n",
       "       'Sua empresa passu por Layoff em 2022?', 'Atuacao',\n",
       "       'Quais das linguagens listadas abaixo você utiliza no trabalho?'],\n",
       "      dtype='object')"
      ]
     },
     "execution_count": 473,
     "metadata": {},
     "output_type": "execute_result"
    }
   ],
   "source": [
    "dados.columns\n",
    "# foram agrupados as colunas da tabela dados e dados2"
   ]
  },
  {
   "cell_type": "code",
   "execution_count": 474,
   "id": "18a0c2bb",
   "metadata": {},
   "outputs": [
    {
     "data": {
      "text/plain": [
       "Você pretende mudar de emprego nos próximos 6 meses?\n",
       "Não estou buscando, mas me considero aberto a outras oportunidades         1354\n",
       "Estou em busca de oportunidades dentro ou fora do Brasil                   1011\n",
       "Não estou buscando e não pretendo mudar de emprego nos próximos 6 meses     978\n",
       "Estou em busca de oportunidades, mas apenas fora do Brasil                  353\n",
       "Name: count, dtype: int64"
      ]
     },
     "execution_count": 474,
     "metadata": {},
     "output_type": "execute_result"
    }
   ],
   "source": [
    "dados['Você pretende mudar de emprego nos próximos 6 meses?'].value_counts()"
   ]
  },
  {
   "cell_type": "code",
   "execution_count": 475,
   "id": "975e3996",
   "metadata": {},
   "outputs": [],
   "source": [
    "dados['EM_BUSCA'] = dados['Você pretende mudar de emprego nos próximos 6 meses?'].str.contains('em busca', case = False)"
   ]
  },
  {
   "cell_type": "code",
   "execution_count": 476,
   "id": "b224f72a",
   "metadata": {},
   "outputs": [
    {
     "data": {
      "text/plain": [
       "EM_BUSCA\n",
       "False    2332\n",
       "True     1364\n",
       "Name: count, dtype: int64"
      ]
     },
     "execution_count": 476,
     "metadata": {},
     "output_type": "execute_result"
    }
   ],
   "source": [
    "dados['EM_BUSCA'].value_counts()"
   ]
  },
  {
   "cell_type": "code",
   "execution_count": 477,
   "id": "de3df7e4",
   "metadata": {},
   "outputs": [],
   "source": [
    "dados['ABERTO_OPORTUNIDADE'] = dados['Você pretende mudar de emprego nos próximos 6 meses?'].str.contains('aberto', case = False)"
   ]
  },
  {
   "cell_type": "code",
   "execution_count": 478,
   "id": "9c1c9222",
   "metadata": {},
   "outputs": [
    {
     "data": {
      "text/plain": [
       "ABERTO_OPORTUNIDADE\n",
       "False    2342\n",
       "True     1354\n",
       "Name: count, dtype: int64"
      ]
     },
     "execution_count": 478,
     "metadata": {},
     "output_type": "execute_result"
    }
   ],
   "source": [
    "dados['ABERTO_OPORTUNIDADE'].value_counts()"
   ]
  },
  {
   "cell_type": "markdown",
   "id": "2e8468e5",
   "metadata": {},
   "source": [
    "## Atividade\n",
    "\n",
    "📌Com base no que aprendemos nas aulas de Featuring engineering, crie uma nova coluna de Etnia - brancas, não branca e outras😊"
   ]
  },
  {
   "cell_type": "code",
   "execution_count": 479,
   "id": "dffcfb1f",
   "metadata": {},
   "outputs": [],
   "source": [
    "def determinar_etnia(etnia):\n",
    "  if   etnia == 'Branca':\n",
    "    return 'Branca'\n",
    "  elif etnia == 'Parda':\n",
    "    return 'Não Branca'\n",
    "  elif etnia == 'Preta':\n",
    "    return 'Não Branca'\n",
    "  elif etnia == 'Amarela':\n",
    "    return 'Não Branca'\n",
    "  else:\n",
    "    return 'Outras'"
   ]
  },
  {
   "cell_type": "code",
   "execution_count": 480,
   "id": "705c35ee",
   "metadata": {},
   "outputs": [],
   "source": [
    "dados ['ETNIAS'] = dados['COR/RACA/ETNIA'].apply(determinar_etnia)"
   ]
  },
  {
   "cell_type": "code",
   "execution_count": 481,
   "id": "b2aa3393",
   "metadata": {},
   "outputs": [
    {
     "data": {
      "text/plain": [
       "ETNIAS\n",
       "Branca        2746\n",
       "Não Branca    1473\n",
       "Outras          54\n",
       "Name: count, dtype: int64"
      ]
     },
     "execution_count": 481,
     "metadata": {},
     "output_type": "execute_result"
    }
   ],
   "source": [
    "dados ['ETNIAS'].value_counts()"
   ]
  },
  {
   "cell_type": "markdown",
   "id": "cfe4fd6a",
   "metadata": {},
   "source": [
    "## Correlação, diferentes funções para dados discretos e contínuos"
   ]
  },
  {
   "cell_type": "code",
   "execution_count": 482,
   "id": "5a3a3142",
   "metadata": {},
   "outputs": [
    {
     "data": {
      "text/plain": [
       "0.29025428469995035"
      ]
     },
     "execution_count": 482,
     "metadata": {},
     "output_type": "execute_result"
    }
   ],
   "source": [
    "correlacao_continua = dados['IDADE'].corr(dados['SALARIO'])\n",
    "correlacao_continua"
   ]
  },
  {
   "cell_type": "code",
   "execution_count": 490,
   "id": "c5b90ba9",
   "metadata": {},
   "outputs": [],
   "source": [
    "from scipy.stats import chi2_contingency # compara da distribuição observada na tabela cruzada com a distribuição esperada se as duas variaveis fossem independentes"
   ]
  },
  {
   "cell_type": "code",
   "execution_count": 493,
   "id": "cba89ea1",
   "metadata": {},
   "outputs": [],
   "source": [
    "# correlação categórica\n",
    "def cramer_coeficiente(coluna1, coluna2):\n",
    "    tabela_cruzada = pd.crosstab(coluna1, coluna2)\n",
    "    tabela_cruzada = np.array(tabela_cruzada)\n",
    "    chi2 = chi2_contingency(tabela_cruzada)[0]\n",
    "    soma = np.sum(tabela_cruzada)\n",
    "    mini = min(tabela_cruzada.shape) - 1\n",
    "    cramer = np.sqrt(chi2/(soma*mini))\n",
    "    return cramer"
   ]
  },
  {
   "cell_type": "code",
   "execution_count": 494,
   "id": "a776a27c",
   "metadata": {},
   "outputs": [
    {
     "data": {
      "text/plain": [
       "0.04499106580480143"
      ]
     },
     "execution_count": 494,
     "metadata": {},
     "output_type": "execute_result"
    }
   ],
   "source": [
    "cramer_coeficiente(dados['COR/RACA/ETNIA'], dados['NIVEL DE ENSINO'])"
   ]
  },
  {
   "cell_type": "code",
   "execution_count": 496,
   "id": "79c47818",
   "metadata": {},
   "outputs": [
    {
     "data": {
      "text/plain": [
       "0.076119232802818"
      ]
     },
     "execution_count": 496,
     "metadata": {},
     "output_type": "execute_result"
    }
   ],
   "source": [
    "cramer_coeficiente(dados['GENERO'], dados['NIVEL DE ENSINO'])"
   ]
  },
  {
   "cell_type": "markdown",
   "id": "9a73efd2",
   "metadata": {},
   "source": [
    "## salvando os dados"
   ]
  },
  {
   "cell_type": "code",
   "execution_count": 501,
   "id": "f30df019",
   "metadata": {},
   "outputs": [],
   "source": [
    "# Salvar o arquivo CSV em um caminho relativo\n",
    "dados.to_csv('arquivos_conteudo/analise_dados.csv', index=False)"
   ]
  },
  {
   "cell_type": "code",
   "execution_count": null,
   "id": "6ffd80cd",
   "metadata": {},
   "outputs": [],
   "source": []
  }
 ],
 "metadata": {
  "kernelspec": {
   "display_name": "Python 3",
   "language": "python",
   "name": "python3"
  },
  "language_info": {
   "codemirror_mode": {
    "name": "ipython",
    "version": 3
   },
   "file_extension": ".py",
   "mimetype": "text/x-python",
   "name": "python",
   "nbconvert_exporter": "python",
   "pygments_lexer": "ipython3",
   "version": "3.11.9"
  }
 },
 "nbformat": 4,
 "nbformat_minor": 5
}
